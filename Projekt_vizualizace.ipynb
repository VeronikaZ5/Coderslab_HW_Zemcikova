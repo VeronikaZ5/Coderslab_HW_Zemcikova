{
 "cells": [
  {
   "cell_type": "markdown",
   "metadata": {},
   "source": [
    "## Project #1 - Python\n",
    "### Dataset World-wide data on countries during COVID-19 pandemic\n",
    "#### by Veronika Zemcikova"
   ]
  },
  {
   "cell_type": "code",
   "execution_count": 26,
   "metadata": {},
   "outputs": [],
   "source": [
    "import pandas as pd\n",
    "import seaborn as sns\n",
    "from matplotlib import pyplot as plt\n",
    "import plotly.express as px"
   ]
  },
  {
   "cell_type": "markdown",
   "metadata": {},
   "source": [
    "##### 1. Uploading the dataset"
   ]
  },
  {
   "cell_type": "code",
   "execution_count": 27,
   "metadata": {},
   "outputs": [
    {
     "data": {
      "text/html": [
       "<div>\n",
       "<style scoped>\n",
       "    .dataframe tbody tr th:only-of-type {\n",
       "        vertical-align: middle;\n",
       "    }\n",
       "\n",
       "    .dataframe tbody tr th {\n",
       "        vertical-align: top;\n",
       "    }\n",
       "\n",
       "    .dataframe thead th {\n",
       "        text-align: right;\n",
       "    }\n",
       "</style>\n",
       "<table border=\"1\" class=\"dataframe\">\n",
       "  <thead>\n",
       "    <tr style=\"text-align: right;\">\n",
       "      <th></th>\n",
       "      <th>index</th>\n",
       "      <th>iso_code</th>\n",
       "      <th>continent</th>\n",
       "      <th>location</th>\n",
       "      <th>date</th>\n",
       "      <th>total_cases</th>\n",
       "      <th>new_cases</th>\n",
       "      <th>total_deaths</th>\n",
       "      <th>new_deaths</th>\n",
       "      <th>hosp_patients</th>\n",
       "      <th>...</th>\n",
       "      <th>people_vaccinated</th>\n",
       "      <th>people_fully_vaccinated</th>\n",
       "      <th>total_boosters</th>\n",
       "      <th>new_vaccinations</th>\n",
       "      <th>population</th>\n",
       "      <th>median_age</th>\n",
       "      <th>gdp_per_capita</th>\n",
       "      <th>life_expectancy</th>\n",
       "      <th>latitude</th>\n",
       "      <th>longitude</th>\n",
       "    </tr>\n",
       "  </thead>\n",
       "  <tbody>\n",
       "    <tr>\n",
       "      <th>0</th>\n",
       "      <td>0</td>\n",
       "      <td>AFG</td>\n",
       "      <td>Asia</td>\n",
       "      <td>Afghanistan</td>\n",
       "      <td>2020-02-24</td>\n",
       "      <td>5.0</td>\n",
       "      <td>5.0</td>\n",
       "      <td>NaN</td>\n",
       "      <td>NaN</td>\n",
       "      <td>NaN</td>\n",
       "      <td>...</td>\n",
       "      <td>NaN</td>\n",
       "      <td>NaN</td>\n",
       "      <td>NaN</td>\n",
       "      <td>NaN</td>\n",
       "      <td>39835428.0</td>\n",
       "      <td>18.6</td>\n",
       "      <td>1803.987</td>\n",
       "      <td>64.83</td>\n",
       "      <td>33.0</td>\n",
       "      <td>65.0</td>\n",
       "    </tr>\n",
       "    <tr>\n",
       "      <th>1</th>\n",
       "      <td>1</td>\n",
       "      <td>AFG</td>\n",
       "      <td>Asia</td>\n",
       "      <td>Afghanistan</td>\n",
       "      <td>2020-02-25</td>\n",
       "      <td>5.0</td>\n",
       "      <td>0.0</td>\n",
       "      <td>NaN</td>\n",
       "      <td>NaN</td>\n",
       "      <td>NaN</td>\n",
       "      <td>...</td>\n",
       "      <td>NaN</td>\n",
       "      <td>NaN</td>\n",
       "      <td>NaN</td>\n",
       "      <td>NaN</td>\n",
       "      <td>39835428.0</td>\n",
       "      <td>18.6</td>\n",
       "      <td>1803.987</td>\n",
       "      <td>64.83</td>\n",
       "      <td>33.0</td>\n",
       "      <td>65.0</td>\n",
       "    </tr>\n",
       "    <tr>\n",
       "      <th>2</th>\n",
       "      <td>2</td>\n",
       "      <td>AFG</td>\n",
       "      <td>Asia</td>\n",
       "      <td>Afghanistan</td>\n",
       "      <td>2020-02-26</td>\n",
       "      <td>5.0</td>\n",
       "      <td>0.0</td>\n",
       "      <td>NaN</td>\n",
       "      <td>NaN</td>\n",
       "      <td>NaN</td>\n",
       "      <td>...</td>\n",
       "      <td>NaN</td>\n",
       "      <td>NaN</td>\n",
       "      <td>NaN</td>\n",
       "      <td>NaN</td>\n",
       "      <td>39835428.0</td>\n",
       "      <td>18.6</td>\n",
       "      <td>1803.987</td>\n",
       "      <td>64.83</td>\n",
       "      <td>33.0</td>\n",
       "      <td>65.0</td>\n",
       "    </tr>\n",
       "    <tr>\n",
       "      <th>3</th>\n",
       "      <td>3</td>\n",
       "      <td>AFG</td>\n",
       "      <td>Asia</td>\n",
       "      <td>Afghanistan</td>\n",
       "      <td>2020-02-27</td>\n",
       "      <td>5.0</td>\n",
       "      <td>0.0</td>\n",
       "      <td>NaN</td>\n",
       "      <td>NaN</td>\n",
       "      <td>NaN</td>\n",
       "      <td>...</td>\n",
       "      <td>NaN</td>\n",
       "      <td>NaN</td>\n",
       "      <td>NaN</td>\n",
       "      <td>NaN</td>\n",
       "      <td>39835428.0</td>\n",
       "      <td>18.6</td>\n",
       "      <td>1803.987</td>\n",
       "      <td>64.83</td>\n",
       "      <td>33.0</td>\n",
       "      <td>65.0</td>\n",
       "    </tr>\n",
       "    <tr>\n",
       "      <th>4</th>\n",
       "      <td>4</td>\n",
       "      <td>AFG</td>\n",
       "      <td>Asia</td>\n",
       "      <td>Afghanistan</td>\n",
       "      <td>2020-02-28</td>\n",
       "      <td>5.0</td>\n",
       "      <td>0.0</td>\n",
       "      <td>NaN</td>\n",
       "      <td>NaN</td>\n",
       "      <td>NaN</td>\n",
       "      <td>...</td>\n",
       "      <td>NaN</td>\n",
       "      <td>NaN</td>\n",
       "      <td>NaN</td>\n",
       "      <td>NaN</td>\n",
       "      <td>39835428.0</td>\n",
       "      <td>18.6</td>\n",
       "      <td>1803.987</td>\n",
       "      <td>64.83</td>\n",
       "      <td>33.0</td>\n",
       "      <td>65.0</td>\n",
       "    </tr>\n",
       "    <tr>\n",
       "      <th>...</th>\n",
       "      <td>...</td>\n",
       "      <td>...</td>\n",
       "      <td>...</td>\n",
       "      <td>...</td>\n",
       "      <td>...</td>\n",
       "      <td>...</td>\n",
       "      <td>...</td>\n",
       "      <td>...</td>\n",
       "      <td>...</td>\n",
       "      <td>...</td>\n",
       "      <td>...</td>\n",
       "      <td>...</td>\n",
       "      <td>...</td>\n",
       "      <td>...</td>\n",
       "      <td>...</td>\n",
       "      <td>...</td>\n",
       "      <td>...</td>\n",
       "      <td>...</td>\n",
       "      <td>...</td>\n",
       "      <td>...</td>\n",
       "      <td>...</td>\n",
       "    </tr>\n",
       "    <tr>\n",
       "      <th>95</th>\n",
       "      <td>95</td>\n",
       "      <td>AFG</td>\n",
       "      <td>Asia</td>\n",
       "      <td>Afghanistan</td>\n",
       "      <td>2020-05-29</td>\n",
       "      <td>13745.0</td>\n",
       "      <td>643.0</td>\n",
       "      <td>250.0</td>\n",
       "      <td>11.0</td>\n",
       "      <td>NaN</td>\n",
       "      <td>...</td>\n",
       "      <td>NaN</td>\n",
       "      <td>NaN</td>\n",
       "      <td>NaN</td>\n",
       "      <td>NaN</td>\n",
       "      <td>39835428.0</td>\n",
       "      <td>18.6</td>\n",
       "      <td>1803.987</td>\n",
       "      <td>64.83</td>\n",
       "      <td>33.0</td>\n",
       "      <td>65.0</td>\n",
       "    </tr>\n",
       "    <tr>\n",
       "      <th>96</th>\n",
       "      <td>96</td>\n",
       "      <td>AFG</td>\n",
       "      <td>Asia</td>\n",
       "      <td>Afghanistan</td>\n",
       "      <td>2020-05-30</td>\n",
       "      <td>14529.0</td>\n",
       "      <td>784.0</td>\n",
       "      <td>252.0</td>\n",
       "      <td>2.0</td>\n",
       "      <td>NaN</td>\n",
       "      <td>...</td>\n",
       "      <td>NaN</td>\n",
       "      <td>NaN</td>\n",
       "      <td>NaN</td>\n",
       "      <td>NaN</td>\n",
       "      <td>39835428.0</td>\n",
       "      <td>18.6</td>\n",
       "      <td>1803.987</td>\n",
       "      <td>64.83</td>\n",
       "      <td>33.0</td>\n",
       "      <td>65.0</td>\n",
       "    </tr>\n",
       "    <tr>\n",
       "      <th>97</th>\n",
       "      <td>97</td>\n",
       "      <td>AFG</td>\n",
       "      <td>Asia</td>\n",
       "      <td>Afghanistan</td>\n",
       "      <td>2020-05-31</td>\n",
       "      <td>15180.0</td>\n",
       "      <td>651.0</td>\n",
       "      <td>254.0</td>\n",
       "      <td>2.0</td>\n",
       "      <td>NaN</td>\n",
       "      <td>...</td>\n",
       "      <td>NaN</td>\n",
       "      <td>NaN</td>\n",
       "      <td>NaN</td>\n",
       "      <td>NaN</td>\n",
       "      <td>39835428.0</td>\n",
       "      <td>18.6</td>\n",
       "      <td>1803.987</td>\n",
       "      <td>64.83</td>\n",
       "      <td>33.0</td>\n",
       "      <td>65.0</td>\n",
       "    </tr>\n",
       "    <tr>\n",
       "      <th>98</th>\n",
       "      <td>98</td>\n",
       "      <td>AFG</td>\n",
       "      <td>Asia</td>\n",
       "      <td>Afghanistan</td>\n",
       "      <td>2020-06-01</td>\n",
       "      <td>15836.0</td>\n",
       "      <td>656.0</td>\n",
       "      <td>269.0</td>\n",
       "      <td>15.0</td>\n",
       "      <td>NaN</td>\n",
       "      <td>...</td>\n",
       "      <td>NaN</td>\n",
       "      <td>NaN</td>\n",
       "      <td>NaN</td>\n",
       "      <td>NaN</td>\n",
       "      <td>39835428.0</td>\n",
       "      <td>18.6</td>\n",
       "      <td>1803.987</td>\n",
       "      <td>64.83</td>\n",
       "      <td>33.0</td>\n",
       "      <td>65.0</td>\n",
       "    </tr>\n",
       "    <tr>\n",
       "      <th>99</th>\n",
       "      <td>99</td>\n",
       "      <td>AFG</td>\n",
       "      <td>Asia</td>\n",
       "      <td>Afghanistan</td>\n",
       "      <td>2020-06-02</td>\n",
       "      <td>16578.0</td>\n",
       "      <td>742.0</td>\n",
       "      <td>274.0</td>\n",
       "      <td>5.0</td>\n",
       "      <td>NaN</td>\n",
       "      <td>...</td>\n",
       "      <td>NaN</td>\n",
       "      <td>NaN</td>\n",
       "      <td>NaN</td>\n",
       "      <td>NaN</td>\n",
       "      <td>39835428.0</td>\n",
       "      <td>18.6</td>\n",
       "      <td>1803.987</td>\n",
       "      <td>64.83</td>\n",
       "      <td>33.0</td>\n",
       "      <td>65.0</td>\n",
       "    </tr>\n",
       "  </tbody>\n",
       "</table>\n",
       "<p>100 rows × 24 columns</p>\n",
       "</div>"
      ],
      "text/plain": [
       "    index iso_code continent     location        date  total_cases  new_cases  \\\n",
       "0       0      AFG      Asia  Afghanistan  2020-02-24          5.0        5.0   \n",
       "1       1      AFG      Asia  Afghanistan  2020-02-25          5.0        0.0   \n",
       "2       2      AFG      Asia  Afghanistan  2020-02-26          5.0        0.0   \n",
       "3       3      AFG      Asia  Afghanistan  2020-02-27          5.0        0.0   \n",
       "4       4      AFG      Asia  Afghanistan  2020-02-28          5.0        0.0   \n",
       "..    ...      ...       ...          ...         ...          ...        ...   \n",
       "95     95      AFG      Asia  Afghanistan  2020-05-29      13745.0      643.0   \n",
       "96     96      AFG      Asia  Afghanistan  2020-05-30      14529.0      784.0   \n",
       "97     97      AFG      Asia  Afghanistan  2020-05-31      15180.0      651.0   \n",
       "98     98      AFG      Asia  Afghanistan  2020-06-01      15836.0      656.0   \n",
       "99     99      AFG      Asia  Afghanistan  2020-06-02      16578.0      742.0   \n",
       "\n",
       "    total_deaths  new_deaths  hosp_patients  ...  people_vaccinated  \\\n",
       "0            NaN         NaN            NaN  ...                NaN   \n",
       "1            NaN         NaN            NaN  ...                NaN   \n",
       "2            NaN         NaN            NaN  ...                NaN   \n",
       "3            NaN         NaN            NaN  ...                NaN   \n",
       "4            NaN         NaN            NaN  ...                NaN   \n",
       "..           ...         ...            ...  ...                ...   \n",
       "95         250.0        11.0            NaN  ...                NaN   \n",
       "96         252.0         2.0            NaN  ...                NaN   \n",
       "97         254.0         2.0            NaN  ...                NaN   \n",
       "98         269.0        15.0            NaN  ...                NaN   \n",
       "99         274.0         5.0            NaN  ...                NaN   \n",
       "\n",
       "    people_fully_vaccinated  total_boosters  new_vaccinations  population  \\\n",
       "0                       NaN             NaN               NaN  39835428.0   \n",
       "1                       NaN             NaN               NaN  39835428.0   \n",
       "2                       NaN             NaN               NaN  39835428.0   \n",
       "3                       NaN             NaN               NaN  39835428.0   \n",
       "4                       NaN             NaN               NaN  39835428.0   \n",
       "..                      ...             ...               ...         ...   \n",
       "95                      NaN             NaN               NaN  39835428.0   \n",
       "96                      NaN             NaN               NaN  39835428.0   \n",
       "97                      NaN             NaN               NaN  39835428.0   \n",
       "98                      NaN             NaN               NaN  39835428.0   \n",
       "99                      NaN             NaN               NaN  39835428.0   \n",
       "\n",
       "    median_age  gdp_per_capita  life_expectancy  latitude  longitude  \n",
       "0         18.6        1803.987            64.83      33.0       65.0  \n",
       "1         18.6        1803.987            64.83      33.0       65.0  \n",
       "2         18.6        1803.987            64.83      33.0       65.0  \n",
       "3         18.6        1803.987            64.83      33.0       65.0  \n",
       "4         18.6        1803.987            64.83      33.0       65.0  \n",
       "..         ...             ...              ...       ...        ...  \n",
       "95        18.6        1803.987            64.83      33.0       65.0  \n",
       "96        18.6        1803.987            64.83      33.0       65.0  \n",
       "97        18.6        1803.987            64.83      33.0       65.0  \n",
       "98        18.6        1803.987            64.83      33.0       65.0  \n",
       "99        18.6        1803.987            64.83      33.0       65.0  \n",
       "\n",
       "[100 rows x 24 columns]"
      ]
     },
     "execution_count": 27,
     "metadata": {},
     "output_type": "execute_result"
    }
   ],
   "source": [
    "df = pd.read_csv('project_1_python.csv')\n",
    "df.head(100)"
   ]
  },
  {
   "cell_type": "markdown",
   "metadata": {},
   "source": [
    "##### 2. Exploring the data"
   ]
  },
  {
   "cell_type": "code",
   "execution_count": 28,
   "metadata": {},
   "outputs": [
    {
     "data": {
      "text/plain": [
       "index                        int64\n",
       "iso_code                    object\n",
       "continent                   object\n",
       "location                    object\n",
       "date                        object\n",
       "total_cases                float64\n",
       "new_cases                  float64\n",
       "total_deaths               float64\n",
       "new_deaths                 float64\n",
       "hosp_patients              float64\n",
       "total_tests                float64\n",
       "new_tests                  float64\n",
       "tests_per_case             float64\n",
       "total_vaccinations         float64\n",
       "people_vaccinated          float64\n",
       "people_fully_vaccinated    float64\n",
       "total_boosters             float64\n",
       "new_vaccinations           float64\n",
       "population                 float64\n",
       "median_age                 float64\n",
       "gdp_per_capita             float64\n",
       "life_expectancy            float64\n",
       "latitude                   float64\n",
       "longitude                  float64\n",
       "dtype: object"
      ]
     },
     "execution_count": 28,
     "metadata": {},
     "output_type": "execute_result"
    }
   ],
   "source": [
    "df.dtypes"
   ]
  },
  {
   "cell_type": "code",
   "execution_count": 29,
   "metadata": {},
   "outputs": [
    {
     "data": {
      "text/plain": [
       "index                        int64\n",
       "iso_code                    object\n",
       "continent                   object\n",
       "location                    object\n",
       "date                        object\n",
       "total_cases                float64\n",
       "new_cases                  float64\n",
       "total_deaths               float64\n",
       "new_deaths                 float64\n",
       "hosp_patients              float64\n",
       "total_tests                float64\n",
       "new_tests                  float64\n",
       "tests_per_case             float64\n",
       "total_vaccinations         float64\n",
       "people_vaccinated          float64\n",
       "people_fully_vaccinated    float64\n",
       "total_boosters             float64\n",
       "new_vaccinations           float64\n",
       "population                 float64\n",
       "median_age                 float64\n",
       "gdp_per_capita             float64\n",
       "life_expectancy            float64\n",
       "latitude                   float64\n",
       "longitude                  float64\n",
       "dtype: object"
      ]
     },
     "execution_count": 29,
     "metadata": {},
     "output_type": "execute_result"
    }
   ],
   "source": [
    "df.dtypes"
   ]
  },
  {
   "cell_type": "markdown",
   "metadata": {},
   "source": [
    "##### 3. Transforming the data"
   ]
  },
  {
   "cell_type": "code",
   "execution_count": 30,
   "metadata": {},
   "outputs": [
    {
     "data": {
      "text/plain": [
       "index                               int64\n",
       "iso_code                           object\n",
       "continent                          object\n",
       "location                           object\n",
       "date                       datetime64[ns]\n",
       "total_cases                       float64\n",
       "new_cases                         float64\n",
       "total_deaths                      float64\n",
       "new_deaths                        float64\n",
       "hosp_patients                     float64\n",
       "total_tests                       float64\n",
       "new_tests                         float64\n",
       "tests_per_case                    float64\n",
       "total_vaccinations                float64\n",
       "people_vaccinated                 float64\n",
       "people_fully_vaccinated           float64\n",
       "total_boosters                    float64\n",
       "new_vaccinations                  float64\n",
       "population                        float64\n",
       "median_age                        float64\n",
       "gdp_per_capita                    float64\n",
       "life_expectancy                   float64\n",
       "latitude                          float64\n",
       "longitude                         float64\n",
       "dtype: object"
      ]
     },
     "execution_count": 30,
     "metadata": {},
     "output_type": "execute_result"
    }
   ],
   "source": [
    "df[\"date\"] = pd.to_datetime(df[\"date\"])\n",
    "df.dtypes"
   ]
  },
  {
   "cell_type": "code",
   "execution_count": 31,
   "metadata": {},
   "outputs": [
    {
     "data": {
      "text/plain": [
       "date\n",
       "2021-08-29    225\n",
       "2021-08-28    225\n",
       "2021-08-27    225\n",
       "2021-08-26    225\n",
       "2021-08-25    225\n",
       "             ... \n",
       "2020-01-11      3\n",
       "2020-01-15      3\n",
       "2020-01-03      2\n",
       "2020-01-01      2\n",
       "2020-01-02      2\n",
       "Name: count, Length: 900, dtype: int64"
      ]
     },
     "execution_count": 31,
     "metadata": {},
     "output_type": "execute_result"
    }
   ],
   "source": [
    "df[\"date\"].value_counts()"
   ]
  },
  {
   "cell_type": "code",
   "execution_count": 32,
   "metadata": {},
   "outputs": [
    {
     "data": {
      "text/plain": [
       "'complete records: 7057; total records: 180477'"
      ]
     },
     "execution_count": 32,
     "metadata": {},
     "output_type": "execute_result"
    }
   ],
   "source": [
    "\"complete records: \" + str(len(df.dropna(how=\"any\"))) + \"; total records: \" + str(len(df))"
   ]
  },
  {
   "cell_type": "markdown",
   "metadata": {},
   "source": [
    "#### TOP 10 countries with the largest populations"
   ]
  },
  {
   "cell_type": "code",
   "execution_count": 33,
   "metadata": {},
   "outputs": [
    {
     "data": {
      "text/html": [
       "<div>\n",
       "<style scoped>\n",
       "    .dataframe tbody tr th:only-of-type {\n",
       "        vertical-align: middle;\n",
       "    }\n",
       "\n",
       "    .dataframe tbody tr th {\n",
       "        vertical-align: top;\n",
       "    }\n",
       "\n",
       "    .dataframe thead th {\n",
       "        text-align: right;\n",
       "    }\n",
       "</style>\n",
       "<table border=\"1\" class=\"dataframe\">\n",
       "  <thead>\n",
       "    <tr style=\"text-align: right;\">\n",
       "      <th></th>\n",
       "      <th>location</th>\n",
       "      <th>population</th>\n",
       "    </tr>\n",
       "  </thead>\n",
       "  <tbody>\n",
       "    <tr>\n",
       "      <th>40</th>\n",
       "      <td>China</td>\n",
       "      <td>1444216102</td>\n",
       "    </tr>\n",
       "    <tr>\n",
       "      <th>90</th>\n",
       "      <td>India</td>\n",
       "      <td>1393409033</td>\n",
       "    </tr>\n",
       "    <tr>\n",
       "      <th>213</th>\n",
       "      <td>United States</td>\n",
       "      <td>332915074</td>\n",
       "    </tr>\n",
       "    <tr>\n",
       "      <th>91</th>\n",
       "      <td>Indonesia</td>\n",
       "      <td>276361788</td>\n",
       "    </tr>\n",
       "    <tr>\n",
       "      <th>151</th>\n",
       "      <td>Pakistan</td>\n",
       "      <td>225199929</td>\n",
       "    </tr>\n",
       "    <tr>\n",
       "      <th>26</th>\n",
       "      <td>Brazil</td>\n",
       "      <td>213993441</td>\n",
       "    </tr>\n",
       "    <tr>\n",
       "      <th>144</th>\n",
       "      <td>Nigeria</td>\n",
       "      <td>211400704</td>\n",
       "    </tr>\n",
       "    <tr>\n",
       "      <th>15</th>\n",
       "      <td>Bangladesh</td>\n",
       "      <td>166303494</td>\n",
       "    </tr>\n",
       "    <tr>\n",
       "      <th>165</th>\n",
       "      <td>Russia</td>\n",
       "      <td>145912022</td>\n",
       "    </tr>\n",
       "    <tr>\n",
       "      <th>126</th>\n",
       "      <td>Mexico</td>\n",
       "      <td>130262220</td>\n",
       "    </tr>\n",
       "  </tbody>\n",
       "</table>\n",
       "</div>"
      ],
      "text/plain": [
       "          location  population\n",
       "40           China  1444216102\n",
       "90           India  1393409033\n",
       "213  United States   332915074\n",
       "91       Indonesia   276361788\n",
       "151       Pakistan   225199929\n",
       "26          Brazil   213993441\n",
       "144        Nigeria   211400704\n",
       "15      Bangladesh   166303494\n",
       "165         Russia   145912022\n",
       "126         Mexico   130262220"
      ]
     },
     "execution_count": 33,
     "metadata": {},
     "output_type": "execute_result"
    }
   ],
   "source": [
    "df_unique = df.groupby('location', as_index=False)['population'].unique()\n",
    "df_unique['population'] = df_unique['population'].str[0].astype(int)\n",
    "#df_unique\n",
    "top10 = df_unique.nlargest(10, 'population')\n",
    "top10\n"
   ]
  },
  {
   "cell_type": "code",
   "execution_count": 34,
   "metadata": {},
   "outputs": [
    {
     "data": {
      "text/plain": [
       "Text(0, 0.5, 'Population (B)')"
      ]
     },
     "execution_count": 34,
     "metadata": {},
     "output_type": "execute_result"
    },
    {
     "data": {
      "image/png": "[encoded data removed]",
      "text/plain": [
       "<Figure size 1000x500 with 1 Axes>"
      ]
     },
     "metadata": {},
     "output_type": "display_data"
    }
   ],
   "source": [
    "plt.figure(figsize=(10,5))\n",
    "\n",
    "sns.set_style(\"whitegrid\")\n",
    "\n",
    "sns.barplot(data=top10,\n",
    "             x='location',\n",
    "             y='population',\n",
    "             hue='location',\n",
    "             palette='pastel')\n",
    "plt.title('10 countries with the largest population')\n",
    "plt.xlabel('Country')\n",
    "plt.xticks(rotation=45)\n",
    "plt.ylabel('Population (B)')"
   ]
  },
  {
   "cell_type": "markdown",
   "metadata": {},
   "source": [
    "#### Relationship between population and life expectancy in a country"
   ]
  },
  {
   "cell_type": "code",
   "execution_count": 35,
   "metadata": {},
   "outputs": [
    {
     "data": {
      "text/html": [
       "<div>\n",
       "<style scoped>\n",
       "    .dataframe tbody tr th:only-of-type {\n",
       "        vertical-align: middle;\n",
       "    }\n",
       "\n",
       "    .dataframe tbody tr th {\n",
       "        vertical-align: top;\n",
       "    }\n",
       "\n",
       "    .dataframe thead th {\n",
       "        text-align: right;\n",
       "    }\n",
       "</style>\n",
       "<table border=\"1\" class=\"dataframe\">\n",
       "  <thead>\n",
       "    <tr style=\"text-align: right;\">\n",
       "      <th></th>\n",
       "      <th>location</th>\n",
       "      <th>population</th>\n",
       "      <th>life_expectancy</th>\n",
       "      <th>continent</th>\n",
       "    </tr>\n",
       "  </thead>\n",
       "  <tbody>\n",
       "    <tr>\n",
       "      <th>0</th>\n",
       "      <td>Afghanistan</td>\n",
       "      <td>39835428</td>\n",
       "      <td>64.83</td>\n",
       "      <td>Asia</td>\n",
       "    </tr>\n",
       "    <tr>\n",
       "      <th>1</th>\n",
       "      <td>Albania</td>\n",
       "      <td>2872934</td>\n",
       "      <td>78.57</td>\n",
       "      <td>Europe</td>\n",
       "    </tr>\n",
       "    <tr>\n",
       "      <th>2</th>\n",
       "      <td>Algeria</td>\n",
       "      <td>44616626</td>\n",
       "      <td>76.88</td>\n",
       "      <td>Africa</td>\n",
       "    </tr>\n",
       "    <tr>\n",
       "      <th>3</th>\n",
       "      <td>Andorra</td>\n",
       "      <td>77354</td>\n",
       "      <td>83.73</td>\n",
       "      <td>Europe</td>\n",
       "    </tr>\n",
       "    <tr>\n",
       "      <th>4</th>\n",
       "      <td>Angola</td>\n",
       "      <td>33933611</td>\n",
       "      <td>61.15</td>\n",
       "      <td>Africa</td>\n",
       "    </tr>\n",
       "    <tr>\n",
       "      <th>...</th>\n",
       "      <td>...</td>\n",
       "      <td>...</td>\n",
       "      <td>...</td>\n",
       "      <td>...</td>\n",
       "    </tr>\n",
       "    <tr>\n",
       "      <th>221</th>\n",
       "      <td>Wallis and Futuna</td>\n",
       "      <td>11094</td>\n",
       "      <td>79.94</td>\n",
       "      <td>Oceania</td>\n",
       "    </tr>\n",
       "    <tr>\n",
       "      <th>222</th>\n",
       "      <td>Western Sahara</td>\n",
       "      <td>611872</td>\n",
       "      <td>70.26</td>\n",
       "      <td>Africa</td>\n",
       "    </tr>\n",
       "    <tr>\n",
       "      <th>223</th>\n",
       "      <td>Yemen</td>\n",
       "      <td>30490639</td>\n",
       "      <td>66.12</td>\n",
       "      <td>Asia</td>\n",
       "    </tr>\n",
       "    <tr>\n",
       "      <th>224</th>\n",
       "      <td>Zambia</td>\n",
       "      <td>18920657</td>\n",
       "      <td>63.89</td>\n",
       "      <td>Africa</td>\n",
       "    </tr>\n",
       "    <tr>\n",
       "      <th>225</th>\n",
       "      <td>Zimbabwe</td>\n",
       "      <td>15092171</td>\n",
       "      <td>61.49</td>\n",
       "      <td>Africa</td>\n",
       "    </tr>\n",
       "  </tbody>\n",
       "</table>\n",
       "<p>226 rows × 4 columns</p>\n",
       "</div>"
      ],
      "text/plain": [
       "              location  population  life_expectancy continent\n",
       "0          Afghanistan    39835428            64.83      Asia\n",
       "1              Albania     2872934            78.57    Europe\n",
       "2              Algeria    44616626            76.88    Africa\n",
       "3              Andorra       77354            83.73    Europe\n",
       "4               Angola    33933611            61.15    Africa\n",
       "..                 ...         ...              ...       ...\n",
       "221  Wallis and Futuna       11094            79.94   Oceania\n",
       "222     Western Sahara      611872            70.26    Africa\n",
       "223              Yemen    30490639            66.12      Asia\n",
       "224             Zambia    18920657            63.89    Africa\n",
       "225           Zimbabwe    15092171            61.49    Africa\n",
       "\n",
       "[226 rows x 4 columns]"
      ]
     },
     "execution_count": 35,
     "metadata": {},
     "output_type": "execute_result"
    }
   ],
   "source": [
    "df_lfex = df.groupby('location', as_index=False).agg({\n",
    "    'population': 'unique',\n",
    "    'life_expectancy': 'unique',\n",
    "    'continent' : 'unique'\n",
    "})\n",
    "#df_lfex\n",
    "df_lfex['population'] = df_lfex['population'].str[0].astype(int)\n",
    "df_lfex['life_expectancy'] = df_lfex['life_expectancy'].str[0].astype(float)\n",
    "df_lfex['continent'] = df_lfex['continent'].str[0].astype(str)\n",
    "df_lfex"
   ]
  },
  {
   "cell_type": "code",
   "execution_count": 36,
   "metadata": {},
   "outputs": [
    {
     "data": {
      "application/vnd.plotly.v1+json": {
       "config": {
        "plotlyServerURL": "https://plot.ly"
       },
       "data": [
        {
         "hovertemplate": "<b>%{hovertext}</b><br><br>Continent=Asia<br>population=%{x}<br>life_expectancy=%{y}<extra></extra>",
         "hovertext": [
          "Afghanistan",
          "Armenia",
          "Azerbaijan",
          "Bahrain",
          "Bangladesh",
          "Bhutan",
          "Brunei",
          "Cambodia",
          "China",
          "Georgia",
          "Hong Kong",
          "India",
          "Indonesia",
          "Iran",
          "Iraq",
          "Israel",
          "Japan",
          "Jordan",
          "Kazakhstan",
          "Kuwait",
          "Kyrgyzstan",
          "Laos",
          "Lebanon",
          "Macao",
          "Malaysia",
          "Maldives",
          "Mongolia",
          "Myanmar",
          "Nepal",
          "North Korea",
          "Oman",
          "Pakistan",
          "Palestine",
          "Philippines",
          "Qatar",
          "Saudi Arabia",
          "Singapore",
          "South Korea",
          "Sri Lanka",
          "Syria",
          "Taiwan",
          "Tajikistan",
          "Thailand",
          "Timor",
          "Turkey",
          "Turkmenistan",
          "United Arab Emirates",
          "Uzbekistan",
          "Vietnam",
          "Yemen"
         ],
         "legendgroup": "Asia",
         "marker": {
          "color": "#636EFA",
          "symbol": "circle"
         },
         "mode": "markers",
         "name": "Asia",
         "orientation": "v",
         "showlegend": true,
         "type": "scatter",
         "x": {
          "bdata": "JNdfAkBKLQDw/psAR60aAAaX6Ql85gsAvLwGAA6VAgEm/RRW/bk8ACA/cwAJvA1TPPJ4EJhvEQXXWHQC+MSNAOxhgwdesZwADtchAWkMQgD7I2UAnplwAP9JZwDXCwoAAyD0AYRLCAACzTIA/kVEA6jNxAFFAYsB0LNPADlHbA1ksU8A/nCeBly3LACIQRsCIDdTAODaDgPaBUgBeN0WAaD/awF5xJQAfF0rBIOBFAAwphEFLVpdAKtzmACV0QUC/e/ZBQ9A0QE=",
          "dtype": "i4"
         },
         "xaxis": "x",
         "y": {
          "bdata": "hetRuB41UED2KFyPwsVSQAAAAAAAQFJAw/UoXI9SU0D2KFyPwiVSQFK4HoXr8VFA16NwPQr3UkAUrkfhenRRQArXo3A9OlNA4XoUrkdxUkDXo3A9CjdVQArXo3A9alFArkfhehTuUUDsUbgehStTQGZmZmZmplFArkfhehS+VEC4HoXrUShVQFK4HoXroVJAZmZmZmZmUkCPwvUoXN9SQM3MzMzM3FFAexSuR+H6UEDsUbgehbtTQI/C9ShcD1VACtejcD0KU0B7FK5H4bpTQEjhehSud1FAuB6F61HIUEBSuB6F67FRQOF6FK5HEVJA16NwPQp3U0DhehSuR9FQQDMzMzMzg1JAH4XrUbjOUUAfhetRuA5UQLgehetRyFJASOF6FK7nVEBSuB6F68FUQB+F61G4PlNAzczMzMwsUkA9CtejcB1UQGZmZmZmxlFAmpmZmZlJU0AAAAAAAGBRQFyPwvUobFNAXI/C9SgMUUCuR+F6FH5TQK5H4XoU7lFAmpmZmZnZUkBI4XoUrodQQA==",
          "dtype": "f8"
         },
         "yaxis": "y"
        },
        {
         "hovertemplate": "<b>%{hovertext}</b><br><br>Continent=Europe<br>population=%{x}<br>life_expectancy=%{y}<extra></extra>",
         "hovertext": [
          "Albania",
          "Andorra",
          "Austria",
          "Belarus",
          "Belgium",
          "Bosnia and Herzegovina",
          "Bulgaria",
          "Croatia",
          "Cyprus",
          "Czechia",
          "Denmark",
          "Estonia",
          "Faeroe Islands",
          "Finland",
          "France",
          "Germany",
          "Gibraltar",
          "Greece",
          "Guernsey",
          "Hungary",
          "Iceland",
          "Ireland",
          "Isle of Man",
          "Italy",
          "Jersey",
          "Latvia",
          "Liechtenstein",
          "Lithuania",
          "Luxembourg",
          "Malta",
          "Moldova",
          "Monaco",
          "Montenegro",
          "Netherlands",
          "North Macedonia",
          "Norway",
          "Poland",
          "Portugal",
          "Romania",
          "Russia",
          "San Marino",
          "Serbia",
          "Slovakia",
          "Slovenia",
          "Spain",
          "Sweden",
          "Switzerland",
          "Ukraine",
          "United Kingdom",
          "Vatican"
         ],
         "legendgroup": "Europe",
         "marker": {
          "color": "#EF553B",
          "symbol": "circle"
         },
         "mode": "markers",
         "name": "Europe",
         "orientation": "v",
         "showlegend": true,
         "type": "scatter",
         "x": {
          "bdata": "ZtYrACouAQCA/IkAMxaQAM5+sQDjyzEADzxpAPlHPgAFrA0AyaSjADa0WACEOBQAnb8AAEmpVAAwxwQENzgABZuDAAC7Pp4AmfcAAHIBkwCYoAUAeAhMAKJNAQBvIpkD0YoBALZ8HABulQAARgspAL6vCQAE4AcA2WY9AGCaAABTlQkAZgoGAWXHHwAdZlMAiLxAAnMmmwDc3SMB1nCyCNqEAAD72WgANiZTAAO4HwB7RskCHwibAOb8hABGQJcCCsIQBCwDAAA=",
          "dtype": "i4"
         },
         "xaxis": "x",
         "y": {
          "bdata": "FK5H4XqkU0AfhetRuO5UQMP1KFyPYlRAw/UoXI+yUkC4HoXrUWhUQJqZmZmZWVNAMzMzMzPDUkCPwvUoXJ9TQB+F61G4PlRAuB6F61HYU0CamZmZmTlUQI/C9Shcr1NAexSuR+EqVEAK16NwPXpUQArXo3A9qlRAhetRuB5VVEDsUbgehftTQI/C9Shcj1RAAAAAAAAA+H+4HoXrUThTQI/C9Shcv1RAMzMzMzOTVECamZmZmVlUQHE9Ctej4FRAAAAAAAAA+H/D9Shcj9JSQI/C9Shcn1RA7FG4HoX7UkAAAAAAAJBUQFK4HoXroVRAmpmZmZn5UUAAAAAAALBVQLgehetROFNAUrgeheuRVEAzMzMzM/NSQJqZmZmZmVRAH4XrUbiuU0AzMzMzM4NUQDMzMzMzA1NAhetRuB4lUkCuR+F6FD5VQAAAAAAAAFNAw/UoXI9iU0AUrkfhelRUQKRwPQrX41RAMzMzMzOzVEBSuB6F6/FUQKRwPQrXA1JAFK5H4XpUVEBI4XoUrsdSQA==",
          "dtype": "f8"
         },
         "yaxis": "y"
        },
        {
         "hovertemplate": "<b>%{hovertext}</b><br><br>Continent=Africa<br>population=%{x}<br>life_expectancy=%{y}<extra></extra>",
         "hovertext": [
          "Algeria",
          "Angola",
          "Benin",
          "Botswana",
          "Burkina Faso",
          "Burundi",
          "Cameroon",
          "Cape Verde",
          "Central African Republic",
          "Chad",
          "Comoros",
          "Congo",
          "Cote d'Ivoire",
          "Democratic Republic of Congo",
          "Djibouti",
          "Egypt",
          "Equatorial Guinea",
          "Eritrea",
          "Eswatini",
          "Ethiopia",
          "Gabon",
          "Gambia",
          "Ghana",
          "Guinea",
          "Guinea-Bissau",
          "Kenya",
          "Lesotho",
          "Liberia",
          "Libya",
          "Madagascar",
          "Malawi",
          "Mali",
          "Mauritania",
          "Mauritius",
          "Morocco",
          "Mozambique",
          "Namibia",
          "Niger",
          "Nigeria",
          "Rwanda",
          "Saint Helena",
          "Sao Tome and Principe",
          "Senegal",
          "Seychelles",
          "Sierra Leone",
          "Somalia",
          "South Africa",
          "South Sudan",
          "Sudan",
          "Tanzania",
          "Togo",
          "Tunisia",
          "Uganda",
          "Western Sahara",
          "Zambia",
          "Zimbabwe"
         ],
         "legendgroup": "Africa",
         "marker": {
          "color": "#00CC96",
          "symbol": "circle"
         },
         "mode": "markers",
         "name": "Africa",
         "orientation": "v",
         "showlegend": true,
         "type": "scatter",
         "x": {
          "bdata": "ssuoAivJBQLX/L0AOJQkAAkFSAHFALsAxmifAe2SCACzEksAKRoCAYiODQC5UVYAPc6cAYKTgQXVSg8AF9s2BqMfFgA29DYAkeMRAAKmBgetxSIAmfIlAKAx5AGV880AAsEeAOYDRwPb8SAAMAtPAMotagBFxLEBwcwrAaw7PgHG3EgAVG4TABPWOQLlxOoB0HonADp3fwEAuJkMZZXKAM8XAACEaAMAFGUGAV6CAQAfOnwATKD5AAwrlAOBqq0AJ0OtAkZkqgMiXoEAFCC2AE0MzwIgVgkA0bQgActJ5gA=",
          "dtype": "i4"
         },
         "xaxis": "x",
         "y": {
          "bdata": "uB6F61E4U0AzMzMzM5NOQMP1KFyP4k5A9ihcj8JlUUAK16NwPcpOQArXo3A9yk5AhetRuB6lTUAfhetRuD5SQKRwPQrXo0pAH4XrUbgeS0AUrkfhehRQQBSuR+F6JFBApHA9CtfjTEDXo3A9CldOQNejcD0Kx1BAj8L1KFz/UUAfhetRuF5NQBSuR+F6lFBAuB6F61EYTkBmZmZmZqZQQK5H4XoUnlBAZmZmZmYGT0AUrkfhegRQQM3MzMzMzE5AKVyPwvUoTUDNzMzMzKxQQArXo3A9KktAZmZmZmYGUEAK16NwPTpSQMP1KFyPwlBAcT0K16MQUEBI4XoUrqdNQHsUrkfhOlBAj8L1KFy/UkDsUbgehStTQM3MzMzMbE5AexSuR+HaT0D2KFyPwjVPQLgehetRWEtA4XoUrkdBUUCkcD0K1yNUQClcj8L1mFFAXI/C9Sj8UECamZmZmVlSQJqZmZmZWUtAMzMzMzOzTEC4HoXrUQhQQM3MzMzM7ExApHA9CtdTUEA9CtejcF1QQIXrUbgehU5AzczMzMwsU0CPwvUoXK9PQHE9CtejkFFAUrgehevxT0AfhetRuL5OQA==",
          "dtype": "f8"
         },
         "yaxis": "y"
        },
        {
         "hovertemplate": "<b>%{hovertext}</b><br><br>Continent=North America<br>population=%{x}<br>life_expectancy=%{y}<extra></extra>",
         "hovertext": [
          "Anguilla",
          "Antigua and Barbuda",
          "Aruba",
          "Bahamas",
          "Barbados",
          "Belize",
          "Bermuda",
          "British Virgin Islands",
          "Canada",
          "Cayman Islands",
          "Costa Rica",
          "Cuba",
          "Dominica",
          "Dominican Republic",
          "El Salvador",
          "Greenland",
          "Grenada",
          "Guatemala",
          "Haiti",
          "Honduras",
          "Jamaica",
          "Mexico",
          "Montserrat",
          "Nicaragua",
          "Panama",
          "Puerto Rico",
          "Saint Kitts and Nevis",
          "Saint Lucia",
          "Saint Pierre and Miquelon",
          "Saint Vincent and the Grenadines",
          "Trinidad and Tobago",
          "Turks and Caicos Islands",
          "United States",
          "United States Virgin Islands"
         ],
         "legendgroup": "North America",
         "marker": {
          "color": "#AB63FA",
          "symbol": "circle"
         },
         "mode": "markers",
         "name": "North America",
         "orientation": "v",
         "showlegend": true,
         "type": "scatter",
         "x": {
          "bdata": "FTsAAKiBAQC7ogEAcg4GANxjBACzLQYAjPIAANd2AADJ3kQCwgMBAG1qTgD6sKwA7BkBAPIjpwDkdmMAJN4AAHe5AQCMeBYBsxywAJKMmQAWXy0AzKTDB3UTAAArRWYAj9tCANYnKwAq0QAAUdACAIsWAAClsgEA7mkVADqZAACC4dcTGpcBAA==",
          "dtype": "i4"
         },
         "xaxis": "x",
         "y": {
          "bdata": "uB6F61F4VEDhehSuR0FTQMP1KFyPElNAexSuR+F6UkBcj8L1KMxTQEjhehSup1JA9ihcj8KlVEAUrkfhesRTQOxRuB6Fm1RAexSuR+H6VEBSuB6F6xFUQDMzMzMzs1NAAAAAAADAUkCF61G4HoVSQBSuR+F6VFJAzczMzMzsUUCamZmZmRlSQDMzMzMzk1JAAAAAAAAAUEDhehSuR9FSQK5H4XoUnlJAMzMzMzPDUkAK16NwPYpSQB+F61G4nlJAcT0K16OgU0BmZmZmZgZUQB+F61G4DlNAzczMzMwMU0AUrkfhekRUQFK4HoXrIVJAcT0K16NgUkCuR+F6FA5UQNejcD0Kt1NAhetRuB4lVEA=",
          "dtype": "f8"
         },
         "yaxis": "y"
        },
        {
         "hovertemplate": "<b>%{hovertext}</b><br><br>Continent=South America<br>population=%{x}<br>life_expectancy=%{y}<extra></extra>",
         "hovertext": [
          "Argentina",
          "Bolivia",
          "Brazil",
          "Chile",
          "Colombia",
          "Ecuador",
          "Falkland Islands",
          "Guyana",
          "Paraguay",
          "Peru",
          "Suriname",
          "Uruguay",
          "Venezuela"
         ],
         "legendgroup": "South America",
         "marker": {
          "color": "#FFA15A",
          "symbol": "circle"
         },
         "mode": "markers",
         "name": "South America",
         "orientation": "v",
         "showlegend": true,
         "type": "scatter",
         "x": {
          "bdata": "v+O3AmiOtADhR8EMSiglATFBDgPa9BAByA0AADkPDAC5KW4ANwb9AbYHCQDgLTUAswC2AQ==",
          "dtype": "i4"
         },
         "xaxis": "x",
         "y": {
          "bdata": "exSuR+EqU0BxPQrXo+BRQLgehetR+FJA7FG4HoULVEDD9Shcj1JTQHE9CtejQFNAXI/C9ShcVEAK16NwPXpRQAAAAAAAkFJAj8L1KFwvU0DsUbgehetRQArXo3A9elNApHA9CtcDUkA=",
          "dtype": "f8"
         },
         "yaxis": "y"
        },
        {
         "hovertemplate": "<b>%{hovertext}</b><br><br>Continent=Oceania<br>population=%{x}<br>life_expectancy=%{y}<extra></extra>",
         "hovertext": [
          "Australia",
          "Cook Islands",
          "Fiji",
          "French Polynesia",
          "Guam",
          "Kiribati",
          "Marshall Islands",
          "Micronesia (country)",
          "Nauru",
          "New Caledonia",
          "New Zealand",
          "Niue",
          "Northern Mariana Islands",
          "Palau",
          "Papua New Guinea",
          "Pitcairn",
          "Samoa",
          "Solomon Islands",
          "Tokelau",
          "Tonga",
          "Tuvalu",
          "Vanuatu",
          "Wallis and Futuna"
         ],
         "legendgroup": "Oceania",
         "marker": {
          "color": "#19D3F3",
          "symbol": "circle"
         },
         "mode": "markers",
         "name": "Oceania",
         "orientation": "v",
         "showlegend": true,
         "type": "scatter",
         "x": {
          "bdata": "OX+JAaREAADzxg0Apk8EAMiYAgAs2gEA4ugAAB/GAQB5KgAA2WUEAJw4TgBOBgAANuIAAP5GAAAdJYsALwAAANANAwD7vQoAWAUAAAehAQCVLgAAYMwEAFYrAAA=",
          "dtype": "i4"
         },
         "xaxis": "x",
         "y": {
          "bdata": "XI/C9SjcVEAAAAAAABBTQFyPwvUo3FBACtejcD1qU0AUrkfhegRUQEjhehSuF1FAzczMzMxsUkC4HoXrUfhQQHsUrkfh+k1AMzMzMzNjU0DD9Shcj5JUQD0K16NwbVJAj8L1KFwvU0DNzMzMzGxSQAAAAAAAIFBAAAAAAAAA+H8UrkfhelRSQAAAAAAAQFJA16NwPQp3VEAK16NwPbpRQBSuR+F65FBArkfhehSeUUBcj8L1KPxTQA==",
          "dtype": "f8"
         },
         "yaxis": "y"
        }
       ],
       "layout": {
        "legend": {
         "title": {
          "text": "Continent"
         },
         "tracegroupgap": 0
        },
        "template": {
         "data": {
          "bar": [
           {
            "error_x": {
             "color": "#2a3f5f"
            },
            "error_y": {
             "color": "#2a3f5f"
            },
            "marker": {
             "line": {
              "color": "#E5ECF6",
              "width": 0.5
             },
             "pattern": {
              "fillmode": "overlay",
              "size": 10,
              "solidity": 0.2
             }
            },
            "type": "bar"
           }
          ],
          "barpolar": [
           {
            "marker": {
             "line": {
              "color": "#E5ECF6",
              "width": 0.5
             },
             "pattern": {
              "fillmode": "overlay",
              "size": 10,
              "solidity": 0.2
             }
            },
            "type": "barpolar"
           }
          ],
          "carpet": [
           {
            "aaxis": {
             "endlinecolor": "#2a3f5f",
             "gridcolor": "white",
             "linecolor": "white",
             "minorgridcolor": "white",
             "startlinecolor": "#2a3f5f"
            },
            "baxis": {
             "endlinecolor": "#2a3f5f",
             "gridcolor": "white",
             "linecolor": "white",
             "minorgridcolor": "white",
             "startlinecolor": "#2a3f5f"
            },
            "type": "carpet"
           }
          ],
          "choropleth": [
           {
            "colorbar": {
             "outlinewidth": 0,
             "ticks": ""
            },
            "type": "choropleth"
           }
          ],
          "contour": [
           {
            "colorbar": {
             "outlinewidth": 0,
             "ticks": ""
            },
            "colorscale": [
             [
              0,
              "#0d0887"
             ],
             [
              0.1111111111111111,
              "#46039f"
             ],
             [
              0.2222222222222222,
              "#7201a8"
             ],
             [
              0.3333333333333333,
              "#9c179e"
             ],
             [
              0.4444444444444444,
              "#bd3786"
             ],
             [
              0.5555555555555556,
              "#d8576b"
             ],
             [
              0.6666666666666666,
              "#ed7953"
             ],
             [
              0.7777777777777778,
              "#fb9f3a"
             ],
             [
              0.8888888888888888,
              "#fdca26"
             ],
             [
              1,
              "#f0f921"
             ]
            ],
            "type": "contour"
           }
          ],
          "contourcarpet": [
           {
            "colorbar": {
             "outlinewidth": 0,
             "ticks": ""
            },
            "type": "contourcarpet"
           }
          ],
          "heatmap": [
           {
            "colorbar": {
             "outlinewidth": 0,
             "ticks": ""
            },
            "colorscale": [
             [
              0,
              "#0d0887"
             ],
             [
              0.1111111111111111,
              "#46039f"
             ],
             [
              0.2222222222222222,
              "#7201a8"
             ],
             [
              0.3333333333333333,
              "#9c179e"
             ],
             [
              0.4444444444444444,
              "#bd3786"
             ],
             [
              0.5555555555555556,
              "#d8576b"
             ],
             [
              0.6666666666666666,
              "#ed7953"
             ],
             [
              0.7777777777777778,
              "#fb9f3a"
             ],
             [
              0.8888888888888888,
              "#fdca26"
             ],
             [
              1,
              "#f0f921"
             ]
            ],
            "type": "heatmap"
           }
          ],
          "histogram": [
           {
            "marker": {
             "pattern": {
              "fillmode": "overlay",
              "size": 10,
              "solidity": 0.2
             }
            },
            "type": "histogram"
           }
          ],
          "histogram2d": [
           {
            "colorbar": {
             "outlinewidth": 0,
             "ticks": ""
            },
            "colorscale": [
             [
              0,
              "#0d0887"
             ],
             [
              0.1111111111111111,
              "#46039f"
             ],
             [
              0.2222222222222222,
              "#7201a8"
             ],
             [
              0.3333333333333333,
              "#9c179e"
             ],
             [
              0.4444444444444444,
              "#bd3786"
             ],
             [
              0.5555555555555556,
              "#d8576b"
             ],
             [
              0.6666666666666666,
              "#ed7953"
             ],
             [
              0.7777777777777778,
              "#fb9f3a"
             ],
             [
              0.8888888888888888,
              "#fdca26"
             ],
             [
              1,
              "#f0f921"
             ]
            ],
            "type": "histogram2d"
           }
          ],
          "histogram2dcontour": [
           {
            "colorbar": {
             "outlinewidth": 0,
             "ticks": ""
            },
            "colorscale": [
             [
              0,
              "#0d0887"
             ],
             [
              0.1111111111111111,
              "#46039f"
             ],
             [
              0.2222222222222222,
              "#7201a8"
             ],
             [
              0.3333333333333333,
              "#9c179e"
             ],
             [
              0.4444444444444444,
              "#bd3786"
             ],
             [
              0.5555555555555556,
              "#d8576b"
             ],
             [
              0.6666666666666666,
              "#ed7953"
             ],
             [
              0.7777777777777778,
              "#fb9f3a"
             ],
             [
              0.8888888888888888,
              "#fdca26"
             ],
             [
              1,
              "#f0f921"
             ]
            ],
            "type": "histogram2dcontour"
           }
          ],
          "mesh3d": [
           {
            "colorbar": {
             "outlinewidth": 0,
             "ticks": ""
            },
            "type": "mesh3d"
           }
          ],
          "parcoords": [
           {
            "line": {
             "colorbar": {
              "outlinewidth": 0,
              "ticks": ""
             }
            },
            "type": "parcoords"
           }
          ],
          "pie": [
           {
            "automargin": true,
            "type": "pie"
           }
          ],
          "scatter": [
           {
            "fillpattern": {
             "fillmode": "overlay",
             "size": 10,
             "solidity": 0.2
            },
            "type": "scatter"
           }
          ],
          "scatter3d": [
           {
            "line": {
             "colorbar": {
              "outlinewidth": 0,
              "ticks": ""
             }
            },
            "marker": {
             "colorbar": {
              "outlinewidth": 0,
              "ticks": ""
             }
            },
            "type": "scatter3d"
           }
          ],
          "scattercarpet": [
           {
            "marker": {
             "colorbar": {
              "outlinewidth": 0,
              "ticks": ""
             }
            },
            "type": "scattercarpet"
           }
          ],
          "scattergeo": [
           {
            "marker": {
             "colorbar": {
              "outlinewidth": 0,
              "ticks": ""
             }
            },
            "type": "scattergeo"
           }
          ],
          "scattergl": [
           {
            "marker": {
             "colorbar": {
              "outlinewidth": 0,
              "ticks": ""
             }
            },
            "type": "scattergl"
           }
          ],
          "scattermap": [
           {
            "marker": {
             "colorbar": {
              "outlinewidth": 0,
              "ticks": ""
             }
            },
            "type": "scattermap"
           }
          ],
          "scattermapbox": [
           {
            "marker": {
             "colorbar": {
              "outlinewidth": 0,
              "ticks": ""
             }
            },
            "type": "scattermapbox"
           }
          ],
          "scatterpolar": [
           {
            "marker": {
             "colorbar": {
              "outlinewidth": 0,
              "ticks": ""
             }
            },
            "type": "scatterpolar"
           }
          ],
          "scatterpolargl": [
           {
            "marker": {
             "colorbar": {
              "outlinewidth": 0,
              "ticks": ""
             }
            },
            "type": "scatterpolargl"
           }
          ],
          "scatterternary": [
           {
            "marker": {
             "colorbar": {
              "outlinewidth": 0,
              "ticks": ""
             }
            },
            "type": "scatterternary"
           }
          ],
          "surface": [
           {
            "colorbar": {
             "outlinewidth": 0,
             "ticks": ""
            },
            "colorscale": [
             [
              0,
              "#0d0887"
             ],
             [
              0.1111111111111111,
              "#46039f"
             ],
             [
              0.2222222222222222,
              "#7201a8"
             ],
             [
              0.3333333333333333,
              "#9c179e"
             ],
             [
              0.4444444444444444,
              "#bd3786"
             ],
             [
              0.5555555555555556,
              "#d8576b"
             ],
             [
              0.6666666666666666,
              "#ed7953"
             ],
             [
              0.7777777777777778,
              "#fb9f3a"
             ],
             [
              0.8888888888888888,
              "#fdca26"
             ],
             [
              1,
              "#f0f921"
             ]
            ],
            "type": "surface"
           }
          ],
          "table": [
           {
            "cells": {
             "fill": {
              "color": "#EBF0F8"
             },
             "line": {
              "color": "white"
             }
            },
            "header": {
             "fill": {
              "color": "#C8D4E3"
             },
             "line": {
              "color": "white"
             }
            },
            "type": "table"
           }
          ]
         },
         "layout": {
          "annotationdefaults": {
           "arrowcolor": "#2a3f5f",
           "arrowhead": 0,
           "arrowwidth": 1
          },
          "autotypenumbers": "strict",
          "coloraxis": {
           "colorbar": {
            "outlinewidth": 0,
            "ticks": ""
           }
          },
          "colorscale": {
           "diverging": [
            [
             0,
             "#8e0152"
            ],
            [
             0.1,
             "#c51b7d"
            ],
            [
             0.2,
             "#de77ae"
            ],
            [
             0.3,
             "#f1b6da"
            ],
            [
             0.4,
             "#fde0ef"
            ],
            [
             0.5,
             "#f7f7f7"
            ],
            [
             0.6,
             "#e6f5d0"
            ],
            [
             0.7,
             "#b8e186"
            ],
            [
             0.8,
             "#7fbc41"
            ],
            [
             0.9,
             "#4d9221"
            ],
            [
             1,
             "#276419"
            ]
           ],
           "sequential": [
            [
             0,
             "#0d0887"
            ],
            [
             0.1111111111111111,
             "#46039f"
            ],
            [
             0.2222222222222222,
             "#7201a8"
            ],
            [
             0.3333333333333333,
             "#9c179e"
            ],
            [
             0.4444444444444444,
             "#bd3786"
            ],
            [
             0.5555555555555556,
             "#d8576b"
            ],
            [
             0.6666666666666666,
             "#ed7953"
            ],
            [
             0.7777777777777778,
             "#fb9f3a"
            ],
            [
             0.8888888888888888,
             "#fdca26"
            ],
            [
             1,
             "#f0f921"
            ]
           ],
           "sequentialminus": [
            [
             0,
             "#0d0887"
            ],
            [
             0.1111111111111111,
             "#46039f"
            ],
            [
             0.2222222222222222,
             "#7201a8"
            ],
            [
             0.3333333333333333,
             "#9c179e"
            ],
            [
             0.4444444444444444,
             "#bd3786"
            ],
            [
             0.5555555555555556,
             "#d8576b"
            ],
            [
             0.6666666666666666,
             "#ed7953"
            ],
            [
             0.7777777777777778,
             "#fb9f3a"
            ],
            [
             0.8888888888888888,
             "#fdca26"
            ],
            [
             1,
             "#f0f921"
            ]
           ]
          },
          "colorway": [
           "#636efa",
           "#EF553B",
           "#00cc96",
           "#ab63fa",
           "#FFA15A",
           "#19d3f3",
           "#FF6692",
           "#B6E880",
           "#FF97FF",
           "#FECB52"
          ],
          "font": {
           "color": "#2a3f5f"
          },
          "geo": {
           "bgcolor": "white",
           "lakecolor": "white",
           "landcolor": "#E5ECF6",
           "showlakes": true,
           "showland": true,
           "subunitcolor": "white"
          },
          "hoverlabel": {
           "align": "left"
          },
          "hovermode": "closest",
          "mapbox": {
           "style": "light"
          },
          "paper_bgcolor": "white",
          "plot_bgcolor": "#E5ECF6",
          "polar": {
           "angularaxis": {
            "gridcolor": "white",
            "linecolor": "white",
            "ticks": ""
           },
           "bgcolor": "#E5ECF6",
           "radialaxis": {
            "gridcolor": "white",
            "linecolor": "white",
            "ticks": ""
           }
          },
          "scene": {
           "xaxis": {
            "backgroundcolor": "#E5ECF6",
            "gridcolor": "white",
            "gridwidth": 2,
            "linecolor": "white",
            "showbackground": true,
            "ticks": "",
            "zerolinecolor": "white"
           },
           "yaxis": {
            "backgroundcolor": "#E5ECF6",
            "gridcolor": "white",
            "gridwidth": 2,
            "linecolor": "white",
            "showbackground": true,
            "ticks": "",
            "zerolinecolor": "white"
           },
           "zaxis": {
            "backgroundcolor": "#E5ECF6",
            "gridcolor": "white",
            "gridwidth": 2,
            "linecolor": "white",
            "showbackground": true,
            "ticks": "",
            "zerolinecolor": "white"
           }
          },
          "shapedefaults": {
           "line": {
            "color": "#2a3f5f"
           }
          },
          "ternary": {
           "aaxis": {
            "gridcolor": "white",
            "linecolor": "white",
            "ticks": ""
           },
           "baxis": {
            "gridcolor": "white",
            "linecolor": "white",
            "ticks": ""
           },
           "bgcolor": "#E5ECF6",
           "caxis": {
            "gridcolor": "white",
            "linecolor": "white",
            "ticks": ""
           }
          },
          "title": {
           "x": 0.05
          },
          "xaxis": {
           "automargin": true,
           "gridcolor": "white",
           "linecolor": "white",
           "ticks": "",
           "title": {
            "standoff": 15
           },
           "zerolinecolor": "white",
           "zerolinewidth": 2
          },
          "yaxis": {
           "automargin": true,
           "gridcolor": "white",
           "linecolor": "white",
           "ticks": "",
           "title": {
            "standoff": 15
           },
           "zerolinecolor": "white",
           "zerolinewidth": 2
          }
         }
        },
        "title": {
         "text": "Population vs. life expectancy"
        },
        "xaxis": {
         "anchor": "y",
         "domain": [
          0,
          1
         ],
         "title": {
          "text": "Population"
         },
         "type": "log"
        },
        "yaxis": {
         "anchor": "x",
         "domain": [
          0,
          1
         ],
         "title": {
          "text": "Life Expectancy (years)"
         }
        }
       }
      }
     },
     "metadata": {},
     "output_type": "display_data"
    }
   ],
   "source": [
    "fig = px.scatter(data_frame=df_lfex,\n",
    "        x='population',\n",
    "        y='life_expectancy',\n",
    "        hover_name='location',\n",
    "        color='continent',\n",
    "        size_max=30,\n",
    "        log_x=True,\n",
    "        title='Population vs. life expectancy',\n",
    "        color_discrete_sequence=px.colors.qualitative.Plotly,\n",
    "        labels={'continent': 'Continent'}\n",
    "        )\n",
    "\n",
    "fig.update_layout(\n",
    "    xaxis_title='Population',\n",
    "    yaxis_title='Life Expectancy (years)'\n",
    ")\n",
    "\n",
    "fig.show()"
   ]
  },
  {
   "cell_type": "markdown",
   "metadata": {},
   "source": [
    "#### Number of diagnosed COVID-19 cases over time - Czechia vs. United States"
   ]
  },
  {
   "cell_type": "code",
   "execution_count": 37,
   "metadata": {},
   "outputs": [
    {
     "data": {
      "text/plain": [
       "array(['Afghanistan', 'Albania', 'Algeria', 'Andorra', 'Angola',\n",
       "       'Anguilla', 'Antigua and Barbuda', 'Argentina', 'Armenia', 'Aruba',\n",
       "       'Australia', 'Austria', 'Azerbaijan', 'Bahamas', 'Bahrain',\n",
       "       'Bangladesh', 'Barbados', 'Belarus', 'Belgium', 'Belize', 'Benin',\n",
       "       'Bermuda', 'Bhutan', 'Bolivia', 'Bosnia and Herzegovina',\n",
       "       'Botswana', 'Brazil', 'British Virgin Islands', 'Brunei',\n",
       "       'Bulgaria', 'Burkina Faso', 'Burundi', 'Cambodia', 'Cameroon',\n",
       "       'Canada', 'Cape Verde', 'Cayman Islands',\n",
       "       'Central African Republic', 'Chad', 'Chile', 'China', 'Colombia',\n",
       "       'Comoros', 'Congo', 'Cook Islands', 'Costa Rica', \"Cote d'Ivoire\",\n",
       "       'Croatia', 'Cuba', 'Cyprus', 'Czechia',\n",
       "       'Democratic Republic of Congo', 'Denmark', 'Djibouti', 'Dominica',\n",
       "       'Dominican Republic', 'Ecuador', 'Egypt', 'El Salvador',\n",
       "       'Equatorial Guinea', 'Eritrea', 'Estonia', 'Eswatini', 'Ethiopia',\n",
       "       'Faeroe Islands', 'Falkland Islands', 'Fiji', 'Finland', 'France',\n",
       "       'French Polynesia', 'Gabon', 'Gambia', 'Georgia', 'Germany',\n",
       "       'Ghana', 'Gibraltar', 'Greece', 'Greenland', 'Grenada', 'Guam',\n",
       "       'Guatemala', 'Guernsey', 'Guinea', 'Guinea-Bissau', 'Guyana',\n",
       "       'Haiti', 'Honduras', 'Hong Kong', 'Hungary', 'Iceland', 'India',\n",
       "       'Indonesia', 'Iran', 'Iraq', 'Ireland', 'Isle of Man', 'Israel',\n",
       "       'Italy', 'Jamaica', 'Japan', 'Jersey', 'Jordan', 'Kazakhstan',\n",
       "       'Kenya', 'Kiribati', 'Kuwait', 'Kyrgyzstan', 'Laos', 'Latvia',\n",
       "       'Lebanon', 'Lesotho', 'Liberia', 'Libya', 'Liechtenstein',\n",
       "       'Lithuania', 'Luxembourg', 'Macao', 'Madagascar', 'Malawi',\n",
       "       'Malaysia', 'Maldives', 'Mali', 'Malta', 'Marshall Islands',\n",
       "       'Mauritania', 'Mauritius', 'Mexico', 'Micronesia (country)',\n",
       "       'Moldova', 'Monaco', 'Mongolia', 'Montenegro', 'Montserrat',\n",
       "       'Morocco', 'Mozambique', 'Myanmar', 'Namibia', 'Nauru', 'Nepal',\n",
       "       'Netherlands', 'New Caledonia', 'New Zealand', 'Nicaragua',\n",
       "       'Niger', 'Nigeria', 'Niue', 'North Korea', 'North Macedonia',\n",
       "       'Northern Mariana Islands', 'Norway', 'Oman', 'Pakistan', 'Palau',\n",
       "       'Palestine', 'Panama', 'Papua New Guinea', 'Paraguay', 'Peru',\n",
       "       'Philippines', 'Pitcairn', 'Poland', 'Portugal', 'Puerto Rico',\n",
       "       'Qatar', 'Romania', 'Russia', 'Rwanda', 'Saint Helena',\n",
       "       'Saint Kitts and Nevis', 'Saint Lucia',\n",
       "       'Saint Pierre and Miquelon', 'Saint Vincent and the Grenadines',\n",
       "       'Samoa', 'San Marino', 'Sao Tome and Principe', 'Saudi Arabia',\n",
       "       'Senegal', 'Serbia', 'Seychelles', 'Sierra Leone', 'Singapore',\n",
       "       'Slovakia', 'Slovenia', 'Solomon Islands', 'Somalia',\n",
       "       'South Africa', 'South Korea', 'South Sudan', 'Spain', 'Sri Lanka',\n",
       "       'Sudan', 'Suriname', 'Sweden', 'Switzerland', 'Syria', 'Taiwan',\n",
       "       'Tajikistan', 'Tanzania', 'Thailand', 'Timor', 'Togo', 'Tokelau',\n",
       "       'Tonga', 'Trinidad and Tobago', 'Tunisia', 'Turkey',\n",
       "       'Turkmenistan', 'Turks and Caicos Islands', 'Tuvalu', 'Uganda',\n",
       "       'Ukraine', 'United Arab Emirates', 'United Kingdom',\n",
       "       'United States', 'United States Virgin Islands', 'Uruguay',\n",
       "       'Uzbekistan', 'Vanuatu', 'Vatican', 'Venezuela', 'Vietnam',\n",
       "       'Wallis and Futuna', 'Western Sahara', 'Yemen', 'Zambia',\n",
       "       'Zimbabwe'], dtype=object)"
      ]
     },
     "execution_count": 37,
     "metadata": {},
     "output_type": "execute_result"
    }
   ],
   "source": [
    "df['location'].unique()"
   ]
  },
  {
   "cell_type": "code",
   "execution_count": 38,
   "metadata": {},
   "outputs": [
    {
     "data": {
      "text/html": [
       "<div>\n",
       "<style scoped>\n",
       "    .dataframe tbody tr th:only-of-type {\n",
       "        vertical-align: middle;\n",
       "    }\n",
       "\n",
       "    .dataframe tbody tr th {\n",
       "        vertical-align: top;\n",
       "    }\n",
       "\n",
       "    .dataframe thead th {\n",
       "        text-align: right;\n",
       "    }\n",
       "</style>\n",
       "<table border=\"1\" class=\"dataframe\">\n",
       "  <thead>\n",
       "    <tr style=\"text-align: right;\">\n",
       "      <th></th>\n",
       "      <th>index</th>\n",
       "      <th>iso_code</th>\n",
       "      <th>continent</th>\n",
       "      <th>location</th>\n",
       "      <th>date</th>\n",
       "      <th>total_cases</th>\n",
       "      <th>new_cases</th>\n",
       "      <th>total_deaths</th>\n",
       "      <th>new_deaths</th>\n",
       "      <th>hosp_patients</th>\n",
       "      <th>...</th>\n",
       "      <th>people_vaccinated</th>\n",
       "      <th>people_fully_vaccinated</th>\n",
       "      <th>total_boosters</th>\n",
       "      <th>new_vaccinations</th>\n",
       "      <th>population</th>\n",
       "      <th>median_age</th>\n",
       "      <th>gdp_per_capita</th>\n",
       "      <th>life_expectancy</th>\n",
       "      <th>latitude</th>\n",
       "      <th>longitude</th>\n",
       "    </tr>\n",
       "  </thead>\n",
       "  <tbody>\n",
       "    <tr>\n",
       "      <th>41385</th>\n",
       "      <td>43877</td>\n",
       "      <td>CZE</td>\n",
       "      <td>Europe</td>\n",
       "      <td>Czechia</td>\n",
       "      <td>2020-03-01</td>\n",
       "      <td>3.0</td>\n",
       "      <td>3.0</td>\n",
       "      <td>NaN</td>\n",
       "      <td>NaN</td>\n",
       "      <td>NaN</td>\n",
       "      <td>...</td>\n",
       "      <td>NaN</td>\n",
       "      <td>NaN</td>\n",
       "      <td>NaN</td>\n",
       "      <td>NaN</td>\n",
       "      <td>10724553.0</td>\n",
       "      <td>43.3</td>\n",
       "      <td>32605.906</td>\n",
       "      <td>79.38</td>\n",
       "      <td>49.75</td>\n",
       "      <td>15.5</td>\n",
       "    </tr>\n",
       "    <tr>\n",
       "      <th>41386</th>\n",
       "      <td>43878</td>\n",
       "      <td>CZE</td>\n",
       "      <td>Europe</td>\n",
       "      <td>Czechia</td>\n",
       "      <td>2020-03-02</td>\n",
       "      <td>3.0</td>\n",
       "      <td>0.0</td>\n",
       "      <td>NaN</td>\n",
       "      <td>NaN</td>\n",
       "      <td>NaN</td>\n",
       "      <td>...</td>\n",
       "      <td>NaN</td>\n",
       "      <td>NaN</td>\n",
       "      <td>NaN</td>\n",
       "      <td>NaN</td>\n",
       "      <td>10724553.0</td>\n",
       "      <td>43.3</td>\n",
       "      <td>32605.906</td>\n",
       "      <td>79.38</td>\n",
       "      <td>49.75</td>\n",
       "      <td>15.5</td>\n",
       "    </tr>\n",
       "    <tr>\n",
       "      <th>41387</th>\n",
       "      <td>43879</td>\n",
       "      <td>CZE</td>\n",
       "      <td>Europe</td>\n",
       "      <td>Czechia</td>\n",
       "      <td>2020-03-03</td>\n",
       "      <td>5.0</td>\n",
       "      <td>2.0</td>\n",
       "      <td>NaN</td>\n",
       "      <td>NaN</td>\n",
       "      <td>NaN</td>\n",
       "      <td>...</td>\n",
       "      <td>NaN</td>\n",
       "      <td>NaN</td>\n",
       "      <td>NaN</td>\n",
       "      <td>NaN</td>\n",
       "      <td>10724553.0</td>\n",
       "      <td>43.3</td>\n",
       "      <td>32605.906</td>\n",
       "      <td>79.38</td>\n",
       "      <td>49.75</td>\n",
       "      <td>15.5</td>\n",
       "    </tr>\n",
       "    <tr>\n",
       "      <th>41388</th>\n",
       "      <td>43880</td>\n",
       "      <td>CZE</td>\n",
       "      <td>Europe</td>\n",
       "      <td>Czechia</td>\n",
       "      <td>2020-03-04</td>\n",
       "      <td>8.0</td>\n",
       "      <td>3.0</td>\n",
       "      <td>NaN</td>\n",
       "      <td>NaN</td>\n",
       "      <td>NaN</td>\n",
       "      <td>...</td>\n",
       "      <td>NaN</td>\n",
       "      <td>NaN</td>\n",
       "      <td>NaN</td>\n",
       "      <td>NaN</td>\n",
       "      <td>10724553.0</td>\n",
       "      <td>43.3</td>\n",
       "      <td>32605.906</td>\n",
       "      <td>79.38</td>\n",
       "      <td>49.75</td>\n",
       "      <td>15.5</td>\n",
       "    </tr>\n",
       "    <tr>\n",
       "      <th>41389</th>\n",
       "      <td>43881</td>\n",
       "      <td>CZE</td>\n",
       "      <td>Europe</td>\n",
       "      <td>Czechia</td>\n",
       "      <td>2020-03-05</td>\n",
       "      <td>12.0</td>\n",
       "      <td>4.0</td>\n",
       "      <td>NaN</td>\n",
       "      <td>NaN</td>\n",
       "      <td>NaN</td>\n",
       "      <td>...</td>\n",
       "      <td>NaN</td>\n",
       "      <td>NaN</td>\n",
       "      <td>NaN</td>\n",
       "      <td>NaN</td>\n",
       "      <td>10724553.0</td>\n",
       "      <td>43.3</td>\n",
       "      <td>32605.906</td>\n",
       "      <td>79.38</td>\n",
       "      <td>49.75</td>\n",
       "      <td>15.5</td>\n",
       "    </tr>\n",
       "    <tr>\n",
       "      <th>...</th>\n",
       "      <td>...</td>\n",
       "      <td>...</td>\n",
       "      <td>...</td>\n",
       "      <td>...</td>\n",
       "      <td>...</td>\n",
       "      <td>...</td>\n",
       "      <td>...</td>\n",
       "      <td>...</td>\n",
       "      <td>...</td>\n",
       "      <td>...</td>\n",
       "      <td>...</td>\n",
       "      <td>...</td>\n",
       "      <td>...</td>\n",
       "      <td>...</td>\n",
       "      <td>...</td>\n",
       "      <td>...</td>\n",
       "      <td>...</td>\n",
       "      <td>...</td>\n",
       "      <td>...</td>\n",
       "      <td>...</td>\n",
       "      <td>...</td>\n",
       "    </tr>\n",
       "    <tr>\n",
       "      <th>171833</th>\n",
       "      <td>180264</td>\n",
       "      <td>USA</td>\n",
       "      <td>North America</td>\n",
       "      <td>United States</td>\n",
       "      <td>2022-06-14</td>\n",
       "      <td>85758512.0</td>\n",
       "      <td>92072.0</td>\n",
       "      <td>1011925.0</td>\n",
       "      <td>382.0</td>\n",
       "      <td>26065.0</td>\n",
       "      <td>...</td>\n",
       "      <td>259194972.0</td>\n",
       "      <td>221920648.0</td>\n",
       "      <td>120729086.0</td>\n",
       "      <td>137908.0</td>\n",
       "      <td>332915074.0</td>\n",
       "      <td>38.3</td>\n",
       "      <td>54225.446</td>\n",
       "      <td>78.86</td>\n",
       "      <td>38.00</td>\n",
       "      <td>-97.0</td>\n",
       "    </tr>\n",
       "    <tr>\n",
       "      <th>171834</th>\n",
       "      <td>180265</td>\n",
       "      <td>USA</td>\n",
       "      <td>North America</td>\n",
       "      <td>United States</td>\n",
       "      <td>2022-06-15</td>\n",
       "      <td>85941290.0</td>\n",
       "      <td>182778.0</td>\n",
       "      <td>1012607.0</td>\n",
       "      <td>682.0</td>\n",
       "      <td>26406.0</td>\n",
       "      <td>...</td>\n",
       "      <td>259198178.0</td>\n",
       "      <td>221924152.0</td>\n",
       "      <td>120741050.0</td>\n",
       "      <td>19381.0</td>\n",
       "      <td>332915074.0</td>\n",
       "      <td>38.3</td>\n",
       "      <td>54225.446</td>\n",
       "      <td>78.86</td>\n",
       "      <td>38.00</td>\n",
       "      <td>-97.0</td>\n",
       "    </tr>\n",
       "    <tr>\n",
       "      <th>171835</th>\n",
       "      <td>180266</td>\n",
       "      <td>USA</td>\n",
       "      <td>North America</td>\n",
       "      <td>United States</td>\n",
       "      <td>2022-06-16</td>\n",
       "      <td>86057735.0</td>\n",
       "      <td>116445.0</td>\n",
       "      <td>1012647.0</td>\n",
       "      <td>40.0</td>\n",
       "      <td>26093.0</td>\n",
       "      <td>...</td>\n",
       "      <td>NaN</td>\n",
       "      <td>NaN</td>\n",
       "      <td>NaN</td>\n",
       "      <td>NaN</td>\n",
       "      <td>332915074.0</td>\n",
       "      <td>38.3</td>\n",
       "      <td>54225.446</td>\n",
       "      <td>78.86</td>\n",
       "      <td>38.00</td>\n",
       "      <td>-97.0</td>\n",
       "    </tr>\n",
       "    <tr>\n",
       "      <th>171836</th>\n",
       "      <td>180267</td>\n",
       "      <td>USA</td>\n",
       "      <td>North America</td>\n",
       "      <td>United States</td>\n",
       "      <td>2022-06-17</td>\n",
       "      <td>86216418.0</td>\n",
       "      <td>158683.0</td>\n",
       "      <td>1013358.0</td>\n",
       "      <td>711.0</td>\n",
       "      <td>NaN</td>\n",
       "      <td>...</td>\n",
       "      <td>NaN</td>\n",
       "      <td>NaN</td>\n",
       "      <td>NaN</td>\n",
       "      <td>NaN</td>\n",
       "      <td>332915074.0</td>\n",
       "      <td>38.3</td>\n",
       "      <td>54225.446</td>\n",
       "      <td>78.86</td>\n",
       "      <td>38.00</td>\n",
       "      <td>-97.0</td>\n",
       "    </tr>\n",
       "    <tr>\n",
       "      <th>171837</th>\n",
       "      <td>180268</td>\n",
       "      <td>USA</td>\n",
       "      <td>North America</td>\n",
       "      <td>United States</td>\n",
       "      <td>2022-06-18</td>\n",
       "      <td>86230982.0</td>\n",
       "      <td>14564.0</td>\n",
       "      <td>1013377.0</td>\n",
       "      <td>19.0</td>\n",
       "      <td>NaN</td>\n",
       "      <td>...</td>\n",
       "      <td>NaN</td>\n",
       "      <td>NaN</td>\n",
       "      <td>NaN</td>\n",
       "      <td>NaN</td>\n",
       "      <td>332915074.0</td>\n",
       "      <td>38.3</td>\n",
       "      <td>54225.446</td>\n",
       "      <td>78.86</td>\n",
       "      <td>38.00</td>\n",
       "      <td>-97.0</td>\n",
       "    </tr>\n",
       "  </tbody>\n",
       "</table>\n",
       "<p>1719 rows × 24 columns</p>\n",
       "</div>"
      ],
      "text/plain": [
       "         index iso_code      continent       location       date  total_cases  \\\n",
       "41385    43877      CZE         Europe        Czechia 2020-03-01          3.0   \n",
       "41386    43878      CZE         Europe        Czechia 2020-03-02          3.0   \n",
       "41387    43879      CZE         Europe        Czechia 2020-03-03          5.0   \n",
       "41388    43880      CZE         Europe        Czechia 2020-03-04          8.0   \n",
       "41389    43881      CZE         Europe        Czechia 2020-03-05         12.0   \n",
       "...        ...      ...            ...            ...        ...          ...   \n",
       "171833  180264      USA  North America  United States 2022-06-14   85758512.0   \n",
       "171834  180265      USA  North America  United States 2022-06-15   85941290.0   \n",
       "171835  180266      USA  North America  United States 2022-06-16   86057735.0   \n",
       "171836  180267      USA  North America  United States 2022-06-17   86216418.0   \n",
       "171837  180268      USA  North America  United States 2022-06-18   86230982.0   \n",
       "\n",
       "        new_cases  total_deaths  new_deaths  hosp_patients  ...  \\\n",
       "41385         3.0           NaN         NaN            NaN  ...   \n",
       "41386         0.0           NaN         NaN            NaN  ...   \n",
       "41387         2.0           NaN         NaN            NaN  ...   \n",
       "41388         3.0           NaN         NaN            NaN  ...   \n",
       "41389         4.0           NaN         NaN            NaN  ...   \n",
       "...           ...           ...         ...            ...  ...   \n",
       "171833    92072.0     1011925.0       382.0        26065.0  ...   \n",
       "171834   182778.0     1012607.0       682.0        26406.0  ...   \n",
       "171835   116445.0     1012647.0        40.0        26093.0  ...   \n",
       "171836   158683.0     1013358.0       711.0            NaN  ...   \n",
       "171837    14564.0     1013377.0        19.0            NaN  ...   \n",
       "\n",
       "        people_vaccinated  people_fully_vaccinated  total_boosters  \\\n",
       "41385                 NaN                      NaN             NaN   \n",
       "41386                 NaN                      NaN             NaN   \n",
       "41387                 NaN                      NaN             NaN   \n",
       "41388                 NaN                      NaN             NaN   \n",
       "41389                 NaN                      NaN             NaN   \n",
       "...                   ...                      ...             ...   \n",
       "171833        259194972.0              221920648.0     120729086.0   \n",
       "171834        259198178.0              221924152.0     120741050.0   \n",
       "171835                NaN                      NaN             NaN   \n",
       "171836                NaN                      NaN             NaN   \n",
       "171837                NaN                      NaN             NaN   \n",
       "\n",
       "        new_vaccinations   population  median_age  gdp_per_capita  \\\n",
       "41385                NaN   10724553.0        43.3       32605.906   \n",
       "41386                NaN   10724553.0        43.3       32605.906   \n",
       "41387                NaN   10724553.0        43.3       32605.906   \n",
       "41388                NaN   10724553.0        43.3       32605.906   \n",
       "41389                NaN   10724553.0        43.3       32605.906   \n",
       "...                  ...          ...         ...             ...   \n",
       "171833          137908.0  332915074.0        38.3       54225.446   \n",
       "171834           19381.0  332915074.0        38.3       54225.446   \n",
       "171835               NaN  332915074.0        38.3       54225.446   \n",
       "171836               NaN  332915074.0        38.3       54225.446   \n",
       "171837               NaN  332915074.0        38.3       54225.446   \n",
       "\n",
       "        life_expectancy  latitude  longitude  \n",
       "41385             79.38     49.75       15.5  \n",
       "41386             79.38     49.75       15.5  \n",
       "41387             79.38     49.75       15.5  \n",
       "41388             79.38     49.75       15.5  \n",
       "41389             79.38     49.75       15.5  \n",
       "...                 ...       ...        ...  \n",
       "171833            78.86     38.00      -97.0  \n",
       "171834            78.86     38.00      -97.0  \n",
       "171835            78.86     38.00      -97.0  \n",
       "171836            78.86     38.00      -97.0  \n",
       "171837            78.86     38.00      -97.0  \n",
       "\n",
       "[1719 rows x 24 columns]"
      ]
     },
     "execution_count": 38,
     "metadata": {},
     "output_type": "execute_result"
    }
   ],
   "source": [
    "df_new_cases = df[df[\"location\"].isin([\"Czechia\", \"United States\"])]\n",
    "df_new_cases\n"
   ]
  },
  {
   "cell_type": "code",
   "execution_count": 39,
   "metadata": {},
   "outputs": [
    {
     "data": {
      "application/vnd.plotly.v1+json": {
       "config": {
        "plotlyServerURL": "https://plot.ly"
       },
       "data": [
        {
         "hovertemplate": "Location=Czechia<br>Date=%{x}<br>Number of diagnosed cases=%{y}<extra></extra>",
         "legendgroup": "Czechia",
         "line": {
          "color": "red",
          "dash": "solid"
         },
         "marker": {
          "symbol": "circle"
         },
         "mode": "lines",
         "name": "Czechia",
         "showlegend": true,
         "type": "scattergl",
         "x": [
          "2020-03-01T00:00:00.000000000",
          "2020-03-02T00:00:00.000000000",
          "2020-03-03T00:00:00.000000000",
          "2020-03-04T00:00:00.000000000",
          "2020-03-05T00:00:00.000000000",
          "2020-03-06T00:00:00.000000000",
          "2020-03-07T00:00:00.000000000",
          "2020-03-08T00:00:00.000000000",
          "2020-03-09T00:00:00.000000000",
          "2020-03-10T00:00:00.000000000",
          "2020-03-11T00:00:00.000000000",
          "2020-03-12T00:00:00.000000000",
          "2020-03-13T00:00:00.000000000",
          "2020-03-14T00:00:00.000000000",
          "2020-03-15T00:00:00.000000000",
          "2020-03-16T00:00:00.000000000",
          "2020-03-17T00:00:00.000000000",
          "2020-03-18T00:00:00.000000000",
          "2020-03-19T00:00:00.000000000",
          "2020-03-20T00:00:00.000000000",
          "2020-03-21T00:00:00.000000000",
          "2020-03-22T00:00:00.000000000",
          "2020-03-23T00:00:00.000000000",
          "2020-03-24T00:00:00.000000000",
          "2020-03-25T00:00:00.000000000",
          "2020-03-26T00:00:00.000000000",
          "2020-03-27T00:00:00.000000000",
          "2020-03-28T00:00:00.000000000",
          "2020-03-29T00:00:00.000000000",
          "2020-03-30T00:00:00.000000000",
          "2020-03-31T00:00:00.000000000",
          "2020-04-01T00:00:00.000000000",
          "2020-04-02T00:00:00.000000000",
          "2020-04-03T00:00:00.000000000",
          "2020-04-04T00:00:00.000000000",
          "2020-04-05T00:00:00.000000000",
          "2020-04-06T00:00:00.000000000",
          "2020-04-07T00:00:00.000000000",
          "2020-04-08T00:00:00.000000000",
          "2020-04-09T00:00:00.000000000",
          "2020-04-10T00:00:00.000000000",
          "2020-04-11T00:00:00.000000000",
          "2020-04-12T00:00:00.000000000",
          "2020-04-13T00:00:00.000000000",
          "2020-04-14T00:00:00.000000000",
          "2020-04-15T00:00:00.000000000",
          "2020-04-16T00:00:00.000000000",
          "2020-04-17T00:00:00.000000000",
          "2020-04-18T00:00:00.000000000",
          "2020-04-19T00:00:00.000000000",
          "2020-04-20T00:00:00.000000000",
          "2020-04-21T00:00:00.000000000",
          "2020-04-22T00:00:00.000000000",
          "2020-04-23T00:00:00.000000000",
          "2020-04-24T00:00:00.000000000",
          "2020-04-25T00:00:00.000000000",
          "2020-04-26T00:00:00.000000000",
          "2020-04-27T00:00:00.000000000",
          "2020-04-28T00:00:00.000000000",
          "2020-04-29T00:00:00.000000000",
          "2020-04-30T00:00:00.000000000",
          "2020-05-01T00:00:00.000000000",
          "2020-05-02T00:00:00.000000000",
          "2020-05-03T00:00:00.000000000",
          "2020-05-04T00:00:00.000000000",
          "2020-05-05T00:00:00.000000000",
          "2020-05-06T00:00:00.000000000",
          "2020-05-07T00:00:00.000000000",
          "2020-05-08T00:00:00.000000000",
          "2020-05-09T00:00:00.000000000",
          "2020-05-10T00:00:00.000000000",
          "2020-05-11T00:00:00.000000000",
          "2020-05-12T00:00:00.000000000",
          "2020-05-13T00:00:00.000000000",
          "2020-05-14T00:00:00.000000000",
          "2020-05-15T00:00:00.000000000",
          "2020-05-16T00:00:00.000000000",
          "2020-05-17T00:00:00.000000000",
          "2020-05-18T00:00:00.000000000",
          "2020-05-19T00:00:00.000000000",
          "2020-05-20T00:00:00.000000000",
          "2020-05-21T00:00:00.000000000",
          "2020-05-22T00:00:00.000000000",
          "2020-05-23T00:00:00.000000000",
          "2020-05-24T00:00:00.000000000",
          "2020-05-25T00:00:00.000000000",
          "2020-05-26T00:00:00.000000000",
          "2020-05-27T00:00:00.000000000",
          "2020-05-28T00:00:00.000000000",
          "2020-05-29T00:00:00.000000000",
          "2020-05-30T00:00:00.000000000",
          "2020-05-31T00:00:00.000000000",
          "2020-06-01T00:00:00.000000000",
          "2020-06-02T00:00:00.000000000",
          "2020-06-03T00:00:00.000000000",
          "2020-06-04T00:00:00.000000000",
          "2020-06-05T00:00:00.000000000",
          "2020-06-06T00:00:00.000000000",
          "2020-06-07T00:00:00.000000000",
          "2020-06-08T00:00:00.000000000",
          "2020-06-09T00:00:00.000000000",
          "2020-06-10T00:00:00.000000000",
          "2020-06-11T00:00:00.000000000",
          "2020-06-12T00:00:00.000000000",
          "2020-06-13T00:00:00.000000000",
          "2020-06-14T00:00:00.000000000",
          "2020-06-15T00:00:00.000000000",
          "2020-06-16T00:00:00.000000000",
          "2020-06-17T00:00:00.000000000",
          "2020-06-18T00:00:00.000000000",
          "2020-06-19T00:00:00.000000000",
          "2020-06-20T00:00:00.000000000",
          "2020-06-21T00:00:00.000000000",
          "2020-06-22T00:00:00.000000000",
          "2020-06-23T00:00:00.000000000",
          "2020-06-24T00:00:00.000000000",
          "2020-06-25T00:00:00.000000000",
          "2020-06-26T00:00:00.000000000",
          "2020-06-27T00:00:00.000000000",
          "2020-06-28T00:00:00.000000000",
          "2020-06-29T00:00:00.000000000",
          "2020-06-30T00:00:00.000000000",
          "2020-07-01T00:00:00.000000000",
          "2020-07-02T00:00:00.000000000",
          "2020-07-03T00:00:00.000000000",
          "2020-07-04T00:00:00.000000000",
          "2020-07-05T00:00:00.000000000",
          "2020-07-06T00:00:00.000000000",
          "2020-07-07T00:00:00.000000000",
          "2020-07-08T00:00:00.000000000",
          "2020-07-09T00:00:00.000000000",
          "2020-07-10T00:00:00.000000000",
          "2020-07-11T00:00:00.000000000",
          "2020-07-12T00:00:00.000000000",
          "2020-07-13T00:00:00.000000000",
          "2020-07-14T00:00:00.000000000",
          "2020-07-15T00:00:00.000000000",
          "2020-07-16T00:00:00.000000000",
          "2020-07-17T00:00:00.000000000",
          "2020-07-18T00:00:00.000000000",
          "2020-07-19T00:00:00.000000000",
          "2020-07-20T00:00:00.000000000",
          "2020-07-21T00:00:00.000000000",
          "2020-07-22T00:00:00.000000000",
          "2020-07-23T00:00:00.000000000",
          "2020-07-24T00:00:00.000000000",
          "2020-07-25T00:00:00.000000000",
          "2020-07-26T00:00:00.000000000",
          "2020-07-27T00:00:00.000000000",
          "2020-07-28T00:00:00.000000000",
          "2020-07-29T00:00:00.000000000",
          "2020-07-30T00:00:00.000000000",
          "2020-07-31T00:00:00.000000000",
          "2020-08-01T00:00:00.000000000",
          "2020-08-02T00:00:00.000000000",
          "2020-08-03T00:00:00.000000000",
          "2020-08-04T00:00:00.000000000",
          "2020-08-05T00:00:00.000000000",
          "2020-08-06T00:00:00.000000000",
          "2020-08-07T00:00:00.000000000",
          "2020-08-08T00:00:00.000000000",
          "2020-08-09T00:00:00.000000000",
          "2020-08-10T00:00:00.000000000",
          "2020-08-11T00:00:00.000000000",
          "2020-08-12T00:00:00.000000000",
          "2020-08-13T00:00:00.000000000",
          "2020-08-14T00:00:00.000000000",
          "2020-08-15T00:00:00.000000000",
          "2020-08-16T00:00:00.000000000",
          "2020-08-17T00:00:00.000000000",
          "2020-08-18T00:00:00.000000000",
          "2020-08-19T00:00:00.000000000",
          "2020-08-20T00:00:00.000000000",
          "2020-08-21T00:00:00.000000000",
          "2020-08-22T00:00:00.000000000",
          "2020-08-23T00:00:00.000000000",
          "2020-08-24T00:00:00.000000000",
          "2020-08-25T00:00:00.000000000",
          "2020-08-26T00:00:00.000000000",
          "2020-08-27T00:00:00.000000000",
          "2020-08-28T00:00:00.000000000",
          "2020-08-29T00:00:00.000000000",
          "2020-08-30T00:00:00.000000000",
          "2020-08-31T00:00:00.000000000",
          "2020-09-01T00:00:00.000000000",
          "2020-09-02T00:00:00.000000000",
          "2020-09-03T00:00:00.000000000",
          "2020-09-04T00:00:00.000000000",
          "2020-09-05T00:00:00.000000000",
          "2020-09-06T00:00:00.000000000",
          "2020-09-07T00:00:00.000000000",
          "2020-09-08T00:00:00.000000000",
          "2020-09-09T00:00:00.000000000",
          "2020-09-10T00:00:00.000000000",
          "2020-09-11T00:00:00.000000000",
          "2020-09-12T00:00:00.000000000",
          "2020-09-13T00:00:00.000000000",
          "2020-09-14T00:00:00.000000000",
          "2020-09-15T00:00:00.000000000",
          "2020-09-16T00:00:00.000000000",
          "2020-09-17T00:00:00.000000000",
          "2020-09-18T00:00:00.000000000",
          "2020-09-19T00:00:00.000000000",
          "2020-09-20T00:00:00.000000000",
          "2020-09-21T00:00:00.000000000",
          "2020-09-22T00:00:00.000000000",
          "2020-09-23T00:00:00.000000000",
          "2020-09-24T00:00:00.000000000",
          "2020-09-25T00:00:00.000000000",
          "2020-09-26T00:00:00.000000000",
          "2020-09-27T00:00:00.000000000",
          "2020-09-28T00:00:00.000000000",
          "2020-09-29T00:00:00.000000000",
          "2020-09-30T00:00:00.000000000",
          "2020-10-01T00:00:00.000000000",
          "2020-10-02T00:00:00.000000000",
          "2020-10-03T00:00:00.000000000",
          "2020-10-04T00:00:00.000000000",
          "2020-10-05T00:00:00.000000000",
          "2020-10-06T00:00:00.000000000",
          "2020-10-07T00:00:00.000000000",
          "2020-10-08T00:00:00.000000000",
          "2020-10-09T00:00:00.000000000",
          "2020-10-10T00:00:00.000000000",
          "2020-10-11T00:00:00.000000000",
          "2020-10-12T00:00:00.000000000",
          "2020-10-13T00:00:00.000000000",
          "2020-10-14T00:00:00.000000000",
          "2020-10-15T00:00:00.000000000",
          "2020-10-16T00:00:00.000000000",
          "2020-10-17T00:00:00.000000000",
          "2020-10-18T00:00:00.000000000",
          "2020-10-19T00:00:00.000000000",
          "2020-10-20T00:00:00.000000000",
          "2020-10-21T00:00:00.000000000",
          "2020-10-22T00:00:00.000000000",
          "2020-10-23T00:00:00.000000000",
          "2020-10-24T00:00:00.000000000",
          "2020-10-25T00:00:00.000000000",
          "2020-10-26T00:00:00.000000000",
          "2020-10-27T00:00:00.000000000",
          "2020-10-28T00:00:00.000000000",
          "2020-10-29T00:00:00.000000000",
          "2020-10-30T00:00:00.000000000",
          "2020-10-31T00:00:00.000000000",
          "2020-11-01T00:00:00.000000000",
          "2020-11-02T00:00:00.000000000",
          "2020-11-03T00:00:00.000000000",
          "2020-11-04T00:00:00.000000000",
          "2020-11-05T00:00:00.000000000",
          "2020-11-06T00:00:00.000000000",
          "2020-11-07T00:00:00.000000000",
          "2020-11-08T00:00:00.000000000",
          "2020-11-09T00:00:00.000000000",
          "2020-11-10T00:00:00.000000000",
          "2020-11-11T00:00:00.000000000",
          "2020-11-12T00:00:00.000000000",
          "2020-11-13T00:00:00.000000000",
          "2020-11-14T00:00:00.000000000",
          "2020-11-15T00:00:00.000000000",
          "2020-11-16T00:00:00.000000000",
          "2020-11-17T00:00:00.000000000",
          "2020-11-18T00:00:00.000000000",
          "2020-11-19T00:00:00.000000000",
          "2020-11-20T00:00:00.000000000",
          "2020-11-21T00:00:00.000000000",
          "2020-11-22T00:00:00.000000000",
          "2020-11-23T00:00:00.000000000",
          "2020-11-24T00:00:00.000000000",
          "2020-11-25T00:00:00.000000000",
          "2020-11-26T00:00:00.000000000",
          "2020-11-27T00:00:00.000000000",
          "2020-11-28T00:00:00.000000000",
          "2020-11-29T00:00:00.000000000",
          "2020-11-30T00:00:00.000000000",
          "2020-12-01T00:00:00.000000000",
          "2020-12-02T00:00:00.000000000",
          "2020-12-03T00:00:00.000000000",
          "2020-12-04T00:00:00.000000000",
          "2020-12-05T00:00:00.000000000",
          "2020-12-06T00:00:00.000000000",
          "2020-12-07T00:00:00.000000000",
          "2020-12-08T00:00:00.000000000",
          "2020-12-09T00:00:00.000000000",
          "2020-12-10T00:00:00.000000000",
          "2020-12-11T00:00:00.000000000",
          "2020-12-12T00:00:00.000000000",
          "2020-12-13T00:00:00.000000000",
          "2020-12-14T00:00:00.000000000",
          "2020-12-15T00:00:00.000000000",
          "2020-12-16T00:00:00.000000000",
          "2020-12-17T00:00:00.000000000",
          "2020-12-18T00:00:00.000000000",
          "2020-12-19T00:00:00.000000000",
          "2020-12-20T00:00:00.000000000",
          "2020-12-21T00:00:00.000000000",
          "2020-12-22T00:00:00.000000000",
          "2020-12-23T00:00:00.000000000",
          "2020-12-24T00:00:00.000000000",
          "2020-12-25T00:00:00.000000000",
          "2020-12-26T00:00:00.000000000",
          "2020-12-27T00:00:00.000000000",
          "2020-12-28T00:00:00.000000000",
          "2020-12-29T00:00:00.000000000",
          "2020-12-30T00:00:00.000000000",
          "2020-12-31T00:00:00.000000000",
          "2021-01-01T00:00:00.000000000",
          "2021-01-02T00:00:00.000000000",
          "2021-01-03T00:00:00.000000000",
          "2021-01-04T00:00:00.000000000",
          "2021-01-05T00:00:00.000000000",
          "2021-01-06T00:00:00.000000000",
          "2021-01-07T00:00:00.000000000",
          "2021-01-08T00:00:00.000000000",
          "2021-01-09T00:00:00.000000000",
          "2021-01-10T00:00:00.000000000",
          "2021-01-11T00:00:00.000000000",
          "2021-01-12T00:00:00.000000000",
          "2021-01-13T00:00:00.000000000",
          "2021-01-14T00:00:00.000000000",
          "2021-01-15T00:00:00.000000000",
          "2021-01-16T00:00:00.000000000",
          "2021-01-17T00:00:00.000000000",
          "2021-01-18T00:00:00.000000000",
          "2021-01-19T00:00:00.000000000",
          "2021-01-20T00:00:00.000000000",
          "2021-01-21T00:00:00.000000000",
          "2021-01-22T00:00:00.000000000",
          "2021-01-23T00:00:00.000000000",
          "2021-01-24T00:00:00.000000000",
          "2021-01-25T00:00:00.000000000",
          "2021-01-26T00:00:00.000000000",
          "2021-01-27T00:00:00.000000000",
          "2021-01-28T00:00:00.000000000",
          "2021-01-29T00:00:00.000000000",
          "2021-01-30T00:00:00.000000000",
          "2021-01-31T00:00:00.000000000",
          "2021-02-01T00:00:00.000000000",
          "2021-02-02T00:00:00.000000000",
          "2021-02-03T00:00:00.000000000",
          "2021-02-04T00:00:00.000000000",
          "2021-02-05T00:00:00.000000000",
          "2021-02-06T00:00:00.000000000",
          "2021-02-07T00:00:00.000000000",
          "2021-02-08T00:00:00.000000000",
          "2021-02-09T00:00:00.000000000",
          "2021-02-10T00:00:00.000000000",
          "2021-02-11T00:00:00.000000000",
          "2021-02-12T00:00:00.000000000",
          "2021-02-13T00:00:00.000000000",
          "2021-02-14T00:00:00.000000000",
          "2021-02-15T00:00:00.000000000",
          "2021-02-16T00:00:00.000000000",
          "2021-02-17T00:00:00.000000000",
          "2021-02-18T00:00:00.000000000",
          "2021-02-19T00:00:00.000000000",
          "2021-02-20T00:00:00.000000000",
          "2021-02-21T00:00:00.000000000",
          "2021-02-22T00:00:00.000000000",
          "2021-02-23T00:00:00.000000000",
          "2021-02-24T00:00:00.000000000",
          "2021-02-25T00:00:00.000000000",
          "2021-02-26T00:00:00.000000000",
          "2021-02-27T00:00:00.000000000",
          "2021-02-28T00:00:00.000000000",
          "2021-03-01T00:00:00.000000000",
          "2021-03-02T00:00:00.000000000",
          "2021-03-03T00:00:00.000000000",
          "2021-03-04T00:00:00.000000000",
          "2021-03-05T00:00:00.000000000",
          "2021-03-06T00:00:00.000000000",
          "2021-03-07T00:00:00.000000000",
          "2021-03-08T00:00:00.000000000",
          "2021-03-09T00:00:00.000000000",
          "2021-03-10T00:00:00.000000000",
          "2021-03-11T00:00:00.000000000",
          "2021-03-12T00:00:00.000000000",
          "2021-03-13T00:00:00.000000000",
          "2021-03-14T00:00:00.000000000",
          "2021-03-15T00:00:00.000000000",
          "2021-03-16T00:00:00.000000000",
          "2021-03-17T00:00:00.000000000",
          "2021-03-18T00:00:00.000000000",
          "2021-03-19T00:00:00.000000000",
          "2021-03-20T00:00:00.000000000",
          "2021-03-21T00:00:00.000000000",
          "2021-03-22T00:00:00.000000000",
          "2021-03-23T00:00:00.000000000",
          "2021-03-24T00:00:00.000000000",
          "2021-03-25T00:00:00.000000000",
          "2021-03-26T00:00:00.000000000",
          "2021-03-27T00:00:00.000000000",
          "2021-03-28T00:00:00.000000000",
          "2021-03-29T00:00:00.000000000",
          "2021-03-30T00:00:00.000000000",
          "2021-03-31T00:00:00.000000000",
          "2021-04-01T00:00:00.000000000",
          "2021-04-02T00:00:00.000000000",
          "2021-04-03T00:00:00.000000000",
          "2021-04-04T00:00:00.000000000",
          "2021-04-05T00:00:00.000000000",
          "2021-04-06T00:00:00.000000000",
          "2021-04-07T00:00:00.000000000",
          "2021-04-08T00:00:00.000000000",
          "2021-04-09T00:00:00.000000000",
          "2021-04-10T00:00:00.000000000",
          "2021-04-11T00:00:00.000000000",
          "2021-04-12T00:00:00.000000000",
          "2021-04-13T00:00:00.000000000",
          "2021-04-14T00:00:00.000000000",
          "2021-04-15T00:00:00.000000000",
          "2021-04-16T00:00:00.000000000",
          "2021-04-17T00:00:00.000000000",
          "2021-04-18T00:00:00.000000000",
          "2021-04-19T00:00:00.000000000",
          "2021-04-20T00:00:00.000000000",
          "2021-04-21T00:00:00.000000000",
          "2021-04-22T00:00:00.000000000",
          "2021-04-23T00:00:00.000000000",
          "2021-04-24T00:00:00.000000000",
          "2021-04-25T00:00:00.000000000",
          "2021-04-26T00:00:00.000000000",
          "2021-04-27T00:00:00.000000000",
          "2021-04-28T00:00:00.000000000",
          "2021-04-29T00:00:00.000000000",
          "2021-04-30T00:00:00.000000000",
          "2021-05-01T00:00:00.000000000",
          "2021-05-02T00:00:00.000000000",
          "2021-05-03T00:00:00.000000000",
          "2021-05-04T00:00:00.000000000",
          "2021-05-05T00:00:00.000000000",
          "2021-05-06T00:00:00.000000000",
          "2021-05-07T00:00:00.000000000",
          "2021-05-08T00:00:00.000000000",
          "2021-05-09T00:00:00.000000000",
          "2021-05-10T00:00:00.000000000",
          "2021-05-11T00:00:00.000000000",
          "2021-05-12T00:00:00.000000000",
          "2021-05-13T00:00:00.000000000",
          "2021-05-14T00:00:00.000000000",
          "2021-05-15T00:00:00.000000000",
          "2021-05-16T00:00:00.000000000",
          "2021-05-17T00:00:00.000000000",
          "2021-05-18T00:00:00.000000000",
          "2021-05-19T00:00:00.000000000",
          "2021-05-20T00:00:00.000000000",
          "2021-05-21T00:00:00.000000000",
          "2021-05-22T00:00:00.000000000",
          "2021-05-23T00:00:00.000000000",
          "2021-05-24T00:00:00.000000000",
          "2021-05-25T00:00:00.000000000",
          "2021-05-26T00:00:00.000000000",
          "2021-05-27T00:00:00.000000000",
          "2021-05-28T00:00:00.000000000",
          "2021-05-29T00:00:00.000000000",
          "2021-05-30T00:00:00.000000000",
          "2021-05-31T00:00:00.000000000",
          "2021-06-01T00:00:00.000000000",
          "2021-06-02T00:00:00.000000000",
          "2021-06-03T00:00:00.000000000",
          "2021-06-04T00:00:00.000000000",
          "2021-06-05T00:00:00.000000000",
          "2021-06-06T00:00:00.000000000",
          "2021-06-07T00:00:00.000000000",
          "2021-06-08T00:00:00.000000000",
          "2021-06-09T00:00:00.000000000",
          "2021-06-10T00:00:00.000000000",
          "2021-06-11T00:00:00.000000000",
          "2021-06-12T00:00:00.000000000",
          "2021-06-13T00:00:00.000000000",
          "2021-06-14T00:00:00.000000000",
          "2021-06-15T00:00:00.000000000",
          "2021-06-16T00:00:00.000000000",
          "2021-06-17T00:00:00.000000000",
          "2021-06-18T00:00:00.000000000",
          "2021-06-19T00:00:00.000000000",
          "2021-06-20T00:00:00.000000000",
          "2021-06-21T00:00:00.000000000",
          "2021-06-22T00:00:00.000000000",
          "2021-06-23T00:00:00.000000000",
          "2021-06-24T00:00:00.000000000",
          "2021-06-25T00:00:00.000000000",
          "2021-06-26T00:00:00.000000000",
          "2021-06-27T00:00:00.000000000",
          "2021-06-28T00:00:00.000000000",
          "2021-06-29T00:00:00.000000000",
          "2021-06-30T00:00:00.000000000",
          "2021-07-01T00:00:00.000000000",
          "2021-07-02T00:00:00.000000000",
          "2021-07-03T00:00:00.000000000",
          "2021-07-04T00:00:00.000000000",
          "2021-07-05T00:00:00.000000000",
          "2021-07-06T00:00:00.000000000",
          "2021-07-07T00:00:00.000000000",
          "2021-07-08T00:00:00.000000000",
          "2021-07-09T00:00:00.000000000",
          "2021-07-10T00:00:00.000000000",
          "2021-07-11T00:00:00.000000000",
          "2021-07-12T00:00:00.000000000",
          "2021-07-13T00:00:00.000000000",
          "2021-07-14T00:00:00.000000000",
          "2021-07-15T00:00:00.000000000",
          "2021-07-16T00:00:00.000000000",
          "2021-07-17T00:00:00.000000000",
          "2021-07-18T00:00:00.000000000",
          "2021-07-19T00:00:00.000000000",
          "2021-07-20T00:00:00.000000000",
          "2021-07-21T00:00:00.000000000",
          "2021-07-22T00:00:00.000000000",
          "2021-07-23T00:00:00.000000000",
          "2021-07-24T00:00:00.000000000",
          "2021-07-25T00:00:00.000000000",
          "2021-07-26T00:00:00.000000000",
          "2021-07-27T00:00:00.000000000",
          "2021-07-28T00:00:00.000000000",
          "2021-07-29T00:00:00.000000000",
          "2021-07-30T00:00:00.000000000",
          "2021-07-31T00:00:00.000000000",
          "2021-08-01T00:00:00.000000000",
          "2021-08-02T00:00:00.000000000",
          "2021-08-03T00:00:00.000000000",
          "2021-08-04T00:00:00.000000000",
          "2021-08-05T00:00:00.000000000",
          "2021-08-06T00:00:00.000000000",
          "2021-08-07T00:00:00.000000000",
          "2021-08-08T00:00:00.000000000",
          "2021-08-09T00:00:00.000000000",
          "2021-08-10T00:00:00.000000000",
          "2021-08-11T00:00:00.000000000",
          "2021-08-12T00:00:00.000000000",
          "2021-08-13T00:00:00.000000000",
          "2021-08-14T00:00:00.000000000",
          "2021-08-15T00:00:00.000000000",
          "2021-08-16T00:00:00.000000000",
          "2021-08-17T00:00:00.000000000",
          "2021-08-18T00:00:00.000000000",
          "2021-08-19T00:00:00.000000000",
          "2021-08-20T00:00:00.000000000",
          "2021-08-21T00:00:00.000000000",
          "2021-08-22T00:00:00.000000000",
          "2021-08-23T00:00:00.000000000",
          "2021-08-24T00:00:00.000000000",
          "2021-08-25T00:00:00.000000000",
          "2021-08-26T00:00:00.000000000",
          "2021-08-27T00:00:00.000000000",
          "2021-08-28T00:00:00.000000000",
          "2021-08-29T00:00:00.000000000",
          "2021-08-30T00:00:00.000000000",
          "2021-08-31T00:00:00.000000000",
          "2021-09-01T00:00:00.000000000",
          "2021-09-02T00:00:00.000000000",
          "2021-09-03T00:00:00.000000000",
          "2021-09-04T00:00:00.000000000",
          "2021-09-05T00:00:00.000000000",
          "2021-09-06T00:00:00.000000000",
          "2021-09-07T00:00:00.000000000",
          "2021-09-08T00:00:00.000000000",
          "2021-09-09T00:00:00.000000000",
          "2021-09-10T00:00:00.000000000",
          "2021-09-11T00:00:00.000000000",
          "2021-09-12T00:00:00.000000000",
          "2021-09-13T00:00:00.000000000",
          "2021-09-14T00:00:00.000000000",
          "2021-09-15T00:00:00.000000000",
          "2021-09-16T00:00:00.000000000",
          "2021-09-17T00:00:00.000000000",
          "2021-09-18T00:00:00.000000000",
          "2021-09-19T00:00:00.000000000",
          "2021-09-20T00:00:00.000000000",
          "2021-09-21T00:00:00.000000000",
          "2021-09-22T00:00:00.000000000",
          "2021-09-23T00:00:00.000000000",
          "2021-09-24T00:00:00.000000000",
          "2021-09-25T00:00:00.000000000",
          "2021-09-26T00:00:00.000000000",
          "2021-09-27T00:00:00.000000000",
          "2021-09-28T00:00:00.000000000",
          "2021-09-29T00:00:00.000000000",
          "2021-09-30T00:00:00.000000000",
          "2021-10-01T00:00:00.000000000",
          "2021-10-02T00:00:00.000000000",
          "2021-10-03T00:00:00.000000000",
          "2021-10-04T00:00:00.000000000",
          "2021-10-05T00:00:00.000000000",
          "2021-10-06T00:00:00.000000000",
          "2021-10-07T00:00:00.000000000",
          "2021-10-08T00:00:00.000000000",
          "2021-10-09T00:00:00.000000000",
          "2021-10-10T00:00:00.000000000",
          "2021-10-11T00:00:00.000000000",
          "2021-10-12T00:00:00.000000000",
          "2021-10-13T00:00:00.000000000",
          "2021-10-14T00:00:00.000000000",
          "2021-10-15T00:00:00.000000000",
          "2021-10-16T00:00:00.000000000",
          "2021-10-17T00:00:00.000000000",
          "2021-10-18T00:00:00.000000000",
          "2021-10-19T00:00:00.000000000",
          "2021-10-20T00:00:00.000000000",
          "2021-10-21T00:00:00.000000000",
          "2021-10-22T00:00:00.000000000",
          "2021-10-23T00:00:00.000000000",
          "2021-10-24T00:00:00.000000000",
          "2021-10-25T00:00:00.000000000",
          "2021-10-26T00:00:00.000000000",
          "2021-10-27T00:00:00.000000000",
          "2021-10-28T00:00:00.000000000",
          "2021-10-29T00:00:00.000000000",
          "2021-10-30T00:00:00.000000000",
          "2021-10-31T00:00:00.000000000",
          "2021-11-01T00:00:00.000000000",
          "2021-11-02T00:00:00.000000000",
          "2021-11-03T00:00:00.000000000",
          "2021-11-04T00:00:00.000000000",
          "2021-11-05T00:00:00.000000000",
          "2021-11-06T00:00:00.000000000",
          "2021-11-07T00:00:00.000000000",
          "2021-11-08T00:00:00.000000000",
          "2021-11-09T00:00:00.000000000",
          "2021-11-10T00:00:00.000000000",
          "2021-11-11T00:00:00.000000000",
          "2021-11-12T00:00:00.000000000",
          "2021-11-13T00:00:00.000000000",
          "2021-11-14T00:00:00.000000000",
          "2021-11-15T00:00:00.000000000",
          "2021-11-16T00:00:00.000000000",
          "2021-11-17T00:00:00.000000000",
          "2021-11-18T00:00:00.000000000",
          "2021-11-19T00:00:00.000000000",
          "2021-11-20T00:00:00.000000000",
          "2021-11-21T00:00:00.000000000",
          "2021-11-22T00:00:00.000000000",
          "2021-11-23T00:00:00.000000000",
          "2021-11-24T00:00:00.000000000",
          "2021-11-25T00:00:00.000000000",
          "2021-11-26T00:00:00.000000000",
          "2021-11-27T00:00:00.000000000",
          "2021-11-28T00:00:00.000000000",
          "2021-11-29T00:00:00.000000000",
          "2021-11-30T00:00:00.000000000",
          "2021-12-01T00:00:00.000000000",
          "2021-12-02T00:00:00.000000000",
          "2021-12-03T00:00:00.000000000",
          "2021-12-04T00:00:00.000000000",
          "2021-12-05T00:00:00.000000000",
          "2021-12-06T00:00:00.000000000",
          "2021-12-07T00:00:00.000000000",
          "2021-12-08T00:00:00.000000000",
          "2021-12-09T00:00:00.000000000",
          "2021-12-10T00:00:00.000000000",
          "2021-12-11T00:00:00.000000000",
          "2021-12-12T00:00:00.000000000",
          "2021-12-13T00:00:00.000000000",
          "2021-12-14T00:00:00.000000000",
          "2021-12-15T00:00:00.000000000",
          "2021-12-16T00:00:00.000000000",
          "2021-12-17T00:00:00.000000000",
          "2021-12-18T00:00:00.000000000",
          "2021-12-19T00:00:00.000000000",
          "2021-12-20T00:00:00.000000000",
          "2021-12-21T00:00:00.000000000",
          "2021-12-22T00:00:00.000000000",
          "2021-12-23T00:00:00.000000000",
          "2021-12-24T00:00:00.000000000",
          "2021-12-25T00:00:00.000000000",
          "2021-12-26T00:00:00.000000000",
          "2021-12-27T00:00:00.000000000",
          "2021-12-28T00:00:00.000000000",
          "2021-12-29T00:00:00.000000000",
          "2021-12-30T00:00:00.000000000",
          "2021-12-31T00:00:00.000000000",
          "2022-01-01T00:00:00.000000000",
          "2022-01-02T00:00:00.000000000",
          "2022-01-03T00:00:00.000000000",
          "2022-01-04T00:00:00.000000000",
          "2022-01-05T00:00:00.000000000",
          "2022-01-06T00:00:00.000000000",
          "2022-01-07T00:00:00.000000000",
          "2022-01-08T00:00:00.000000000",
          "2022-01-09T00:00:00.000000000",
          "2022-01-10T00:00:00.000000000",
          "2022-01-11T00:00:00.000000000",
          "2022-01-12T00:00:00.000000000",
          "2022-01-13T00:00:00.000000000",
          "2022-01-14T00:00:00.000000000",
          "2022-01-15T00:00:00.000000000",
          "2022-01-16T00:00:00.000000000",
          "2022-01-17T00:00:00.000000000",
          "2022-01-18T00:00:00.000000000",
          "2022-01-19T00:00:00.000000000",
          "2022-01-20T00:00:00.000000000",
          "2022-01-21T00:00:00.000000000",
          "2022-01-22T00:00:00.000000000",
          "2022-01-23T00:00:00.000000000",
          "2022-01-24T00:00:00.000000000",
          "2022-01-25T00:00:00.000000000",
          "2022-01-26T00:00:00.000000000",
          "2022-01-27T00:00:00.000000000",
          "2022-01-28T00:00:00.000000000",
          "2022-01-29T00:00:00.000000000",
          "2022-01-30T00:00:00.000000000",
          "2022-01-31T00:00:00.000000000",
          "2022-02-01T00:00:00.000000000",
          "2022-02-02T00:00:00.000000000",
          "2022-02-03T00:00:00.000000000",
          "2022-02-04T00:00:00.000000000",
          "2022-02-05T00:00:00.000000000",
          "2022-02-06T00:00:00.000000000",
          "2022-02-07T00:00:00.000000000",
          "2022-02-08T00:00:00.000000000",
          "2022-02-09T00:00:00.000000000",
          "2022-02-10T00:00:00.000000000",
          "2022-02-11T00:00:00.000000000",
          "2022-02-12T00:00:00.000000000",
          "2022-02-13T00:00:00.000000000",
          "2022-02-14T00:00:00.000000000",
          "2022-02-15T00:00:00.000000000",
          "2022-02-16T00:00:00.000000000",
          "2022-02-17T00:00:00.000000000",
          "2022-02-18T00:00:00.000000000",
          "2022-02-19T00:00:00.000000000",
          "2022-02-20T00:00:00.000000000",
          "2022-02-21T00:00:00.000000000",
          "2022-02-22T00:00:00.000000000",
          "2022-02-23T00:00:00.000000000",
          "2022-02-24T00:00:00.000000000",
          "2022-02-25T00:00:00.000000000",
          "2022-02-26T00:00:00.000000000",
          "2022-02-27T00:00:00.000000000",
          "2022-02-28T00:00:00.000000000",
          "2022-03-01T00:00:00.000000000",
          "2022-03-02T00:00:00.000000000",
          "2022-03-03T00:00:00.000000000",
          "2022-03-04T00:00:00.000000000",
          "2022-03-05T00:00:00.000000000",
          "2022-03-06T00:00:00.000000000",
          "2022-03-07T00:00:00.000000000",
          "2022-03-08T00:00:00.000000000",
          "2022-03-09T00:00:00.000000000",
          "2022-03-10T00:00:00.000000000",
          "2022-03-11T00:00:00.000000000",
          "2022-03-12T00:00:00.000000000",
          "2022-03-13T00:00:00.000000000",
          "2022-03-14T00:00:00.000000000",
          "2022-03-15T00:00:00.000000000",
          "2022-03-16T00:00:00.000000000",
          "2022-03-17T00:00:00.000000000",
          "2022-03-18T00:00:00.000000000",
          "2022-03-19T00:00:00.000000000",
          "2022-03-20T00:00:00.000000000",
          "2022-03-21T00:00:00.000000000",
          "2022-03-22T00:00:00.000000000",
          "2022-03-23T00:00:00.000000000",
          "2022-03-24T00:00:00.000000000",
          "2022-03-25T00:00:00.000000000",
          "2022-03-26T00:00:00.000000000",
          "2022-03-27T00:00:00.000000000",
          "2022-03-28T00:00:00.000000000",
          "2022-03-29T00:00:00.000000000",
          "2022-03-30T00:00:00.000000000",
          "2022-03-31T00:00:00.000000000",
          "2022-04-01T00:00:00.000000000",
          "2022-04-02T00:00:00.000000000",
          "2022-04-03T00:00:00.000000000",
          "2022-04-04T00:00:00.000000000",
          "2022-04-05T00:00:00.000000000",
          "2022-04-06T00:00:00.000000000",
          "2022-04-07T00:00:00.000000000",
          "2022-04-08T00:00:00.000000000",
          "2022-04-09T00:00:00.000000000",
          "2022-04-10T00:00:00.000000000",
          "2022-04-11T00:00:00.000000000",
          "2022-04-12T00:00:00.000000000",
          "2022-04-13T00:00:00.000000000",
          "2022-04-14T00:00:00.000000000",
          "2022-04-15T00:00:00.000000000",
          "2022-04-16T00:00:00.000000000",
          "2022-04-17T00:00:00.000000000",
          "2022-04-18T00:00:00.000000000",
          "2022-04-19T00:00:00.000000000",
          "2022-04-20T00:00:00.000000000",
          "2022-04-21T00:00:00.000000000",
          "2022-04-22T00:00:00.000000000",
          "2022-04-23T00:00:00.000000000",
          "2022-04-24T00:00:00.000000000",
          "2022-04-25T00:00:00.000000000",
          "2022-04-26T00:00:00.000000000",
          "2022-04-27T00:00:00.000000000",
          "2022-04-28T00:00:00.000000000",
          "2022-04-29T00:00:00.000000000",
          "2022-04-30T00:00:00.000000000",
          "2022-05-01T00:00:00.000000000",
          "2022-05-02T00:00:00.000000000",
          "2022-05-03T00:00:00.000000000",
          "2022-05-04T00:00:00.000000000",
          "2022-05-05T00:00:00.000000000",
          "2022-05-06T00:00:00.000000000",
          "2022-05-07T00:00:00.000000000",
          "2022-05-08T00:00:00.000000000",
          "2022-05-09T00:00:00.000000000",
          "2022-05-10T00:00:00.000000000",
          "2022-05-11T00:00:00.000000000",
          "2022-05-12T00:00:00.000000000",
          "2022-05-13T00:00:00.000000000",
          "2022-05-14T00:00:00.000000000",
          "2022-05-15T00:00:00.000000000",
          "2022-05-16T00:00:00.000000000",
          "2022-05-17T00:00:00.000000000",
          "2022-05-18T00:00:00.000000000",
          "2022-05-19T00:00:00.000000000",
          "2022-05-20T00:00:00.000000000",
          "2022-05-21T00:00:00.000000000",
          "2022-05-22T00:00:00.000000000",
          "2022-05-23T00:00:00.000000000",
          "2022-05-24T00:00:00.000000000",
          "2022-05-25T00:00:00.000000000",
          "2022-05-26T00:00:00.000000000",
          "2022-05-27T00:00:00.000000000",
          "2022-05-28T00:00:00.000000000",
          "2022-05-29T00:00:00.000000000",
          "2022-05-30T00:00:00.000000000",
          "2022-05-31T00:00:00.000000000",
          "2022-06-01T00:00:00.000000000",
          "2022-06-02T00:00:00.000000000",
          "2022-06-03T00:00:00.000000000",
          "2022-06-04T00:00:00.000000000",
          "2022-06-05T00:00:00.000000000",
          "2022-06-06T00:00:00.000000000",
          "2022-06-07T00:00:00.000000000",
          "2022-06-08T00:00:00.000000000",
          "2022-06-09T00:00:00.000000000",
          "2022-06-10T00:00:00.000000000",
          "2022-06-11T00:00:00.000000000",
          "2022-06-12T00:00:00.000000000",
          "2022-06-13T00:00:00.000000000",
          "2022-06-14T00:00:00.000000000",
          "2022-06-15T00:00:00.000000000",
          "2022-06-16T00:00:00.000000000",
          "2022-06-17T00:00:00.000000000",
          "2022-06-18T00:00:00.000000000"
         ],
         "xaxis": "x",
         "y": {
          "bdata": "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",
          "dtype": "f8"
         },
         "yaxis": "y"
        },
        {
         "hovertemplate": "Location=United States<br>Date=%{x}<br>Number of diagnosed cases=%{y}<extra></extra>",
         "legendgroup": "United States",
         "line": {
          "color": "orange",
          "dash": "solid"
         },
         "marker": {
          "symbol": "circle"
         },
         "mode": "lines",
         "name": "United States",
         "showlegend": true,
         "type": "scattergl",
         "x": [
          "2020-01-22T00:00:00.000000000",
          "2020-01-23T00:00:00.000000000",
          "2020-01-24T00:00:00.000000000",
          "2020-01-25T00:00:00.000000000",
          "2020-01-26T00:00:00.000000000",
          "2020-01-27T00:00:00.000000000",
          "2020-01-28T00:00:00.000000000",
          "2020-01-29T00:00:00.000000000",
          "2020-01-30T00:00:00.000000000",
          "2020-01-31T00:00:00.000000000",
          "2020-02-01T00:00:00.000000000",
          "2020-02-02T00:00:00.000000000",
          "2020-02-03T00:00:00.000000000",
          "2020-02-04T00:00:00.000000000",
          "2020-02-05T00:00:00.000000000",
          "2020-02-06T00:00:00.000000000",
          "2020-02-07T00:00:00.000000000",
          "2020-02-08T00:00:00.000000000",
          "2020-02-09T00:00:00.000000000",
          "2020-02-10T00:00:00.000000000",
          "2020-02-11T00:00:00.000000000",
          "2020-02-12T00:00:00.000000000",
          "2020-02-13T00:00:00.000000000",
          "2020-02-14T00:00:00.000000000",
          "2020-02-15T00:00:00.000000000",
          "2020-02-16T00:00:00.000000000",
          "2020-02-17T00:00:00.000000000",
          "2020-02-18T00:00:00.000000000",
          "2020-02-19T00:00:00.000000000",
          "2020-02-20T00:00:00.000000000",
          "2020-02-21T00:00:00.000000000",
          "2020-02-22T00:00:00.000000000",
          "2020-02-23T00:00:00.000000000",
          "2020-02-24T00:00:00.000000000",
          "2020-02-25T00:00:00.000000000",
          "2020-02-26T00:00:00.000000000",
          "2020-02-27T00:00:00.000000000",
          "2020-02-28T00:00:00.000000000",
          "2020-02-29T00:00:00.000000000",
          "2020-03-01T00:00:00.000000000",
          "2020-03-02T00:00:00.000000000",
          "2020-03-03T00:00:00.000000000",
          "2020-03-04T00:00:00.000000000",
          "2020-03-05T00:00:00.000000000",
          "2020-03-06T00:00:00.000000000",
          "2020-03-07T00:00:00.000000000",
          "2020-03-08T00:00:00.000000000",
          "2020-03-09T00:00:00.000000000",
          "2020-03-10T00:00:00.000000000",
          "2020-03-11T00:00:00.000000000",
          "2020-03-12T00:00:00.000000000",
          "2020-03-13T00:00:00.000000000",
          "2020-03-14T00:00:00.000000000",
          "2020-03-15T00:00:00.000000000",
          "2020-03-16T00:00:00.000000000",
          "2020-03-17T00:00:00.000000000",
          "2020-03-18T00:00:00.000000000",
          "2020-03-19T00:00:00.000000000",
          "2020-03-20T00:00:00.000000000",
          "2020-03-21T00:00:00.000000000",
          "2020-03-22T00:00:00.000000000",
          "2020-03-23T00:00:00.000000000",
          "2020-03-24T00:00:00.000000000",
          "2020-03-25T00:00:00.000000000",
          "2020-03-26T00:00:00.000000000",
          "2020-03-27T00:00:00.000000000",
          "2020-03-28T00:00:00.000000000",
          "2020-03-29T00:00:00.000000000",
          "2020-03-30T00:00:00.000000000",
          "2020-03-31T00:00:00.000000000",
          "2020-04-01T00:00:00.000000000",
          "2020-04-02T00:00:00.000000000",
          "2020-04-03T00:00:00.000000000",
          "2020-04-04T00:00:00.000000000",
          "2020-04-05T00:00:00.000000000",
          "2020-04-06T00:00:00.000000000",
          "2020-04-07T00:00:00.000000000",
          "2020-04-08T00:00:00.000000000",
          "2020-04-09T00:00:00.000000000",
          "2020-04-10T00:00:00.000000000",
          "2020-04-11T00:00:00.000000000",
          "2020-04-12T00:00:00.000000000",
          "2020-04-13T00:00:00.000000000",
          "2020-04-14T00:00:00.000000000",
          "2020-04-15T00:00:00.000000000",
          "2020-04-16T00:00:00.000000000",
          "2020-04-17T00:00:00.000000000",
          "2020-04-18T00:00:00.000000000",
          "2020-04-19T00:00:00.000000000",
          "2020-04-20T00:00:00.000000000",
          "2020-04-21T00:00:00.000000000",
          "2020-04-22T00:00:00.000000000",
          "2020-04-23T00:00:00.000000000",
          "2020-04-24T00:00:00.000000000",
          "2020-04-25T00:00:00.000000000",
          "2020-04-26T00:00:00.000000000",
          "2020-04-27T00:00:00.000000000",
          "2020-04-28T00:00:00.000000000",
          "2020-04-29T00:00:00.000000000",
          "2020-04-30T00:00:00.000000000",
          "2020-05-01T00:00:00.000000000",
          "2020-05-02T00:00:00.000000000",
          "2020-05-03T00:00:00.000000000",
          "2020-05-04T00:00:00.000000000",
          "2020-05-05T00:00:00.000000000",
          "2020-05-06T00:00:00.000000000",
          "2020-05-07T00:00:00.000000000",
          "2020-05-08T00:00:00.000000000",
          "2020-05-09T00:00:00.000000000",
          "2020-05-10T00:00:00.000000000",
          "2020-05-11T00:00:00.000000000",
          "2020-05-12T00:00:00.000000000",
          "2020-05-13T00:00:00.000000000",
          "2020-05-14T00:00:00.000000000",
          "2020-05-15T00:00:00.000000000",
          "2020-05-16T00:00:00.000000000",
          "2020-05-17T00:00:00.000000000",
          "2020-05-18T00:00:00.000000000",
          "2020-05-19T00:00:00.000000000",
          "2020-05-20T00:00:00.000000000",
          "2020-05-21T00:00:00.000000000",
          "2020-05-22T00:00:00.000000000",
          "2020-05-23T00:00:00.000000000",
          "2020-05-24T00:00:00.000000000",
          "2020-05-25T00:00:00.000000000",
          "2020-05-26T00:00:00.000000000",
          "2020-05-27T00:00:00.000000000",
          "2020-05-28T00:00:00.000000000",
          "2020-05-29T00:00:00.000000000",
          "2020-05-30T00:00:00.000000000",
          "2020-05-31T00:00:00.000000000",
          "2020-06-01T00:00:00.000000000",
          "2020-06-02T00:00:00.000000000",
          "2020-06-03T00:00:00.000000000",
          "2020-06-04T00:00:00.000000000",
          "2020-06-05T00:00:00.000000000",
          "2020-06-06T00:00:00.000000000",
          "2020-06-07T00:00:00.000000000",
          "2020-06-08T00:00:00.000000000",
          "2020-06-09T00:00:00.000000000",
          "2020-06-10T00:00:00.000000000",
          "2020-06-11T00:00:00.000000000",
          "2020-06-12T00:00:00.000000000",
          "2020-06-13T00:00:00.000000000",
          "2020-06-14T00:00:00.000000000",
          "2020-06-15T00:00:00.000000000",
          "2020-06-16T00:00:00.000000000",
          "2020-06-17T00:00:00.000000000",
          "2020-06-18T00:00:00.000000000",
          "2020-06-19T00:00:00.000000000",
          "2020-06-20T00:00:00.000000000",
          "2020-06-21T00:00:00.000000000",
          "2020-06-22T00:00:00.000000000",
          "2020-06-23T00:00:00.000000000",
          "2020-06-24T00:00:00.000000000",
          "2020-06-25T00:00:00.000000000",
          "2020-06-26T00:00:00.000000000",
          "2020-06-27T00:00:00.000000000",
          "2020-06-28T00:00:00.000000000",
          "2020-06-29T00:00:00.000000000",
          "2020-06-30T00:00:00.000000000",
          "2020-07-01T00:00:00.000000000",
          "2020-07-02T00:00:00.000000000",
          "2020-07-03T00:00:00.000000000",
          "2020-07-04T00:00:00.000000000",
          "2020-07-05T00:00:00.000000000",
          "2020-07-06T00:00:00.000000000",
          "2020-07-07T00:00:00.000000000",
          "2020-07-08T00:00:00.000000000",
          "2020-07-09T00:00:00.000000000",
          "2020-07-10T00:00:00.000000000",
          "2020-07-11T00:00:00.000000000",
          "2020-07-12T00:00:00.000000000",
          "2020-07-13T00:00:00.000000000",
          "2020-07-14T00:00:00.000000000",
          "2020-07-15T00:00:00.000000000",
          "2020-07-16T00:00:00.000000000",
          "2020-07-17T00:00:00.000000000",
          "2020-07-18T00:00:00.000000000",
          "2020-07-19T00:00:00.000000000",
          "2020-07-20T00:00:00.000000000",
          "2020-07-21T00:00:00.000000000",
          "2020-07-22T00:00:00.000000000",
          "2020-07-23T00:00:00.000000000",
          "2020-07-24T00:00:00.000000000",
          "2020-07-25T00:00:00.000000000",
          "2020-07-26T00:00:00.000000000",
          "2020-07-27T00:00:00.000000000",
          "2020-07-28T00:00:00.000000000",
          "2020-07-29T00:00:00.000000000",
          "2020-07-30T00:00:00.000000000",
          "2020-07-31T00:00:00.000000000",
          "2020-08-01T00:00:00.000000000",
          "2020-08-02T00:00:00.000000000",
          "2020-08-03T00:00:00.000000000",
          "2020-08-04T00:00:00.000000000",
          "2020-08-05T00:00:00.000000000",
          "2020-08-06T00:00:00.000000000",
          "2020-08-07T00:00:00.000000000",
          "2020-08-08T00:00:00.000000000",
          "2020-08-09T00:00:00.000000000",
          "2020-08-10T00:00:00.000000000",
          "2020-08-11T00:00:00.000000000",
          "2020-08-12T00:00:00.000000000",
          "2020-08-13T00:00:00.000000000",
          "2020-08-14T00:00:00.000000000",
          "2020-08-15T00:00:00.000000000",
          "2020-08-16T00:00:00.000000000",
          "2020-08-17T00:00:00.000000000",
          "2020-08-18T00:00:00.000000000",
          "2020-08-19T00:00:00.000000000",
          "2020-08-20T00:00:00.000000000",
          "2020-08-21T00:00:00.000000000",
          "2020-08-22T00:00:00.000000000",
          "2020-08-23T00:00:00.000000000",
          "2020-08-24T00:00:00.000000000",
          "2020-08-25T00:00:00.000000000",
          "2020-08-26T00:00:00.000000000",
          "2020-08-27T00:00:00.000000000",
          "2020-08-28T00:00:00.000000000",
          "2020-08-29T00:00:00.000000000",
          "2020-08-30T00:00:00.000000000",
          "2020-08-31T00:00:00.000000000",
          "2020-09-01T00:00:00.000000000",
          "2020-09-02T00:00:00.000000000",
          "2020-09-03T00:00:00.000000000",
          "2020-09-04T00:00:00.000000000",
          "2020-09-05T00:00:00.000000000",
          "2020-09-06T00:00:00.000000000",
          "2020-09-07T00:00:00.000000000",
          "2020-09-08T00:00:00.000000000",
          "2020-09-09T00:00:00.000000000",
          "2020-09-10T00:00:00.000000000",
          "2020-09-11T00:00:00.000000000",
          "2020-09-12T00:00:00.000000000",
          "2020-09-13T00:00:00.000000000",
          "2020-09-14T00:00:00.000000000",
          "2020-09-15T00:00:00.000000000",
          "2020-09-16T00:00:00.000000000",
          "2020-09-17T00:00:00.000000000",
          "2020-09-18T00:00:00.000000000",
          "2020-09-19T00:00:00.000000000",
          "2020-09-20T00:00:00.000000000",
          "2020-09-21T00:00:00.000000000",
          "2020-09-22T00:00:00.000000000",
          "2020-09-23T00:00:00.000000000",
          "2020-09-24T00:00:00.000000000",
          "2020-09-25T00:00:00.000000000",
          "2020-09-26T00:00:00.000000000",
          "2020-09-27T00:00:00.000000000",
          "2020-09-28T00:00:00.000000000",
          "2020-09-29T00:00:00.000000000",
          "2020-09-30T00:00:00.000000000",
          "2020-10-01T00:00:00.000000000",
          "2020-10-02T00:00:00.000000000",
          "2020-10-03T00:00:00.000000000",
          "2020-10-04T00:00:00.000000000",
          "2020-10-05T00:00:00.000000000",
          "2020-10-06T00:00:00.000000000",
          "2020-10-07T00:00:00.000000000",
          "2020-10-08T00:00:00.000000000",
          "2020-10-09T00:00:00.000000000",
          "2020-10-10T00:00:00.000000000",
          "2020-10-11T00:00:00.000000000",
          "2020-10-12T00:00:00.000000000",
          "2020-10-13T00:00:00.000000000",
          "2020-10-14T00:00:00.000000000",
          "2020-10-15T00:00:00.000000000",
          "2020-10-16T00:00:00.000000000",
          "2020-10-17T00:00:00.000000000",
          "2020-10-18T00:00:00.000000000",
          "2020-10-19T00:00:00.000000000",
          "2020-10-20T00:00:00.000000000",
          "2020-10-21T00:00:00.000000000",
          "2020-10-22T00:00:00.000000000",
          "2020-10-23T00:00:00.000000000",
          "2020-10-24T00:00:00.000000000",
          "2020-10-25T00:00:00.000000000",
          "2020-10-26T00:00:00.000000000",
          "2020-10-27T00:00:00.000000000",
          "2020-10-28T00:00:00.000000000",
          "2020-10-29T00:00:00.000000000",
          "2020-10-30T00:00:00.000000000",
          "2020-10-31T00:00:00.000000000",
          "2020-11-01T00:00:00.000000000",
          "2020-11-02T00:00:00.000000000",
          "2020-11-03T00:00:00.000000000",
          "2020-11-04T00:00:00.000000000",
          "2020-11-05T00:00:00.000000000",
          "2020-11-06T00:00:00.000000000",
          "2020-11-07T00:00:00.000000000",
          "2020-11-08T00:00:00.000000000",
          "2020-11-09T00:00:00.000000000",
          "2020-11-10T00:00:00.000000000",
          "2020-11-11T00:00:00.000000000",
          "2020-11-12T00:00:00.000000000",
          "2020-11-13T00:00:00.000000000",
          "2020-11-14T00:00:00.000000000",
          "2020-11-15T00:00:00.000000000",
          "2020-11-16T00:00:00.000000000",
          "2020-11-17T00:00:00.000000000",
          "2020-11-18T00:00:00.000000000",
          "2020-11-19T00:00:00.000000000",
          "2020-11-20T00:00:00.000000000",
          "2020-11-21T00:00:00.000000000",
          "2020-11-22T00:00:00.000000000",
          "2020-11-23T00:00:00.000000000",
          "2020-11-24T00:00:00.000000000",
          "2020-11-25T00:00:00.000000000",
          "2020-11-26T00:00:00.000000000",
          "2020-11-27T00:00:00.000000000",
          "2020-11-28T00:00:00.000000000",
          "2020-11-29T00:00:00.000000000",
          "2020-11-30T00:00:00.000000000",
          "2020-12-01T00:00:00.000000000",
          "2020-12-02T00:00:00.000000000",
          "2020-12-03T00:00:00.000000000",
          "2020-12-04T00:00:00.000000000",
          "2020-12-05T00:00:00.000000000",
          "2020-12-06T00:00:00.000000000",
          "2020-12-07T00:00:00.000000000",
          "2020-12-08T00:00:00.000000000",
          "2020-12-09T00:00:00.000000000",
          "2020-12-10T00:00:00.000000000",
          "2020-12-11T00:00:00.000000000",
          "2020-12-12T00:00:00.000000000",
          "2020-12-13T00:00:00.000000000",
          "2020-12-14T00:00:00.000000000",
          "2020-12-15T00:00:00.000000000",
          "2020-12-16T00:00:00.000000000",
          "2020-12-17T00:00:00.000000000",
          "2020-12-18T00:00:00.000000000",
          "2020-12-19T00:00:00.000000000",
          "2020-12-20T00:00:00.000000000",
          "2020-12-21T00:00:00.000000000",
          "2020-12-22T00:00:00.000000000",
          "2020-12-23T00:00:00.000000000",
          "2020-12-24T00:00:00.000000000",
          "2020-12-25T00:00:00.000000000",
          "2020-12-26T00:00:00.000000000",
          "2020-12-27T00:00:00.000000000",
          "2020-12-28T00:00:00.000000000",
          "2020-12-29T00:00:00.000000000",
          "2020-12-30T00:00:00.000000000",
          "2020-12-31T00:00:00.000000000",
          "2021-01-01T00:00:00.000000000",
          "2021-01-02T00:00:00.000000000",
          "2021-01-03T00:00:00.000000000",
          "2021-01-04T00:00:00.000000000",
          "2021-01-05T00:00:00.000000000",
          "2021-01-06T00:00:00.000000000",
          "2021-01-07T00:00:00.000000000",
          "2021-01-08T00:00:00.000000000",
          "2021-01-09T00:00:00.000000000",
          "2021-01-10T00:00:00.000000000",
          "2021-01-11T00:00:00.000000000",
          "2021-01-12T00:00:00.000000000",
          "2021-01-13T00:00:00.000000000",
          "2021-01-14T00:00:00.000000000",
          "2021-01-15T00:00:00.000000000",
          "2021-01-16T00:00:00.000000000",
          "2021-01-17T00:00:00.000000000",
          "2021-01-18T00:00:00.000000000",
          "2021-01-19T00:00:00.000000000",
          "2021-01-20T00:00:00.000000000",
          "2021-01-21T00:00:00.000000000",
          "2021-01-22T00:00:00.000000000",
          "2021-01-23T00:00:00.000000000",
          "2021-01-24T00:00:00.000000000",
          "2021-01-25T00:00:00.000000000",
          "2021-01-26T00:00:00.000000000",
          "2021-01-27T00:00:00.000000000",
          "2021-01-28T00:00:00.000000000",
          "2021-01-29T00:00:00.000000000",
          "2021-01-30T00:00:00.000000000",
          "2021-01-31T00:00:00.000000000",
          "2021-02-01T00:00:00.000000000",
          "2021-02-02T00:00:00.000000000",
          "2021-02-03T00:00:00.000000000",
          "2021-02-04T00:00:00.000000000",
          "2021-02-05T00:00:00.000000000",
          "2021-02-06T00:00:00.000000000",
          "2021-02-07T00:00:00.000000000",
          "2021-02-08T00:00:00.000000000",
          "2021-02-09T00:00:00.000000000",
          "2021-02-10T00:00:00.000000000",
          "2021-02-11T00:00:00.000000000",
          "2021-02-12T00:00:00.000000000",
          "2021-02-13T00:00:00.000000000",
          "2021-02-14T00:00:00.000000000",
          "2021-02-15T00:00:00.000000000",
          "2021-02-16T00:00:00.000000000",
          "2021-02-17T00:00:00.000000000",
          "2021-02-18T00:00:00.000000000",
          "2021-02-19T00:00:00.000000000",
          "2021-02-20T00:00:00.000000000",
          "2021-02-21T00:00:00.000000000",
          "2021-02-22T00:00:00.000000000",
          "2021-02-23T00:00:00.000000000",
          "2021-02-24T00:00:00.000000000",
          "2021-02-25T00:00:00.000000000",
          "2021-02-26T00:00:00.000000000",
          "2021-02-27T00:00:00.000000000",
          "2021-02-28T00:00:00.000000000",
          "2021-03-01T00:00:00.000000000",
          "2021-03-02T00:00:00.000000000",
          "2021-03-03T00:00:00.000000000",
          "2021-03-04T00:00:00.000000000",
          "2021-03-05T00:00:00.000000000",
          "2021-03-06T00:00:00.000000000",
          "2021-03-07T00:00:00.000000000",
          "2021-03-08T00:00:00.000000000",
          "2021-03-09T00:00:00.000000000",
          "2021-03-10T00:00:00.000000000",
          "2021-03-11T00:00:00.000000000",
          "2021-03-12T00:00:00.000000000",
          "2021-03-13T00:00:00.000000000",
          "2021-03-14T00:00:00.000000000",
          "2021-03-15T00:00:00.000000000",
          "2021-03-16T00:00:00.000000000",
          "2021-03-17T00:00:00.000000000",
          "2021-03-18T00:00:00.000000000",
          "2021-03-19T00:00:00.000000000",
          "2021-03-20T00:00:00.000000000",
          "2021-03-21T00:00:00.000000000",
          "2021-03-22T00:00:00.000000000",
          "2021-03-23T00:00:00.000000000",
          "2021-03-24T00:00:00.000000000",
          "2021-03-25T00:00:00.000000000",
          "2021-03-26T00:00:00.000000000",
          "2021-03-27T00:00:00.000000000",
          "2021-03-28T00:00:00.000000000",
          "2021-03-29T00:00:00.000000000",
          "2021-03-30T00:00:00.000000000",
          "2021-03-31T00:00:00.000000000",
          "2021-04-01T00:00:00.000000000",
          "2021-04-02T00:00:00.000000000",
          "2021-04-03T00:00:00.000000000",
          "2021-04-04T00:00:00.000000000",
          "2021-04-05T00:00:00.000000000",
          "2021-04-06T00:00:00.000000000",
          "2021-04-07T00:00:00.000000000",
          "2021-04-08T00:00:00.000000000",
          "2021-04-09T00:00:00.000000000",
          "2021-04-10T00:00:00.000000000",
          "2021-04-11T00:00:00.000000000",
          "2021-04-12T00:00:00.000000000",
          "2021-04-13T00:00:00.000000000",
          "2021-04-14T00:00:00.000000000",
          "2021-04-15T00:00:00.000000000",
          "2021-04-16T00:00:00.000000000",
          "2021-04-17T00:00:00.000000000",
          "2021-04-18T00:00:00.000000000",
          "2021-04-19T00:00:00.000000000",
          "2021-04-20T00:00:00.000000000",
          "2021-04-21T00:00:00.000000000",
          "2021-04-22T00:00:00.000000000",
          "2021-04-23T00:00:00.000000000",
          "2021-04-24T00:00:00.000000000",
          "2021-04-25T00:00:00.000000000",
          "2021-04-26T00:00:00.000000000",
          "2021-04-27T00:00:00.000000000",
          "2021-04-28T00:00:00.000000000",
          "2021-04-29T00:00:00.000000000",
          "2021-04-30T00:00:00.000000000",
          "2021-05-01T00:00:00.000000000",
          "2021-05-02T00:00:00.000000000",
          "2021-05-03T00:00:00.000000000",
          "2021-05-04T00:00:00.000000000",
          "2021-05-05T00:00:00.000000000",
          "2021-05-06T00:00:00.000000000",
          "2021-05-07T00:00:00.000000000",
          "2021-05-08T00:00:00.000000000",
          "2021-05-09T00:00:00.000000000",
          "2021-05-10T00:00:00.000000000",
          "2021-05-11T00:00:00.000000000",
          "2021-05-12T00:00:00.000000000",
          "2021-05-13T00:00:00.000000000",
          "2021-05-14T00:00:00.000000000",
          "2021-05-15T00:00:00.000000000",
          "2021-05-16T00:00:00.000000000",
          "2021-05-17T00:00:00.000000000",
          "2021-05-18T00:00:00.000000000",
          "2021-05-19T00:00:00.000000000",
          "2021-05-20T00:00:00.000000000",
          "2021-05-21T00:00:00.000000000",
          "2021-05-22T00:00:00.000000000",
          "2021-05-23T00:00:00.000000000",
          "2021-05-24T00:00:00.000000000",
          "2021-05-25T00:00:00.000000000",
          "2021-05-26T00:00:00.000000000",
          "2021-05-27T00:00:00.000000000",
          "2021-05-28T00:00:00.000000000",
          "2021-05-29T00:00:00.000000000",
          "2021-05-30T00:00:00.000000000",
          "2021-05-31T00:00:00.000000000",
          "2021-06-01T00:00:00.000000000",
          "2021-06-02T00:00:00.000000000",
          "2021-06-03T00:00:00.000000000",
          "2021-06-04T00:00:00.000000000",
          "2021-06-05T00:00:00.000000000",
          "2021-06-06T00:00:00.000000000",
          "2021-06-07T00:00:00.000000000",
          "2021-06-08T00:00:00.000000000",
          "2021-06-09T00:00:00.000000000",
          "2021-06-10T00:00:00.000000000",
          "2021-06-11T00:00:00.000000000",
          "2021-06-12T00:00:00.000000000",
          "2021-06-13T00:00:00.000000000",
          "2021-06-14T00:00:00.000000000",
          "2021-06-15T00:00:00.000000000",
          "2021-06-16T00:00:00.000000000",
          "2021-06-17T00:00:00.000000000",
          "2021-06-18T00:00:00.000000000",
          "2021-06-19T00:00:00.000000000",
          "2021-06-20T00:00:00.000000000",
          "2021-06-21T00:00:00.000000000",
          "2021-06-22T00:00:00.000000000",
          "2021-06-23T00:00:00.000000000",
          "2021-06-24T00:00:00.000000000",
          "2021-06-25T00:00:00.000000000",
          "2021-06-26T00:00:00.000000000",
          "2021-06-27T00:00:00.000000000",
          "2021-06-28T00:00:00.000000000",
          "2021-06-29T00:00:00.000000000",
          "2021-06-30T00:00:00.000000000",
          "2021-07-01T00:00:00.000000000",
          "2021-07-02T00:00:00.000000000",
          "2021-07-03T00:00:00.000000000",
          "2021-07-04T00:00:00.000000000",
          "2021-07-05T00:00:00.000000000",
          "2021-07-06T00:00:00.000000000",
          "2021-07-07T00:00:00.000000000",
          "2021-07-08T00:00:00.000000000",
          "2021-07-09T00:00:00.000000000",
          "2021-07-10T00:00:00.000000000",
          "2021-07-11T00:00:00.000000000",
          "2021-07-12T00:00:00.000000000",
          "2021-07-13T00:00:00.000000000",
          "2021-07-14T00:00:00.000000000",
          "2021-07-15T00:00:00.000000000",
          "2021-07-16T00:00:00.000000000",
          "2021-07-17T00:00:00.000000000",
          "2021-07-18T00:00:00.000000000",
          "2021-07-19T00:00:00.000000000",
          "2021-07-20T00:00:00.000000000",
          "2021-07-21T00:00:00.000000000",
          "2021-07-22T00:00:00.000000000",
          "2021-07-23T00:00:00.000000000",
          "2021-07-24T00:00:00.000000000",
          "2021-07-25T00:00:00.000000000",
          "2021-07-26T00:00:00.000000000",
          "2021-07-27T00:00:00.000000000",
          "2021-07-28T00:00:00.000000000",
          "2021-07-29T00:00:00.000000000",
          "2021-07-30T00:00:00.000000000",
          "2021-07-31T00:00:00.000000000",
          "2021-08-01T00:00:00.000000000",
          "2021-08-02T00:00:00.000000000",
          "2021-08-03T00:00:00.000000000",
          "2021-08-04T00:00:00.000000000",
          "2021-08-05T00:00:00.000000000",
          "2021-08-06T00:00:00.000000000",
          "2021-08-07T00:00:00.000000000",
          "2021-08-08T00:00:00.000000000",
          "2021-08-09T00:00:00.000000000",
          "2021-08-10T00:00:00.000000000",
          "2021-08-11T00:00:00.000000000",
          "2021-08-12T00:00:00.000000000",
          "2021-08-13T00:00:00.000000000",
          "2021-08-14T00:00:00.000000000",
          "2021-08-15T00:00:00.000000000",
          "2021-08-16T00:00:00.000000000",
          "2021-08-17T00:00:00.000000000",
          "2021-08-18T00:00:00.000000000",
          "2021-08-19T00:00:00.000000000",
          "2021-08-20T00:00:00.000000000",
          "2021-08-21T00:00:00.000000000",
          "2021-08-22T00:00:00.000000000",
          "2021-08-23T00:00:00.000000000",
          "2021-08-24T00:00:00.000000000",
          "2021-08-25T00:00:00.000000000",
          "2021-08-26T00:00:00.000000000",
          "2021-08-27T00:00:00.000000000",
          "2021-08-28T00:00:00.000000000",
          "2021-08-29T00:00:00.000000000",
          "2021-08-30T00:00:00.000000000",
          "2021-08-31T00:00:00.000000000",
          "2021-09-01T00:00:00.000000000",
          "2021-09-02T00:00:00.000000000",
          "2021-09-03T00:00:00.000000000",
          "2021-09-04T00:00:00.000000000",
          "2021-09-05T00:00:00.000000000",
          "2021-09-06T00:00:00.000000000",
          "2021-09-07T00:00:00.000000000",
          "2021-09-08T00:00:00.000000000",
          "2021-09-09T00:00:00.000000000",
          "2021-09-10T00:00:00.000000000",
          "2021-09-11T00:00:00.000000000",
          "2021-09-12T00:00:00.000000000",
          "2021-09-13T00:00:00.000000000",
          "2021-09-14T00:00:00.000000000",
          "2021-09-15T00:00:00.000000000",
          "2021-09-16T00:00:00.000000000",
          "2021-09-17T00:00:00.000000000",
          "2021-09-18T00:00:00.000000000",
          "2021-09-19T00:00:00.000000000",
          "2021-09-20T00:00:00.000000000",
          "2021-09-21T00:00:00.000000000",
          "2021-09-22T00:00:00.000000000",
          "2021-09-23T00:00:00.000000000",
          "2021-09-24T00:00:00.000000000",
          "2021-09-25T00:00:00.000000000",
          "2021-09-26T00:00:00.000000000",
          "2021-09-27T00:00:00.000000000",
          "2021-09-28T00:00:00.000000000",
          "2021-09-29T00:00:00.000000000",
          "2021-09-30T00:00:00.000000000",
          "2021-10-01T00:00:00.000000000",
          "2021-10-02T00:00:00.000000000",
          "2021-10-03T00:00:00.000000000",
          "2021-10-04T00:00:00.000000000",
          "2021-10-05T00:00:00.000000000",
          "2021-10-06T00:00:00.000000000",
          "2021-10-07T00:00:00.000000000",
          "2021-10-08T00:00:00.000000000",
          "2021-10-09T00:00:00.000000000",
          "2021-10-10T00:00:00.000000000",
          "2021-10-11T00:00:00.000000000",
          "2021-10-12T00:00:00.000000000",
          "2021-10-13T00:00:00.000000000",
          "2021-10-14T00:00:00.000000000",
          "2021-10-15T00:00:00.000000000",
          "2021-10-16T00:00:00.000000000",
          "2021-10-17T00:00:00.000000000",
          "2021-10-18T00:00:00.000000000",
          "2021-10-19T00:00:00.000000000",
          "2021-10-20T00:00:00.000000000",
          "2021-10-21T00:00:00.000000000",
          "2021-10-22T00:00:00.000000000",
          "2021-10-23T00:00:00.000000000",
          "2021-10-24T00:00:00.000000000",
          "2021-10-25T00:00:00.000000000",
          "2021-10-26T00:00:00.000000000",
          "2021-10-27T00:00:00.000000000",
          "2021-10-28T00:00:00.000000000",
          "2021-10-29T00:00:00.000000000",
          "2021-10-30T00:00:00.000000000",
          "2021-10-31T00:00:00.000000000",
          "2021-11-01T00:00:00.000000000",
          "2021-11-02T00:00:00.000000000",
          "2021-11-03T00:00:00.000000000",
          "2021-11-04T00:00:00.000000000",
          "2021-11-05T00:00:00.000000000",
          "2021-11-06T00:00:00.000000000",
          "2021-11-07T00:00:00.000000000",
          "2021-11-08T00:00:00.000000000",
          "2021-11-09T00:00:00.000000000",
          "2021-11-10T00:00:00.000000000",
          "2021-11-11T00:00:00.000000000",
          "2021-11-12T00:00:00.000000000",
          "2021-11-13T00:00:00.000000000",
          "2021-11-14T00:00:00.000000000",
          "2021-11-15T00:00:00.000000000",
          "2021-11-16T00:00:00.000000000",
          "2021-11-17T00:00:00.000000000",
          "2021-11-18T00:00:00.000000000",
          "2021-11-19T00:00:00.000000000",
          "2021-11-20T00:00:00.000000000",
          "2021-11-21T00:00:00.000000000",
          "2021-11-22T00:00:00.000000000",
          "2021-11-23T00:00:00.000000000",
          "2021-11-24T00:00:00.000000000",
          "2021-11-25T00:00:00.000000000",
          "2021-11-26T00:00:00.000000000",
          "2021-11-27T00:00:00.000000000",
          "2021-11-28T00:00:00.000000000",
          "2021-11-29T00:00:00.000000000",
          "2021-11-30T00:00:00.000000000",
          "2021-12-01T00:00:00.000000000",
          "2021-12-02T00:00:00.000000000",
          "2021-12-03T00:00:00.000000000",
          "2021-12-04T00:00:00.000000000",
          "2021-12-05T00:00:00.000000000",
          "2021-12-06T00:00:00.000000000",
          "2021-12-07T00:00:00.000000000",
          "2021-12-08T00:00:00.000000000",
          "2021-12-09T00:00:00.000000000",
          "2021-12-10T00:00:00.000000000",
          "2021-12-11T00:00:00.000000000",
          "2021-12-12T00:00:00.000000000",
          "2021-12-13T00:00:00.000000000",
          "2021-12-14T00:00:00.000000000",
          "2021-12-15T00:00:00.000000000",
          "2021-12-16T00:00:00.000000000",
          "2021-12-17T00:00:00.000000000",
          "2021-12-18T00:00:00.000000000",
          "2021-12-19T00:00:00.000000000",
          "2021-12-20T00:00:00.000000000",
          "2021-12-21T00:00:00.000000000",
          "2021-12-22T00:00:00.000000000",
          "2021-12-23T00:00:00.000000000",
          "2021-12-24T00:00:00.000000000",
          "2021-12-25T00:00:00.000000000",
          "2021-12-26T00:00:00.000000000",
          "2021-12-27T00:00:00.000000000",
          "2021-12-28T00:00:00.000000000",
          "2021-12-29T00:00:00.000000000",
          "2021-12-30T00:00:00.000000000",
          "2021-12-31T00:00:00.000000000",
          "2022-01-01T00:00:00.000000000",
          "2022-01-02T00:00:00.000000000",
          "2022-01-03T00:00:00.000000000",
          "2022-01-04T00:00:00.000000000",
          "2022-01-05T00:00:00.000000000",
          "2022-01-06T00:00:00.000000000",
          "2022-01-07T00:00:00.000000000",
          "2022-01-08T00:00:00.000000000",
          "2022-01-09T00:00:00.000000000",
          "2022-01-10T00:00:00.000000000",
          "2022-01-11T00:00:00.000000000",
          "2022-01-12T00:00:00.000000000",
          "2022-01-13T00:00:00.000000000",
          "2022-01-14T00:00:00.000000000",
          "2022-01-15T00:00:00.000000000",
          "2022-01-16T00:00:00.000000000",
          "2022-01-17T00:00:00.000000000",
          "2022-01-18T00:00:00.000000000",
          "2022-01-19T00:00:00.000000000",
          "2022-01-20T00:00:00.000000000",
          "2022-01-21T00:00:00.000000000",
          "2022-01-22T00:00:00.000000000",
          "2022-01-23T00:00:00.000000000",
          "2022-01-24T00:00:00.000000000",
          "2022-01-25T00:00:00.000000000",
          "2022-01-26T00:00:00.000000000",
          "2022-01-27T00:00:00.000000000",
          "2022-01-28T00:00:00.000000000",
          "2022-01-29T00:00:00.000000000",
          "2022-01-30T00:00:00.000000000",
          "2022-01-31T00:00:00.000000000",
          "2022-02-01T00:00:00.000000000",
          "2022-02-02T00:00:00.000000000",
          "2022-02-03T00:00:00.000000000",
          "2022-02-04T00:00:00.000000000",
          "2022-02-05T00:00:00.000000000",
          "2022-02-06T00:00:00.000000000",
          "2022-02-07T00:00:00.000000000",
          "2022-02-08T00:00:00.000000000",
          "2022-02-09T00:00:00.000000000",
          "2022-02-10T00:00:00.000000000",
          "2022-02-11T00:00:00.000000000",
          "2022-02-12T00:00:00.000000000",
          "2022-02-13T00:00:00.000000000",
          "2022-02-14T00:00:00.000000000",
          "2022-02-15T00:00:00.000000000",
          "2022-02-16T00:00:00.000000000",
          "2022-02-17T00:00:00.000000000",
          "2022-02-18T00:00:00.000000000",
          "2022-02-19T00:00:00.000000000",
          "2022-02-20T00:00:00.000000000",
          "2022-02-21T00:00:00.000000000",
          "2022-02-22T00:00:00.000000000",
          "2022-02-23T00:00:00.000000000",
          "2022-02-24T00:00:00.000000000",
          "2022-02-25T00:00:00.000000000",
          "2022-02-26T00:00:00.000000000",
          "2022-02-27T00:00:00.000000000",
          "2022-02-28T00:00:00.000000000",
          "2022-03-01T00:00:00.000000000",
          "2022-03-02T00:00:00.000000000",
          "2022-03-03T00:00:00.000000000",
          "2022-03-04T00:00:00.000000000",
          "2022-03-05T00:00:00.000000000",
          "2022-03-06T00:00:00.000000000",
          "2022-03-07T00:00:00.000000000",
          "2022-03-08T00:00:00.000000000",
          "2022-03-09T00:00:00.000000000",
          "2022-03-10T00:00:00.000000000",
          "2022-03-11T00:00:00.000000000",
          "2022-03-12T00:00:00.000000000",
          "2022-03-13T00:00:00.000000000",
          "2022-03-14T00:00:00.000000000",
          "2022-03-15T00:00:00.000000000",
          "2022-03-16T00:00:00.000000000",
          "2022-03-17T00:00:00.000000000",
          "2022-03-18T00:00:00.000000000",
          "2022-03-19T00:00:00.000000000",
          "2022-03-20T00:00:00.000000000",
          "2022-03-21T00:00:00.000000000",
          "2022-03-22T00:00:00.000000000",
          "2022-03-23T00:00:00.000000000",
          "2022-03-24T00:00:00.000000000",
          "2022-03-25T00:00:00.000000000",
          "2022-03-26T00:00:00.000000000",
          "2022-03-27T00:00:00.000000000",
          "2022-03-28T00:00:00.000000000",
          "2022-03-29T00:00:00.000000000",
          "2022-03-30T00:00:00.000000000",
          "2022-03-31T00:00:00.000000000",
          "2022-04-01T00:00:00.000000000",
          "2022-04-02T00:00:00.000000000",
          "2022-04-03T00:00:00.000000000",
          "2022-04-04T00:00:00.000000000",
          "2022-04-05T00:00:00.000000000",
          "2022-04-06T00:00:00.000000000",
          "2022-04-07T00:00:00.000000000",
          "2022-04-08T00:00:00.000000000",
          "2022-04-09T00:00:00.000000000",
          "2022-04-10T00:00:00.000000000",
          "2022-04-11T00:00:00.000000000",
          "2022-04-12T00:00:00.000000000",
          "2022-04-13T00:00:00.000000000",
          "2022-04-14T00:00:00.000000000",
          "2022-04-15T00:00:00.000000000",
          "2022-04-16T00:00:00.000000000",
          "2022-04-17T00:00:00.000000000",
          "2022-04-18T00:00:00.000000000",
          "2022-04-19T00:00:00.000000000",
          "2022-04-20T00:00:00.000000000",
          "2022-04-21T00:00:00.000000000",
          "2022-04-22T00:00:00.000000000",
          "2022-04-23T00:00:00.000000000",
          "2022-04-24T00:00:00.000000000",
          "2022-04-25T00:00:00.000000000",
          "2022-04-26T00:00:00.000000000",
          "2022-04-27T00:00:00.000000000",
          "2022-04-28T00:00:00.000000000",
          "2022-04-29T00:00:00.000000000",
          "2022-04-30T00:00:00.000000000",
          "2022-05-01T00:00:00.000000000",
          "2022-05-02T00:00:00.000000000",
          "2022-05-03T00:00:00.000000000",
          "2022-05-04T00:00:00.000000000",
          "2022-05-05T00:00:00.000000000",
          "2022-05-06T00:00:00.000000000",
          "2022-05-07T00:00:00.000000000",
          "2022-05-08T00:00:00.000000000",
          "2022-05-09T00:00:00.000000000",
          "2022-05-10T00:00:00.000000000",
          "2022-05-11T00:00:00.000000000",
          "2022-05-12T00:00:00.000000000",
          "2022-05-13T00:00:00.000000000",
          "2022-05-14T00:00:00.000000000",
          "2022-05-15T00:00:00.000000000",
          "2022-05-16T00:00:00.000000000",
          "2022-05-17T00:00:00.000000000",
          "2022-05-18T00:00:00.000000000",
          "2022-05-19T00:00:00.000000000",
          "2022-05-20T00:00:00.000000000",
          "2022-05-21T00:00:00.000000000",
          "2022-05-22T00:00:00.000000000",
          "2022-05-23T00:00:00.000000000",
          "2022-05-24T00:00:00.000000000",
          "2022-05-25T00:00:00.000000000",
          "2022-05-26T00:00:00.000000000",
          "2022-05-27T00:00:00.000000000",
          "2022-05-28T00:00:00.000000000",
          "2022-05-29T00:00:00.000000000",
          "2022-05-30T00:00:00.000000000",
          "2022-05-31T00:00:00.000000000",
          "2022-06-01T00:00:00.000000000",
          "2022-06-02T00:00:00.000000000",
          "2022-06-03T00:00:00.000000000",
          "2022-06-04T00:00:00.000000000",
          "2022-06-05T00:00:00.000000000",
          "2022-06-06T00:00:00.000000000",
          "2022-06-07T00:00:00.000000000",
          "2022-06-08T00:00:00.000000000",
          "2022-06-09T00:00:00.000000000",
          "2022-06-10T00:00:00.000000000",
          "2022-06-11T00:00:00.000000000",
          "2022-06-12T00:00:00.000000000",
          "2022-06-13T00:00:00.000000000",
          "2022-06-14T00:00:00.000000000",
          "2022-06-15T00:00:00.000000000",
          "2022-06-16T00:00:00.000000000",
          "2022-06-17T00:00:00.000000000",
          "2022-06-18T00:00:00.000000000"
         ],
         "xaxis": "x",
         "y": {
          "bdata": "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",
          "dtype": "f8"
         },
         "yaxis": "y"
        }
       ],
       "layout": {
        "legend": {
         "title": {
          "text": "Location"
         },
         "tracegroupgap": 0
        },
        "template": {
         "data": {
          "bar": [
           {
            "error_x": {
             "color": "#2a3f5f"
            },
            "error_y": {
             "color": "#2a3f5f"
            },
            "marker": {
             "line": {
              "color": "#E5ECF6",
              "width": 0.5
             },
             "pattern": {
              "fillmode": "overlay",
              "size": 10,
              "solidity": 0.2
             }
            },
            "type": "bar"
           }
          ],
          "barpolar": [
           {
            "marker": {
             "line": {
              "color": "#E5ECF6",
              "width": 0.5
             },
             "pattern": {
              "fillmode": "overlay",
              "size": 10,
              "solidity": 0.2
             }
            },
            "type": "barpolar"
           }
          ],
          "carpet": [
           {
            "aaxis": {
             "endlinecolor": "#2a3f5f",
             "gridcolor": "white",
             "linecolor": "white",
             "minorgridcolor": "white",
             "startlinecolor": "#2a3f5f"
            },
            "baxis": {
             "endlinecolor": "#2a3f5f",
             "gridcolor": "white",
             "linecolor": "white",
             "minorgridcolor": "white",
             "startlinecolor": "#2a3f5f"
            },
            "type": "carpet"
           }
          ],
          "choropleth": [
           {
            "colorbar": {
             "outlinewidth": 0,
             "ticks": ""
            },
            "type": "choropleth"
           }
          ],
          "contour": [
           {
            "colorbar": {
             "outlinewidth": 0,
             "ticks": ""
            },
            "colorscale": [
             [
              0,
              "#0d0887"
             ],
             [
              0.1111111111111111,
              "#46039f"
             ],
             [
              0.2222222222222222,
              "#7201a8"
             ],
             [
              0.3333333333333333,
              "#9c179e"
             ],
             [
              0.4444444444444444,
              "#bd3786"
             ],
             [
              0.5555555555555556,
              "#d8576b"
             ],
             [
              0.6666666666666666,
              "#ed7953"
             ],
             [
              0.7777777777777778,
              "#fb9f3a"
             ],
             [
              0.8888888888888888,
              "#fdca26"
             ],
             [
              1,
              "#f0f921"
             ]
            ],
            "type": "contour"
           }
          ],
          "contourcarpet": [
           {
            "colorbar": {
             "outlinewidth": 0,
             "ticks": ""
            },
            "type": "contourcarpet"
           }
          ],
          "heatmap": [
           {
            "colorbar": {
             "outlinewidth": 0,
             "ticks": ""
            },
            "colorscale": [
             [
              0,
              "#0d0887"
             ],
             [
              0.1111111111111111,
              "#46039f"
             ],
             [
              0.2222222222222222,
              "#7201a8"
             ],
             [
              0.3333333333333333,
              "#9c179e"
             ],
             [
              0.4444444444444444,
              "#bd3786"
             ],
             [
              0.5555555555555556,
              "#d8576b"
             ],
             [
              0.6666666666666666,
              "#ed7953"
             ],
             [
              0.7777777777777778,
              "#fb9f3a"
             ],
             [
              0.8888888888888888,
              "#fdca26"
             ],
             [
              1,
              "#f0f921"
             ]
            ],
            "type": "heatmap"
           }
          ],
          "histogram": [
           {
            "marker": {
             "pattern": {
              "fillmode": "overlay",
              "size": 10,
              "solidity": 0.2
             }
            },
            "type": "histogram"
           }
          ],
          "histogram2d": [
           {
            "colorbar": {
             "outlinewidth": 0,
             "ticks": ""
            },
            "colorscale": [
             [
              0,
              "#0d0887"
             ],
             [
              0.1111111111111111,
              "#46039f"
             ],
             [
              0.2222222222222222,
              "#7201a8"
             ],
             [
              0.3333333333333333,
              "#9c179e"
             ],
             [
              0.4444444444444444,
              "#bd3786"
             ],
             [
              0.5555555555555556,
              "#d8576b"
             ],
             [
              0.6666666666666666,
              "#ed7953"
             ],
             [
              0.7777777777777778,
              "#fb9f3a"
             ],
             [
              0.8888888888888888,
              "#fdca26"
             ],
             [
              1,
              "#f0f921"
             ]
            ],
            "type": "histogram2d"
           }
          ],
          "histogram2dcontour": [
           {
            "colorbar": {
             "outlinewidth": 0,
             "ticks": ""
            },
            "colorscale": [
             [
              0,
              "#0d0887"
             ],
             [
              0.1111111111111111,
              "#46039f"
             ],
             [
              0.2222222222222222,
              "#7201a8"
             ],
             [
              0.3333333333333333,
              "#9c179e"
             ],
             [
              0.4444444444444444,
              "#bd3786"
             ],
             [
              0.5555555555555556,
              "#d8576b"
             ],
             [
              0.6666666666666666,
              "#ed7953"
             ],
             [
              0.7777777777777778,
              "#fb9f3a"
             ],
             [
              0.8888888888888888,
              "#fdca26"
             ],
             [
              1,
              "#f0f921"
             ]
            ],
            "type": "histogram2dcontour"
           }
          ],
          "mesh3d": [
           {
            "colorbar": {
             "outlinewidth": 0,
             "ticks": ""
            },
            "type": "mesh3d"
           }
          ],
          "parcoords": [
           {
            "line": {
             "colorbar": {
              "outlinewidth": 0,
              "ticks": ""
             }
            },
            "type": "parcoords"
           }
          ],
          "pie": [
           {
            "automargin": true,
            "type": "pie"
           }
          ],
          "scatter": [
           {
            "fillpattern": {
             "fillmode": "overlay",
             "size": 10,
             "solidity": 0.2
            },
            "type": "scatter"
           }
          ],
          "scatter3d": [
           {
            "line": {
             "colorbar": {
              "outlinewidth": 0,
              "ticks": ""
             }
            },
            "marker": {
             "colorbar": {
              "outlinewidth": 0,
              "ticks": ""
             }
            },
            "type": "scatter3d"
           }
          ],
          "scattercarpet": [
           {
            "marker": {
             "colorbar": {
              "outlinewidth": 0,
              "ticks": ""
             }
            },
            "type": "scattercarpet"
           }
          ],
          "scattergeo": [
           {
            "marker": {
             "colorbar": {
              "outlinewidth": 0,
              "ticks": ""
             }
            },
            "type": "scattergeo"
           }
          ],
          "scattergl": [
           {
            "marker": {
             "colorbar": {
              "outlinewidth": 0,
              "ticks": ""
             }
            },
            "type": "scattergl"
           }
          ],
          "scattermap": [
           {
            "marker": {
             "colorbar": {
              "outlinewidth": 0,
              "ticks": ""
             }
            },
            "type": "scattermap"
           }
          ],
          "scattermapbox": [
           {
            "marker": {
             "colorbar": {
              "outlinewidth": 0,
              "ticks": ""
             }
            },
            "type": "scattermapbox"
           }
          ],
          "scatterpolar": [
           {
            "marker": {
             "colorbar": {
              "outlinewidth": 0,
              "ticks": ""
             }
            },
            "type": "scatterpolar"
           }
          ],
          "scatterpolargl": [
           {
            "marker": {
             "colorbar": {
              "outlinewidth": 0,
              "ticks": ""
             }
            },
            "type": "scatterpolargl"
           }
          ],
          "scatterternary": [
           {
            "marker": {
             "colorbar": {
              "outlinewidth": 0,
              "ticks": ""
             }
            },
            "type": "scatterternary"
           }
          ],
          "surface": [
           {
            "colorbar": {
             "outlinewidth": 0,
             "ticks": ""
            },
            "colorscale": [
             [
              0,
              "#0d0887"
             ],
             [
              0.1111111111111111,
              "#46039f"
             ],
             [
              0.2222222222222222,
              "#7201a8"
             ],
             [
              0.3333333333333333,
              "#9c179e"
             ],
             [
              0.4444444444444444,
              "#bd3786"
             ],
             [
              0.5555555555555556,
              "#d8576b"
             ],
             [
              0.6666666666666666,
              "#ed7953"
             ],
             [
              0.7777777777777778,
              "#fb9f3a"
             ],
             [
              0.8888888888888888,
              "#fdca26"
             ],
             [
              1,
              "#f0f921"
             ]
            ],
            "type": "surface"
           }
          ],
          "table": [
           {
            "cells": {
             "fill": {
              "color": "#EBF0F8"
             },
             "line": {
              "color": "white"
             }
            },
            "header": {
             "fill": {
              "color": "#C8D4E3"
             },
             "line": {
              "color": "white"
             }
            },
            "type": "table"
           }
          ]
         },
         "layout": {
          "annotationdefaults": {
           "arrowcolor": "#2a3f5f",
           "arrowhead": 0,
           "arrowwidth": 1
          },
          "autotypenumbers": "strict",
          "coloraxis": {
           "colorbar": {
            "outlinewidth": 0,
            "ticks": ""
           }
          },
          "colorscale": {
           "diverging": [
            [
             0,
             "#8e0152"
            ],
            [
             0.1,
             "#c51b7d"
            ],
            [
             0.2,
             "#de77ae"
            ],
            [
             0.3,
             "#f1b6da"
            ],
            [
             0.4,
             "#fde0ef"
            ],
            [
             0.5,
             "#f7f7f7"
            ],
            [
             0.6,
             "#e6f5d0"
            ],
            [
             0.7,
             "#b8e186"
            ],
            [
             0.8,
             "#7fbc41"
            ],
            [
             0.9,
             "#4d9221"
            ],
            [
             1,
             "#276419"
            ]
           ],
           "sequential": [
            [
             0,
             "#0d0887"
            ],
            [
             0.1111111111111111,
             "#46039f"
            ],
            [
             0.2222222222222222,
             "#7201a8"
            ],
            [
             0.3333333333333333,
             "#9c179e"
            ],
            [
             0.4444444444444444,
             "#bd3786"
            ],
            [
             0.5555555555555556,
             "#d8576b"
            ],
            [
             0.6666666666666666,
             "#ed7953"
            ],
            [
             0.7777777777777778,
             "#fb9f3a"
            ],
            [
             0.8888888888888888,
             "#fdca26"
            ],
            [
             1,
             "#f0f921"
            ]
           ],
           "sequentialminus": [
            [
             0,
             "#0d0887"
            ],
            [
             0.1111111111111111,
             "#46039f"
            ],
            [
             0.2222222222222222,
             "#7201a8"
            ],
            [
             0.3333333333333333,
             "#9c179e"
            ],
            [
             0.4444444444444444,
             "#bd3786"
            ],
            [
             0.5555555555555556,
             "#d8576b"
            ],
            [
             0.6666666666666666,
             "#ed7953"
            ],
            [
             0.7777777777777778,
             "#fb9f3a"
            ],
            [
             0.8888888888888888,
             "#fdca26"
            ],
            [
             1,
             "#f0f921"
            ]
           ]
          },
          "colorway": [
           "#636efa",
           "#EF553B",
           "#00cc96",
           "#ab63fa",
           "#FFA15A",
           "#19d3f3",
           "#FF6692",
           "#B6E880",
           "#FF97FF",
           "#FECB52"
          ],
          "font": {
           "color": "#2a3f5f"
          },
          "geo": {
           "bgcolor": "white",
           "lakecolor": "white",
           "landcolor": "#E5ECF6",
           "showlakes": true,
           "showland": true,
           "subunitcolor": "white"
          },
          "hoverlabel": {
           "align": "left"
          },
          "hovermode": "closest",
          "mapbox": {
           "style": "light"
          },
          "paper_bgcolor": "white",
          "plot_bgcolor": "#E5ECF6",
          "polar": {
           "angularaxis": {
            "gridcolor": "white",
            "linecolor": "white",
            "ticks": ""
           },
           "bgcolor": "#E5ECF6",
           "radialaxis": {
            "gridcolor": "white",
            "linecolor": "white",
            "ticks": ""
           }
          },
          "scene": {
           "xaxis": {
            "backgroundcolor": "#E5ECF6",
            "gridcolor": "white",
            "gridwidth": 2,
            "linecolor": "white",
            "showbackground": true,
            "ticks": "",
            "zerolinecolor": "white"
           },
           "yaxis": {
            "backgroundcolor": "#E5ECF6",
            "gridcolor": "white",
            "gridwidth": 2,
            "linecolor": "white",
            "showbackground": true,
            "ticks": "",
            "zerolinecolor": "white"
           },
           "zaxis": {
            "backgroundcolor": "#E5ECF6",
            "gridcolor": "white",
            "gridwidth": 2,
            "linecolor": "white",
            "showbackground": true,
            "ticks": "",
            "zerolinecolor": "white"
           }
          },
          "shapedefaults": {
           "line": {
            "color": "#2a3f5f"
           }
          },
          "ternary": {
           "aaxis": {
            "gridcolor": "white",
            "linecolor": "white",
            "ticks": ""
           },
           "baxis": {
            "gridcolor": "white",
            "linecolor": "white",
            "ticks": ""
           },
           "bgcolor": "#E5ECF6",
           "caxis": {
            "gridcolor": "white",
            "linecolor": "white",
            "ticks": ""
           }
          },
          "title": {
           "x": 0.05
          },
          "xaxis": {
           "automargin": true,
           "gridcolor": "white",
           "linecolor": "white",
           "ticks": "",
           "title": {
            "standoff": 15
           },
           "zerolinecolor": "white",
           "zerolinewidth": 2
          },
          "yaxis": {
           "automargin": true,
           "gridcolor": "white",
           "linecolor": "white",
           "ticks": "",
           "title": {
            "standoff": 15
           },
           "zerolinecolor": "white",
           "zerolinewidth": 2
          }
         }
        },
        "title": {
         "text": "Number of diagnosed COVID-19 cases over time - Czechia vs. United States"
        },
        "xaxis": {
         "anchor": "y",
         "domain": [
          0,
          1
         ],
         "title": {
          "text": "Date"
         }
        },
        "yaxis": {
         "anchor": "x",
         "domain": [
          0,
          1
         ],
         "title": {
          "text": "Number of diagnosed cases"
         }
        }
       }
      }
     },
     "metadata": {},
     "output_type": "display_data"
    }
   ],
   "source": [
    "fig = px.line(df_new_cases, \n",
    "              x=\"date\", \n",
    "              y=\"new_cases\", \n",
    "              title= 'Number of diagnosed COVID-19 cases over time - Czechia vs. United States',\n",
    "              color=\"location\",\n",
    "              color_discrete_sequence=[\"red\", \"orange\"],\n",
    "              labels={'date' : 'Date', 'new_cases' : 'Number of diagnosed cases', 'location' : 'Location'})\n",
    "fig.show()\n"
   ]
  },
  {
   "cell_type": "markdown",
   "metadata": {},
   "source": [
    "#### COVID-19 map"
   ]
  },
  {
   "cell_type": "code",
   "execution_count": 40,
   "metadata": {},
   "outputs": [
    {
     "data": {
      "text/html": [
       "<div>\n",
       "<style scoped>\n",
       "    .dataframe tbody tr th:only-of-type {\n",
       "        vertical-align: middle;\n",
       "    }\n",
       "\n",
       "    .dataframe tbody tr th {\n",
       "        vertical-align: top;\n",
       "    }\n",
       "\n",
       "    .dataframe thead th {\n",
       "        text-align: right;\n",
       "    }\n",
       "</style>\n",
       "<table border=\"1\" class=\"dataframe\">\n",
       "  <thead>\n",
       "    <tr style=\"text-align: right;\">\n",
       "      <th></th>\n",
       "      <th>index</th>\n",
       "      <th>iso_code</th>\n",
       "      <th>continent</th>\n",
       "      <th>location</th>\n",
       "      <th>date</th>\n",
       "      <th>total_cases</th>\n",
       "      <th>new_cases</th>\n",
       "      <th>total_deaths</th>\n",
       "      <th>new_deaths</th>\n",
       "      <th>hosp_patients</th>\n",
       "      <th>...</th>\n",
       "      <th>people_vaccinated</th>\n",
       "      <th>people_fully_vaccinated</th>\n",
       "      <th>total_boosters</th>\n",
       "      <th>new_vaccinations</th>\n",
       "      <th>population</th>\n",
       "      <th>median_age</th>\n",
       "      <th>gdp_per_capita</th>\n",
       "      <th>life_expectancy</th>\n",
       "      <th>latitude</th>\n",
       "      <th>longitude</th>\n",
       "    </tr>\n",
       "  </thead>\n",
       "  <tbody>\n",
       "    <tr>\n",
       "      <th>845</th>\n",
       "      <td>845</td>\n",
       "      <td>AFG</td>\n",
       "      <td>Asia</td>\n",
       "      <td>Afghanistan</td>\n",
       "      <td>2022-06-18</td>\n",
       "      <td>181574.0</td>\n",
       "      <td>40.0</td>\n",
       "      <td>7713.0</td>\n",
       "      <td>0.0</td>\n",
       "      <td>NaN</td>\n",
       "      <td>...</td>\n",
       "      <td>NaN</td>\n",
       "      <td>NaN</td>\n",
       "      <td>NaN</td>\n",
       "      <td>NaN</td>\n",
       "      <td>39835428.0</td>\n",
       "      <td>18.6</td>\n",
       "      <td>1803.987</td>\n",
       "      <td>64.83</td>\n",
       "      <td>33.0</td>\n",
       "      <td>65.0</td>\n",
       "    </tr>\n",
       "    <tr>\n",
       "      <th>1690</th>\n",
       "      <td>1690</td>\n",
       "      <td>ALB</td>\n",
       "      <td>Europe</td>\n",
       "      <td>Albania</td>\n",
       "      <td>2022-06-18</td>\n",
       "      <td>277141.0</td>\n",
       "      <td>NaN</td>\n",
       "      <td>3497.0</td>\n",
       "      <td>0.0</td>\n",
       "      <td>NaN</td>\n",
       "      <td>...</td>\n",
       "      <td>NaN</td>\n",
       "      <td>NaN</td>\n",
       "      <td>NaN</td>\n",
       "      <td>NaN</td>\n",
       "      <td>2872934.0</td>\n",
       "      <td>38.0</td>\n",
       "      <td>11803.431</td>\n",
       "      <td>78.57</td>\n",
       "      <td>41.0</td>\n",
       "      <td>20.0</td>\n",
       "    </tr>\n",
       "    <tr>\n",
       "      <th>2535</th>\n",
       "      <td>2535</td>\n",
       "      <td>DZA</td>\n",
       "      <td>Africa</td>\n",
       "      <td>Algeria</td>\n",
       "      <td>2022-06-18</td>\n",
       "      <td>265971.0</td>\n",
       "      <td>3.0</td>\n",
       "      <td>6875.0</td>\n",
       "      <td>0.0</td>\n",
       "      <td>NaN</td>\n",
       "      <td>...</td>\n",
       "      <td>NaN</td>\n",
       "      <td>NaN</td>\n",
       "      <td>NaN</td>\n",
       "      <td>NaN</td>\n",
       "      <td>44616626.0</td>\n",
       "      <td>29.1</td>\n",
       "      <td>13913.839</td>\n",
       "      <td>76.88</td>\n",
       "      <td>28.0</td>\n",
       "      <td>3.0</td>\n",
       "    </tr>\n",
       "    <tr>\n",
       "      <th>3374</th>\n",
       "      <td>3374</td>\n",
       "      <td>AND</td>\n",
       "      <td>Europe</td>\n",
       "      <td>Andorra</td>\n",
       "      <td>2022-06-18</td>\n",
       "      <td>43449.0</td>\n",
       "      <td>NaN</td>\n",
       "      <td>153.0</td>\n",
       "      <td>0.0</td>\n",
       "      <td>NaN</td>\n",
       "      <td>...</td>\n",
       "      <td>NaN</td>\n",
       "      <td>NaN</td>\n",
       "      <td>NaN</td>\n",
       "      <td>NaN</td>\n",
       "      <td>77354.0</td>\n",
       "      <td>NaN</td>\n",
       "      <td>NaN</td>\n",
       "      <td>83.73</td>\n",
       "      <td>42.5</td>\n",
       "      <td>1.6</td>\n",
       "    </tr>\n",
       "    <tr>\n",
       "      <th>4195</th>\n",
       "      <td>4195</td>\n",
       "      <td>AGO</td>\n",
       "      <td>Africa</td>\n",
       "      <td>Angola</td>\n",
       "      <td>2022-06-18</td>\n",
       "      <td>99761.0</td>\n",
       "      <td>0.0</td>\n",
       "      <td>1900.0</td>\n",
       "      <td>0.0</td>\n",
       "      <td>NaN</td>\n",
       "      <td>...</td>\n",
       "      <td>NaN</td>\n",
       "      <td>NaN</td>\n",
       "      <td>NaN</td>\n",
       "      <td>NaN</td>\n",
       "      <td>33933611.0</td>\n",
       "      <td>16.8</td>\n",
       "      <td>5819.495</td>\n",
       "      <td>61.15</td>\n",
       "      <td>-12.5</td>\n",
       "      <td>18.5</td>\n",
       "    </tr>\n",
       "    <tr>\n",
       "      <th>...</th>\n",
       "      <td>...</td>\n",
       "      <td>...</td>\n",
       "      <td>...</td>\n",
       "      <td>...</td>\n",
       "      <td>...</td>\n",
       "      <td>...</td>\n",
       "      <td>...</td>\n",
       "      <td>...</td>\n",
       "      <td>...</td>\n",
       "      <td>...</td>\n",
       "      <td>...</td>\n",
       "      <td>...</td>\n",
       "      <td>...</td>\n",
       "      <td>...</td>\n",
       "      <td>...</td>\n",
       "      <td>...</td>\n",
       "      <td>...</td>\n",
       "      <td>...</td>\n",
       "      <td>...</td>\n",
       "      <td>...</td>\n",
       "      <td>...</td>\n",
       "    </tr>\n",
       "    <tr>\n",
       "      <th>178031</th>\n",
       "      <td>188167</td>\n",
       "      <td>WLF</td>\n",
       "      <td>Oceania</td>\n",
       "      <td>Wallis and Futuna</td>\n",
       "      <td>2022-06-18</td>\n",
       "      <td>454.0</td>\n",
       "      <td>0.0</td>\n",
       "      <td>7.0</td>\n",
       "      <td>0.0</td>\n",
       "      <td>NaN</td>\n",
       "      <td>...</td>\n",
       "      <td>NaN</td>\n",
       "      <td>NaN</td>\n",
       "      <td>NaN</td>\n",
       "      <td>NaN</td>\n",
       "      <td>11094.0</td>\n",
       "      <td>NaN</td>\n",
       "      <td>NaN</td>\n",
       "      <td>79.94</td>\n",
       "      <td>-13.3</td>\n",
       "      <td>-176.2</td>\n",
       "    </tr>\n",
       "    <tr>\n",
       "      <th>178032</th>\n",
       "      <td>188168</td>\n",
       "      <td>ESH</td>\n",
       "      <td>Africa</td>\n",
       "      <td>Western Sahara</td>\n",
       "      <td>2022-04-20</td>\n",
       "      <td>NaN</td>\n",
       "      <td>NaN</td>\n",
       "      <td>NaN</td>\n",
       "      <td>NaN</td>\n",
       "      <td>NaN</td>\n",
       "      <td>...</td>\n",
       "      <td>NaN</td>\n",
       "      <td>NaN</td>\n",
       "      <td>NaN</td>\n",
       "      <td>NaN</td>\n",
       "      <td>611872.0</td>\n",
       "      <td>28.4</td>\n",
       "      <td>NaN</td>\n",
       "      <td>70.26</td>\n",
       "      <td>24.5</td>\n",
       "      <td>-13.0</td>\n",
       "    </tr>\n",
       "    <tr>\n",
       "      <th>178832</th>\n",
       "      <td>188968</td>\n",
       "      <td>YEM</td>\n",
       "      <td>Asia</td>\n",
       "      <td>Yemen</td>\n",
       "      <td>2022-06-18</td>\n",
       "      <td>11823.0</td>\n",
       "      <td>0.0</td>\n",
       "      <td>2149.0</td>\n",
       "      <td>0.0</td>\n",
       "      <td>NaN</td>\n",
       "      <td>...</td>\n",
       "      <td>NaN</td>\n",
       "      <td>NaN</td>\n",
       "      <td>NaN</td>\n",
       "      <td>NaN</td>\n",
       "      <td>30490639.0</td>\n",
       "      <td>20.3</td>\n",
       "      <td>1479.147</td>\n",
       "      <td>66.12</td>\n",
       "      <td>15.0</td>\n",
       "      <td>48.0</td>\n",
       "    </tr>\n",
       "    <tr>\n",
       "      <th>179655</th>\n",
       "      <td>189791</td>\n",
       "      <td>ZMB</td>\n",
       "      <td>Africa</td>\n",
       "      <td>Zambia</td>\n",
       "      <td>2022-06-18</td>\n",
       "      <td>324025.0</td>\n",
       "      <td>NaN</td>\n",
       "      <td>3992.0</td>\n",
       "      <td>0.0</td>\n",
       "      <td>NaN</td>\n",
       "      <td>...</td>\n",
       "      <td>NaN</td>\n",
       "      <td>NaN</td>\n",
       "      <td>NaN</td>\n",
       "      <td>NaN</td>\n",
       "      <td>18920657.0</td>\n",
       "      <td>17.7</td>\n",
       "      <td>3689.251</td>\n",
       "      <td>63.89</td>\n",
       "      <td>-15.0</td>\n",
       "      <td>30.0</td>\n",
       "    </tr>\n",
       "    <tr>\n",
       "      <th>180476</th>\n",
       "      <td>190612</td>\n",
       "      <td>ZWE</td>\n",
       "      <td>Africa</td>\n",
       "      <td>Zimbabwe</td>\n",
       "      <td>2022-06-18</td>\n",
       "      <td>254753.0</td>\n",
       "      <td>NaN</td>\n",
       "      <td>5533.0</td>\n",
       "      <td>0.0</td>\n",
       "      <td>NaN</td>\n",
       "      <td>...</td>\n",
       "      <td>NaN</td>\n",
       "      <td>NaN</td>\n",
       "      <td>NaN</td>\n",
       "      <td>NaN</td>\n",
       "      <td>15092171.0</td>\n",
       "      <td>19.6</td>\n",
       "      <td>1899.775</td>\n",
       "      <td>61.49</td>\n",
       "      <td>-20.0</td>\n",
       "      <td>30.0</td>\n",
       "    </tr>\n",
       "  </tbody>\n",
       "</table>\n",
       "<p>226 rows × 24 columns</p>\n",
       "</div>"
      ],
      "text/plain": [
       "         index iso_code continent           location       date  total_cases  \\\n",
       "845        845      AFG      Asia        Afghanistan 2022-06-18     181574.0   \n",
       "1690      1690      ALB    Europe            Albania 2022-06-18     277141.0   \n",
       "2535      2535      DZA    Africa            Algeria 2022-06-18     265971.0   \n",
       "3374      3374      AND    Europe            Andorra 2022-06-18      43449.0   \n",
       "4195      4195      AGO    Africa             Angola 2022-06-18      99761.0   \n",
       "...        ...      ...       ...                ...        ...          ...   \n",
       "178031  188167      WLF   Oceania  Wallis and Futuna 2022-06-18        454.0   \n",
       "178032  188168      ESH    Africa     Western Sahara 2022-04-20          NaN   \n",
       "178832  188968      YEM      Asia              Yemen 2022-06-18      11823.0   \n",
       "179655  189791      ZMB    Africa             Zambia 2022-06-18     324025.0   \n",
       "180476  190612      ZWE    Africa           Zimbabwe 2022-06-18     254753.0   \n",
       "\n",
       "        new_cases  total_deaths  new_deaths  hosp_patients  ...  \\\n",
       "845          40.0        7713.0         0.0            NaN  ...   \n",
       "1690          NaN        3497.0         0.0            NaN  ...   \n",
       "2535          3.0        6875.0         0.0            NaN  ...   \n",
       "3374          NaN         153.0         0.0            NaN  ...   \n",
       "4195          0.0        1900.0         0.0            NaN  ...   \n",
       "...           ...           ...         ...            ...  ...   \n",
       "178031        0.0           7.0         0.0            NaN  ...   \n",
       "178032        NaN           NaN         NaN            NaN  ...   \n",
       "178832        0.0        2149.0         0.0            NaN  ...   \n",
       "179655        NaN        3992.0         0.0            NaN  ...   \n",
       "180476        NaN        5533.0         0.0            NaN  ...   \n",
       "\n",
       "        people_vaccinated  people_fully_vaccinated  total_boosters  \\\n",
       "845                   NaN                      NaN             NaN   \n",
       "1690                  NaN                      NaN             NaN   \n",
       "2535                  NaN                      NaN             NaN   \n",
       "3374                  NaN                      NaN             NaN   \n",
       "4195                  NaN                      NaN             NaN   \n",
       "...                   ...                      ...             ...   \n",
       "178031                NaN                      NaN             NaN   \n",
       "178032                NaN                      NaN             NaN   \n",
       "178832                NaN                      NaN             NaN   \n",
       "179655                NaN                      NaN             NaN   \n",
       "180476                NaN                      NaN             NaN   \n",
       "\n",
       "        new_vaccinations  population  median_age  gdp_per_capita  \\\n",
       "845                  NaN  39835428.0        18.6        1803.987   \n",
       "1690                 NaN   2872934.0        38.0       11803.431   \n",
       "2535                 NaN  44616626.0        29.1       13913.839   \n",
       "3374                 NaN     77354.0         NaN             NaN   \n",
       "4195                 NaN  33933611.0        16.8        5819.495   \n",
       "...                  ...         ...         ...             ...   \n",
       "178031               NaN     11094.0         NaN             NaN   \n",
       "178032               NaN    611872.0        28.4             NaN   \n",
       "178832               NaN  30490639.0        20.3        1479.147   \n",
       "179655               NaN  18920657.0        17.7        3689.251   \n",
       "180476               NaN  15092171.0        19.6        1899.775   \n",
       "\n",
       "        life_expectancy  latitude  longitude  \n",
       "845               64.83      33.0       65.0  \n",
       "1690              78.57      41.0       20.0  \n",
       "2535              76.88      28.0        3.0  \n",
       "3374              83.73      42.5        1.6  \n",
       "4195              61.15     -12.5       18.5  \n",
       "...                 ...       ...        ...  \n",
       "178031            79.94     -13.3     -176.2  \n",
       "178032            70.26      24.5      -13.0  \n",
       "178832            66.12      15.0       48.0  \n",
       "179655            63.89     -15.0       30.0  \n",
       "180476            61.49     -20.0       30.0  \n",
       "\n",
       "[226 rows x 24 columns]"
      ]
     },
     "execution_count": 40,
     "metadata": {},
     "output_type": "execute_result"
    }
   ],
   "source": [
    "df_final = df.loc[df.groupby(\"location\")[\"date\"].idxmax()]\n",
    "df_final"
   ]
  },
  {
   "cell_type": "code",
   "execution_count": 41,
   "metadata": {},
   "outputs": [
    {
     "data": {
      "text/html": [
       "<div>\n",
       "<style scoped>\n",
       "    .dataframe tbody tr th:only-of-type {\n",
       "        vertical-align: middle;\n",
       "    }\n",
       "\n",
       "    .dataframe tbody tr th {\n",
       "        vertical-align: top;\n",
       "    }\n",
       "\n",
       "    .dataframe thead th {\n",
       "        text-align: right;\n",
       "    }\n",
       "</style>\n",
       "<table border=\"1\" class=\"dataframe\">\n",
       "  <thead>\n",
       "    <tr style=\"text-align: right;\">\n",
       "      <th></th>\n",
       "      <th>index</th>\n",
       "      <th>iso_code</th>\n",
       "      <th>continent</th>\n",
       "      <th>location</th>\n",
       "      <th>date</th>\n",
       "      <th>total_cases</th>\n",
       "      <th>new_cases</th>\n",
       "      <th>total_deaths</th>\n",
       "      <th>new_deaths</th>\n",
       "      <th>hosp_patients</th>\n",
       "      <th>...</th>\n",
       "      <th>people_fully_vaccinated</th>\n",
       "      <th>total_boosters</th>\n",
       "      <th>new_vaccinations</th>\n",
       "      <th>population</th>\n",
       "      <th>median_age</th>\n",
       "      <th>gdp_per_capita</th>\n",
       "      <th>life_expectancy</th>\n",
       "      <th>latitude</th>\n",
       "      <th>longitude</th>\n",
       "      <th>ratio</th>\n",
       "    </tr>\n",
       "  </thead>\n",
       "  <tbody>\n",
       "    <tr>\n",
       "      <th>845</th>\n",
       "      <td>845</td>\n",
       "      <td>AFG</td>\n",
       "      <td>Asia</td>\n",
       "      <td>Afghanistan</td>\n",
       "      <td>2022-06-18</td>\n",
       "      <td>181574.0</td>\n",
       "      <td>40.0</td>\n",
       "      <td>7713.0</td>\n",
       "      <td>0.0</td>\n",
       "      <td>NaN</td>\n",
       "      <td>...</td>\n",
       "      <td>NaN</td>\n",
       "      <td>NaN</td>\n",
       "      <td>NaN</td>\n",
       "      <td>39835428.0</td>\n",
       "      <td>18.6</td>\n",
       "      <td>1803.987</td>\n",
       "      <td>64.83</td>\n",
       "      <td>33.0</td>\n",
       "      <td>65.0</td>\n",
       "      <td>0.00456</td>\n",
       "    </tr>\n",
       "    <tr>\n",
       "      <th>1690</th>\n",
       "      <td>1690</td>\n",
       "      <td>ALB</td>\n",
       "      <td>Europe</td>\n",
       "      <td>Albania</td>\n",
       "      <td>2022-06-18</td>\n",
       "      <td>277141.0</td>\n",
       "      <td>NaN</td>\n",
       "      <td>3497.0</td>\n",
       "      <td>0.0</td>\n",
       "      <td>NaN</td>\n",
       "      <td>...</td>\n",
       "      <td>NaN</td>\n",
       "      <td>NaN</td>\n",
       "      <td>NaN</td>\n",
       "      <td>2872934.0</td>\n",
       "      <td>38.0</td>\n",
       "      <td>11803.431</td>\n",
       "      <td>78.57</td>\n",
       "      <td>41.0</td>\n",
       "      <td>20.0</td>\n",
       "      <td>0.09647</td>\n",
       "    </tr>\n",
       "    <tr>\n",
       "      <th>2535</th>\n",
       "      <td>2535</td>\n",
       "      <td>DZA</td>\n",
       "      <td>Africa</td>\n",
       "      <td>Algeria</td>\n",
       "      <td>2022-06-18</td>\n",
       "      <td>265971.0</td>\n",
       "      <td>3.0</td>\n",
       "      <td>6875.0</td>\n",
       "      <td>0.0</td>\n",
       "      <td>NaN</td>\n",
       "      <td>...</td>\n",
       "      <td>NaN</td>\n",
       "      <td>NaN</td>\n",
       "      <td>NaN</td>\n",
       "      <td>44616626.0</td>\n",
       "      <td>29.1</td>\n",
       "      <td>13913.839</td>\n",
       "      <td>76.88</td>\n",
       "      <td>28.0</td>\n",
       "      <td>3.0</td>\n",
       "      <td>0.00596</td>\n",
       "    </tr>\n",
       "    <tr>\n",
       "      <th>3374</th>\n",
       "      <td>3374</td>\n",
       "      <td>AND</td>\n",
       "      <td>Europe</td>\n",
       "      <td>Andorra</td>\n",
       "      <td>2022-06-18</td>\n",
       "      <td>43449.0</td>\n",
       "      <td>NaN</td>\n",
       "      <td>153.0</td>\n",
       "      <td>0.0</td>\n",
       "      <td>NaN</td>\n",
       "      <td>...</td>\n",
       "      <td>NaN</td>\n",
       "      <td>NaN</td>\n",
       "      <td>NaN</td>\n",
       "      <td>77354.0</td>\n",
       "      <td>NaN</td>\n",
       "      <td>NaN</td>\n",
       "      <td>83.73</td>\n",
       "      <td>42.5</td>\n",
       "      <td>1.6</td>\n",
       "      <td>0.56169</td>\n",
       "    </tr>\n",
       "    <tr>\n",
       "      <th>4195</th>\n",
       "      <td>4195</td>\n",
       "      <td>AGO</td>\n",
       "      <td>Africa</td>\n",
       "      <td>Angola</td>\n",
       "      <td>2022-06-18</td>\n",
       "      <td>99761.0</td>\n",
       "      <td>0.0</td>\n",
       "      <td>1900.0</td>\n",
       "      <td>0.0</td>\n",
       "      <td>NaN</td>\n",
       "      <td>...</td>\n",
       "      <td>NaN</td>\n",
       "      <td>NaN</td>\n",
       "      <td>NaN</td>\n",
       "      <td>33933611.0</td>\n",
       "      <td>16.8</td>\n",
       "      <td>5819.495</td>\n",
       "      <td>61.15</td>\n",
       "      <td>-12.5</td>\n",
       "      <td>18.5</td>\n",
       "      <td>0.00294</td>\n",
       "    </tr>\n",
       "    <tr>\n",
       "      <th>...</th>\n",
       "      <td>...</td>\n",
       "      <td>...</td>\n",
       "      <td>...</td>\n",
       "      <td>...</td>\n",
       "      <td>...</td>\n",
       "      <td>...</td>\n",
       "      <td>...</td>\n",
       "      <td>...</td>\n",
       "      <td>...</td>\n",
       "      <td>...</td>\n",
       "      <td>...</td>\n",
       "      <td>...</td>\n",
       "      <td>...</td>\n",
       "      <td>...</td>\n",
       "      <td>...</td>\n",
       "      <td>...</td>\n",
       "      <td>...</td>\n",
       "      <td>...</td>\n",
       "      <td>...</td>\n",
       "      <td>...</td>\n",
       "      <td>...</td>\n",
       "    </tr>\n",
       "    <tr>\n",
       "      <th>178031</th>\n",
       "      <td>188167</td>\n",
       "      <td>WLF</td>\n",
       "      <td>Oceania</td>\n",
       "      <td>Wallis and Futuna</td>\n",
       "      <td>2022-06-18</td>\n",
       "      <td>454.0</td>\n",
       "      <td>0.0</td>\n",
       "      <td>7.0</td>\n",
       "      <td>0.0</td>\n",
       "      <td>NaN</td>\n",
       "      <td>...</td>\n",
       "      <td>NaN</td>\n",
       "      <td>NaN</td>\n",
       "      <td>NaN</td>\n",
       "      <td>11094.0</td>\n",
       "      <td>NaN</td>\n",
       "      <td>NaN</td>\n",
       "      <td>79.94</td>\n",
       "      <td>-13.3</td>\n",
       "      <td>-176.2</td>\n",
       "      <td>0.04092</td>\n",
       "    </tr>\n",
       "    <tr>\n",
       "      <th>178032</th>\n",
       "      <td>188168</td>\n",
       "      <td>ESH</td>\n",
       "      <td>Africa</td>\n",
       "      <td>Western Sahara</td>\n",
       "      <td>2022-04-20</td>\n",
       "      <td>NaN</td>\n",
       "      <td>NaN</td>\n",
       "      <td>NaN</td>\n",
       "      <td>NaN</td>\n",
       "      <td>NaN</td>\n",
       "      <td>...</td>\n",
       "      <td>NaN</td>\n",
       "      <td>NaN</td>\n",
       "      <td>NaN</td>\n",
       "      <td>611872.0</td>\n",
       "      <td>28.4</td>\n",
       "      <td>NaN</td>\n",
       "      <td>70.26</td>\n",
       "      <td>24.5</td>\n",
       "      <td>-13.0</td>\n",
       "      <td>NaN</td>\n",
       "    </tr>\n",
       "    <tr>\n",
       "      <th>178832</th>\n",
       "      <td>188968</td>\n",
       "      <td>YEM</td>\n",
       "      <td>Asia</td>\n",
       "      <td>Yemen</td>\n",
       "      <td>2022-06-18</td>\n",
       "      <td>11823.0</td>\n",
       "      <td>0.0</td>\n",
       "      <td>2149.0</td>\n",
       "      <td>0.0</td>\n",
       "      <td>NaN</td>\n",
       "      <td>...</td>\n",
       "      <td>NaN</td>\n",
       "      <td>NaN</td>\n",
       "      <td>NaN</td>\n",
       "      <td>30490639.0</td>\n",
       "      <td>20.3</td>\n",
       "      <td>1479.147</td>\n",
       "      <td>66.12</td>\n",
       "      <td>15.0</td>\n",
       "      <td>48.0</td>\n",
       "      <td>0.00039</td>\n",
       "    </tr>\n",
       "    <tr>\n",
       "      <th>179655</th>\n",
       "      <td>189791</td>\n",
       "      <td>ZMB</td>\n",
       "      <td>Africa</td>\n",
       "      <td>Zambia</td>\n",
       "      <td>2022-06-18</td>\n",
       "      <td>324025.0</td>\n",
       "      <td>NaN</td>\n",
       "      <td>3992.0</td>\n",
       "      <td>0.0</td>\n",
       "      <td>NaN</td>\n",
       "      <td>...</td>\n",
       "      <td>NaN</td>\n",
       "      <td>NaN</td>\n",
       "      <td>NaN</td>\n",
       "      <td>18920657.0</td>\n",
       "      <td>17.7</td>\n",
       "      <td>3689.251</td>\n",
       "      <td>63.89</td>\n",
       "      <td>-15.0</td>\n",
       "      <td>30.0</td>\n",
       "      <td>0.01713</td>\n",
       "    </tr>\n",
       "    <tr>\n",
       "      <th>180476</th>\n",
       "      <td>190612</td>\n",
       "      <td>ZWE</td>\n",
       "      <td>Africa</td>\n",
       "      <td>Zimbabwe</td>\n",
       "      <td>2022-06-18</td>\n",
       "      <td>254753.0</td>\n",
       "      <td>NaN</td>\n",
       "      <td>5533.0</td>\n",
       "      <td>0.0</td>\n",
       "      <td>NaN</td>\n",
       "      <td>...</td>\n",
       "      <td>NaN</td>\n",
       "      <td>NaN</td>\n",
       "      <td>NaN</td>\n",
       "      <td>15092171.0</td>\n",
       "      <td>19.6</td>\n",
       "      <td>1899.775</td>\n",
       "      <td>61.49</td>\n",
       "      <td>-20.0</td>\n",
       "      <td>30.0</td>\n",
       "      <td>0.01688</td>\n",
       "    </tr>\n",
       "  </tbody>\n",
       "</table>\n",
       "<p>226 rows × 25 columns</p>\n",
       "</div>"
      ],
      "text/plain": [
       "         index iso_code continent           location       date  total_cases  \\\n",
       "845        845      AFG      Asia        Afghanistan 2022-06-18     181574.0   \n",
       "1690      1690      ALB    Europe            Albania 2022-06-18     277141.0   \n",
       "2535      2535      DZA    Africa            Algeria 2022-06-18     265971.0   \n",
       "3374      3374      AND    Europe            Andorra 2022-06-18      43449.0   \n",
       "4195      4195      AGO    Africa             Angola 2022-06-18      99761.0   \n",
       "...        ...      ...       ...                ...        ...          ...   \n",
       "178031  188167      WLF   Oceania  Wallis and Futuna 2022-06-18        454.0   \n",
       "178032  188168      ESH    Africa     Western Sahara 2022-04-20          NaN   \n",
       "178832  188968      YEM      Asia              Yemen 2022-06-18      11823.0   \n",
       "179655  189791      ZMB    Africa             Zambia 2022-06-18     324025.0   \n",
       "180476  190612      ZWE    Africa           Zimbabwe 2022-06-18     254753.0   \n",
       "\n",
       "        new_cases  total_deaths  new_deaths  hosp_patients  ...  \\\n",
       "845          40.0        7713.0         0.0            NaN  ...   \n",
       "1690          NaN        3497.0         0.0            NaN  ...   \n",
       "2535          3.0        6875.0         0.0            NaN  ...   \n",
       "3374          NaN         153.0         0.0            NaN  ...   \n",
       "4195          0.0        1900.0         0.0            NaN  ...   \n",
       "...           ...           ...         ...            ...  ...   \n",
       "178031        0.0           7.0         0.0            NaN  ...   \n",
       "178032        NaN           NaN         NaN            NaN  ...   \n",
       "178832        0.0        2149.0         0.0            NaN  ...   \n",
       "179655        NaN        3992.0         0.0            NaN  ...   \n",
       "180476        NaN        5533.0         0.0            NaN  ...   \n",
       "\n",
       "        people_fully_vaccinated  total_boosters  new_vaccinations  population  \\\n",
       "845                         NaN             NaN               NaN  39835428.0   \n",
       "1690                        NaN             NaN               NaN   2872934.0   \n",
       "2535                        NaN             NaN               NaN  44616626.0   \n",
       "3374                        NaN             NaN               NaN     77354.0   \n",
       "4195                        NaN             NaN               NaN  33933611.0   \n",
       "...                         ...             ...               ...         ...   \n",
       "178031                      NaN             NaN               NaN     11094.0   \n",
       "178032                      NaN             NaN               NaN    611872.0   \n",
       "178832                      NaN             NaN               NaN  30490639.0   \n",
       "179655                      NaN             NaN               NaN  18920657.0   \n",
       "180476                      NaN             NaN               NaN  15092171.0   \n",
       "\n",
       "        median_age  gdp_per_capita  life_expectancy  latitude  longitude  \\\n",
       "845           18.6        1803.987            64.83      33.0       65.0   \n",
       "1690          38.0       11803.431            78.57      41.0       20.0   \n",
       "2535          29.1       13913.839            76.88      28.0        3.0   \n",
       "3374           NaN             NaN            83.73      42.5        1.6   \n",
       "4195          16.8        5819.495            61.15     -12.5       18.5   \n",
       "...            ...             ...              ...       ...        ...   \n",
       "178031         NaN             NaN            79.94     -13.3     -176.2   \n",
       "178032        28.4             NaN            70.26      24.5      -13.0   \n",
       "178832        20.3        1479.147            66.12      15.0       48.0   \n",
       "179655        17.7        3689.251            63.89     -15.0       30.0   \n",
       "180476        19.6        1899.775            61.49     -20.0       30.0   \n",
       "\n",
       "          ratio  \n",
       "845     0.00456  \n",
       "1690    0.09647  \n",
       "2535    0.00596  \n",
       "3374    0.56169  \n",
       "4195    0.00294  \n",
       "...         ...  \n",
       "178031  0.04092  \n",
       "178032      NaN  \n",
       "178832  0.00039  \n",
       "179655  0.01713  \n",
       "180476  0.01688  \n",
       "\n",
       "[226 rows x 25 columns]"
      ]
     },
     "execution_count": 41,
     "metadata": {},
     "output_type": "execute_result"
    }
   ],
   "source": [
    "df_final['ratio'] = (df_final['total_cases'] / df_final['population']).round(5)\n",
    "df_final"
   ]
  },
  {
   "cell_type": "code",
   "execution_count": 42,
   "metadata": {},
   "outputs": [
    {
     "name": "stderr",
     "output_type": "stream",
     "text": [
      "C:\\Users\\Mark\\AppData\\Local\\Temp\\ipykernel_36240\\2612971903.py:2: SettingWithCopyWarning:\n",
      "\n",
      "\n",
      "A value is trying to be set on a copy of a slice from a DataFrame.\n",
      "Try using .loc[row_indexer,col_indexer] = value instead\n",
      "\n",
      "See the caveats in the documentation: https://pandas.pydata.org/pandas-docs/stable/user_guide/indexing.html#returning-a-view-versus-a-copy\n",
      "\n"
     ]
    }
   ],
   "source": [
    "df_final = df_final.dropna(subset=['ratio'])\n",
    "df_final['ratio'] = df_final['ratio'].fillna(0)"
   ]
  },
  {
   "cell_type": "markdown",
   "metadata": {},
   "source": [
    "##### Variant A)"
   ]
  },
  {
   "cell_type": "code",
   "execution_count": 43,
   "metadata": {},
   "outputs": [
    {
     "data": {
      "application/vnd.plotly.v1+json": {
       "config": {
        "plotlyServerURL": "https://plot.ly"
       },
       "data": [
        {
         "coloraxis": "coloraxis",
         "geo": "geo",
         "hovertemplate": "Location=%{location}<br>Disease cases (M)=%{z}<extra></extra>",
         "locationmode": "country names",
         "locations": [
          "Afghanistan",
          "Albania",
          "Algeria",
          "Andorra",
          "Angola",
          "Anguilla",
          "Antigua and Barbuda",
          "Argentina",
          "Armenia",
          "Aruba",
          "Australia",
          "Austria",
          "Azerbaijan",
          "Bahamas",
          "Bahrain",
          "Bangladesh",
          "Barbados",
          "Belarus",
          "Belgium",
          "Belize",
          "Benin",
          "Bermuda",
          "Bhutan",
          "Bolivia",
          "Bosnia and Herzegovina",
          "Botswana",
          "Brazil",
          "British Virgin Islands",
          "Brunei",
          "Bulgaria",
          "Burkina Faso",
          "Burundi",
          "Cambodia",
          "Cameroon",
          "Canada",
          "Cape Verde",
          "Cayman Islands",
          "Central African Republic",
          "Chad",
          "Chile",
          "China",
          "Colombia",
          "Comoros",
          "Congo",
          "Cook Islands",
          "Costa Rica",
          "Cote d'Ivoire",
          "Croatia",
          "Cuba",
          "Cyprus",
          "Czechia",
          "Democratic Republic of Congo",
          "Denmark",
          "Djibouti",
          "Dominica",
          "Dominican Republic",
          "Ecuador",
          "Egypt",
          "El Salvador",
          "Equatorial Guinea",
          "Eritrea",
          "Estonia",
          "Eswatini",
          "Ethiopia",
          "Faeroe Islands",
          "Falkland Islands",
          "Fiji",
          "Finland",
          "France",
          "French Polynesia",
          "Gabon",
          "Gambia",
          "Georgia",
          "Germany",
          "Ghana",
          "Gibraltar",
          "Greece",
          "Greenland",
          "Grenada",
          "Guatemala",
          "Guinea",
          "Guinea-Bissau",
          "Guyana",
          "Haiti",
          "Honduras",
          "Hong Kong",
          "Hungary",
          "Iceland",
          "India",
          "Indonesia",
          "Iran",
          "Iraq",
          "Ireland",
          "Isle of Man",
          "Israel",
          "Italy",
          "Jamaica",
          "Japan",
          "Jordan",
          "Kazakhstan",
          "Kenya",
          "Kiribati",
          "Kuwait",
          "Kyrgyzstan",
          "Laos",
          "Latvia",
          "Lebanon",
          "Lesotho",
          "Liberia",
          "Libya",
          "Liechtenstein",
          "Lithuania",
          "Luxembourg",
          "Macao",
          "Madagascar",
          "Malawi",
          "Malaysia",
          "Maldives",
          "Mali",
          "Malta",
          "Marshall Islands",
          "Mauritania",
          "Mauritius",
          "Mexico",
          "Micronesia (country)",
          "Moldova",
          "Monaco",
          "Mongolia",
          "Montenegro",
          "Montserrat",
          "Morocco",
          "Mozambique",
          "Myanmar",
          "Namibia",
          "Nepal",
          "Netherlands",
          "New Caledonia",
          "New Zealand",
          "Nicaragua",
          "Niger",
          "Nigeria",
          "North Korea",
          "North Macedonia",
          "Norway",
          "Oman",
          "Pakistan",
          "Palau",
          "Palestine",
          "Panama",
          "Papua New Guinea",
          "Paraguay",
          "Peru",
          "Philippines",
          "Poland",
          "Portugal",
          "Qatar",
          "Romania",
          "Russia",
          "Rwanda",
          "Saint Helena",
          "Saint Kitts and Nevis",
          "Saint Lucia",
          "Saint Pierre and Miquelon",
          "Saint Vincent and the Grenadines",
          "Samoa",
          "San Marino",
          "Sao Tome and Principe",
          "Saudi Arabia",
          "Senegal",
          "Serbia",
          "Seychelles",
          "Sierra Leone",
          "Singapore",
          "Slovakia",
          "Slovenia",
          "Solomon Islands",
          "Somalia",
          "South Africa",
          "South Korea",
          "South Sudan",
          "Spain",
          "Sri Lanka",
          "Sudan",
          "Suriname",
          "Sweden",
          "Switzerland",
          "Syria",
          "Taiwan",
          "Tajikistan",
          "Tanzania",
          "Thailand",
          "Timor",
          "Togo",
          "Tonga",
          "Trinidad and Tobago",
          "Tunisia",
          "Turkey",
          "Turks and Caicos Islands",
          "Uganda",
          "Ukraine",
          "United Arab Emirates",
          "United Kingdom",
          "United States",
          "Uruguay",
          "Uzbekistan",
          "Vanuatu",
          "Vatican",
          "Venezuela",
          "Vietnam",
          "Wallis and Futuna",
          "Yemen",
          "Zambia",
          "Zimbabwe"
         ],
         "name": "",
         "type": "choropleth",
         "z": {
          "bdata": "AAAAADAqBkEAAAAAVOoQQQAAAADMOxBBAAAAACA35UAAAAAAEFv4QAAAAAAAXKpAAAAAAIDCwEAAAACglcNhQQAAAAAQ0hlBAAAAAICF40AAAABAZsJdQQAAAAD3l1BBAAAAADIzKEEAAAAAYGLhQAAAAACQbSJBAAAAAJPXPUEAAAAAoDj0QAAAAACm/i1BAAAAAJLzT0EAAAAAwDvuQAAAAACAfNpAAAAAAADJzkAAAAAAgB/tQAAAAAAW6ytBAAAAAIQVF0EAAAAACC4TQQAAAJC3JX5BAAAAAAAdu0AAAAAAIBkDQQAAAACj0jFBAAAAAACN1EAAAAAAwLPkQAAAAAAwogBBAAAAALBI/UAAAAAAwPNNQQAAAACgVexAAAAAAEAr2kAAAAAAgJzMQAAAAAAA/LxAAAAAgNyeTUEAAAAAQhMrQQAAAEDyY1dBAAAAAADDv0AAAAAAAJDXQAAAAAAAX7ZAAAAAAMydK0EAAAAAMC70QAAAAAAqazFBAAAAAEHfMEEAAAAAuFweQQAAAICV8k1BAAAAAMD09UAAAACAgwlIQQAAAAAApc5AAAAAAIDezEAAAAAAri8iQQAAAADGWytBAAAAAPR4H0EAAAAAMAkEQQAAAACAJ89AAAAAAIAYw0AAAAAAfKchQQAAAACw0vFAAAAAAGyGHUEAAAAAQOzgQAAAAAAAcJtAAAAAAIDe70AAAAAA3isxQQAAADBevnxBAAAAAGDb8UAAAAAAwE/nQAAAAAAAccdAAAAAAINPOUEAAACw1fF5QQAAAAAg8ANBAAAAAICQ0kAAAACA7wBLQQAAAACAYcdAAAAAAMCw0UAAAAAAUtwqQQAAAAAg+uFAAAAAAIA5wEAAAAAAgDnwQAAAAACAU95AAAAAALwBGkEAAAAAwLIyQQAAAAAyWD1BAAAAADhTB0EAAACgPaWEQQAAAAC3JFdBAAAAQAmZW0EAAAAAcMpBQQAAAAAsFThBAAAAAKCD4EAAAABAMR9QQQAAAJCqBHFBAAAAANA/AUEAAADATGdhQQAAAACJ5zlBAAAAAMxJNUEAAAAATBYUQQAAAAAAHqlAAAAAAOh9I0EAAAAAwIkIQQAAAACQqAlBAAAAAN5hKUEAAAAAoNUwQQAAAABAeuBAAAAAAABBvUAAAAAA8KQeQQAAAABAPdFAAAAAAK5AMEEAAAAAiBwPQQAAAAAAwFRAAAAAAKCV70AAAAAAoAv1QAAAAICKUFFBAAAAAFj4BUEAAAAAQGjeQAAAAABQ0fdAAAAAAAAAMkAAAAAAoPPsQAAAAACQwwtBAAAAAG1TVkEAAAAAAABDQAAAAABwtB9BAAAAAACkyEAAAAAAlEQsQQAAAACAGg1BAAAAAAC4j0AAAAAA3BMyQQAAAABYuAtBAAAAANq4IkEAAAAAmJwEQQAAAAAg4y1BAAAAgBEGX0EAAAAAQMPuQAAAAAAtbjNBAAAAAICNzEAAAAAAgKPBQAAAAADoUQ9BAAAAAAAA8D8AAAAAvBgTQQAAAACo9zVBAAAAAPjJF0EAAAAATmA3QQAAAAAAPbRAAAAAAGgVJEEAAAAA5IkrQQAAAAAg0eVAAAAAAOjwI0EAAAAAFXNLQQAAAAASMkxBAAAAgEnuVkEAAADAdRhTQQAAAAAs4hZBAAAAgOA4RkEAAAAAb0lxQQAAAAAw3v9AAAAAAAAAEEAAAAAAAAu3QAAAAACAGNpAAAAAAACepUAAAAAAAH7BQAAAAACAUMxAAAAAAEAB0UAAAAAAAHq3QAAAAABG7CdBAAAAAJAL9UAAAAAAbNs+QQAAAAAgveVAAAAAAAAIvkAAAAAAUtI0QQAAAADrbENBAAAAAKRxL0EAAAAAAArVQAAAAADADNpAAAAAAINmTkEAAACADG5xQQAAAABASNFAAAAA4Hj2Z0EAAAAAYEMkQQAAAAAgg+5AAAAAAOC380AAAACA6itDQQAAAIBDPkxBAAAAACBN60AAAACA0sBIQQAAAACAXtFAAAAAAEBD4UAAAAAAmSlRQQAAAAAAaNZAAAAAAEAv4kAAAAAAgJfHQAAAAABQOgRBAAAAAJTfL0EAAADAFcZsQQAAAAAALbhAAAAAAMhcBEEAAACAYTpTQQAAAACUQSxBAAAAYFCBdUEAAAAYH4+UQQAAAAAKzixBAAAAACg9DUEAAAAAgDTFQAAAAAAAAD1AAAAAAC4EIEEAAABgunpkQQAAAAAAYHxAAAAAAIAXx0AAAAAA5MYTQQAAAAAIGQ9B",
          "dtype": "f8"
         }
        }
       ],
       "layout": {
        "coloraxis": {
         "colorbar": {
          "title": {
           "text": "Disease cases (M)"
          }
         },
         "colorscale": [
          [
           0,
           "rgb(0,104,55)"
          ],
          [
           0.1,
           "rgb(26,152,80)"
          ],
          [
           0.2,
           "rgb(102,189,99)"
          ],
          [
           0.3,
           "rgb(166,217,106)"
          ],
          [
           0.4,
           "rgb(217,239,139)"
          ],
          [
           0.5,
           "rgb(255,255,191)"
          ],
          [
           0.6,
           "rgb(254,224,139)"
          ],
          [
           0.7,
           "rgb(253,174,97)"
          ],
          [
           0.8,
           "rgb(244,109,67)"
          ],
          [
           0.9,
           "rgb(215,48,39)"
          ],
          [
           1,
           "rgb(165,0,38)"
          ]
         ]
        },
        "geo": {
         "center": {},
         "domain": {
          "x": [
           0,
           1
          ],
          "y": [
           0,
           1
          ]
         }
        },
        "height": 700,
        "legend": {
         "tracegroupgap": 0
        },
        "template": {
         "data": {
          "bar": [
           {
            "error_x": {
             "color": "rgb(51,51,51)"
            },
            "error_y": {
             "color": "rgb(51,51,51)"
            },
            "marker": {
             "line": {
              "color": "rgb(237,237,237)",
              "width": 0.5
             },
             "pattern": {
              "fillmode": "overlay",
              "size": 10,
              "solidity": 0.2
             }
            },
            "type": "bar"
           }
          ],
          "barpolar": [
           {
            "marker": {
             "line": {
              "color": "rgb(237,237,237)",
              "width": 0.5
             },
             "pattern": {
              "fillmode": "overlay",
              "size": 10,
              "solidity": 0.2
             }
            },
            "type": "barpolar"
           }
          ],
          "carpet": [
           {
            "aaxis": {
             "endlinecolor": "rgb(51,51,51)",
             "gridcolor": "white",
             "linecolor": "white",
             "minorgridcolor": "white",
             "startlinecolor": "rgb(51,51,51)"
            },
            "baxis": {
             "endlinecolor": "rgb(51,51,51)",
             "gridcolor": "white",
             "linecolor": "white",
             "minorgridcolor": "white",
             "startlinecolor": "rgb(51,51,51)"
            },
            "type": "carpet"
           }
          ],
          "choropleth": [
           {
            "colorbar": {
             "outlinewidth": 0,
             "tickcolor": "rgb(237,237,237)",
             "ticklen": 6,
             "ticks": "inside"
            },
            "type": "choropleth"
           }
          ],
          "contour": [
           {
            "colorbar": {
             "outlinewidth": 0,
             "tickcolor": "rgb(237,237,237)",
             "ticklen": 6,
             "ticks": "inside"
            },
            "colorscale": [
             [
              0,
              "rgb(20,44,66)"
             ],
             [
              1,
              "rgb(90,179,244)"
             ]
            ],
            "type": "contour"
           }
          ],
          "contourcarpet": [
           {
            "colorbar": {
             "outlinewidth": 0,
             "tickcolor": "rgb(237,237,237)",
             "ticklen": 6,
             "ticks": "inside"
            },
            "type": "contourcarpet"
           }
          ],
          "heatmap": [
           {
            "colorbar": {
             "outlinewidth": 0,
             "tickcolor": "rgb(237,237,237)",
             "ticklen": 6,
             "ticks": "inside"
            },
            "colorscale": [
             [
              0,
              "rgb(20,44,66)"
             ],
             [
              1,
              "rgb(90,179,244)"
             ]
            ],
            "type": "heatmap"
           }
          ],
          "histogram": [
           {
            "marker": {
             "pattern": {
              "fillmode": "overlay",
              "size": 10,
              "solidity": 0.2
             }
            },
            "type": "histogram"
           }
          ],
          "histogram2d": [
           {
            "colorbar": {
             "outlinewidth": 0,
             "tickcolor": "rgb(237,237,237)",
             "ticklen": 6,
             "ticks": "inside"
            },
            "colorscale": [
             [
              0,
              "rgb(20,44,66)"
             ],
             [
              1,
              "rgb(90,179,244)"
             ]
            ],
            "type": "histogram2d"
           }
          ],
          "histogram2dcontour": [
           {
            "colorbar": {
             "outlinewidth": 0,
             "tickcolor": "rgb(237,237,237)",
             "ticklen": 6,
             "ticks": "inside"
            },
            "colorscale": [
             [
              0,
              "rgb(20,44,66)"
             ],
             [
              1,
              "rgb(90,179,244)"
             ]
            ],
            "type": "histogram2dcontour"
           }
          ],
          "mesh3d": [
           {
            "colorbar": {
             "outlinewidth": 0,
             "tickcolor": "rgb(237,237,237)",
             "ticklen": 6,
             "ticks": "inside"
            },
            "type": "mesh3d"
           }
          ],
          "parcoords": [
           {
            "line": {
             "colorbar": {
              "outlinewidth": 0,
              "tickcolor": "rgb(237,237,237)",
              "ticklen": 6,
              "ticks": "inside"
             }
            },
            "type": "parcoords"
           }
          ],
          "pie": [
           {
            "automargin": true,
            "type": "pie"
           }
          ],
          "scatter": [
           {
            "fillpattern": {
             "fillmode": "overlay",
             "size": 10,
             "solidity": 0.2
            },
            "type": "scatter"
           }
          ],
          "scatter3d": [
           {
            "line": {
             "colorbar": {
              "outlinewidth": 0,
              "tickcolor": "rgb(237,237,237)",
              "ticklen": 6,
              "ticks": "inside"
             }
            },
            "marker": {
             "colorbar": {
              "outlinewidth": 0,
              "tickcolor": "rgb(237,237,237)",
              "ticklen": 6,
              "ticks": "inside"
             }
            },
            "type": "scatter3d"
           }
          ],
          "scattercarpet": [
           {
            "marker": {
             "colorbar": {
              "outlinewidth": 0,
              "tickcolor": "rgb(237,237,237)",
              "ticklen": 6,
              "ticks": "inside"
             }
            },
            "type": "scattercarpet"
           }
          ],
          "scattergeo": [
           {
            "marker": {
             "colorbar": {
              "outlinewidth": 0,
              "tickcolor": "rgb(237,237,237)",
              "ticklen": 6,
              "ticks": "inside"
             }
            },
            "type": "scattergeo"
           }
          ],
          "scattergl": [
           {
            "marker": {
             "colorbar": {
              "outlinewidth": 0,
              "tickcolor": "rgb(237,237,237)",
              "ticklen": 6,
              "ticks": "inside"
             }
            },
            "type": "scattergl"
           }
          ],
          "scattermap": [
           {
            "marker": {
             "colorbar": {
              "outlinewidth": 0,
              "tickcolor": "rgb(237,237,237)",
              "ticklen": 6,
              "ticks": "inside"
             }
            },
            "type": "scattermap"
           }
          ],
          "scattermapbox": [
           {
            "marker": {
             "colorbar": {
              "outlinewidth": 0,
              "tickcolor": "rgb(237,237,237)",
              "ticklen": 6,
              "ticks": "inside"
             }
            },
            "type": "scattermapbox"
           }
          ],
          "scatterpolar": [
           {
            "marker": {
             "colorbar": {
              "outlinewidth": 0,
              "tickcolor": "rgb(237,237,237)",
              "ticklen": 6,
              "ticks": "inside"
             }
            },
            "type": "scatterpolar"
           }
          ],
          "scatterpolargl": [
           {
            "marker": {
             "colorbar": {
              "outlinewidth": 0,
              "tickcolor": "rgb(237,237,237)",
              "ticklen": 6,
              "ticks": "inside"
             }
            },
            "type": "scatterpolargl"
           }
          ],
          "scatterternary": [
           {
            "marker": {
             "colorbar": {
              "outlinewidth": 0,
              "tickcolor": "rgb(237,237,237)",
              "ticklen": 6,
              "ticks": "inside"
             }
            },
            "type": "scatterternary"
           }
          ],
          "surface": [
           {
            "colorbar": {
             "outlinewidth": 0,
             "tickcolor": "rgb(237,237,237)",
             "ticklen": 6,
             "ticks": "inside"
            },
            "colorscale": [
             [
              0,
              "rgb(20,44,66)"
             ],
             [
              1,
              "rgb(90,179,244)"
             ]
            ],
            "type": "surface"
           }
          ],
          "table": [
           {
            "cells": {
             "fill": {
              "color": "rgb(237,237,237)"
             },
             "line": {
              "color": "white"
             }
            },
            "header": {
             "fill": {
              "color": "rgb(217,217,217)"
             },
             "line": {
              "color": "white"
             }
            },
            "type": "table"
           }
          ]
         },
         "layout": {
          "annotationdefaults": {
           "arrowhead": 0,
           "arrowwidth": 1
          },
          "autotypenumbers": "strict",
          "coloraxis": {
           "colorbar": {
            "outlinewidth": 0,
            "tickcolor": "rgb(237,237,237)",
            "ticklen": 6,
            "ticks": "inside"
           }
          },
          "colorscale": {
           "sequential": [
            [
             0,
             "rgb(20,44,66)"
            ],
            [
             1,
             "rgb(90,179,244)"
            ]
           ],
           "sequentialminus": [
            [
             0,
             "rgb(20,44,66)"
            ],
            [
             1,
             "rgb(90,179,244)"
            ]
           ]
          },
          "colorway": [
           "#F8766D",
           "#A3A500",
           "#00BF7D",
           "#00B0F6",
           "#E76BF3"
          ],
          "font": {
           "color": "rgb(51,51,51)"
          },
          "geo": {
           "bgcolor": "white",
           "lakecolor": "white",
           "landcolor": "rgb(237,237,237)",
           "showlakes": true,
           "showland": true,
           "subunitcolor": "white"
          },
          "hoverlabel": {
           "align": "left"
          },
          "hovermode": "closest",
          "paper_bgcolor": "white",
          "plot_bgcolor": "rgb(237,237,237)",
          "polar": {
           "angularaxis": {
            "gridcolor": "white",
            "linecolor": "white",
            "showgrid": true,
            "tickcolor": "rgb(51,51,51)",
            "ticks": "outside"
           },
           "bgcolor": "rgb(237,237,237)",
           "radialaxis": {
            "gridcolor": "white",
            "linecolor": "white",
            "showgrid": true,
            "tickcolor": "rgb(51,51,51)",
            "ticks": "outside"
           }
          },
          "scene": {
           "xaxis": {
            "backgroundcolor": "rgb(237,237,237)",
            "gridcolor": "white",
            "gridwidth": 2,
            "linecolor": "white",
            "showbackground": true,
            "showgrid": true,
            "tickcolor": "rgb(51,51,51)",
            "ticks": "outside",
            "zerolinecolor": "white"
           },
           "yaxis": {
            "backgroundcolor": "rgb(237,237,237)",
            "gridcolor": "white",
            "gridwidth": 2,
            "linecolor": "white",
            "showbackground": true,
            "showgrid": true,
            "tickcolor": "rgb(51,51,51)",
            "ticks": "outside",
            "zerolinecolor": "white"
           },
           "zaxis": {
            "backgroundcolor": "rgb(237,237,237)",
            "gridcolor": "white",
            "gridwidth": 2,
            "linecolor": "white",
            "showbackground": true,
            "showgrid": true,
            "tickcolor": "rgb(51,51,51)",
            "ticks": "outside",
            "zerolinecolor": "white"
           }
          },
          "shapedefaults": {
           "fillcolor": "black",
           "line": {
            "width": 0
           },
           "opacity": 0.3
          },
          "ternary": {
           "aaxis": {
            "gridcolor": "white",
            "linecolor": "white",
            "showgrid": true,
            "tickcolor": "rgb(51,51,51)",
            "ticks": "outside"
           },
           "baxis": {
            "gridcolor": "white",
            "linecolor": "white",
            "showgrid": true,
            "tickcolor": "rgb(51,51,51)",
            "ticks": "outside"
           },
           "bgcolor": "rgb(237,237,237)",
           "caxis": {
            "gridcolor": "white",
            "linecolor": "white",
            "showgrid": true,
            "tickcolor": "rgb(51,51,51)",
            "ticks": "outside"
           }
          },
          "xaxis": {
           "automargin": true,
           "gridcolor": "white",
           "linecolor": "white",
           "showgrid": true,
           "tickcolor": "rgb(51,51,51)",
           "ticks": "outside",
           "title": {
            "standoff": 15
           },
           "zerolinecolor": "white"
          },
          "yaxis": {
           "automargin": true,
           "gridcolor": "white",
           "linecolor": "white",
           "showgrid": true,
           "tickcolor": "rgb(51,51,51)",
           "ticks": "outside",
           "title": {
            "standoff": 15
           },
           "zerolinecolor": "white"
          }
         }
        },
        "title": {
         "text": "Number of disease cases reported by countries"
        },
        "width": 1200
       }
      }
     },
     "metadata": {},
     "output_type": "display_data"
    }
   ],
   "source": [
    "fig = px.choropleth(df_final,\n",
    "                    locations=\"location\",\n",
    "                    locationmode=\"country names\",\n",
    "                    color=\"total_cases\",\n",
    "                    color_continuous_scale=\"RdYlGn_r\",\n",
    "                    title=\"Number of disease cases reported by countries\",\n",
    "                    width=1200,\n",
    "                    height=700,\n",
    "                    labels={'total_cases' : 'Disease cases (M)',\n",
    "                            'location' : 'Location'\n",
    "                            },\n",
    "                    template=\"ggplot2\") # instead of requested dark mode for better readability\n",
    "\n",
    "fig.show()"
   ]
  },
  {
   "cell_type": "markdown",
   "metadata": {},
   "source": [
    "##### Variant B)"
   ]
  },
  {
   "cell_type": "code",
   "execution_count": 44,
   "metadata": {},
   "outputs": [
    {
     "data": {
      "application/vnd.plotly.v1+json": {
       "config": {
        "plotlyServerURL": "https://plot.ly"
       },
       "data": [
        {
         "customdata": [
          [
           181574,
           0.00456,
           "Asia"
          ],
          [
           423044,
           0.14253,
           "Asia"
          ],
          [
           792985,
           0.07757,
           "Asia"
          ],
          [
           603848,
           0.34539,
           "Asia"
          ],
          [
           1955731,
           0.01176,
           "Asia"
          ],
          [
           59644,
           0.07648,
           "Asia"
          ],
          [
           156452,
           0.35434,
           "Asia"
          ],
          [
           136262,
           0.00804,
           "Asia"
          ],
          [
           887201,
           0.00061,
           "Asia"
          ],
          [
           1658755,
           0.4168,
           "Asia"
          ],
          [
           1225408,
           0.16225,
           "Asia"
          ],
          [
           43296692,
           0.03107,
           "Asia"
          ],
          [
           6066908,
           0.02195,
           "Asia"
          ],
          [
           7234597,
           0.08508,
           "Asia"
          ],
          [
           2331872,
           0.05663,
           "Asia"
          ],
          [
           4226245,
           0.45488,
           "Asia"
          ],
          [
           9124454,
           0.07239,
           "Asia"
          ],
          [
           1697673,
           0.16532,
           "Asia"
          ],
          [
           1395148,
           0.07345,
           "Asia"
          ],
          [
           638708,
           0.14756,
           "Asia"
          ],
          [
           201016,
           0.03033,
           "Asia"
          ],
          [
           210194,
           0.02848,
           "Asia"
          ],
          [
           1103264,
           0.16298,
           "Asia"
          ],
          [
           83,
           0.00013,
           "Asia"
          ],
          [
           4538922,
           0.13848,
           "Asia"
          ],
          [
           179979,
           0.33108,
           "Asia"
          ],
          [
           926282,
           0.27822,
           "Asia"
          ],
          [
           613485,
           0.01119,
           "Asia"
          ],
          [
           979344,
           0.033,
           "Asia"
          ],
          [
           1,
           0,
           "Asia"
          ],
          [
           389758,
           0.07462,
           "Asia"
          ],
          [
           1531982,
           0.0068,
           "Asia"
          ],
          [
           658100,
           0.12601,
           "Asia"
          ],
          [
           3695652,
           0.03328,
           "Asia"
          ],
          [
           374923,
           0.12794,
           "Asia"
          ],
          [
           783907,
           0.02218,
           "Asia"
          ],
          [
           1364562,
           0.25021,
           "Asia"
          ],
          [
           18276552,
           0.35623,
           "Asia"
          ],
          [
           663984,
           0.03089,
           "Asia"
          ],
          [
           55913,
           0.00306,
           "Asia"
          ],
          [
           3244453,
           0.13601,
           "Asia"
          ],
          [
           17786,
           0.00182,
           "Asia"
          ],
          [
           4499044,
           0.06432,
           "Asia"
          ],
          [
           22944,
           0.01707,
           "Asia"
          ],
          [
           15085742,
           0.17739,
           "Asia"
          ],
          [
           925898,
           0.09267,
           "Asia"
          ],
          [
           239525,
           0.00706,
           "Asia"
          ],
          [
           10737107,
           0.10937,
           "Asia"
          ],
          [
           11823,
           0.00039,
           "Asia"
          ]
         ],
         "geo": "geo",
         "hovertemplate": "<b>%{hovertext}</b><br><br>Continent=%{customdata[2]}<br>Ratio of cases to population=%{customdata[1]}<br>Location=%{location}<br>Disease cases (M)=%{customdata[0]}<extra></extra>",
         "hovertext": [
          "Afghanistan",
          "Armenia",
          "Azerbaijan",
          "Bahrain",
          "Bangladesh",
          "Bhutan",
          "Brunei",
          "Cambodia",
          "China",
          "Georgia",
          "Hong Kong",
          "India",
          "Indonesia",
          "Iran",
          "Iraq",
          "Israel",
          "Japan",
          "Jordan",
          "Kazakhstan",
          "Kuwait",
          "Kyrgyzstan",
          "Laos",
          "Lebanon",
          "Macao",
          "Malaysia",
          "Maldives",
          "Mongolia",
          "Myanmar",
          "Nepal",
          "North Korea",
          "Oman",
          "Pakistan",
          "Palestine",
          "Philippines",
          "Qatar",
          "Saudi Arabia",
          "Singapore",
          "South Korea",
          "Sri Lanka",
          "Syria",
          "Taiwan",
          "Tajikistan",
          "Thailand",
          "Timor",
          "Turkey",
          "United Arab Emirates",
          "Uzbekistan",
          "Vietnam",
          "Yemen"
         ],
         "legendgroup": "Asia",
         "locationmode": "country names",
         "locations": [
          "Afghanistan",
          "Armenia",
          "Azerbaijan",
          "Bahrain",
          "Bangladesh",
          "Bhutan",
          "Brunei",
          "Cambodia",
          "China",
          "Georgia",
          "Hong Kong",
          "India",
          "Indonesia",
          "Iran",
          "Iraq",
          "Israel",
          "Japan",
          "Jordan",
          "Kazakhstan",
          "Kuwait",
          "Kyrgyzstan",
          "Laos",
          "Lebanon",
          "Macao",
          "Malaysia",
          "Maldives",
          "Mongolia",
          "Myanmar",
          "Nepal",
          "North Korea",
          "Oman",
          "Pakistan",
          "Palestine",
          "Philippines",
          "Qatar",
          "Saudi Arabia",
          "Singapore",
          "South Korea",
          "Sri Lanka",
          "Syria",
          "Taiwan",
          "Tajikistan",
          "Thailand",
          "Timor",
          "Turkey",
          "United Arab Emirates",
          "Uzbekistan",
          "Vietnam",
          "Yemen"
         ],
         "marker": {
          "color": "blue",
          "size": {
           "bdata": "donqrYGtcj/mdFlMbD7CP5aVJqWg27M/XmOXqN4a1j+EKjV7oBWIP/lOzHoxlLM/donqrYGt1j9ljXqIRneAPwXAeAYN/UM/W0I+6Nms2j/4U+Olm8TEP1QAjGfQ0J8/mbuWkA96lj+dLouJzce1P+bo8Xub/qw/za/mAMEc3T9jtI6qJoiyP9P2r6w0KcU/ryXkg57Nsj8zUBn/PuPCP8nIWdjTDp8/7j1cctwpnT9cd/NUh9zEP0PFOH8TCiE/0jWTb7a5wT//BBcrajDVP671RUJbztE/7YFWYMjqhj9MN4lBYOWgPwAAAAAAAAAAJ6Wg20sasz9fB84ZUdp7P+IGfH4YIcA/Q8U4fxMKoT+q1OyBVmDAP2ZJgJpatpY/T3XIzXAD0D8/qfbpeMzWP6gAGM+goZ8/b9Of/UgRaT8p6PaSxmjBPzZZox6i0V0/ZY16iEZ3sD+Xi/hOzHqRP6KXUSy3tMY/fgBSmzi5tz+0k8FR8up8P3LcKR2s/7s/5SfVPh2POT8=",
           "dtype": "f8"
          },
          "sizemode": "area",
          "sizeref": 0.0007850444444444444,
          "symbol": "circle"
         },
         "mode": "markers",
         "name": "Asia",
         "showlegend": true,
         "type": "scattergeo"
        },
        {
         "customdata": [
          [
           277141,
           0.09647,
           "Europe"
          ],
          [
           43449,
           0.56169,
           "Europe"
          ],
          [
           4349916,
           0.48102,
           "Europe"
          ],
          [
           982867,
           0.10409,
           "Europe"
          ],
          [
           4187940,
           0.36003,
           "Europe"
          ],
          [
           378209,
           0.11589,
           "Europe"
          ],
          [
           1168035,
           0.16936,
           "Europe"
          ],
          [
           1141546,
           0.27968,
           "Europe"
          ],
          [
           497454,
           0.55519,
           "Europe"
          ],
          [
           3925291,
           0.36601,
           "Europe"
          ],
          [
           3150599,
           0.54196,
           "Europe"
          ],
          [
           578494,
           0.43654,
           "Europe"
          ],
          [
           34658,
           0.70654,
           "Europe"
          ],
          [
           1125342,
           0.20282,
           "Europe"
          ],
          [
           30139875,
           0.44703,
           "Europe"
          ],
          [
           27204955,
           0.32425,
           "Europe"
          ],
          [
           19010,
           0.56425,
           "Europe"
          ],
          [
           3539423,
           0.34129,
           "Europe"
          ],
          [
           1923122,
           0.19961,
           "Europe"
          ],
          [
           191079,
           0.51812,
           "Europe"
          ],
          [
           1578284,
           0.31674,
           "Europe"
          ],
          [
           33821,
           0.39598,
           "Europe"
          ],
          [
           17844905,
           0.2956,
           "Europe"
          ],
          [
           831727,
           0.4455,
           "Europe"
          ],
          [
           17653,
           0.46147,
           "Europe"
          ],
          [
           1065134,
           0.39598,
           "Europe"
          ],
          [
           254865,
           0.40148,
           "Europe"
          ],
          [
           97557,
           0.18903,
           "Europe"
          ],
          [
           519452,
           0.12909,
           "Europe"
          ],
          [
           12616,
           0.31923,
           "Europe"
          ],
          [
           238416,
           0.37961,
           "Europe"
          ],
          [
           8132678,
           0.47357,
           "Europe"
          ],
          [
           312879,
           0.15023,
           "Europe"
          ],
          [
           1439656,
           0.2634,
           "Europe"
          ],
          [
           6011174,
           0.15904,
           "Europe"
          ],
          [
           5005783,
           0.49231,
           "Europe"
          ],
          [
           2912705,
           0.15228,
           "Europe"
          ],
          [
           18126576,
           0.12423,
           "Europe"
          ],
          [
           17413,
           0.512,
           "Europe"
          ],
          [
           2022252,
           0.29429,
           "Europe"
          ],
          [
           2546134,
           0.46724,
           "Europe"
          ],
          [
           1030354,
           0.49567,
           "Europe"
          ],
          [
           12563399,
           0.26876,
           "Europe"
          ],
          [
           2512853,
           0.24732,
           "Europe"
          ],
          [
           3701895,
           0.42475,
           "Europe"
          ],
          [
           5040518,
           0.11596,
           "Europe"
          ],
          [
           22549766,
           0.33061,
           "Europe"
          ],
          [
           29,
           0.03571,
           "Europe"
          ]
         ],
         "geo": "geo",
         "hovertemplate": "<b>%{hovertext}</b><br><br>Continent=%{customdata[2]}<br>Ratio of cases to population=%{customdata[1]}<br>Location=%{location}<br>Disease cases (M)=%{customdata[0]}<extra></extra>",
         "hovertext": [
          "Albania",
          "Andorra",
          "Austria",
          "Belarus",
          "Belgium",
          "Bosnia and Herzegovina",
          "Bulgaria",
          "Croatia",
          "Cyprus",
          "Czechia",
          "Denmark",
          "Estonia",
          "Faeroe Islands",
          "Finland",
          "France",
          "Germany",
          "Gibraltar",
          "Greece",
          "Hungary",
          "Iceland",
          "Ireland",
          "Isle of Man",
          "Italy",
          "Latvia",
          "Liechtenstein",
          "Lithuania",
          "Luxembourg",
          "Malta",
          "Moldova",
          "Monaco",
          "Montenegro",
          "Netherlands",
          "North Macedonia",
          "Norway",
          "Poland",
          "Portugal",
          "Romania",
          "Russia",
          "San Marino",
          "Serbia",
          "Slovakia",
          "Slovenia",
          "Spain",
          "Sweden",
          "Switzerland",
          "Ukraine",
          "United Kingdom",
          "Vatican"
         ],
         "legendgroup": "Europe",
         "locationmode": "country names",
         "locations": [
          "Albania",
          "Andorra",
          "Austria",
          "Belarus",
          "Belgium",
          "Bosnia and Herzegovina",
          "Bulgaria",
          "Croatia",
          "Cyprus",
          "Czechia",
          "Denmark",
          "Estonia",
          "Faeroe Islands",
          "Finland",
          "France",
          "Germany",
          "Gibraltar",
          "Greece",
          "Hungary",
          "Iceland",
          "Ireland",
          "Isle of Man",
          "Italy",
          "Latvia",
          "Liechtenstein",
          "Lithuania",
          "Luxembourg",
          "Malta",
          "Moldova",
          "Monaco",
          "Montenegro",
          "Netherlands",
          "North Macedonia",
          "Norway",
          "Poland",
          "Portugal",
          "Romania",
          "Russia",
          "San Marino",
          "Serbia",
          "Slovakia",
          "Slovenia",
          "Spain",
          "Sweden",
          "Switzerland",
          "Ukraine",
          "United Kingdom",
          "Vatican"
         ],
         "marker": {
          "color": "red",
          "size": {
           "bdata": "/IwLB0KyuD8MsI9OXfnhP/AzLhwIyd4/LzTXaaSluj9fDOVEuwrXP+317o/3qr0/WhKgppatxT8RGVbxRubRP6MeotEdxOE/zZIANbVs1z9kr3d/vFfhP3FV2XdF8Ns/XBsqxvmb5j+gw3x5AfbJPyMtlbcjnNw/jZduEoPA1D91kxgEVg7iP/LqHAOy19U/Bi/6CtKMyT+j6exkcJTgP0xxVdl3RdQ/ZK93f7xX2T96pSxDHOvSP1CNl24Sg9w/m3KFd7mI3T9kr3d/vFfZP4vgfyvZsdk/pz/7kSIyyD9LzR5oBYbAP667eapDbtQ/CAPPvYdL2D9XeJeL+E7eP+1kcJS8OsM/swxxrIvb0D9dv2A3bFvEP8SZX80Bgt8/Wd3qOel9wz/LnC6Lic2/P/yp8dJNYuA/vYxiuaXV0j+6g9iZQufdP7fu5qkOud8/+kSeJF0z0T+5x9KHLqjPP8l2vp8aL9s/q+ek942vvT9/wW7YtijVPw3DR8SUSKI/",
           "dtype": "f8"
          },
          "sizemode": "area",
          "sizeref": 0.0007850444444444444,
          "symbol": "circle"
         },
         "mode": "markers",
         "name": "Europe",
         "showlegend": true,
         "type": "scattergeo"
        },
        {
         "customdata": [
          [
           265971,
           0.00596,
           "Africa"
          ],
          [
           99761,
           0.00294,
           "Africa"
          ],
          [
           27122,
           0.00218,
           "Africa"
          ],
          [
           314242,
           0.13108,
           "Africa"
          ],
          [
           21044,
           0.00098,
           "Africa"
          ],
          [
           42398,
           0.00346,
           "Africa"
          ],
          [
           119947,
           0.00441,
           "Africa"
          ],
          [
           58029,
           0.10327,
           "Africa"
          ],
          [
           14649,
           0.00298,
           "Africa"
          ],
          [
           7420,
           0.00044,
           "Africa"
          ],
          [
           8131,
           0.00915,
           "Africa"
          ],
          [
           24128,
           0.00427,
           "Africa"
          ],
          [
           82659,
           0.00306,
           "Africa"
          ],
          [
           89932,
           0.00097,
           "Africa"
          ],
          [
           15690,
           0.01566,
           "Africa"
          ],
          [
           515645,
           0.00495,
           "Africa"
          ],
          [
           15951,
           0.011,
           "Africa"
          ],
          [
           9777,
           0.00271,
           "Africa"
          ],
          [
           73003,
           0.06227,
           "Africa"
          ],
          [
           483739,
           0.0041,
           "Africa"
          ],
          [
           47742,
           0.02095,
           "Africa"
          ],
          [
           12002,
           0.00483,
           "Africa"
          ],
          [
           163332,
           0.00515,
           "Africa"
          ],
          [
           36817,
           0.00273,
           "Africa"
          ],
          [
           8307,
           0.00412,
           "Africa"
          ],
          [
           329107,
           0.00599,
           "Africa"
          ],
          [
           33746,
           0.01563,
           "Africa"
          ],
          [
           7489,
           0.00145,
           "Africa"
          ],
          [
           502076,
           0.07215,
           "Africa"
          ],
          [
           64685,
           0.00228,
           "Africa"
          ],
          [
           86202,
           0.00439,
           "Africa"
          ],
          [
           31137,
           0.00149,
           "Africa"
          ],
          [
           59293,
           0.01242,
           "Africa"
          ],
          [
           227442,
           0.17861,
           "Africa"
          ],
          [
           1184732,
           0.03172,
           "Africa"
          ],
          [
           227083,
           0.00706,
           "Africa"
          ],
          [
           168851,
           0.06526,
           "Africa"
          ],
          [
           9031,
           0.00036,
           "Africa"
          ],
          [
           256573,
           0.00121,
           "Africa"
          ],
          [
           130531,
           0.00983,
           "Africa"
          ],
          [
           4,
           0.00066,
           "Africa"
          ],
          [
           6010,
           0.02691,
           "Africa"
          ],
          [
           86201,
           0.00501,
           "Africa"
          ],
          [
           44521,
           0.45012,
           "Africa"
          ],
          [
           7688,
           0.00094,
           "Africa"
          ],
          [
           26675,
           0.00163,
           "Africa"
          ],
          [
           3984646,
           0.06636,
           "Africa"
          ],
          [
           17697,
           0.00155,
           "Africa"
          ],
          [
           62489,
           0.00139,
           "Africa"
          ],
          [
           35354,
           0.00057,
           "Africa"
          ],
          [
           37242,
           0.00439,
           "Africa"
          ],
          [
           1044426,
           0.0875,
           "Africa"
          ],
          [
           166809,
           0.00354,
           "Africa"
          ],
          [
           324025,
           0.01713,
           "Africa"
          ],
          [
           254753,
           0.01688,
           "Africa"
          ]
         ],
         "geo": "geo",
         "hovertemplate": "<b>%{hovertext}</b><br><br>Continent=%{customdata[2]}<br>Ratio of cases to population=%{customdata[1]}<br>Location=%{location}<br>Disease cases (M)=%{customdata[0]}<extra></extra>",
         "hovertext": [
          "Algeria",
          "Angola",
          "Benin",
          "Botswana",
          "Burkina Faso",
          "Burundi",
          "Cameroon",
          "Cape Verde",
          "Central African Republic",
          "Chad",
          "Comoros",
          "Congo",
          "Cote d'Ivoire",
          "Democratic Republic of Congo",
          "Djibouti",
          "Egypt",
          "Equatorial Guinea",
          "Eritrea",
          "Eswatini",
          "Ethiopia",
          "Gabon",
          "Gambia",
          "Ghana",
          "Guinea",
          "Guinea-Bissau",
          "Kenya",
          "Lesotho",
          "Liberia",
          "Libya",
          "Madagascar",
          "Malawi",
          "Mali",
          "Mauritania",
          "Mauritius",
          "Morocco",
          "Mozambique",
          "Namibia",
          "Niger",
          "Nigeria",
          "Rwanda",
          "Saint Helena",
          "Sao Tome and Principe",
          "Senegal",
          "Seychelles",
          "Sierra Leone",
          "Somalia",
          "South Africa",
          "South Sudan",
          "Sudan",
          "Tanzania",
          "Togo",
          "Tunisia",
          "Uganda",
          "Zambia",
          "Zimbabwe"
         ],
         "legendgroup": "Africa",
         "locationmode": "country names",
         "locations": [
          "Algeria",
          "Angola",
          "Benin",
          "Botswana",
          "Burkina Faso",
          "Burundi",
          "Cameroon",
          "Cape Verde",
          "Central African Republic",
          "Chad",
          "Comoros",
          "Congo",
          "Cote d'Ivoire",
          "Democratic Republic of Congo",
          "Djibouti",
          "Egypt",
          "Equatorial Guinea",
          "Eritrea",
          "Eswatini",
          "Ethiopia",
          "Gabon",
          "Gambia",
          "Ghana",
          "Guinea",
          "Guinea-Bissau",
          "Kenya",
          "Lesotho",
          "Liberia",
          "Libya",
          "Madagascar",
          "Malawi",
          "Mali",
          "Mauritania",
          "Mauritius",
          "Morocco",
          "Mozambique",
          "Namibia",
          "Niger",
          "Nigeria",
          "Rwanda",
          "Saint Helena",
          "Sao Tome and Principe",
          "Senegal",
          "Seychelles",
          "Sierra Leone",
          "Somalia",
          "South Africa",
          "South Sudan",
          "Sudan",
          "Tanzania",
          "Togo",
          "Tunisia",
          "Uganda",
          "Zambia",
          "Zimbabwe"
         ],
         "marker": {
          "color": "green",
          "size": {
           "bdata": "KLhYUYNpeD+EKjV7oBVoP12nkZbK22E/ZXCUvDrHwD9YHM78ag5QP9VbA1slWGw/499nXDgQcj9ybagY52+6Pyi4WFGDaWg/S7A4nPnVPD8FNBE2PL2CPwWoqWVrfXE/b9Of/UgRaT8Nq3gj88hPP37ja88sCZA/9dvXgXNGdD+6SQwCK4eGPxe86CtIM2Y/GTkLe9rhrz8JG55eKctwP/mgZ7Pqc5U/f4eiQJ/Icz8OvjCZKhh1P+iC+pY5XWY/cv4mFCLgcD9FDaZh+Ih4PzeOWItPAZA/4JwRpb3BVz/VCWgibHiyP3aJ6q2BrWI/evzepj/7cT8ouFhRg2lYP8jShy6ob4k/IoleRrHcxj8EHEKVmj2gP7STwVHy6nw/aam8HeG0sD8P1v85zJc3PzP5Zpsb01M//U0oRMAhhD84hCo1e6BFPwPPvYdLjps/L4Zyol2FdD8fotEdxM7cPyECDqFKzU4/opdRLLe0Wj8iN8MN+PywPxNhw9MrZVk/9fOmIhXGVj92ieqtga1CP3r83qY/+3E/ZmZmZmZmtj8dd0oH6/9sPyY2H9eGipE/fm/Tn/1IkT8=",
           "dtype": "f8"
          },
          "sizemode": "area",
          "sizeref": 0.0007850444444444444,
          "symbol": "circle"
         },
         "mode": "markers",
         "name": "Africa",
         "showlegend": true,
         "type": "scattergeo"
        },
        {
         "customdata": [
          [
           3374,
           0.22307,
           "North America"
          ],
          [
           8581,
           0.08692,
           "North America"
          ],
          [
           39980,
           0.37297,
           "North America"
          ],
          [
           35603,
           0.0897,
           "North America"
          ],
          [
           82826,
           0.28788,
           "North America"
          ],
          [
           61918,
           0.15292,
           "North America"
          ],
          [
           15762,
           0.25385,
           "North America"
          ],
          [
           6941,
           0.22815,
           "North America"
          ],
          [
           3925888,
           0.10313,
           "North America"
          ],
          [
           26797,
           0.40297,
           "North America"
          ],
          [
           904934,
           0.17609,
           "North America"
          ],
          [
           1105729,
           0.0977,
           "North America"
          ],
          [
           14781,
           0.2048,
           "North America"
          ],
          [
           595927,
           0.0544,
           "North America"
          ],
          [
           164134,
           0.02518,
           "North America"
          ],
          [
           11971,
           0.21051,
           "North America"
          ],
          [
           18115,
           0.16029,
           "North America"
          ],
          [
           880169,
           0.04823,
           "North America"
          ],
          [
           31054,
           0.00269,
           "North America"
          ],
          [
           426095,
           0.04234,
           "North America"
          ],
          [
           141306,
           0.04752,
           "North America"
          ],
          [
           5852596,
           0.04493,
           "North America"
          ],
          [
           1015,
           0.20377,
           "North America"
          ],
          [
           14619,
           0.00218,
           "North America"
          ],
          [
           902386,
           0.20595,
           "North America"
          ],
          [
           5899,
           0.11017,
           "North America"
          ],
          [
           26722,
           0.14491,
           "North America"
          ],
          [
           2767,
           0.47947,
           "North America"
          ],
          [
           8956,
           0.08049,
           "North America"
          ],
          [
           165706,
           0.11808,
           "North America"
          ],
          [
           6189,
           0.15778,
           "North America"
          ],
          [
           86230982,
           0.25902,
           "North America"
          ]
         ],
         "geo": "geo",
         "hovertemplate": "<b>%{hovertext}</b><br><br>Continent=%{customdata[2]}<br>Ratio of cases to population=%{customdata[1]}<br>Location=%{location}<br>Disease cases (M)=%{customdata[0]}<extra></extra>",
         "hovertext": [
          "Anguilla",
          "Antigua and Barbuda",
          "Aruba",
          "Bahamas",
          "Barbados",
          "Belize",
          "Bermuda",
          "British Virgin Islands",
          "Canada",
          "Cayman Islands",
          "Costa Rica",
          "Cuba",
          "Dominica",
          "Dominican Republic",
          "El Salvador",
          "Greenland",
          "Grenada",
          "Guatemala",
          "Haiti",
          "Honduras",
          "Jamaica",
          "Mexico",
          "Montserrat",
          "Nicaragua",
          "Panama",
          "Saint Kitts and Nevis",
          "Saint Lucia",
          "Saint Pierre and Miquelon",
          "Saint Vincent and the Grenadines",
          "Trinidad and Tobago",
          "Turks and Caicos Islands",
          "United States"
         ],
         "legendgroup": "North America",
         "locationmode": "country names",
         "locations": [
          "Anguilla",
          "Antigua and Barbuda",
          "Aruba",
          "Bahamas",
          "Barbados",
          "Belize",
          "Bermuda",
          "British Virgin Islands",
          "Canada",
          "Cayman Islands",
          "Costa Rica",
          "Cuba",
          "Dominica",
          "Dominican Republic",
          "El Salvador",
          "Greenland",
          "Grenada",
          "Guatemala",
          "Haiti",
          "Honduras",
          "Jamaica",
          "Mexico",
          "Montserrat",
          "Nicaragua",
          "Panama",
          "Saint Kitts and Nevis",
          "Saint Lucia",
          "Saint Pierre and Miquelon",
          "Saint Vincent and the Grenadines",
          "Trinidad and Tobago",
          "Turks and Caicos Islands",
          "United States"
         ],
         "marker": {
          "color": "orange",
          "size": {
           "bdata": "BP9byY6NzD84Sl6dY0C2P1jnGJC93tc/2IFzRpT2tj/qCUs8oGzSP8LAc+/hksM/ArwFEhQ/0D8VjErqBDTNP/SJPEm6Zro/QznRrkLK2T+1iZP7HYrGPxe30QDeArk/LUMc6+I2yj9fB84ZUdqrP0aZDTLJyJk/GZC93v3xyj+GG/D5YYTEP+FFX0Gasag/RfXWwFYJZj9aEqCmlq2lP7/Uz5uKVKg/jPM3oRABpz8w9fOmIhXKP12nkZbK22E/zTtO0ZFcyj/5FADjGTS8P5WCbi9pjMI/j3Ba8KKv3j+0sKcd/pq0P0PKT6p9Or4/pz/7kSIyxD+HokCfyJPQPw==",
           "dtype": "f8"
          },
          "sizemode": "area",
          "sizeref": 0.0007850444444444444,
          "symbol": "circle"
         },
         "mode": "markers",
         "name": "North America",
         "showlegend": true,
         "type": "scattergeo"
        },
        {
         "customdata": [
          [
           9313453,
           0.20422,
           "South America"
          ],
          [
           914827,
           0.07731,
           "South America"
          ],
          [
           31611769,
           0.14772,
           "South America"
          ],
          [
           3882425,
           0.20208,
           "South America"
          ],
          [
           6131657,
           0.11961,
           "South America"
          ],
          [
           896483,
           0.05012,
           "South America"
          ],
          [
           1756,
           0.49773,
           "South America"
          ],
          [
           66456,
           0.08409,
           "South America"
          ],
          [
           653428,
           0.09051,
           "South America"
          ],
          [
           3597866,
           0.10785,
           "South America"
          ],
          [
           80766,
           0.13648,
           "South America"
          ],
          [
           943877,
           0.27083,
           "South America"
          ],
          [
           524823,
           0.01828,
           "South America"
          ]
         ],
         "geo": "geo",
         "hovertemplate": "<b>%{hovertext}</b><br><br>Continent=%{customdata[2]}<br>Ratio of cases to population=%{customdata[1]}<br>Location=%{location}<br>Disease cases (M)=%{customdata[0]}<extra></extra>",
         "hovertext": [
          "Argentina",
          "Bolivia",
          "Brazil",
          "Chile",
          "Colombia",
          "Ecuador",
          "Falkland Islands",
          "Guyana",
          "Paraguay",
          "Peru",
          "Suriname",
          "Uruguay",
          "Venezuela"
         ],
         "legendgroup": "South America",
         "locationmode": "country names",
         "locations": [
          "Argentina",
          "Bolivia",
          "Brazil",
          "Chile",
          "Colombia",
          "Ecuador",
          "Falkland Islands",
          "Guyana",
          "Paraguay",
          "Peru",
          "Suriname",
          "Uruguay",
          "Venezuela"
         ],
         "marker": {
          "color": "yellow",
          "size": {
           "bdata": "FjWYhuEjyj/RXKeRlsqzPw2Jeyx96MI/r3yW58HdyT+QSUbOwp6+PyhEwCFUqak/tDwP7s7a3z8Qr+sX7Ia1P3kB9tGpK7c/QKTfvg6cuz8qb0c4LXjBP76kMVpHVdE/K/uuCP63kj8=",
           "dtype": "f8"
          },
          "sizemode": "area",
          "sizeref": 0.0007850444444444444,
          "symbol": "circle"
         },
         "mode": "markers",
         "name": "South America",
         "showlegend": true,
         "type": "scattergeo"
        },
        {
         "customdata": [
          [
           7801241,
           0.30251,
           "Oceania"
          ],
          [
           5727,
           0.32592,
           "Oceania"
          ],
          [
           65268,
           0.07229,
           "Oceania"
          ],
          [
           73142,
           0.25888,
           "Oceania"
          ],
          [
           3215,
           0.02649,
           "Oceania"
          ],
          [
           18,
           0.0003,
           "Oceania"
          ],
          [
           38,
           0.00033,
           "Oceania"
          ],
          [
           63002,
           0.21859,
           "Oceania"
          ],
          [
           1273389,
           0.2484,
           "Oceania"
          ],
          [
           5181,
           0.28508,
           "Oceania"
          ],
          [
           44681,
           0.0049,
           "Oceania"
          ],
          [
           14497,
           0.07243,
           "Oceania"
          ],
          [
           21544,
           0.0306,
           "Oceania"
          ],
          [
           12079,
           0.11314,
           "Oceania"
          ],
          [
           10857,
           0.03453,
           "Oceania"
          ],
          [
           454,
           0.04092,
           "Oceania"
          ]
         ],
         "geo": "geo",
         "hovertemplate": "<b>%{hovertext}</b><br><br>Continent=%{customdata[2]}<br>Ratio of cases to population=%{customdata[1]}<br>Location=%{location}<br>Disease cases (M)=%{customdata[0]}<extra></extra>",
         "hovertext": [
          "Australia",
          "Cook Islands",
          "Fiji",
          "French Polynesia",
          "Kiribati",
          "Marshall Islands",
          "Micronesia (country)",
          "New Caledonia",
          "New Zealand",
          "Palau",
          "Papua New Guinea",
          "Samoa",
          "Solomon Islands",
          "Tonga",
          "Vanuatu",
          "Wallis and Futuna"
         ],
         "legendgroup": "Oceania",
         "locationmode": "country names",
         "locations": [
          "Australia",
          "Cook Islands",
          "Fiji",
          "French Polynesia",
          "Kiribati",
          "Marshall Islands",
          "Micronesia (country)",
          "New Caledonia",
          "New Zealand",
          "Palau",
          "Papua New Guinea",
          "Samoa",
          "Solomon Islands",
          "Tonga",
          "Vanuatu",
          "Wallis and Futuna"
         ],
         "marker": {
          "color": "purple",
          "size": {
           "bdata": "I6Et51Jc0z9AMEeP39vUP1Lt0/GYgbI/qKlla32R0D8cJa/OMSCbP2EyVTAqqTM/OIQqNXugNT8mx53SwfrLP3rHKTqSy88/dJgvL8A+0j9uowG8BRJ0P9DQP8HFirI/S8gHPZtVnz+fk943vva8P+c1donqraE/FjCBW3fzpD8=",
           "dtype": "f8"
          },
          "sizemode": "area",
          "sizeref": 0.0007850444444444444,
          "symbol": "circle"
         },
         "mode": "markers",
         "name": "Oceania",
         "showlegend": true,
         "type": "scattergeo"
        }
       ],
       "layout": {
        "geo": {
         "center": {},
         "domain": {
          "x": [
           0,
           1
          ],
          "y": [
           0,
           1
          ]
         }
        },
        "height": 700,
        "legend": {
         "itemsizing": "constant",
         "title": {
          "text": "Continent"
         },
         "tracegroupgap": 0
        },
        "template": {
         "data": {
          "bar": [
           {
            "error_x": {
             "color": "rgb(51,51,51)"
            },
            "error_y": {
             "color": "rgb(51,51,51)"
            },
            "marker": {
             "line": {
              "color": "rgb(237,237,237)",
              "width": 0.5
             },
             "pattern": {
              "fillmode": "overlay",
              "size": 10,
              "solidity": 0.2
             }
            },
            "type": "bar"
           }
          ],
          "barpolar": [
           {
            "marker": {
             "line": {
              "color": "rgb(237,237,237)",
              "width": 0.5
             },
             "pattern": {
              "fillmode": "overlay",
              "size": 10,
              "solidity": 0.2
             }
            },
            "type": "barpolar"
           }
          ],
          "carpet": [
           {
            "aaxis": {
             "endlinecolor": "rgb(51,51,51)",
             "gridcolor": "white",
             "linecolor": "white",
             "minorgridcolor": "white",
             "startlinecolor": "rgb(51,51,51)"
            },
            "baxis": {
             "endlinecolor": "rgb(51,51,51)",
             "gridcolor": "white",
             "linecolor": "white",
             "minorgridcolor": "white",
             "startlinecolor": "rgb(51,51,51)"
            },
            "type": "carpet"
           }
          ],
          "choropleth": [
           {
            "colorbar": {
             "outlinewidth": 0,
             "tickcolor": "rgb(237,237,237)",
             "ticklen": 6,
             "ticks": "inside"
            },
            "type": "choropleth"
           }
          ],
          "contour": [
           {
            "colorbar": {
             "outlinewidth": 0,
             "tickcolor": "rgb(237,237,237)",
             "ticklen": 6,
             "ticks": "inside"
            },
            "colorscale": [
             [
              0,
              "rgb(20,44,66)"
             ],
             [
              1,
              "rgb(90,179,244)"
             ]
            ],
            "type": "contour"
           }
          ],
          "contourcarpet": [
           {
            "colorbar": {
             "outlinewidth": 0,
             "tickcolor": "rgb(237,237,237)",
             "ticklen": 6,
             "ticks": "inside"
            },
            "type": "contourcarpet"
           }
          ],
          "heatmap": [
           {
            "colorbar": {
             "outlinewidth": 0,
             "tickcolor": "rgb(237,237,237)",
             "ticklen": 6,
             "ticks": "inside"
            },
            "colorscale": [
             [
              0,
              "rgb(20,44,66)"
             ],
             [
              1,
              "rgb(90,179,244)"
             ]
            ],
            "type": "heatmap"
           }
          ],
          "histogram": [
           {
            "marker": {
             "pattern": {
              "fillmode": "overlay",
              "size": 10,
              "solidity": 0.2
             }
            },
            "type": "histogram"
           }
          ],
          "histogram2d": [
           {
            "colorbar": {
             "outlinewidth": 0,
             "tickcolor": "rgb(237,237,237)",
             "ticklen": 6,
             "ticks": "inside"
            },
            "colorscale": [
             [
              0,
              "rgb(20,44,66)"
             ],
             [
              1,
              "rgb(90,179,244)"
             ]
            ],
            "type": "histogram2d"
           }
          ],
          "histogram2dcontour": [
           {
            "colorbar": {
             "outlinewidth": 0,
             "tickcolor": "rgb(237,237,237)",
             "ticklen": 6,
             "ticks": "inside"
            },
            "colorscale": [
             [
              0,
              "rgb(20,44,66)"
             ],
             [
              1,
              "rgb(90,179,244)"
             ]
            ],
            "type": "histogram2dcontour"
           }
          ],
          "mesh3d": [
           {
            "colorbar": {
             "outlinewidth": 0,
             "tickcolor": "rgb(237,237,237)",
             "ticklen": 6,
             "ticks": "inside"
            },
            "type": "mesh3d"
           }
          ],
          "parcoords": [
           {
            "line": {
             "colorbar": {
              "outlinewidth": 0,
              "tickcolor": "rgb(237,237,237)",
              "ticklen": 6,
              "ticks": "inside"
             }
            },
            "type": "parcoords"
           }
          ],
          "pie": [
           {
            "automargin": true,
            "type": "pie"
           }
          ],
          "scatter": [
           {
            "fillpattern": {
             "fillmode": "overlay",
             "size": 10,
             "solidity": 0.2
            },
            "type": "scatter"
           }
          ],
          "scatter3d": [
           {
            "line": {
             "colorbar": {
              "outlinewidth": 0,
              "tickcolor": "rgb(237,237,237)",
              "ticklen": 6,
              "ticks": "inside"
             }
            },
            "marker": {
             "colorbar": {
              "outlinewidth": 0,
              "tickcolor": "rgb(237,237,237)",
              "ticklen": 6,
              "ticks": "inside"
             }
            },
            "type": "scatter3d"
           }
          ],
          "scattercarpet": [
           {
            "marker": {
             "colorbar": {
              "outlinewidth": 0,
              "tickcolor": "rgb(237,237,237)",
              "ticklen": 6,
              "ticks": "inside"
             }
            },
            "type": "scattercarpet"
           }
          ],
          "scattergeo": [
           {
            "marker": {
             "colorbar": {
              "outlinewidth": 0,
              "tickcolor": "rgb(237,237,237)",
              "ticklen": 6,
              "ticks": "inside"
             }
            },
            "type": "scattergeo"
           }
          ],
          "scattergl": [
           {
            "marker": {
             "colorbar": {
              "outlinewidth": 0,
              "tickcolor": "rgb(237,237,237)",
              "ticklen": 6,
              "ticks": "inside"
             }
            },
            "type": "scattergl"
           }
          ],
          "scattermap": [
           {
            "marker": {
             "colorbar": {
              "outlinewidth": 0,
              "tickcolor": "rgb(237,237,237)",
              "ticklen": 6,
              "ticks": "inside"
             }
            },
            "type": "scattermap"
           }
          ],
          "scattermapbox": [
           {
            "marker": {
             "colorbar": {
              "outlinewidth": 0,
              "tickcolor": "rgb(237,237,237)",
              "ticklen": 6,
              "ticks": "inside"
             }
            },
            "type": "scattermapbox"
           }
          ],
          "scatterpolar": [
           {
            "marker": {
             "colorbar": {
              "outlinewidth": 0,
              "tickcolor": "rgb(237,237,237)",
              "ticklen": 6,
              "ticks": "inside"
             }
            },
            "type": "scatterpolar"
           }
          ],
          "scatterpolargl": [
           {
            "marker": {
             "colorbar": {
              "outlinewidth": 0,
              "tickcolor": "rgb(237,237,237)",
              "ticklen": 6,
              "ticks": "inside"
             }
            },
            "type": "scatterpolargl"
           }
          ],
          "scatterternary": [
           {
            "marker": {
             "colorbar": {
              "outlinewidth": 0,
              "tickcolor": "rgb(237,237,237)",
              "ticklen": 6,
              "ticks": "inside"
             }
            },
            "type": "scatterternary"
           }
          ],
          "surface": [
           {
            "colorbar": {
             "outlinewidth": 0,
             "tickcolor": "rgb(237,237,237)",
             "ticklen": 6,
             "ticks": "inside"
            },
            "colorscale": [
             [
              0,
              "rgb(20,44,66)"
             ],
             [
              1,
              "rgb(90,179,244)"
             ]
            ],
            "type": "surface"
           }
          ],
          "table": [
           {
            "cells": {
             "fill": {
              "color": "rgb(237,237,237)"
             },
             "line": {
              "color": "white"
             }
            },
            "header": {
             "fill": {
              "color": "rgb(217,217,217)"
             },
             "line": {
              "color": "white"
             }
            },
            "type": "table"
           }
          ]
         },
         "layout": {
          "annotationdefaults": {
           "arrowhead": 0,
           "arrowwidth": 1
          },
          "autotypenumbers": "strict",
          "coloraxis": {
           "colorbar": {
            "outlinewidth": 0,
            "tickcolor": "rgb(237,237,237)",
            "ticklen": 6,
            "ticks": "inside"
           }
          },
          "colorscale": {
           "sequential": [
            [
             0,
             "rgb(20,44,66)"
            ],
            [
             1,
             "rgb(90,179,244)"
            ]
           ],
           "sequentialminus": [
            [
             0,
             "rgb(20,44,66)"
            ],
            [
             1,
             "rgb(90,179,244)"
            ]
           ]
          },
          "colorway": [
           "#F8766D",
           "#A3A500",
           "#00BF7D",
           "#00B0F6",
           "#E76BF3"
          ],
          "font": {
           "color": "rgb(51,51,51)"
          },
          "geo": {
           "bgcolor": "white",
           "lakecolor": "white",
           "landcolor": "rgb(237,237,237)",
           "showlakes": true,
           "showland": true,
           "subunitcolor": "white"
          },
          "hoverlabel": {
           "align": "left"
          },
          "hovermode": "closest",
          "paper_bgcolor": "white",
          "plot_bgcolor": "rgb(237,237,237)",
          "polar": {
           "angularaxis": {
            "gridcolor": "white",
            "linecolor": "white",
            "showgrid": true,
            "tickcolor": "rgb(51,51,51)",
            "ticks": "outside"
           },
           "bgcolor": "rgb(237,237,237)",
           "radialaxis": {
            "gridcolor": "white",
            "linecolor": "white",
            "showgrid": true,
            "tickcolor": "rgb(51,51,51)",
            "ticks": "outside"
           }
          },
          "scene": {
           "xaxis": {
            "backgroundcolor": "rgb(237,237,237)",
            "gridcolor": "white",
            "gridwidth": 2,
            "linecolor": "white",
            "showbackground": true,
            "showgrid": true,
            "tickcolor": "rgb(51,51,51)",
            "ticks": "outside",
            "zerolinecolor": "white"
           },
           "yaxis": {
            "backgroundcolor": "rgb(237,237,237)",
            "gridcolor": "white",
            "gridwidth": 2,
            "linecolor": "white",
            "showbackground": true,
            "showgrid": true,
            "tickcolor": "rgb(51,51,51)",
            "ticks": "outside",
            "zerolinecolor": "white"
           },
           "zaxis": {
            "backgroundcolor": "rgb(237,237,237)",
            "gridcolor": "white",
            "gridwidth": 2,
            "linecolor": "white",
            "showbackground": true,
            "showgrid": true,
            "tickcolor": "rgb(51,51,51)",
            "ticks": "outside",
            "zerolinecolor": "white"
           }
          },
          "shapedefaults": {
           "fillcolor": "black",
           "line": {
            "width": 0
           },
           "opacity": 0.3
          },
          "ternary": {
           "aaxis": {
            "gridcolor": "white",
            "linecolor": "white",
            "showgrid": true,
            "tickcolor": "rgb(51,51,51)",
            "ticks": "outside"
           },
           "baxis": {
            "gridcolor": "white",
            "linecolor": "white",
            "showgrid": true,
            "tickcolor": "rgb(51,51,51)",
            "ticks": "outside"
           },
           "bgcolor": "rgb(237,237,237)",
           "caxis": {
            "gridcolor": "white",
            "linecolor": "white",
            "showgrid": true,
            "tickcolor": "rgb(51,51,51)",
            "ticks": "outside"
           }
          },
          "xaxis": {
           "automargin": true,
           "gridcolor": "white",
           "linecolor": "white",
           "showgrid": true,
           "tickcolor": "rgb(51,51,51)",
           "ticks": "outside",
           "title": {
            "standoff": 15
           },
           "zerolinecolor": "white"
          },
          "yaxis": {
           "automargin": true,
           "gridcolor": "white",
           "linecolor": "white",
           "showgrid": true,
           "tickcolor": "rgb(51,51,51)",
           "ticks": "outside",
           "title": {
            "standoff": 15
           },
           "zerolinecolor": "white"
          }
         }
        },
        "title": {
         "text": "Disease cases by continent and population ratio"
        },
        "width": 1200
       }
      }
     },
     "metadata": {},
     "output_type": "display_data"
    }
   ],
   "source": [
    "fig = px.scatter_geo(df_final,\n",
    "                     locations=\"location\",\n",
    "                     locationmode=\"country names\",\n",
    "                     color=\"continent\",\n",
    "                     size=\"ratio\",\n",
    "                     size_max=30,\n",
    "                     hover_name=\"location\",\n",
    "                     hover_data={\n",
    "                         \"total_cases\": True,\n",
    "                         \"ratio\": True,\n",
    "                         \"continent\": True\n",
    "                     },\n",
    "                     color_discrete_map={\n",
    "                         'Africa': 'green',\n",
    "                         'Asia': 'blue',\n",
    "                         'Europe': 'red',\n",
    "                         'North America': 'orange',\n",
    "                         'Oceania': 'purple',\n",
    "                         'South America': 'yellow'\n",
    "                     },\n",
    "                     title=\"Disease cases by continent and population ratio\",\n",
    "                     width=1200,\n",
    "                     height=700,\n",
    "                     labels={'total_cases': 'Disease cases (M)',\n",
    "                             'ratio': 'Ratio of cases to population',\n",
    "                             'continent' : 'Continent',\n",
    "                             'location' : 'Location'\n",
    "                             },\n",
    "                     template=\"ggplot2\") # instead of requested dark mode for better readability\n",
    "\n",
    "fig.show()"
   ]
  }
 ],
 "metadata": {
  "kernelspec": {
   "display_name": "Python 3",
   "language": "python",
   "name": "python3"
  },
  "language_info": {
   "codemirror_mode": {
    "name": "ipython",
    "version": 3
   },
   "file_extension": ".py",
   "mimetype": "text/x-python",
   "name": "python",
   "nbconvert_exporter": "python",
   "pygments_lexer": "ipython3",
   "version": "3.12.9"
  }
 },
 "nbformat": 4,
 "nbformat_minor": 2
}
