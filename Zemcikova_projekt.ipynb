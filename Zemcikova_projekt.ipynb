{
 "cells": [
  {
   "cell_type": "markdown",
   "id": "5f1453e00ba07110",
   "metadata": {},
   "source": [
    "### Závěrečný projet - modul Python"
   ]
  },
  {
   "cell_type": "markdown",
   "id": "80f51208356c3824",
   "metadata": {},
   "source": [
    "V tomto projektu budete analyzovat data ze stránky `www.sreality.cz`. Budete tedy získávat aktuální nabídku bytů ve Zlíně.\n",
    "Projekt se dělí na 2 části:\n",
    "1. WebScraping - pomocí knihovny `BeautifulSoup` získejte všechny aktuální inzerce bytů v daném městě. \n",
    "- Získáte **tyto** informace: `URL odkaz bytu, rozměry bytu, kompozice bytu, cena bytu, lokace bytu (Ulice+město)`\n",
    "2. Datová analýza - ETL proces\n",
    "- V první fázi prověďte processing dat tak, aby obsahovala příslušné datové typy, nenulové hodnoty atp. Ulice i město bude v samostatných sloupcích.\n",
    "- Zprocesovaná a vyčištěná data vyexportujte do `.csv` souboru s názvem `{vašeJméno}_zdrojová_data.csv`\n",
    "- Druhou část začněte tak, že si do dataframe nahrajete vámi vyexportovaný `.csv` soubor s vyscrapovanými daty.\n",
    "3. Datová analýza - analýza dat\n",
    "- Ve druhé fázi proveďte analýzu dat a odpovězte na tyto dotazy:\n",
    "- `Jaká je průměrná cena bytů?`\n",
    "- `Jaká je průměrná cena bytů pro každou kompozici (1+1, 2+1, atp.)? Zobrazte i na grafu.`\n",
    "- `Jaká je průměrná velikost bytu pro každou kompozici?`\n",
    "- `Existuje ulice, kde je vyšší koncentrace dražších bytů?`\n",
    "- `Jaký typ kompozice je v daném městě nejčastěji inzerovan? Který to je? Proč myslíte, že tomu tak je?`\n",
    "- `Existují zde inzerce bytů, které stojí více, než 20.000,-? Pokud ano, jsou v této cenové hladině inzerovány i maximálně dvoupokojové byty (2+1/2+kk)?`\n",
    "- `Zjištěte minimální a maximální inzerce pro každou kompozici bytu. Která kompozice má největší rozptyl mezi minimální a maximální inzerovanou cenou?`\n",
    "\n",
    "\n",
    "Dotazy zodpovězte ve vašem pracovním notebooku a výsledný soubor nahrajte na GitHub.\n"
   ]
  },
  {
   "cell_type": "markdown",
   "id": "59dc9d3b2384bd4e",
   "metadata": {},
   "source": [
    "### WebScraping"
   ]
  },
  {
   "cell_type": "code",
   "execution_count": 2,
   "id": "initial_id",
   "metadata": {
    "collapsed": true
   },
   "outputs": [
    {
     "name": "stdout",
     "output_type": "stream",
     "text": [
      "Scrapuju stránku č. 2\n",
      "Scrapuju stránku č. 3\n",
      "Scrapuju stránku č. 4\n",
      "Scrapuju stránku č. 5\n",
      "Scrapuju stránku č. 6\n",
      "Scrapuju stránku č. 7\n",
      "Scrapuju stránku č. 8\n",
      "Již zde není žádná další strana. Končím\n",
      "[{'URL odkaz': 'https://www.sreality.cz/detail/pronajem/byt/2+kk/zlin-zlin-zelinova/3870634572', 'Dispozice': 'Pronájem bytu 2+kk 49m²', 'Lokace': 'Zelinova, Zlín', 'Ulice': 'Zelinova', 'Mesto': ' Zlín', 'Cena za mesic': '14900Kč/měsíc'}, {'URL odkaz': 'https://www.sreality.cz/detail/pronajem/byt/1+1/zlin-zlin-podlesi-v/2323300940', 'Dispozice': 'Pronájem bytu 1+1 36m²', 'Lokace': 'Podlesí V, Zlín', 'Ulice': 'Podlesí V', 'Mesto': ' Zlín', 'Cena za mesic': '11500Kč/měsíc'}, {'URL odkaz': 'https://www.sreality.cz/detail/pronajem/byt/1+kk/zlin-malenovice-tecovska/1112744524', 'Dispozice': 'Pronájem bytu 1+kk 26m²', 'Lokace': 'Tečovská, Zlín - Malenovice', 'Ulice': 'Tečovská', 'Mesto': ' Zlín - Malenovice', 'Cena za mesic': '8300Kč/měsíc'}, {'URL odkaz': 'https://www.sreality.cz/detail/pronajem/byt/1+kk/zlin-zlin-j-a-bati/1042633804', 'Dispozice': 'Pronájem bytu 1+kk 31m²', 'Lokace': 'J. A. Bati, Zlín', 'Ulice': 'J. A. Bati', 'Mesto': ' Zlín', 'Cena za mesic': 'Cena na vyžádání'}, {'URL odkaz': 'https://www.sreality.cz/detail/pronajem/byt/2+kk/zlin-zlin-lorencova/1472258636', 'Dispozice': 'Pronájem bytu 2+kk 65m²', 'Lokace': 'Lorencova, Zlín', 'Ulice': 'Lorencova', 'Mesto': ' Zlín', 'Cena za mesic': '18700Kč/měsíc'}, {'URL odkaz': 'https://www.sreality.cz/detail/pronajem/byt/2+1/zlin-zlin-dlouha/1913504332', 'Dispozice': 'Pronájem bytu 2+1 56m²', 'Lokace': 'Dlouhá, Zlín', 'Ulice': 'Dlouhá', 'Mesto': ' Zlín', 'Cena za mesic': '12000Kč/měsíc'}, {'URL odkaz': 'https://www.sreality.cz/detail/pronajem/byt/1+1/zlin-zlin-vysoka/2008138316', 'Dispozice': 'Pronájem bytu 1+1 25m²', 'Lokace': 'Vysoká, Zlín', 'Ulice': 'Vysoká', 'Mesto': ' Zlín', 'Cena za mesic': '9000Kč/měsíc'}, {'URL odkaz': 'https://www.sreality.cz/detail/pronajem/byt/1+kk/zlin-malenovice-zahradni/3143836236', 'Dispozice': 'Pronájem bytu 1+kk 21m²', 'Lokace': 'Zahradní, Zlín - Malenovice', 'Ulice': 'Zahradní', 'Mesto': ' Zlín - Malenovice', 'Cena za mesic': '14900Kč/měsíc'}, {'URL odkaz': 'https://www.sreality.cz/detail/pronajem/byt/3+1/zlin-malenovice-tyrsova/2728141388', 'Dispozice': 'Pronájem bytu 3+1 68m²', 'Lokace': 'Tyršova, Zlín - Malenovice', 'Ulice': 'Tyršova', 'Mesto': ' Zlín - Malenovice', 'Cena za mesic': '16000Kč/měsíc'}, {'URL odkaz': 'https://www.sreality.cz/detail/pronajem/byt/2+kk/zlin-zlin-lesetin-i/3600556620', 'Dispozice': 'Pronájem bytu 2+kk 96m²', 'Lokace': 'Lešetín I, Zlín', 'Ulice': 'Lešetín I', 'Mesto': ' Zlín', 'Cena za mesic': '25000Kč/měsíc'}, {'URL odkaz': 'https://www.sreality.cz/detail/pronajem/byt/1+kk/zlin-zlin-j-a-bati/4172448332', 'Dispozice': 'Pronájem bytu 1+kk 41m²', 'Lokace': 'J. A. Bati, Zlín', 'Ulice': 'J. A. Bati', 'Mesto': ' Zlín', 'Cena za mesic': 'Cena na vyžádání'}, {'URL odkaz': 'https://www.sreality.cz/detail/pronajem/byt/3+1/zlin-zlin-beckovska/481043020', 'Dispozice': 'Pronájem bytu 3+1 68m²', 'Lokace': 'Beckovská, Zlín', 'Ulice': 'Beckovská', 'Mesto': ' Zlín', 'Cena za mesic': '17000Kč/měsíc'}, {'URL odkaz': 'https://www.sreality.cz/detail/pronajem/byt/1+1/zlin-zlin-vetrna/987308620', 'Dispozice': 'Pronájem bytu 1+1 34m²', 'Lokace': 'Větrná, Zlín', 'Ulice': 'Větrná', 'Mesto': ' Zlín', 'Cena za mesic': '10000Kč/měsíc'}, {'URL odkaz': 'https://www.sreality.cz/detail/pronajem/byt/2+1/zlin-zlin-dukelska/1356603980', 'Dispozice': 'Pronájem bytu 2+1 48m²', 'Lokace': 'Dukelská, Zlín', 'Ulice': 'Dukelská', 'Mesto': ' Zlín', 'Cena za mesic': '14000Kč/měsíc'}, {'URL odkaz': 'https://www.sreality.cz/detail/pronajem/byt/2+1/zlin-kudlov-vaclavska/1963905612', 'Dispozice': 'Pronájem bytu 2+1 58m²', 'Lokace': 'Václavská, Zlín - Kudlov', 'Ulice': 'Václavská', 'Mesto': ' Zlín - Kudlov', 'Cena za mesic': '10000Kč/měsíc'}, {'URL odkaz': 'https://www.sreality.cz/detail/pronajem/byt/3+1/zlin-zlin-budovatelska/2434540108', 'Dispozice': 'Pronájem bytu 3+1 64m²', 'Lokace': 'Budovatelská, Zlín', 'Ulice': 'Budovatelská', 'Mesto': ' Zlín', 'Cena za mesic': '16000Kč/měsíc'}, {'URL odkaz': 'https://www.sreality.cz/detail/pronajem/byt/2+1/zlin-malenovice-chelcickeho/722215500', 'Dispozice': 'Pronájem bytu 2+1 55m²', 'Lokace': 'Chelčického, Zlín - Malenovice', 'Ulice': 'Chelčického', 'Mesto': ' Zlín - Malenovice', 'Cena za mesic': '15900Kč/měsíc'}, {'URL odkaz': 'https://www.sreality.cz/detail/pronajem/byt/3+1/zlin-zlin-/420225612', 'Dispozice': 'Pronájem bytu 3+1 96m²', 'Lokace': 'Zlín', 'Ulice': 'NaN', 'Mesto': 'Zlín', 'Cena za mesic': '18000Kč/měsíc'}, {'URL odkaz': 'https://www.sreality.cz/detail/pronajem/byt/3+1/slusovice-slusovice-pod-veselou/1057759820', 'Dispozice': 'Pronájem bytu 3+1 115m²', 'Lokace': 'Pod Veselou, Slušovice', 'Ulice': 'Pod Veselou', 'Mesto': ' Slušovice', 'Cena za mesic': '15000Kč/měsíc'}, {'URL odkaz': 'https://www.sreality.cz/detail/pronajem/byt/2+kk/frystak-frystak-komenskeho/1269887564', 'Dispozice': 'Pronájem bytu 2+kk 57m²', 'Lokace': 'Komenského, Fryšták', 'Ulice': 'Komenského', 'Mesto': ' Fryšták', 'Cena za mesic': '15500Kč/měsíc'}, {'URL odkaz': 'https://www.sreality.cz/detail/pronajem/byt/2+kk/zlin-malenovice-trida-svobody/1570579020', 'Dispozice': 'Pronájem bytu 2+kk 64m²', 'Lokace': 'třída Svobody, Zlín - Malenovice', 'Ulice': 'třída Svobody', 'Mesto': ' Zlín - Malenovice', 'Cena za mesic': '20690Kč/měsíc'}, {'URL odkaz': 'https://www.sreality.cz/detail/pronajem/byt/3+1/zlin-zlin-slezska/2275865164', 'Dispozice': 'Pronájem bytu 3+1 73m²', 'Lokace': 'Slezská, Zlín', 'Ulice': 'Slezská', 'Mesto': ' Zlín', 'Cena za mesic': '19000Kč/měsíc'}, {'URL odkaz': 'https://www.sreality.cz/detail/pronajem/byt/1+kk/zlin-malenovice-trida-svobody/2694652492', 'Dispozice': 'Pronájem bytu 1+kk 37m²', 'Lokace': 'třída Svobody, Zlín - Malenovice', 'Ulice': 'třída Svobody', 'Mesto': ' Zlín - Malenovice', 'Cena za mesic': '14900Kč/měsíc'}, {'URL odkaz': 'https://www.sreality.cz/detail/pronajem/byt/2+kk/zlin-zlin-zarami/526201420', 'Dispozice': 'Pronájem bytu 2+kk 60m²', 'Lokace': 'Zarámí, Zlín', 'Ulice': 'Zarámí', 'Mesto': ' Zlín', 'Cena za mesic': '17500Kč/měsíc'}, {'URL odkaz': 'https://www.sreality.cz/detail/pronajem/byt/2+1/zlin-zlin-na-honech-ii/3869057612', 'Dispozice': 'Pronájem bytu 2+1 44m²', 'Lokace': 'Na Honech II, Zlín', 'Ulice': 'Na Honech II', 'Mesto': ' Zlín', 'Cena za mesic': '15800Kč/měsíc'}, {'URL odkaz': 'https://www.sreality.cz/detail/pronajem/byt/1+kk/zlin-zlin-smetanova/1749557836', 'Dispozice': 'Pronájem bytu 1+kk 32m²', 'Lokace': 'Smetanova, Zlín', 'Ulice': 'Smetanova', 'Mesto': ' Zlín', 'Cena za mesic': 'Cena na vyžádání'}, {'URL odkaz': 'https://www.sreality.cz/detail/pronajem/byt/2+1/otrokovice-otrokovice-havlickova/1204625996', 'Dispozice': 'Pronájem bytu 2+1 68m²', 'Lokace': 'Havlíčkova, Otrokovice', 'Ulice': 'Havlíčkova', 'Mesto': ' Otrokovice', 'Cena za mesic': '14000Kč/měsíc'}, {'URL odkaz': 'https://www.sreality.cz/detail/pronajem/byt/1+1/zlin-zlin-ceska/1698574924', 'Dispozice': 'Pronájem bytu 1+1 33m²', 'Lokace': 'Česká, Zlín', 'Ulice': 'Česká', 'Mesto': ' Zlín', 'Cena za mesic': '10400Kč/měsíc'}, {'URL odkaz': 'https://www.sreality.cz/detail/pronajem/byt/2+1/slusovice-slusovice-druzstevni/3678216780', 'Dispozice': 'Pronájem bytu 2+1 57m²', 'Lokace': 'Družstevní, Slušovice', 'Ulice': 'Družstevní', 'Mesto': ' Slušovice', 'Cena za mesic': '9000Kč/měsíc'}, {'URL odkaz': 'https://www.sreality.cz/detail/pronajem/byt/2+kk/otrokovice-otrokovice-tr-spojencu/2033132108', 'Dispozice': 'Pronájem bytu 2+kk 48m²', 'Lokace': 'tř. Spojenců, Otrokovice', 'Ulice': 'tř. Spojenců', 'Mesto': ' Otrokovice', 'Cena za mesic': '12000Kč/měsíc'}, {'URL odkaz': 'https://www.sreality.cz/detail/pronajem/byt/2+kk/zlin-zlin-sadova/2004689484', 'Dispozice': 'Pronájem bytu 2+kk 51m²', 'Lokace': 'Sadová, Zlín', 'Ulice': 'Sadová', 'Mesto': ' Zlín', 'Cena za mesic': '18500Kč/měsíc'}, {'URL odkaz': 'https://www.sreality.cz/detail/pronajem/byt/2+1/zlin-zlin-cihlarska/2523734604', 'Dispozice': 'Pronájem bytu 2+1 58m²', 'Lokace': 'Cihlářská, Zlín', 'Ulice': 'Cihlářská', 'Mesto': ' Zlín', 'Cena za mesic': '16500Kč/měsíc'}, {'URL odkaz': 'https://www.sreality.cz/detail/pronajem/byt/1+kk/zlin-zlin-lorencova/124592716', 'Dispozice': 'Pronájem bytu 1+kk 28m²', 'Lokace': 'Lorencova, Zlín', 'Ulice': 'Lorencova', 'Mesto': ' Zlín', 'Cena za mesic': '9500Kč/měsíc'}, {'URL odkaz': 'https://www.sreality.cz/detail/pronajem/byt/1+kk/zlin-zlin-podlesi-ii/2862490188', 'Dispozice': 'Pronájem bytu 1+kk 30m²', 'Lokace': 'Podlesí II, Zlín', 'Ulice': 'Podlesí II', 'Mesto': ' Zlín', 'Cena za mesic': '12000Kč/měsíc'}, {'URL odkaz': 'https://www.sreality.cz/detail/pronajem/byt/1+kk/zlin-zlin-trida-tomase-bati/1735799372', 'Dispozice': 'Pronájem bytu 1+kk 23m²', 'Lokace': 'třída Tomáše Bati, Zlín', 'Ulice': 'třída Tomáše Bati', 'Mesto': ' Zlín', 'Cena za mesic': '9000Kč/měsíc'}, {'URL odkaz': 'https://www.sreality.cz/detail/pronajem/byt/2+kk/zlin-zlin-na-honech-ii/1418601036', 'Dispozice': 'Pronájem bytu 2+kk 56m²', 'Lokace': 'Na Honech II, Zlín', 'Ulice': 'Na Honech II', 'Mesto': ' Zlín', 'Cena za mesic': '18500Kč/měsíc'}, {'URL odkaz': 'https://www.sreality.cz/detail/pronajem/byt/2+kk/zlin-zlin-l-vachy/1093284428', 'Dispozice': 'Pronájem bytu 2+kk 55m²', 'Lokace': 'L. Váchy, Zlín', 'Ulice': 'L. Váchy', 'Mesto': ' Zlín', 'Cena za mesic': '12800Kč/měsíc'}, {'URL odkaz': 'https://www.sreality.cz/detail/pronajem/byt/2+kk/zlin-zlin-l-vachy/442118732', 'Dispozice': 'Pronájem bytu 2+kk 50m²', 'Lokace': 'L. Váchy, Zlín', 'Ulice': 'L. Váchy', 'Mesto': ' Zlín', 'Cena za mesic': '12000Kč/měsíc'}, {'URL odkaz': 'https://www.sreality.cz/detail/pronajem/byt/1+kk/zlin-zlin-pasecka/2460148300', 'Dispozice': 'Pronájem bytu 1+kk 29m²', 'Lokace': 'Pasecká, Zlín', 'Ulice': 'Pasecká', 'Mesto': ' Zlín', 'Cena za mesic': '13500Kč/měsíc'}, {'URL odkaz': 'https://www.sreality.cz/detail/pronajem/byt/1+kk/zlin-zlin-kuty/3460969036', 'Dispozice': 'Pronájem bytu 1+kk 29m²', 'Lokace': 'Kúty, Zlín', 'Ulice': 'Kúty', 'Mesto': ' Zlín', 'Cena za mesic': '12000Kč/měsíc'}, {'URL odkaz': 'https://www.sreality.cz/detail/pronajem/byt/2+kk/otrokovice-otrokovice-nam-3-kvetna/2405245516', 'Dispozice': 'Pronájem bytu 2+kk 60m²', 'Lokace': 'nám. 3. května, Otrokovice', 'Ulice': 'nám. 3. května', 'Mesto': ' Otrokovice', 'Cena za mesic': '17500Kč/měsíc'}, {'URL odkaz': 'https://www.sreality.cz/detail/pronajem/byt/1+1/otrokovice-kvitkovice-/465510988', 'Dispozice': 'Pronájem bytu 1+1 45m²', 'Lokace': 'Otrokovice - Kvítkovice', 'Ulice': 'NaN', 'Mesto': 'Otrokovice - Kvítkovice', 'Cena za mesic': '10000Kč/měsíc'}, {'URL odkaz': 'https://www.sreality.cz/detail/pronajem/byt/3+1/zlin-zlin-slezska/2275865164', 'Dispozice': 'Pronájem bytu 3+1 73m²', 'Lokace': 'Slezská, Zlín', 'Ulice': 'Slezská', 'Mesto': ' Zlín', 'Cena za mesic': '19000Kč/měsíc'}, {'URL odkaz': 'https://www.sreality.cz/detail/pronajem/byt/2+1/zlin-prstne-l-vachy/267330124', 'Dispozice': 'Pronájem bytu 2+1 58m²', 'Lokace': 'L. Váchy, Zlín - Prštné', 'Ulice': 'L. Váchy', 'Mesto': ' Zlín - Prštné', 'Cena za mesic': '16500Kč/měsíc'}, {'URL odkaz': 'https://www.sreality.cz/detail/pronajem/byt/3+kk/napajedla-napajedla-masarykovo-namesti/638923340', 'Dispozice': 'Pronájem bytu 3+kk 66m²', 'Lokace': 'Masarykovo náměstí, Napajedla', 'Ulice': 'Masarykovo náměstí', 'Mesto': ' Napajedla', 'Cena za mesic': '13000Kč/měsíc'}, {'URL odkaz': 'https://www.sreality.cz/detail/pronajem/byt/1+1/zlin-zlin-dlouha/356459084', 'Dispozice': 'Pronájem bytu 1+1 36m²', 'Lokace': 'Dlouhá, Zlín', 'Ulice': 'Dlouhá', 'Mesto': ' Zlín', 'Cena za mesic': '9000Kč/měsíc'}, {'URL odkaz': 'https://www.sreality.cz/detail/pronajem/byt/1+1/zlin-zlin-potoky/1788228172', 'Dispozice': 'Pronájem bytu 1+1 36m²', 'Lokace': 'Potoky, Zlín', 'Ulice': 'Potoky', 'Mesto': ' Zlín', 'Cena za mesic': '11500Kč/měsíc'}, {'URL odkaz': 'https://www.sreality.cz/detail/pronajem/byt/1+1/otrokovice-otrokovice-nadrazni/1966023244', 'Dispozice': 'Pronájem bytu 1+1 38m²', 'Lokace': 'Nádražní, Otrokovice', 'Ulice': 'Nádražní', 'Mesto': ' Otrokovice', 'Cena za mesic': '9600Kč/měsíc'}, {'URL odkaz': 'https://www.sreality.cz/detail/pronajem/byt/atypicky/zlin-prstne-l-vachy/617361996', 'Dispozice': 'Pronájem bytu atypický 19m²', 'Lokace': 'L. Váchy, Zlín - Prštné', 'Ulice': 'L. Váchy', 'Mesto': ' Zlín - Prštné', 'Cena za mesic': '7500Kč/měsíc'}, {'URL odkaz': 'https://www.sreality.cz/detail/pronajem/byt/pokoj/otrokovice-otrokovice-tr-spojencu/2774475340', 'Dispozice': 'Pronájem bytu pokoj 21m²', 'Lokace': 'tř. Spojenců, Otrokovice', 'Ulice': 'tř. Spojenců', 'Mesto': ' Otrokovice', 'Cena za mesic': '10500Kč/měsíc'}, {'URL odkaz': 'https://www.sreality.cz/detail/pronajem/byt/2+1/zlin-malenovice-trida-svobody/968368716', 'Dispozice': 'Pronájem bytu 2+1 48m²', 'Lokace': 'třída Svobody, Zlín - Malenovice', 'Ulice': 'třída Svobody', 'Mesto': ' Zlín - Malenovice', 'Cena za mesic': '12000Kč/měsíc'}, {'URL odkaz': 'https://www.sreality.cz/detail/pronajem/byt/2+kk/zlin-louky-zadni-luhy/4022870604', 'Dispozice': 'Pronájem bytu 2+kk 44m²', 'Lokace': 'Zadní luhy, Zlín - Louky', 'Ulice': 'Zadní luhy', 'Mesto': ' Zlín - Louky', 'Cena za mesic': '12900Kč/měsíc'}, {'URL odkaz': 'https://www.sreality.cz/detail/pronajem/byt/3+kk/zlin-zlin-dlouha/4140311116', 'Dispozice': 'Pronájem bytu 3+kk 110m²', 'Lokace': 'Dlouhá, Zlín', 'Ulice': 'Dlouhá', 'Mesto': ' Zlín', 'Cena za mesic': '19000Kč/měsíc'}, {'URL odkaz': 'https://www.sreality.cz/detail/pronajem/byt/1+kk/zlin-zlin-sadova/670573132', 'Dispozice': 'Pronájem bytu 1+kk 40m²', 'Lokace': 'Sadová, Zlín', 'Ulice': 'Sadová', 'Mesto': ' Zlín', 'Cena za mesic': '13500Kč/měsíc'}, {'URL odkaz': 'https://www.sreality.cz/detail/pronajem/byt/2+kk/zlin-zlin-pasecka/1776476748', 'Dispozice': 'Pronájem bytu 2+kk 50m²', 'Lokace': 'Pasecká, Zlín', 'Ulice': 'Pasecká', 'Mesto': ' Zlín', 'Cena za mesic': '17900Kč/měsíc'}, {'URL odkaz': 'https://www.sreality.cz/detail/pronajem/byt/2+kk/zlin-zlin-pasecka/941744716', 'Dispozice': 'Pronájem bytu 2+kk 48m²', 'Lokace': 'Pasecká, Zlín', 'Ulice': 'Pasecká', 'Mesto': ' Zlín', 'Cena za mesic': '17200Kč/měsíc'}, {'URL odkaz': 'https://www.sreality.cz/detail/pronajem/byt/pokoj/zlin-priluky-pancava/1385484876', 'Dispozice': 'Pronájem bytu pokoj 18m²', 'Lokace': 'Pančava, Zlín - Příluky', 'Ulice': 'Pančava', 'Mesto': ' Zlín - Příluky', 'Cena za mesic': '4300Kč/měsíc'}, {'URL odkaz': 'https://www.sreality.cz/detail/pronajem/byt/1+kk/zlin-priluky-pancava/4211225164', 'Dispozice': 'Pronájem bytu 1+kk 22m²', 'Lokace': 'Pančava, Zlín - Příluky', 'Ulice': 'Pančava', 'Mesto': ' Zlín - Příluky', 'Cena za mesic': '9900Kč/měsíc'}, {'URL odkaz': 'https://www.sreality.cz/detail/pronajem/byt/pokoj/otrokovice-otrokovice-tr-spojencu/3613336140', 'Dispozice': 'Pronájem bytu pokoj 21m²', 'Lokace': 'tř. Spojenců, Otrokovice', 'Ulice': 'tř. Spojenců', 'Mesto': ' Otrokovice', 'Cena za mesic': '8500Kč/měsíc'}, {'URL odkaz': 'https://www.sreality.cz/detail/pronajem/byt/pokoj/otrokovice-otrokovice-tr-spojencu/2489262668', 'Dispozice': 'Pronájem bytu pokoj 21m²', 'Lokace': 'tř. Spojenců, Otrokovice', 'Ulice': 'tř. Spojenců', 'Mesto': ' Otrokovice', 'Cena za mesic': '9500Kč/měsíc'}, {'URL odkaz': 'https://www.sreality.cz/detail/pronajem/byt/1+kk/zlin-zlin-vejvanovska/1921827404', 'Dispozice': 'Pronájem bytu 1+kk 18m²', 'Lokace': 'Vejvanovská, Zlín', 'Ulice': 'Vejvanovská', 'Mesto': ' Zlín', 'Cena za mesic': '10900Kč/měsíc'}, {'URL odkaz': 'https://www.sreality.cz/detail/pronajem/byt/1+kk/zlin-zlin-stefanikova/762589772', 'Dispozice': 'Pronájem bytu 1+kk 20m²', 'Lokace': 'Štefánikova, Zlín', 'Ulice': 'Štefánikova', 'Mesto': ' Zlín', 'Cena za mesic': '11900Kč/měsíc'}, {'URL odkaz': 'https://www.sreality.cz/detail/pronajem/byt/3+kk/zlin-zlin-trida-tomase-bati/1701323340', 'Dispozice': 'Pronájem bytu 3+kk 95m²', 'Lokace': 'třída Tomáše Bati, Zlín', 'Ulice': 'třída Tomáše Bati', 'Mesto': ' Zlín', 'Cena za mesic': '29000Kč/měsíc'}, {'URL odkaz': 'https://www.sreality.cz/detail/pronajem/byt/2+1/zlin-zlin-na-honech-ii/3782468172', 'Dispozice': 'Pronájem bytu 2+1 45m²', 'Lokace': 'Na Honech II, Zlín', 'Ulice': 'Na Honech II', 'Mesto': ' Zlín', 'Cena za mesic': '13500Kč/měsíc'}, {'URL odkaz': 'https://www.sreality.cz/detail/pronajem/byt/2+1/zlin-zlin-slunecna/3220775500', 'Dispozice': 'Pronájem bytu 2+1 62m²', 'Lokace': 'Slunečná, Zlín', 'Ulice': 'Slunečná', 'Mesto': ' Zlín', 'Cena za mesic': '12500Kč/měsíc'}, {'URL odkaz': 'https://www.sreality.cz/detail/pronajem/byt/1+1/zlin-zlin-vetrna/2908299852', 'Dispozice': 'Pronájem bytu 1+1 35m²', 'Lokace': 'Větrná, Zlín', 'Ulice': 'Větrná', 'Mesto': ' Zlín', 'Cena za mesic': '13500Kč/měsíc'}, {'URL odkaz': 'https://www.sreality.cz/detail/pronajem/byt/3+1/zlin-malenovice-chelcickeho/3883475532', 'Dispozice': 'Pronájem bytu 3+1 66m²', 'Lokace': 'Chelčického, Zlín - Malenovice', 'Ulice': 'Chelčického', 'Mesto': ' Zlín - Malenovice', 'Cena za mesic': '19000Kč/měsíc'}, {'URL odkaz': 'https://www.sreality.cz/detail/pronajem/byt/2+kk/zlin-malenovice-zabrani/2390807116', 'Dispozice': 'Pronájem bytu 2+kk 50m²', 'Lokace': 'Zabrání, Zlín - Malenovice', 'Ulice': 'Zabrání', 'Mesto': ' Zlín - Malenovice', 'Cena za mesic': '20000Kč/měsíc'}, {'URL odkaz': 'https://www.sreality.cz/detail/pronajem/byt/2+kk/zlin-zlin-zalesna-ii/1758077516', 'Dispozice': 'Pronájem bytu 2+kk 56m²', 'Lokace': 'Zálešná II, Zlín', 'Ulice': 'Zálešná II', 'Mesto': ' Zlín', 'Cena za mesic': '16000Kč/měsíc'}, {'URL odkaz': 'https://www.sreality.cz/detail/pronajem/byt/2+kk/zlin-zlin-lesetin-i/2294948428', 'Dispozice': 'Pronájem bytu 2+kk 58m²', 'Lokace': 'Lešetín I, Zlín', 'Ulice': 'Lešetín I', 'Mesto': ' Zlín', 'Cena za mesic': '16000Kč/měsíc'}, {'URL odkaz': 'https://www.sreality.cz/detail/pronajem/byt/2+1/zlin-zlin-budovatelska/2822382156', 'Dispozice': 'Pronájem bytu 2+1 45m²', 'Lokace': 'Budovatelská, Zlín', 'Ulice': 'Budovatelská', 'Mesto': ' Zlín', 'Cena za mesic': '15500Kč/měsíc'}, {'URL odkaz': 'https://www.sreality.cz/detail/pronajem/byt/2+kk/zlin-zlin-havlickovo-nabrezi/2673484364', 'Dispozice': 'Pronájem bytu 2+kk 58m²', 'Lokace': 'Havlíčkovo nábřeží, Zlín', 'Ulice': 'Havlíčkovo nábřeží', 'Mesto': ' Zlín', 'Cena za mesic': '13500Kč/měsíc'}, {'URL odkaz': 'https://www.sreality.cz/detail/pronajem/byt/4+1/zlin-zlin-slunecna/3986367052', 'Dispozice': 'Pronájem bytu 4+1 83m²', 'Lokace': 'Slunečná, Zlín', 'Ulice': 'Slunečná', 'Mesto': ' Zlín', 'Cena za mesic': '21000Kč/měsíc'}, {'URL odkaz': 'https://www.sreality.cz/detail/pronajem/byt/1+kk/zlin-zlin-javorova/666317388', 'Dispozice': 'Pronájem bytu 1+kk 28m²', 'Lokace': 'Javorová, Zlín', 'Ulice': 'Javorová', 'Mesto': ' Zlín', 'Cena za mesic': '11700Kč/měsíc'}, {'URL odkaz': 'https://www.sreality.cz/detail/pronajem/byt/1+kk/zlutava-zlutava-/564843084', 'Dispozice': 'Pronájem bytu 1+kk 26m²', 'Lokace': 'Žlutava', 'Ulice': 'NaN', 'Mesto': 'Žlutava', 'Cena za mesic': '6500Kč/měsíc'}, {'URL odkaz': 'https://www.sreality.cz/detail/pronajem/byt/3+kk/luhacovice-luhacovice-/1327178316', 'Dispozice': 'Pronájem bytu 3+kk 62m²', 'Lokace': 'Luhačovice', 'Ulice': 'NaN', 'Mesto': 'Luhačovice', 'Cena za mesic': '15000Kč/měsíc'}, {'URL odkaz': 'https://www.sreality.cz/detail/pronajem/byt/3+1/zlin-zlin-jilova/864301644', 'Dispozice': 'Pronájem bytu 3+1 76m²', 'Lokace': 'Jílová, Zlín', 'Ulice': 'Jílová', 'Mesto': ' Zlín', 'Cena za mesic': '14650Kč/měsíc'}, {'URL odkaz': 'https://www.sreality.cz/detail/pronajem/byt/3+kk/zlin-zlin-podlesi-i/3770954316', 'Dispozice': 'Pronájem bytu 3+kk 68m²', 'Lokace': 'Podlesí I, Zlín', 'Ulice': 'Podlesí I', 'Mesto': ' Zlín', 'Cena za mesic': '18000Kč/měsíc'}, {'URL odkaz': 'https://www.sreality.cz/detail/pronajem/byt/3+kk/zlin-priluky-pristav/926990924', 'Dispozice': 'Pronájem bytu 3+kk 110m²', 'Lokace': 'Přístav, Zlín - Příluky', 'Ulice': 'Přístav', 'Mesto': ' Zlín - Příluky', 'Cena za mesic': '20000Kč/měsíc'}, {'URL odkaz': 'https://www.sreality.cz/detail/pronajem/byt/3+kk/zlin-zlin-sokolska/3267805772', 'Dispozice': 'Pronájem bytu 3+kk 77m²', 'Lokace': 'Sokolská, Zlín', 'Ulice': 'Sokolská', 'Mesto': ' Zlín', 'Cena za mesic': '14000Kč/měsíc'}, {'URL odkaz': 'https://www.sreality.cz/detail/pronajem/byt/1+kk/zlin-zlin-stefanikova/1819554380', 'Dispozice': 'Pronájem bytu 1+kk 30m²', 'Lokace': 'Štefánikova, Zlín', 'Ulice': 'Štefánikova', 'Mesto': ' Zlín', 'Cena za mesic': '11900Kč/měsíc'}, {'URL odkaz': 'https://www.sreality.cz/detail/pronajem/byt/2+kk/zlin-zlin-zelinova/3870634572', 'Dispozice': 'Pronájem bytu 2+kk 49m²', 'Lokace': 'Zelinova, Zlín', 'Ulice': 'Zelinova', 'Mesto': ' Zlín', 'Cena za mesic': '14900Kč/měsíc'}, {'URL odkaz': 'https://www.sreality.cz/detail/pronajem/byt/pokoj/zlin-prstne-/3370463820', 'Dispozice': 'Pronájem bytu pokoj 22m²', 'Lokace': 'Zlín - Prštné', 'Ulice': 'NaN', 'Mesto': 'Zlín - Prštné', 'Cena za mesic': '6500Kč/měsíc'}, {'URL odkaz': 'https://www.sreality.cz/detail/pronajem/byt/1+kk/zlin-malenovice-bezrucova/1675965004', 'Dispozice': 'Pronájem bytu 1+kk 35m²', 'Lokace': 'Bezručova, Zlín - Malenovice', 'Ulice': 'Bezručova', 'Mesto': ' Zlín - Malenovice', 'Cena za mesic': '12000Kč/měsíc'}, {'URL odkaz': 'https://www.sreality.cz/detail/pronajem/byt/3+1/zlin-zlin-slezska/2275865164', 'Dispozice': 'Pronájem bytu 3+1 73m²', 'Lokace': 'Slezská, Zlín', 'Ulice': 'Slezská', 'Mesto': ' Zlín', 'Cena za mesic': '19000Kč/měsíc'}, {'URL odkaz': 'https://www.sreality.cz/detail/pronajem/byt/pokoj/zlin-zlin-/3041210956', 'Dispozice': 'Pronájem bytu pokoj 17m²', 'Lokace': 'Zlín', 'Ulice': 'NaN', 'Mesto': 'Zlín', 'Cena za mesic': '8000Kč/měsíc'}, {'URL odkaz': 'https://www.sreality.cz/detail/pronajem/byt/2+1/zlin-zlin-podlesi-iii/1119236684', 'Dispozice': 'Pronájem bytu 2+1 45m²', 'Lokace': 'Podlesí III, Zlín', 'Ulice': 'Podlesí III', 'Mesto': ' Zlín', 'Cena za mesic': '10600Kč/měsíc'}, {'URL odkaz': 'https://www.sreality.cz/detail/pronajem/byt/2+kk/zlin-zlin-zelinova/1351365196', 'Dispozice': 'Pronájem bytu 2+kk 48m²', 'Lokace': 'Zelinova, Zlín', 'Ulice': 'Zelinova', 'Mesto': ' Zlín', 'Cena za mesic': '17900Kč/měsíc'}, {'URL odkaz': 'https://www.sreality.cz/detail/pronajem/byt/3+1/zlin-zlin-podlesi-iii/2115682892', 'Dispozice': 'Pronájem bytu 3+1 70m²', 'Lokace': 'Podlesí III, Zlín', 'Ulice': 'Podlesí III', 'Mesto': ' Zlín', 'Cena za mesic': '14000Kč/měsíc'}, {'URL odkaz': 'https://www.sreality.cz/detail/pronajem/byt/2+1/otrokovice-otrokovice-hlavni/3354866252', 'Dispozice': 'Pronájem bytu 2+1 56m²', 'Lokace': 'Hlavní, Otrokovice', 'Ulice': 'Hlavní', 'Mesto': ' Otrokovice', 'Cena za mesic': '13900Kč/měsíc'}, {'URL odkaz': 'https://www.sreality.cz/detail/pronajem/byt/2+1/otrokovice-otrokovice-havlickova/2230792780', 'Dispozice': 'Pronájem bytu 2+1 59m²', 'Lokace': 'Havlíčkova, Otrokovice', 'Ulice': 'Havlíčkova', 'Mesto': ' Otrokovice', 'Cena za mesic': '13000Kč/měsíc'}, {'URL odkaz': 'https://www.sreality.cz/detail/pronajem/byt/2+1/zlin-zlin-nabrezi/1293365836', 'Dispozice': 'Pronájem bytu 2+1 60m²', 'Lokace': 'Nábřeží, Zlín', 'Ulice': 'Nábřeží', 'Mesto': ' Zlín', 'Cena za mesic': '12150Kč/měsíc'}, {'URL odkaz': 'https://www.sreality.cz/detail/pronajem/byt/3+1/zlin-zlin-hrncirska/123155020', 'Dispozice': 'Pronájem bytu 3+1 85m²', 'Lokace': 'Hrnčířská, Zlín', 'Ulice': 'Hrnčířská', 'Mesto': ' Zlín', 'Cena za mesic': '17000Kč/měsíc'}, {'URL odkaz': 'https://www.sreality.cz/detail/pronajem/byt/3+1/zlin-zlin-okruzni/2725720652', 'Dispozice': 'Pronájem bytu 3+1 67m²', 'Lokace': 'Okružní, Zlín', 'Ulice': 'Okružní', 'Mesto': ' Zlín', 'Cena za mesic': '17000Kč/měsíc'}, {'URL odkaz': 'https://www.sreality.cz/detail/pronajem/byt/3+1/otrokovice-otrokovice-smetanova/2759275084', 'Dispozice': 'Pronájem bytu 3+1 77m²', 'Lokace': 'Smetanova, Otrokovice', 'Ulice': 'Smetanova', 'Mesto': ' Otrokovice', 'Cena za mesic': '18700Kč/měsíc'}, {'URL odkaz': 'https://www.sreality.cz/detail/pronajem/byt/2+1/zlin-zlin-na-honech-ii/3782468172', 'Dispozice': 'Pronájem bytu 2+1 45m²', 'Lokace': 'Na Honech II, Zlín', 'Ulice': 'Na Honech II', 'Mesto': ' Zlín', 'Cena za mesic': '13500Kč/měsíc'}, {'URL odkaz': 'https://www.sreality.cz/detail/pronajem/byt/2+kk/zlin-priluky-pancava/1213215308', 'Dispozice': 'Pronájem bytu 2+kk 56m²', 'Lokace': 'Pančava, Zlín - Příluky', 'Ulice': 'Pančava', 'Mesto': ' Zlín - Příluky', 'Cena za mesic': '16000Kč/měsíc'}, {'URL odkaz': 'https://www.sreality.cz/detail/pronajem/byt/2+1/napajedla-napajedla-/1949446732', 'Dispozice': 'Pronájem bytu 2+1 45m²', 'Lokace': 'Napajedla', 'Ulice': 'NaN', 'Mesto': 'Napajedla', 'Cena za mesic': '14000Kč/měsíc'}, {'URL odkaz': 'https://www.sreality.cz/detail/pronajem/byt/1+kk/zlin-zlin-vejvanovska/2317496908', 'Dispozice': 'Pronájem bytu 1+kk 28m²', 'Lokace': 'Vejvanovská, Zlín', 'Ulice': 'Vejvanovská', 'Mesto': ' Zlín', 'Cena za mesic': '11500Kč/měsíc'}, {'URL odkaz': 'https://www.sreality.cz/detail/pronajem/byt/1+kk/zlin-zlin-vetrna/1763848780', 'Dispozice': 'Pronájem bytu 1+kk 27m²', 'Lokace': 'Větrná, Zlín', 'Ulice': 'Větrná', 'Mesto': ' Zlín', 'Cena za mesic': '8500Kč/měsíc'}, {'URL odkaz': 'https://www.sreality.cz/detail/pronajem/byt/2+1/otrokovice-kvitkovice-lidicka/3337826892', 'Dispozice': 'Pronájem bytu 2+1 56m²', 'Lokace': 'Lidická, Otrokovice - Kvítkovice', 'Ulice': 'Lidická', 'Mesto': ' Otrokovice - Kvítkovice', 'Cena za mesic': '12000Kč/měsíc'}, {'URL odkaz': 'https://www.sreality.cz/detail/pronajem/byt/2+kk/zlin-louky-zabranci-i/2441949772', 'Dispozice': 'Pronájem bytu 2+kk 45m²', 'Lokace': 'Zábrančí I, Zlín - Louky', 'Ulice': 'Zábrančí I', 'Mesto': ' Zlín - Louky', 'Cena za mesic': '12600Kč/měsíc'}, {'URL odkaz': 'https://www.sreality.cz/detail/pronajem/byt/3+1/zlin-zlin-dily-ii/65876556', 'Dispozice': 'Pronájem bytu 3+1 60m²', 'Lokace': 'Díly II, Zlín', 'Ulice': 'Díly II', 'Mesto': ' Zlín', 'Cena za mesic': '11900Kč/měsíc'}, {'URL odkaz': 'https://www.sreality.cz/detail/pronajem/byt/3+1/zlin-zlin-nivy-ii/205337164', 'Dispozice': 'Pronájem bytu 3+1 100m²', 'Lokace': 'Nivy II, Zlín', 'Ulice': 'Nivy II', 'Mesto': ' Zlín', 'Cena za mesic': '16500Kč/měsíc'}, {'URL odkaz': 'https://www.sreality.cz/detail/pronajem/byt/2+1/zlin-zlin-nivy-ii/490549836', 'Dispozice': 'Pronájem bytu 2+1 120m²', 'Lokace': 'Nivy II, Zlín', 'Ulice': 'Nivy II', 'Mesto': ' Zlín', 'Cena za mesic': '16000Kč/měsíc'}, {'URL odkaz': 'https://www.sreality.cz/detail/pronajem/byt/3+1/zlin-zlin-slezska/2275865164', 'Dispozice': 'Pronájem bytu 3+1 73m²', 'Lokace': 'Slezská, Zlín', 'Ulice': 'Slezská', 'Mesto': ' Zlín', 'Cena za mesic': '19000Kč/měsíc'}, {'URL odkaz': 'https://www.sreality.cz/detail/pronajem/byt/1+kk/luhacovice-luhacovice-leose-janacka/3640889932', 'Dispozice': 'Pronájem bytu 1+kk 30m²', 'Lokace': 'Leoše Janáčka, Luhačovice', 'Ulice': 'Leoše Janáčka', 'Mesto': ' Luhačovice', 'Cena za mesic': '12000Kč/měsíc'}, {'URL odkaz': 'https://www.sreality.cz/detail/pronajem/byt/2+kk/zlin-zlin-trida-tomase-bati/3562877516', 'Dispozice': 'Pronájem bytu 2+kk 60m²', 'Lokace': 'třída Tomáše Bati, Zlín', 'Ulice': 'třída Tomáše Bati', 'Mesto': ' Zlín', 'Cena za mesic': '13800Kč/měsíc'}, {'URL odkaz': 'https://www.sreality.cz/detail/pronajem/byt/2+1/zlin-kostelec-lesenska/2560504396', 'Dispozice': 'Pronájem bytu 2+1 75m²', 'Lokace': 'Lešenská, Zlín - Kostelec', 'Ulice': 'Lešenská', 'Mesto': ' Zlín - Kostelec', 'Cena za mesic': '16000Kč/měsíc'}, {'URL odkaz': 'https://www.sreality.cz/detail/pronajem/byt/2+kk/zlin-zlin-smetanova/3062772300', 'Dispozice': 'Pronájem bytu 2+kk 66m²', 'Lokace': 'Smetanova, Zlín', 'Ulice': 'Smetanova', 'Mesto': ' Zlín', 'Cena za mesic': '20000Kč/měsíc'}, {'URL odkaz': 'https://www.sreality.cz/detail/pronajem/byt/2+1/otrokovice-otrokovice-nam-3-kvetna/697270860', 'Dispozice': 'Pronájem bytu 2+1 60m²', 'Lokace': 'nám. 3. května, Otrokovice', 'Ulice': 'nám. 3. května', 'Mesto': ' Otrokovice', 'Cena za mesic': '13700Kč/měsíc'}, {'URL odkaz': 'https://www.sreality.cz/detail/pronajem/byt/1+1/zlin-zlin-sevcovska/3316527692', 'Dispozice': 'Pronájem bytu 1+1 37m²', 'Lokace': 'Ševcovská, Zlín', 'Ulice': 'Ševcovská', 'Mesto': ' Zlín', 'Cena za mesic': '11500Kč/měsíc'}, {'URL odkaz': 'https://www.sreality.cz/detail/pronajem/byt/1+kk/zlin-jaroslavice-v-doline/889139788', 'Dispozice': 'Pronájem bytu 1+kk 25m²', 'Lokace': 'V Dolině, Zlín - Jaroslavice', 'Ulice': 'V Dolině', 'Mesto': ' Zlín - Jaroslavice', 'Cena za mesic': '7000Kč/měsíc'}, {'URL odkaz': 'https://www.sreality.cz/detail/pronajem/byt/atypicky/luhacovice-luhacovice-/1292841548', 'Dispozice': 'Pronájem bytu atypický 35m²', 'Lokace': 'Luhačovice', 'Ulice': 'NaN', 'Mesto': 'Luhačovice', 'Cena za mesic': '12000Kč/měsíc'}, {'URL odkaz': 'https://www.sreality.cz/detail/pronajem/byt/pokoj/zlin-zlin-trida-tomase-bati/586756684', 'Dispozice': 'Pronájem bytu pokoj 114m²', 'Lokace': 'třída Tomáše Bati, Zlín', 'Ulice': 'třída Tomáše Bati', 'Mesto': ' Zlín', 'Cena za mesic': '3708Kč/měsíc'}, {'URL odkaz': 'https://www.sreality.cz/detail/pronajem/byt/1+kk/napajedla-napajedla-masarykovo-namesti/24588876', 'Dispozice': 'Pronájem bytu 1+kk 34m²', 'Lokace': 'Masarykovo náměstí, Napajedla', 'Ulice': 'Masarykovo náměstí', 'Mesto': ' Napajedla', 'Cena za mesic': '8000Kč/měsíc'}, {'URL odkaz': 'https://www.sreality.cz/detail/pronajem/byt/2+1/zlin-zlin-lucni/424227404', 'Dispozice': 'Pronájem bytu 2+1 56m²', 'Lokace': 'Luční, Zlín', 'Ulice': 'Luční', 'Mesto': ' Zlín', 'Cena za mesic': '11500Kč/měsíc'}, {'URL odkaz': 'https://www.sreality.cz/detail/pronajem/byt/1+1/zlin-zlin-lazy-iii/3314860620', 'Dispozice': 'Pronájem bytu 1+1 35m²', 'Lokace': 'Lazy III, Zlín', 'Ulice': 'Lazy III', 'Mesto': ' Zlín', 'Cena za mesic': '8000Kč/měsíc'}, {'URL odkaz': 'https://www.sreality.cz/detail/pronajem/byt/3+kk/zlin-zlin-na-honech-i/2939470412', 'Dispozice': 'Pronájem bytu 3+kk 75m²', 'Lokace': 'Na Honech I, Zlín', 'Ulice': 'Na Honech I', 'Mesto': ' Zlín', 'Cena za mesic': '25000Kč/měsíc'}, {'URL odkaz': 'https://www.sreality.cz/detail/pronajem/byt/2+kk/zlin-zlin-smetanova/1229308492', 'Dispozice': 'Pronájem bytu 2+kk 111m²', 'Lokace': 'Smetanova, Zlín', 'Ulice': 'Smetanova', 'Mesto': ' Zlín', 'Cena za mesic': '25000Kč/měsíc'}, {'URL odkaz': 'https://www.sreality.cz/detail/pronajem/byt/1+kk/zlin-zlin-vodni/3263677004', 'Dispozice': 'Pronájem bytu 1+kk 27m²', 'Lokace': 'Vodní, Zlín', 'Ulice': 'Vodní', 'Mesto': ' Zlín', 'Cena za mesic': '12000Kč/měsíc'}, {'URL odkaz': 'https://www.sreality.cz/detail/pronajem/byt/1+1/zlin-zlin-stefanikova/3400778316', 'Dispozice': 'Pronájem bytu 1+1 16m²', 'Lokace': 'Štefánikova, Zlín', 'Ulice': 'Štefánikova', 'Mesto': ' Zlín', 'Cena za mesic': '4200Kč/měsíc'}, {'URL odkaz': 'https://www.sreality.cz/detail/pronajem/byt/2+kk/valasske-klobouky-valasske-klobouky-masarykovo-namesti/807256652', 'Dispozice': 'Pronájem bytu 2+kk 52m²', 'Lokace': 'Masarykovo náměstí, Valašské Klobouky', 'Ulice': 'Masarykovo náměstí', 'Mesto': ' Valašské Klobouky', 'Cena za mesic': '14690Kč/měsíc'}, {'URL odkaz': 'https://www.sreality.cz/detail/pronajem/byt/pokoj/napajedla-napajedla-masarykovo-namesti/2191180364', 'Dispozice': 'Pronájem bytu pokoj 16m²', 'Lokace': 'Masarykovo náměstí, Napajedla', 'Ulice': 'Masarykovo náměstí', 'Mesto': ' Napajedla', 'Cena za mesic': '7000Kč/měsíc'}, {'URL odkaz': 'https://www.sreality.cz/detail/pronajem/byt/2+kk/zlin-zlin-stefanikova/4156277324', 'Dispozice': 'Pronájem bytu 2+kk 50m²', 'Lokace': 'Štefánikova, Zlín', 'Ulice': 'Štefánikova', 'Mesto': ' Zlín', 'Cena za mesic': '17000Kč/měsíc'}, {'URL odkaz': 'https://www.sreality.cz/detail/pronajem/byt/2+1/zlin-zlin-ceska/1913967180', 'Dispozice': 'Pronájem bytu 2+1 45m²', 'Lokace': 'Česká, Zlín', 'Ulice': 'Česká', 'Mesto': ' Zlín', 'Cena za mesic': '10000Kč/měsíc'}, {'URL odkaz': 'https://www.sreality.cz/detail/pronajem/byt/3+1/zlin-zlin-slezska/2275865164', 'Dispozice': 'Pronájem bytu 3+1 73m²', 'Lokace': 'Slezská, Zlín', 'Ulice': 'Slezská', 'Mesto': ' Zlín', 'Cena za mesic': '19000Kč/měsíc'}, {'URL odkaz': 'https://www.sreality.cz/detail/pronajem/byt/2+kk/luhacovice-luhacovice-mlynska/1280692812', 'Dispozice': 'Pronájem bytu 2+kk 69m²', 'Lokace': 'Mlýnská, Luhačovice', 'Ulice': 'Mlýnská', 'Mesto': ' Luhačovice', 'Cena za mesic': '13000Kč/měsíc'}, {'URL odkaz': 'https://www.sreality.cz/detail/pronajem/byt/pokoj/zlin-zlin-ceska/3884372556', 'Dispozice': 'Pronájem bytu pokoj 89m²', 'Lokace': 'Česká, Zlín', 'Ulice': 'Česká', 'Mesto': ' Zlín', 'Cena za mesic': '4000Kč/měsíc'}, {'URL odkaz': 'https://www.sreality.cz/detail/pronajem/byt/3+1/otrokovice-otrokovice-nam-3-kvetna/3001537100', 'Dispozice': 'Pronájem bytu 3+1 93m²', 'Lokace': 'nám. 3. května, Otrokovice', 'Ulice': 'nám. 3. května', 'Mesto': ' Otrokovice', 'Cena za mesic': '15000Kč/měsíc'}, {'URL odkaz': 'https://www.sreality.cz/detail/pronajem/byt/3+1/otrokovice-otrokovice-nam-3-kvetna/2853687884', 'Dispozice': 'Pronájem bytu 3+1 85m²', 'Lokace': 'nám. 3. května, Otrokovice', 'Ulice': 'nám. 3. května', 'Mesto': ' Otrokovice', 'Cena za mesic': '15900Kč/měsíc'}, {'URL odkaz': 'https://www.sreality.cz/detail/pronajem/byt/2+1/zlin-malenovice-trida-svobody/4015116876', 'Dispozice': 'Pronájem bytu 2+1 57m²', 'Lokace': 'třída Svobody, Zlín - Malenovice', 'Ulice': 'třída Svobody', 'Mesto': ' Zlín - Malenovice', 'Cena za mesic': '12000Kč/měsíc'}, {'URL odkaz': 'https://www.sreality.cz/detail/pronajem/byt/1+kk/zlin-louky-zadni-luhy/762040908', 'Dispozice': 'Pronájem bytu 1+kk 36m²', 'Lokace': 'Zadní luhy, Zlín - Louky', 'Ulice': 'Zadní luhy', 'Mesto': ' Zlín - Louky', 'Cena za mesic': '11900Kč/měsíc'}, {'URL odkaz': 'https://www.sreality.cz/detail/pronajem/byt/2+1/napajedla-napajedla-na-kapli/3816153676', 'Dispozice': 'Pronájem bytu 2+1 60m²', 'Lokace': 'Na Kapli, Napajedla', 'Ulice': 'Na Kapli', 'Mesto': ' Napajedla', 'Cena za mesic': '13000Kč/měsíc'}, {'URL odkaz': 'https://www.sreality.cz/detail/pronajem/byt/2+kk/luhacovice-luhacovice-/3879764556', 'Dispozice': 'Pronájem bytu 2+kk 85m²', 'Lokace': 'Luhačovice', 'Ulice': 'NaN', 'Mesto': 'Luhačovice', 'Cena za mesic': '22000Kč/měsíc'}, {'URL odkaz': 'https://www.sreality.cz/detail/pronajem/byt/2+kk/zlin-zlin-nad-vyvozem/3883917900', 'Dispozice': 'Pronájem bytu 2+kk 57m²', 'Lokace': 'Nad Vývozem, Zlín', 'Ulice': 'Nad Vývozem', 'Mesto': ' Zlín', 'Cena za mesic': '14000Kč/měsíc'}, {'URL odkaz': 'https://www.sreality.cz/detail/pronajem/byt/2+1/zlin-zlin-vetrna/1114169932', 'Dispozice': 'Pronájem bytu 2+1 54m²', 'Lokace': 'Větrná, Zlín', 'Ulice': 'Větrná', 'Mesto': ' Zlín', 'Cena za mesic': '15000Kč/měsíc'}, {'URL odkaz': 'https://www.sreality.cz/detail/pronajem/byt/3+1/zlin-zlin-slezska/2275865164', 'Dispozice': 'Pronájem bytu 3+1 73m²', 'Lokace': 'Slezská, Zlín', 'Ulice': 'Slezská', 'Mesto': ' Zlín', 'Cena za mesic': '19000Kč/měsíc'}, {'URL odkaz': 'https://www.sreality.cz/detail/pronajem/byt/1+1/zlin-zlin-smetanova/20378188', 'Dispozice': 'Pronájem bytu 1+1 45m²', 'Lokace': 'Smetanova, Zlín', 'Ulice': 'Smetanova', 'Mesto': ' Zlín', 'Cena za mesic': '13000Kč/měsíc'}, {'URL odkaz': 'https://www.sreality.cz/detail/pronajem/byt/1+kk/luhacovice-luhacovice-/2214654540', 'Dispozice': 'Pronájem bytu 1+kk 33m²', 'Lokace': 'Luhačovice', 'Ulice': 'NaN', 'Mesto': 'Luhačovice', 'Cena za mesic': '11000Kč/měsíc'}, {'URL odkaz': 'https://www.sreality.cz/detail/pronajem/byt/2+kk/frystak-horni-ves-komenskeho/964424268', 'Dispozice': 'Pronájem bytu 2+kk 57m²', 'Lokace': 'Komenského, Fryšták - Horní Ves', 'Ulice': 'Komenského', 'Mesto': ' Fryšták - Horní Ves', 'Cena za mesic': '14000Kč/měsíc'}, {'URL odkaz': 'https://www.sreality.cz/detail/pronajem/byt/2+kk/zlin-louky-/182441292', 'Dispozice': 'Pronájem bytu 2+kk 45m²', 'Lokace': 'Zlín - Louky', 'Ulice': 'NaN', 'Mesto': 'Zlín - Louky', 'Cena za mesic': '12500Kč/měsíc'}, {'URL odkaz': 'https://www.sreality.cz/detail/pronajem/byt/2+kk/luhacovice-luhacovice-nadrazni/532079948', 'Dispozice': 'Pronájem bytu 2+kk 120m²', 'Lokace': 'Nádražní, Luhačovice', 'Ulice': 'Nádražní', 'Mesto': ' Luhačovice', 'Cena za mesic': '23000Kč/měsíc'}, {'URL odkaz': 'https://www.sreality.cz/detail/pronajem/byt/2+kk/otrokovice-kvitkovice-pricna/156140108', 'Dispozice': 'Pronájem bytu 2+kk 45m²', 'Lokace': 'Příčná, Otrokovice - Kvítkovice', 'Ulice': 'Příčná', 'Mesto': ' Otrokovice - Kvítkovice', 'Cena za mesic': '13700Kč/měsíc'}, {'URL odkaz': 'https://www.sreality.cz/detail/pronajem/byt/2+kk/luhacovice-luhacovice-/1743290956', 'Dispozice': 'Pronájem bytu 2+kk 86m²', 'Lokace': 'Luhačovice', 'Ulice': 'NaN', 'Mesto': 'Luhačovice', 'Cena za mesic': 'Cena na vyžádání'}, {'URL odkaz': 'https://www.sreality.cz/detail/pronajem/byt/1+1/rackova-rackova-/1342734924', 'Dispozice': 'Pronájem bytu 1+1 40m²', 'Lokace': 'Racková', 'Ulice': 'NaN', 'Mesto': 'Racková', 'Cena za mesic': '12000Kč/měsíc'}, {'URL odkaz': 'https://www.sreality.cz/detail/pronajem/byt/2+kk/zlin-zlin-bartosova/1606193740', 'Dispozice': 'Pronájem bytu 2+kk 58m²', 'Lokace': 'Bartošova, Zlín', 'Ulice': 'Bartošova', 'Mesto': ' Zlín', 'Cena za mesic': '20000Kč/měsíc'}, {'URL odkaz': 'https://www.sreality.cz/detail/pronajem/byt/3+1/zlin-zlin-slezska/2275865164', 'Dispozice': 'Pronájem bytu 3+1 73m²', 'Lokace': 'Slezská, Zlín', 'Ulice': 'Slezská', 'Mesto': ' Zlín', 'Cena za mesic': '19000Kč/měsíc'}, {'URL odkaz': 'https://www.sreality.cz/detail/pronajem/byt/2+kk/zlin-zlin-tyrsovo-nabrezi/2091799884', 'Dispozice': 'Pronájem bytu 2+kk 49m²', 'Lokace': 'Tyršovo nábřeží, Zlín', 'Ulice': 'Tyršovo nábřeží', 'Mesto': ' Zlín', 'Cena za mesic': '18000Kč/měsíc'}, {'URL odkaz': 'https://www.sreality.cz/detail/pronajem/byt/4+1/zlin-zlin-na-honech-ii/3934757452', 'Dispozice': 'Pronájem bytu 4+1 79m²', 'Lokace': 'Na Honech II, Zlín', 'Ulice': 'Na Honech II', 'Mesto': ' Zlín', 'Cena za mesic': '19000Kč/měsíc'}, {'URL odkaz': 'https://www.sreality.cz/detail/pronajem/byt/4+kk/luhacovice-luhacovice-/826365260', 'Dispozice': 'Pronájem bytu 4+kk 100m²', 'Lokace': 'Luhačovice', 'Ulice': 'NaN', 'Mesto': 'Luhačovice', 'Cena za mesic': '39900Kč/měsíc'}, {'URL odkaz': 'https://www.sreality.cz/detail/pronajem/byt/2+kk/zlin-jaroslavice-v-doline/3725157708', 'Dispozice': 'Pronájem bytu 2+kk 40m²', 'Lokace': 'V Dolině, Zlín - Jaroslavice', 'Ulice': 'V Dolině', 'Mesto': ' Zlín - Jaroslavice', 'Cena za mesic': '9000Kč/měsíc'}, {'URL odkaz': 'https://www.sreality.cz/detail/pronajem/byt/2+kk/zlin-louky-k-luham/1516360780', 'Dispozice': 'Pronájem bytu 2+kk 47m²', 'Lokace': 'K Luhám, Zlín - Louky', 'Ulice': 'K Luhám', 'Mesto': ' Zlín - Louky', 'Cena za mesic': '14900Kč/měsíc'}]\n",
      "153\n"
     ]
    }
   ],
   "source": [
    "from bs4 import BeautifulSoup\n",
    "import requests\n",
    "\n",
    "strana = 1\n",
    "\n",
    "byty = []\n",
    "\n",
    "\n",
    "while True:\n",
    "    mesto = 'zlin'\n",
    "    data = requests.get(f'https://www.sreality.cz/hledani/pronajem/byty/{mesto}?strana={strana}').text\n",
    "    soup = BeautifulSoup(data, 'html.parser')\n",
    "\n",
    "    \n",
    "    # Získáte **tyto** informace: `URL odkaz bytu, rozměry bytu, kompozice bytu, cena bytu, lokace bytu (Ulice+město)`\n",
    "\n",
    "    ##############################################################################################################################\n",
    "\n",
    "    seznam_nabidek = soup.findAll('li', 'MuiGrid-root MuiGrid-item css-l1328q')\n",
    "\n",
    "    for nabidka in seznam_nabidek:\n",
    "        id = nabidka['id']\n",
    "        if 'estate' in id or 'region' in id:\n",
    "            nabidka_href = nabidka.find('a', 'MuiTypography-root MuiTypography-inherit MuiLink-root MuiLink-underlineAlways css-1c7vz4z')['href']\n",
    "            #print(nabidka_href)\n",
    "            rozmery = nabidka.find('p', 'MuiTypography-root MuiTypography-body1 css-13ztabn').text.replace('\\xa0', '')\n",
    "            rozmery = rozmery.replace('SLEVA: ', '')\n",
    "            #rozmery = rozmery.replace('atypický ', '0 ')\n",
    "            rozmery = rozmery.replace('pokoje ', 'pokoj ')\n",
    "            #print(rozmery)\n",
    "            lokace = nabidka.findAll('p', 'MuiTypography-root MuiTypography-body1 css-13ztabn')[1].text\n",
    "            lokace_rozdelena = lokace.split(',')\n",
    "            if len(lokace_rozdelena) == 2:\n",
    "                ulice = lokace_rozdelena[0]\n",
    "                mesto = lokace_rozdelena[1]\n",
    "            else:\n",
    "                ulice = 'NaN'\n",
    "                mesto = lokace_rozdelena[0]\n",
    "            #print(lokace)\n",
    "            cena = nabidka.find('p', 'MuiTypography-root MuiTypography-body1 css-1ndcg2e').text.replace('\\xa0', '')\n",
    "            #print(cena)\n",
    "\n",
    "            objekt_byt = {\n",
    "                'URL odkaz': 'https://www.sreality.cz' + nabidka_href,\n",
    "                'Dispozice': rozmery,\n",
    "                'Lokace': lokace,\n",
    "                'Ulice': ulice,\n",
    "                'Mesto': mesto,\n",
    "                'Cena za mesic' : cena\n",
    "            }\n",
    "\n",
    "            byty.append(objekt_byt)\n",
    "\n",
    "    ##############################################################################################################################\n",
    "    \n",
    "\n",
    "\n",
    "    \"\"\"\n",
    "    ------------------------------------------------------------------------------------------------\n",
    "    Tohle ponechte pod vaším kódem - kontroluje se, zda na stránce existuje tlačítko Další stránky. Pokud ne, program končí.\n",
    "    ------------------------------------------------------------------------------------------------\n",
    "    \"\"\"\n",
    "    \n",
    "    button = soup.find('button', 'MuiButtonBase-root MuiButton-root MuiButton-outlined MuiButton-outlinedInherit MuiButton-sizeMedium MuiButton-outlinedSizeMedium MuiButton-colorInherit MuiButton-root MuiButton-outlined MuiButton-outlinedInherit MuiButton-sizeMedium MuiButton-outlinedSizeMedium MuiButton-colorInherit css-lp5ywq').text\n",
    "\n",
    "    if button != 'Další stránka':\n",
    "        print('Již zde není žádná další strana. Končím')\n",
    "        break\n",
    "\n",
    "    strana += 1\n",
    "\n",
    "    print(f'Scrapuju stránku č. {strana}')\n",
    "\n",
    "print(byty)\n",
    "print(len(byty))"
   ]
  },
  {
   "cell_type": "markdown",
   "id": "f54576ab629fed11",
   "metadata": {},
   "source": [
    "### Datová analýza"
   ]
  },
  {
   "cell_type": "code",
   "execution_count": 3,
   "id": "4a2f14acc4baf746",
   "metadata": {},
   "outputs": [
    {
     "data": {
      "text/html": [
       "<div>\n",
       "<style scoped>\n",
       "    .dataframe tbody tr th:only-of-type {\n",
       "        vertical-align: middle;\n",
       "    }\n",
       "\n",
       "    .dataframe tbody tr th {\n",
       "        vertical-align: top;\n",
       "    }\n",
       "\n",
       "    .dataframe thead th {\n",
       "        text-align: right;\n",
       "    }\n",
       "</style>\n",
       "<table border=\"1\" class=\"dataframe\">\n",
       "  <thead>\n",
       "    <tr style=\"text-align: right;\">\n",
       "      <th></th>\n",
       "      <th>URL odkaz</th>\n",
       "      <th>Dispozice</th>\n",
       "      <th>Lokace</th>\n",
       "      <th>Ulice</th>\n",
       "      <th>Mesto</th>\n",
       "      <th>Cena za mesic</th>\n",
       "    </tr>\n",
       "  </thead>\n",
       "  <tbody>\n",
       "    <tr>\n",
       "      <th>0</th>\n",
       "      <td>https://www.sreality.cz/detail/pronajem/byt/2+...</td>\n",
       "      <td>Pronájem bytu 2+kk 49m²</td>\n",
       "      <td>Zelinova, Zlín</td>\n",
       "      <td>Zelinova</td>\n",
       "      <td>Zlín</td>\n",
       "      <td>14900Kč/měsíc</td>\n",
       "    </tr>\n",
       "    <tr>\n",
       "      <th>1</th>\n",
       "      <td>https://www.sreality.cz/detail/pronajem/byt/1+...</td>\n",
       "      <td>Pronájem bytu 1+1 36m²</td>\n",
       "      <td>Podlesí V, Zlín</td>\n",
       "      <td>Podlesí V</td>\n",
       "      <td>Zlín</td>\n",
       "      <td>11500Kč/měsíc</td>\n",
       "    </tr>\n",
       "    <tr>\n",
       "      <th>2</th>\n",
       "      <td>https://www.sreality.cz/detail/pronajem/byt/1+...</td>\n",
       "      <td>Pronájem bytu 1+kk 26m²</td>\n",
       "      <td>Tečovská, Zlín - Malenovice</td>\n",
       "      <td>Tečovská</td>\n",
       "      <td>Zlín - Malenovice</td>\n",
       "      <td>8300Kč/měsíc</td>\n",
       "    </tr>\n",
       "    <tr>\n",
       "      <th>3</th>\n",
       "      <td>https://www.sreality.cz/detail/pronajem/byt/1+...</td>\n",
       "      <td>Pronájem bytu 1+kk 31m²</td>\n",
       "      <td>J. A. Bati, Zlín</td>\n",
       "      <td>J. A. Bati</td>\n",
       "      <td>Zlín</td>\n",
       "      <td>Cena na vyžádání</td>\n",
       "    </tr>\n",
       "    <tr>\n",
       "      <th>4</th>\n",
       "      <td>https://www.sreality.cz/detail/pronajem/byt/2+...</td>\n",
       "      <td>Pronájem bytu 2+kk 65m²</td>\n",
       "      <td>Lorencova, Zlín</td>\n",
       "      <td>Lorencova</td>\n",
       "      <td>Zlín</td>\n",
       "      <td>18700Kč/měsíc</td>\n",
       "    </tr>\n",
       "  </tbody>\n",
       "</table>\n",
       "</div>"
      ],
      "text/plain": [
       "                                           URL odkaz                Dispozice  \\\n",
       "0  https://www.sreality.cz/detail/pronajem/byt/2+...  Pronájem bytu 2+kk 49m²   \n",
       "1  https://www.sreality.cz/detail/pronajem/byt/1+...   Pronájem bytu 1+1 36m²   \n",
       "2  https://www.sreality.cz/detail/pronajem/byt/1+...  Pronájem bytu 1+kk 26m²   \n",
       "3  https://www.sreality.cz/detail/pronajem/byt/1+...  Pronájem bytu 1+kk 31m²   \n",
       "4  https://www.sreality.cz/detail/pronajem/byt/2+...  Pronájem bytu 2+kk 65m²   \n",
       "\n",
       "                        Lokace       Ulice               Mesto  \\\n",
       "0               Zelinova, Zlín    Zelinova                Zlín   \n",
       "1              Podlesí V, Zlín   Podlesí V                Zlín   \n",
       "2  Tečovská, Zlín - Malenovice    Tečovská   Zlín - Malenovice   \n",
       "3             J. A. Bati, Zlín  J. A. Bati                Zlín   \n",
       "4              Lorencova, Zlín   Lorencova                Zlín   \n",
       "\n",
       "      Cena za mesic  \n",
       "0     14900Kč/měsíc  \n",
       "1     11500Kč/měsíc  \n",
       "2      8300Kč/měsíc  \n",
       "3  Cena na vyžádání  \n",
       "4     18700Kč/měsíc  "
      ]
     },
     "execution_count": 3,
     "metadata": {},
     "output_type": "execute_result"
    }
   ],
   "source": [
    "import pandas as pd\n",
    "\n",
    "df = pd.DataFrame(byty)\n",
    "df.head()"
   ]
  },
  {
   "cell_type": "code",
   "execution_count": 4,
   "id": "d7d331a3",
   "metadata": {},
   "outputs": [
    {
     "data": {
      "text/plain": [
       "0    49m²\n",
       "1    36m²\n",
       "2    26m²\n",
       "3    31m²\n",
       "4    65m²\n",
       "Name: Rozmery, dtype: object"
      ]
     },
     "execution_count": 4,
     "metadata": {},
     "output_type": "execute_result"
    }
   ],
   "source": [
    "df['Rozmery'] = df['Dispozice'].str.split(' ').str[3]\n",
    "df['Rozmery'].head()"
   ]
  },
  {
   "cell_type": "code",
   "execution_count": 5,
   "id": "b41e09e3",
   "metadata": {},
   "outputs": [
    {
     "data": {
      "text/plain": [
       "0    2+kk\n",
       "1     1+1\n",
       "2    1+kk\n",
       "3    1+kk\n",
       "4    2+kk\n",
       "Name: Kompozice, dtype: object"
      ]
     },
     "execution_count": 5,
     "metadata": {},
     "output_type": "execute_result"
    }
   ],
   "source": [
    "df['Kompozice'] = df['Dispozice'].str.split(' ').str[2]\n",
    "df['Kompozice'].head()"
   ]
  },
  {
   "cell_type": "code",
   "execution_count": 6,
   "id": "d3f0f166",
   "metadata": {},
   "outputs": [
    {
     "data": {
      "text/plain": [
       "0               14900\n",
       "1               11500\n",
       "2                8300\n",
       "3    Cena na vyžádání\n",
       "4               18700\n",
       "Name: Cena, dtype: object"
      ]
     },
     "execution_count": 6,
     "metadata": {},
     "output_type": "execute_result"
    }
   ],
   "source": [
    "df['Cena'] = df['Cena za mesic'].str.replace('Kč/měsíc', '')\n",
    "df['Cena'].head()"
   ]
  },
  {
   "cell_type": "code",
   "execution_count": 8,
   "id": "1d1543dd",
   "metadata": {},
   "outputs": [
    {
     "data": {
      "text/plain": [
       "0    49\n",
       "1    36\n",
       "2    26\n",
       "3    31\n",
       "4    65\n",
       "Name: Rozmer bez jednotek, dtype: object"
      ]
     },
     "execution_count": 8,
     "metadata": {},
     "output_type": "execute_result"
    }
   ],
   "source": [
    "df['Rozmer bez jednotek'] = df['Rozmery'].str.replace('m²', '')\n",
    "df['Rozmer bez jednotek'].head()"
   ]
  },
  {
   "cell_type": "code",
   "execution_count": 9,
   "id": "5b81a163",
   "metadata": {},
   "outputs": [],
   "source": [
    "#URL odkaz bytu, rozměry bytu, kompozice bytu, cena bytu, lokace bytu (Ulice+město)\n",
    "\n",
    "df = df[['URL odkaz', 'Dispozice', 'Rozmery', 'Rozmer bez jednotek', 'Kompozice', 'Lokace', 'Ulice', 'Mesto', 'Cena za mesic', 'Cena']]"
   ]
  },
  {
   "cell_type": "code",
   "execution_count": 10,
   "id": "d9e4608d",
   "metadata": {},
   "outputs": [
    {
     "data": {
      "text/html": [
       "<div>\n",
       "<style scoped>\n",
       "    .dataframe tbody tr th:only-of-type {\n",
       "        vertical-align: middle;\n",
       "    }\n",
       "\n",
       "    .dataframe tbody tr th {\n",
       "        vertical-align: top;\n",
       "    }\n",
       "\n",
       "    .dataframe thead th {\n",
       "        text-align: right;\n",
       "    }\n",
       "</style>\n",
       "<table border=\"1\" class=\"dataframe\">\n",
       "  <thead>\n",
       "    <tr style=\"text-align: right;\">\n",
       "      <th></th>\n",
       "      <th>URL odkaz</th>\n",
       "      <th>Dispozice</th>\n",
       "      <th>Rozmery</th>\n",
       "      <th>Rozmer bez jednotek</th>\n",
       "      <th>Kompozice</th>\n",
       "      <th>Lokace</th>\n",
       "      <th>Ulice</th>\n",
       "      <th>Mesto</th>\n",
       "      <th>Cena za mesic</th>\n",
       "      <th>Cena</th>\n",
       "    </tr>\n",
       "  </thead>\n",
       "  <tbody>\n",
       "    <tr>\n",
       "      <th>0</th>\n",
       "      <td>https://www.sreality.cz/detail/pronajem/byt/2+...</td>\n",
       "      <td>Pronájem bytu 2+kk 49m²</td>\n",
       "      <td>49m²</td>\n",
       "      <td>49</td>\n",
       "      <td>2+kk</td>\n",
       "      <td>Zelinova, Zlín</td>\n",
       "      <td>Zelinova</td>\n",
       "      <td>Zlín</td>\n",
       "      <td>14900Kč/měsíc</td>\n",
       "      <td>14900</td>\n",
       "    </tr>\n",
       "    <tr>\n",
       "      <th>1</th>\n",
       "      <td>https://www.sreality.cz/detail/pronajem/byt/1+...</td>\n",
       "      <td>Pronájem bytu 1+1 36m²</td>\n",
       "      <td>36m²</td>\n",
       "      <td>36</td>\n",
       "      <td>1+1</td>\n",
       "      <td>Podlesí V, Zlín</td>\n",
       "      <td>Podlesí V</td>\n",
       "      <td>Zlín</td>\n",
       "      <td>11500Kč/měsíc</td>\n",
       "      <td>11500</td>\n",
       "    </tr>\n",
       "    <tr>\n",
       "      <th>2</th>\n",
       "      <td>https://www.sreality.cz/detail/pronajem/byt/1+...</td>\n",
       "      <td>Pronájem bytu 1+kk 26m²</td>\n",
       "      <td>26m²</td>\n",
       "      <td>26</td>\n",
       "      <td>1+kk</td>\n",
       "      <td>Tečovská, Zlín - Malenovice</td>\n",
       "      <td>Tečovská</td>\n",
       "      <td>Zlín - Malenovice</td>\n",
       "      <td>8300Kč/měsíc</td>\n",
       "      <td>8300</td>\n",
       "    </tr>\n",
       "    <tr>\n",
       "      <th>3</th>\n",
       "      <td>https://www.sreality.cz/detail/pronajem/byt/1+...</td>\n",
       "      <td>Pronájem bytu 1+kk 31m²</td>\n",
       "      <td>31m²</td>\n",
       "      <td>31</td>\n",
       "      <td>1+kk</td>\n",
       "      <td>J. A. Bati, Zlín</td>\n",
       "      <td>J. A. Bati</td>\n",
       "      <td>Zlín</td>\n",
       "      <td>Cena na vyžádání</td>\n",
       "      <td>Cena na vyžádání</td>\n",
       "    </tr>\n",
       "    <tr>\n",
       "      <th>4</th>\n",
       "      <td>https://www.sreality.cz/detail/pronajem/byt/2+...</td>\n",
       "      <td>Pronájem bytu 2+kk 65m²</td>\n",
       "      <td>65m²</td>\n",
       "      <td>65</td>\n",
       "      <td>2+kk</td>\n",
       "      <td>Lorencova, Zlín</td>\n",
       "      <td>Lorencova</td>\n",
       "      <td>Zlín</td>\n",
       "      <td>18700Kč/měsíc</td>\n",
       "      <td>18700</td>\n",
       "    </tr>\n",
       "  </tbody>\n",
       "</table>\n",
       "</div>"
      ],
      "text/plain": [
       "                                           URL odkaz                Dispozice  \\\n",
       "0  https://www.sreality.cz/detail/pronajem/byt/2+...  Pronájem bytu 2+kk 49m²   \n",
       "1  https://www.sreality.cz/detail/pronajem/byt/1+...   Pronájem bytu 1+1 36m²   \n",
       "2  https://www.sreality.cz/detail/pronajem/byt/1+...  Pronájem bytu 1+kk 26m²   \n",
       "3  https://www.sreality.cz/detail/pronajem/byt/1+...  Pronájem bytu 1+kk 31m²   \n",
       "4  https://www.sreality.cz/detail/pronajem/byt/2+...  Pronájem bytu 2+kk 65m²   \n",
       "\n",
       "  Rozmery Rozmer bez jednotek Kompozice                       Lokace  \\\n",
       "0    49m²                  49      2+kk               Zelinova, Zlín   \n",
       "1    36m²                  36       1+1              Podlesí V, Zlín   \n",
       "2    26m²                  26      1+kk  Tečovská, Zlín - Malenovice   \n",
       "3    31m²                  31      1+kk             J. A. Bati, Zlín   \n",
       "4    65m²                  65      2+kk              Lorencova, Zlín   \n",
       "\n",
       "        Ulice               Mesto     Cena za mesic              Cena  \n",
       "0    Zelinova                Zlín     14900Kč/měsíc             14900  \n",
       "1   Podlesí V                Zlín     11500Kč/měsíc             11500  \n",
       "2    Tečovská   Zlín - Malenovice      8300Kč/měsíc              8300  \n",
       "3  J. A. Bati                Zlín  Cena na vyžádání  Cena na vyžádání  \n",
       "4   Lorencova                Zlín     18700Kč/měsíc             18700  "
      ]
     },
     "execution_count": 10,
     "metadata": {},
     "output_type": "execute_result"
    }
   ],
   "source": [
    "df.head()"
   ]
  },
  {
   "cell_type": "code",
   "execution_count": 11,
   "id": "fdb06927",
   "metadata": {},
   "outputs": [
    {
     "data": {
      "text/plain": [
       "array(['Pronájem bytu 2+kk 49m²', 'Pronájem bytu 1+1 36m²',\n",
       "       'Pronájem bytu 1+kk 26m²', 'Pronájem bytu 1+kk 31m²',\n",
       "       'Pronájem bytu 2+kk 65m²', 'Pronájem bytu 2+1 56m²',\n",
       "       'Pronájem bytu 1+1 25m²', 'Pronájem bytu 1+kk 21m²',\n",
       "       'Pronájem bytu 3+1 68m²', 'Pronájem bytu 2+kk 96m²',\n",
       "       'Pronájem bytu 1+kk 41m²', 'Pronájem bytu 1+1 34m²',\n",
       "       'Pronájem bytu 2+1 48m²', 'Pronájem bytu 2+1 58m²',\n",
       "       'Pronájem bytu 3+1 64m²', 'Pronájem bytu 2+1 55m²',\n",
       "       'Pronájem bytu 3+1 96m²', 'Pronájem bytu 3+1 115m²',\n",
       "       'Pronájem bytu 2+kk 57m²', 'Pronájem bytu 2+kk 64m²',\n",
       "       'Pronájem bytu 3+1 73m²', 'Pronájem bytu 1+kk 37m²',\n",
       "       'Pronájem bytu 2+kk 60m²', 'Pronájem bytu 2+1 44m²',\n",
       "       'Pronájem bytu 1+kk 32m²', 'Pronájem bytu 2+1 68m²',\n",
       "       'Pronájem bytu 1+1 33m²', 'Pronájem bytu 2+1 57m²',\n",
       "       'Pronájem bytu 2+kk 48m²', 'Pronájem bytu 2+kk 51m²',\n",
       "       'Pronájem bytu 1+kk 28m²', 'Pronájem bytu 1+kk 30m²',\n",
       "       'Pronájem bytu 1+kk 23m²', 'Pronájem bytu 2+kk 56m²',\n",
       "       'Pronájem bytu 2+kk 55m²', 'Pronájem bytu 2+kk 50m²',\n",
       "       'Pronájem bytu 1+kk 29m²', 'Pronájem bytu 1+1 45m²',\n",
       "       'Pronájem bytu 3+kk 66m²', 'Pronájem bytu 1+1 38m²',\n",
       "       'Pronájem bytu atypický 19m²', 'Pronájem bytu pokoj 21m²',\n",
       "       'Pronájem bytu 2+kk 44m²', 'Pronájem bytu 3+kk 110m²',\n",
       "       'Pronájem bytu 1+kk 40m²', 'Pronájem bytu pokoj 18m²',\n",
       "       'Pronájem bytu 1+kk 22m²', 'Pronájem bytu 1+kk 18m²',\n",
       "       'Pronájem bytu 1+kk 20m²', 'Pronájem bytu 3+kk 95m²',\n",
       "       'Pronájem bytu 2+1 45m²', 'Pronájem bytu 2+1 62m²',\n",
       "       'Pronájem bytu 1+1 35m²', 'Pronájem bytu 3+1 66m²',\n",
       "       'Pronájem bytu 2+kk 58m²', 'Pronájem bytu 4+1 83m²',\n",
       "       'Pronájem bytu 3+kk 62m²', 'Pronájem bytu 3+1 76m²',\n",
       "       'Pronájem bytu 3+kk 68m²', 'Pronájem bytu 3+kk 77m²',\n",
       "       'Pronájem bytu pokoj 22m²', 'Pronájem bytu 1+kk 35m²',\n",
       "       'Pronájem bytu pokoj 17m²', 'Pronájem bytu 3+1 70m²',\n",
       "       'Pronájem bytu 2+1 59m²', 'Pronájem bytu 2+1 60m²',\n",
       "       'Pronájem bytu 3+1 85m²', 'Pronájem bytu 3+1 67m²',\n",
       "       'Pronájem bytu 3+1 77m²', 'Pronájem bytu 1+kk 27m²',\n",
       "       'Pronájem bytu 2+kk 45m²', 'Pronájem bytu 3+1 60m²',\n",
       "       'Pronájem bytu 3+1 100m²', 'Pronájem bytu 2+1 120m²',\n",
       "       'Pronájem bytu 2+1 75m²', 'Pronájem bytu 2+kk 66m²',\n",
       "       'Pronájem bytu 1+1 37m²', 'Pronájem bytu 1+kk 25m²',\n",
       "       'Pronájem bytu atypický 35m²', 'Pronájem bytu pokoj 114m²',\n",
       "       'Pronájem bytu 1+kk 34m²', 'Pronájem bytu 3+kk 75m²',\n",
       "       'Pronájem bytu 2+kk 111m²', 'Pronájem bytu 1+1 16m²',\n",
       "       'Pronájem bytu 2+kk 52m²', 'Pronájem bytu pokoj 16m²',\n",
       "       'Pronájem bytu 2+kk 69m²', 'Pronájem bytu pokoj 89m²',\n",
       "       'Pronájem bytu 3+1 93m²', 'Pronájem bytu 1+kk 36m²',\n",
       "       'Pronájem bytu 2+kk 85m²', 'Pronájem bytu 2+1 54m²',\n",
       "       'Pronájem bytu 1+kk 33m²', 'Pronájem bytu 2+kk 120m²',\n",
       "       'Pronájem bytu 2+kk 86m²', 'Pronájem bytu 1+1 40m²',\n",
       "       'Pronájem bytu 4+1 79m²', 'Pronájem bytu 4+kk 100m²',\n",
       "       'Pronájem bytu 2+kk 40m²', 'Pronájem bytu 2+kk 47m²'], dtype=object)"
      ]
     },
     "execution_count": 11,
     "metadata": {},
     "output_type": "execute_result"
    }
   ],
   "source": [
    "df['Dispozice'].unique()"
   ]
  },
  {
   "cell_type": "code",
   "execution_count": 12,
   "id": "4337b362",
   "metadata": {},
   "outputs": [
    {
     "name": "stdout",
     "output_type": "stream",
     "text": [
      "<class 'pandas.core.frame.DataFrame'>\n",
      "RangeIndex: 153 entries, 0 to 152\n",
      "Data columns (total 10 columns):\n",
      " #   Column               Non-Null Count  Dtype \n",
      "---  ------               --------------  ----- \n",
      " 0   URL odkaz            153 non-null    object\n",
      " 1   Dispozice            153 non-null    object\n",
      " 2   Rozmery              153 non-null    object\n",
      " 3   Rozmer bez jednotek  153 non-null    object\n",
      " 4   Kompozice            153 non-null    object\n",
      " 5   Lokace               153 non-null    object\n",
      " 6   Ulice                153 non-null    object\n",
      " 7   Mesto                153 non-null    object\n",
      " 8   Cena za mesic        153 non-null    object\n",
      " 9   Cena                 153 non-null    object\n",
      "dtypes: object(10)\n",
      "memory usage: 12.1+ KB\n"
     ]
    }
   ],
   "source": [
    "df.info()"
   ]
  },
  {
   "cell_type": "code",
   "execution_count": 13,
   "id": "66feb036",
   "metadata": {},
   "outputs": [],
   "source": [
    "df['Rozmer bez jednotek'] = df['Rozmer bez jednotek'].astype(int)"
   ]
  },
  {
   "cell_type": "code",
   "execution_count": 14,
   "id": "5c3445a2",
   "metadata": {},
   "outputs": [
    {
     "data": {
      "text/plain": [
       "array([ 49,  36,  26,  31,  65,  56,  25,  21,  68,  96,  41,  34,  48,\n",
       "        58,  64,  55, 115,  57,  73,  37,  60,  44,  32,  33,  51,  28,\n",
       "        30,  23,  50,  29,  45,  66,  38,  19, 110,  40,  18,  22,  20,\n",
       "        95,  62,  35,  83,  76,  77,  17,  70,  59,  85,  67,  27, 100,\n",
       "       120,  75, 114, 111,  16,  52,  69,  89,  93,  54,  86,  79,  47])"
      ]
     },
     "execution_count": 14,
     "metadata": {},
     "output_type": "execute_result"
    }
   ],
   "source": [
    "df['Rozmer bez jednotek'].unique()"
   ]
  },
  {
   "cell_type": "code",
   "execution_count": 15,
   "id": "17efebca",
   "metadata": {},
   "outputs": [
    {
     "data": {
      "text/html": [
       "<div>\n",
       "<style scoped>\n",
       "    .dataframe tbody tr th:only-of-type {\n",
       "        vertical-align: middle;\n",
       "    }\n",
       "\n",
       "    .dataframe tbody tr th {\n",
       "        vertical-align: top;\n",
       "    }\n",
       "\n",
       "    .dataframe thead th {\n",
       "        text-align: right;\n",
       "    }\n",
       "</style>\n",
       "<table border=\"1\" class=\"dataframe\">\n",
       "  <thead>\n",
       "    <tr style=\"text-align: right;\">\n",
       "      <th></th>\n",
       "      <th>URL odkaz</th>\n",
       "      <th>Dispozice</th>\n",
       "      <th>Rozmery</th>\n",
       "      <th>Rozmer bez jednotek</th>\n",
       "      <th>Kompozice</th>\n",
       "      <th>Lokace</th>\n",
       "      <th>Ulice</th>\n",
       "      <th>Mesto</th>\n",
       "      <th>Cena za mesic</th>\n",
       "      <th>Cena</th>\n",
       "    </tr>\n",
       "  </thead>\n",
       "  <tbody>\n",
       "    <tr>\n",
       "      <th>0</th>\n",
       "      <td>https://www.sreality.cz/detail/pronajem/byt/2+...</td>\n",
       "      <td>Pronájem bytu 2+kk 49m²</td>\n",
       "      <td>49m²</td>\n",
       "      <td>49</td>\n",
       "      <td>2+kk</td>\n",
       "      <td>Zelinova, Zlín</td>\n",
       "      <td>Zelinova</td>\n",
       "      <td>Zlín</td>\n",
       "      <td>14900Kč/měsíc</td>\n",
       "      <td>14900</td>\n",
       "    </tr>\n",
       "    <tr>\n",
       "      <th>1</th>\n",
       "      <td>https://www.sreality.cz/detail/pronajem/byt/1+...</td>\n",
       "      <td>Pronájem bytu 1+1 36m²</td>\n",
       "      <td>36m²</td>\n",
       "      <td>36</td>\n",
       "      <td>1+1</td>\n",
       "      <td>Podlesí V, Zlín</td>\n",
       "      <td>Podlesí V</td>\n",
       "      <td>Zlín</td>\n",
       "      <td>11500Kč/měsíc</td>\n",
       "      <td>11500</td>\n",
       "    </tr>\n",
       "    <tr>\n",
       "      <th>2</th>\n",
       "      <td>https://www.sreality.cz/detail/pronajem/byt/1+...</td>\n",
       "      <td>Pronájem bytu 1+kk 26m²</td>\n",
       "      <td>26m²</td>\n",
       "      <td>26</td>\n",
       "      <td>1+kk</td>\n",
       "      <td>Tečovská, Zlín - Malenovice</td>\n",
       "      <td>Tečovská</td>\n",
       "      <td>Zlín - Malenovice</td>\n",
       "      <td>8300Kč/měsíc</td>\n",
       "      <td>8300</td>\n",
       "    </tr>\n",
       "    <tr>\n",
       "      <th>4</th>\n",
       "      <td>https://www.sreality.cz/detail/pronajem/byt/2+...</td>\n",
       "      <td>Pronájem bytu 2+kk 65m²</td>\n",
       "      <td>65m²</td>\n",
       "      <td>65</td>\n",
       "      <td>2+kk</td>\n",
       "      <td>Lorencova, Zlín</td>\n",
       "      <td>Lorencova</td>\n",
       "      <td>Zlín</td>\n",
       "      <td>18700Kč/měsíc</td>\n",
       "      <td>18700</td>\n",
       "    </tr>\n",
       "    <tr>\n",
       "      <th>5</th>\n",
       "      <td>https://www.sreality.cz/detail/pronajem/byt/2+...</td>\n",
       "      <td>Pronájem bytu 2+1 56m²</td>\n",
       "      <td>56m²</td>\n",
       "      <td>56</td>\n",
       "      <td>2+1</td>\n",
       "      <td>Dlouhá, Zlín</td>\n",
       "      <td>Dlouhá</td>\n",
       "      <td>Zlín</td>\n",
       "      <td>12000Kč/měsíc</td>\n",
       "      <td>12000</td>\n",
       "    </tr>\n",
       "  </tbody>\n",
       "</table>\n",
       "</div>"
      ],
      "text/plain": [
       "                                           URL odkaz                Dispozice  \\\n",
       "0  https://www.sreality.cz/detail/pronajem/byt/2+...  Pronájem bytu 2+kk 49m²   \n",
       "1  https://www.sreality.cz/detail/pronajem/byt/1+...   Pronájem bytu 1+1 36m²   \n",
       "2  https://www.sreality.cz/detail/pronajem/byt/1+...  Pronájem bytu 1+kk 26m²   \n",
       "4  https://www.sreality.cz/detail/pronajem/byt/2+...  Pronájem bytu 2+kk 65m²   \n",
       "5  https://www.sreality.cz/detail/pronajem/byt/2+...   Pronájem bytu 2+1 56m²   \n",
       "\n",
       "  Rozmery  Rozmer bez jednotek Kompozice                       Lokace  \\\n",
       "0    49m²                   49      2+kk               Zelinova, Zlín   \n",
       "1    36m²                   36       1+1              Podlesí V, Zlín   \n",
       "2    26m²                   26      1+kk  Tečovská, Zlín - Malenovice   \n",
       "4    65m²                   65      2+kk              Lorencova, Zlín   \n",
       "5    56m²                   56       2+1                 Dlouhá, Zlín   \n",
       "\n",
       "       Ulice               Mesto  Cena za mesic   Cena  \n",
       "0   Zelinova                Zlín  14900Kč/měsíc  14900  \n",
       "1  Podlesí V                Zlín  11500Kč/měsíc  11500  \n",
       "2   Tečovská   Zlín - Malenovice   8300Kč/měsíc   8300  \n",
       "4  Lorencova                Zlín  18700Kč/měsíc  18700  \n",
       "5     Dlouhá                Zlín  12000Kč/měsíc  12000  "
      ]
     },
     "execution_count": 15,
     "metadata": {},
     "output_type": "execute_result"
    }
   ],
   "source": [
    "df = df[df['Cena'] != 'Cena na vyžádání']\n",
    "df.head()"
   ]
  },
  {
   "cell_type": "code",
   "execution_count": 16,
   "id": "3a6e0226",
   "metadata": {},
   "outputs": [],
   "source": [
    "df['Cena'] = df['Cena'].astype(int)"
   ]
  },
  {
   "cell_type": "code",
   "execution_count": 17,
   "id": "339ce22a",
   "metadata": {},
   "outputs": [
    {
     "name": "stdout",
     "output_type": "stream",
     "text": [
      "<class 'pandas.core.frame.DataFrame'>\n",
      "Index: 149 entries, 0 to 152\n",
      "Data columns (total 10 columns):\n",
      " #   Column               Non-Null Count  Dtype \n",
      "---  ------               --------------  ----- \n",
      " 0   URL odkaz            149 non-null    object\n",
      " 1   Dispozice            149 non-null    object\n",
      " 2   Rozmery              149 non-null    object\n",
      " 3   Rozmer bez jednotek  149 non-null    int64 \n",
      " 4   Kompozice            149 non-null    object\n",
      " 5   Lokace               149 non-null    object\n",
      " 6   Ulice                149 non-null    object\n",
      " 7   Mesto                149 non-null    object\n",
      " 8   Cena za mesic        149 non-null    object\n",
      " 9   Cena                 149 non-null    int64 \n",
      "dtypes: int64(2), object(8)\n",
      "memory usage: 12.8+ KB\n"
     ]
    }
   ],
   "source": [
    "df.info()"
   ]
  },
  {
   "cell_type": "code",
   "execution_count": 18,
   "id": "4f57f6fc",
   "metadata": {},
   "outputs": [],
   "source": [
    "df.to_csv('Zemcikova_zdrojová_data.csv', index=False)"
   ]
  },
  {
   "cell_type": "code",
   "execution_count": 19,
   "id": "f7232737",
   "metadata": {},
   "outputs": [
    {
     "data": {
      "text/html": [
       "<div>\n",
       "<style scoped>\n",
       "    .dataframe tbody tr th:only-of-type {\n",
       "        vertical-align: middle;\n",
       "    }\n",
       "\n",
       "    .dataframe tbody tr th {\n",
       "        vertical-align: top;\n",
       "    }\n",
       "\n",
       "    .dataframe thead th {\n",
       "        text-align: right;\n",
       "    }\n",
       "</style>\n",
       "<table border=\"1\" class=\"dataframe\">\n",
       "  <thead>\n",
       "    <tr style=\"text-align: right;\">\n",
       "      <th></th>\n",
       "      <th>URL odkaz</th>\n",
       "      <th>Dispozice</th>\n",
       "      <th>Rozmery</th>\n",
       "      <th>Rozmer bez jednotek</th>\n",
       "      <th>Kompozice</th>\n",
       "      <th>Lokace</th>\n",
       "      <th>Ulice</th>\n",
       "      <th>Mesto</th>\n",
       "      <th>Cena za mesic</th>\n",
       "      <th>Cena</th>\n",
       "    </tr>\n",
       "  </thead>\n",
       "  <tbody>\n",
       "    <tr>\n",
       "      <th>0</th>\n",
       "      <td>https://www.sreality.cz/detail/pronajem/byt/2+...</td>\n",
       "      <td>Pronájem bytu 2+kk 49m²</td>\n",
       "      <td>49m²</td>\n",
       "      <td>49</td>\n",
       "      <td>2+kk</td>\n",
       "      <td>Zelinova, Zlín</td>\n",
       "      <td>Zelinova</td>\n",
       "      <td>Zlín</td>\n",
       "      <td>14900Kč/měsíc</td>\n",
       "      <td>14900</td>\n",
       "    </tr>\n",
       "    <tr>\n",
       "      <th>1</th>\n",
       "      <td>https://www.sreality.cz/detail/pronajem/byt/1+...</td>\n",
       "      <td>Pronájem bytu 1+1 36m²</td>\n",
       "      <td>36m²</td>\n",
       "      <td>36</td>\n",
       "      <td>1+1</td>\n",
       "      <td>Podlesí V, Zlín</td>\n",
       "      <td>Podlesí V</td>\n",
       "      <td>Zlín</td>\n",
       "      <td>11500Kč/měsíc</td>\n",
       "      <td>11500</td>\n",
       "    </tr>\n",
       "    <tr>\n",
       "      <th>2</th>\n",
       "      <td>https://www.sreality.cz/detail/pronajem/byt/1+...</td>\n",
       "      <td>Pronájem bytu 1+kk 26m²</td>\n",
       "      <td>26m²</td>\n",
       "      <td>26</td>\n",
       "      <td>1+kk</td>\n",
       "      <td>Tečovská, Zlín - Malenovice</td>\n",
       "      <td>Tečovská</td>\n",
       "      <td>Zlín - Malenovice</td>\n",
       "      <td>8300Kč/měsíc</td>\n",
       "      <td>8300</td>\n",
       "    </tr>\n",
       "    <tr>\n",
       "      <th>3</th>\n",
       "      <td>https://www.sreality.cz/detail/pronajem/byt/2+...</td>\n",
       "      <td>Pronájem bytu 2+kk 65m²</td>\n",
       "      <td>65m²</td>\n",
       "      <td>65</td>\n",
       "      <td>2+kk</td>\n",
       "      <td>Lorencova, Zlín</td>\n",
       "      <td>Lorencova</td>\n",
       "      <td>Zlín</td>\n",
       "      <td>18700Kč/měsíc</td>\n",
       "      <td>18700</td>\n",
       "    </tr>\n",
       "    <tr>\n",
       "      <th>4</th>\n",
       "      <td>https://www.sreality.cz/detail/pronajem/byt/2+...</td>\n",
       "      <td>Pronájem bytu 2+1 56m²</td>\n",
       "      <td>56m²</td>\n",
       "      <td>56</td>\n",
       "      <td>2+1</td>\n",
       "      <td>Dlouhá, Zlín</td>\n",
       "      <td>Dlouhá</td>\n",
       "      <td>Zlín</td>\n",
       "      <td>12000Kč/měsíc</td>\n",
       "      <td>12000</td>\n",
       "    </tr>\n",
       "  </tbody>\n",
       "</table>\n",
       "</div>"
      ],
      "text/plain": [
       "                                           URL odkaz                Dispozice  \\\n",
       "0  https://www.sreality.cz/detail/pronajem/byt/2+...  Pronájem bytu 2+kk 49m²   \n",
       "1  https://www.sreality.cz/detail/pronajem/byt/1+...   Pronájem bytu 1+1 36m²   \n",
       "2  https://www.sreality.cz/detail/pronajem/byt/1+...  Pronájem bytu 1+kk 26m²   \n",
       "3  https://www.sreality.cz/detail/pronajem/byt/2+...  Pronájem bytu 2+kk 65m²   \n",
       "4  https://www.sreality.cz/detail/pronajem/byt/2+...   Pronájem bytu 2+1 56m²   \n",
       "\n",
       "  Rozmery  Rozmer bez jednotek Kompozice                       Lokace  \\\n",
       "0    49m²                   49      2+kk               Zelinova, Zlín   \n",
       "1    36m²                   36       1+1              Podlesí V, Zlín   \n",
       "2    26m²                   26      1+kk  Tečovská, Zlín - Malenovice   \n",
       "3    65m²                   65      2+kk              Lorencova, Zlín   \n",
       "4    56m²                   56       2+1                 Dlouhá, Zlín   \n",
       "\n",
       "       Ulice               Mesto  Cena za mesic   Cena  \n",
       "0   Zelinova                Zlín  14900Kč/měsíc  14900  \n",
       "1  Podlesí V                Zlín  11500Kč/měsíc  11500  \n",
       "2   Tečovská   Zlín - Malenovice   8300Kč/měsíc   8300  \n",
       "3  Lorencova                Zlín  18700Kč/měsíc  18700  \n",
       "4     Dlouhá                Zlín  12000Kč/měsíc  12000  "
      ]
     },
     "execution_count": 19,
     "metadata": {},
     "output_type": "execute_result"
    }
   ],
   "source": [
    "import pandas as pd\n",
    "import requests\n",
    "\n",
    "df_byty = pd.read_csv('Zemcikova_zdrojová_data.csv')\n",
    "df_byty.head()"
   ]
  },
  {
   "cell_type": "markdown",
   "id": "dcefd849",
   "metadata": {},
   "source": [
    "3. Datová analýza - analýza dat\n",
    "- Ve druhé fázi proveďte analýzu dat a odpovězte na tyto dotazy:\n",
    "- `Jaká je průměrná cena bytů?`\n",
    "- `Jaká je průměrná cena bytů pro každou kompozici (1+1, 2+1, atp.)? Zobrazte i na grafu.`\n",
    "- `Jaká je průměrná velikost bytu pro každou kompozici?`\n",
    "- `Existuje ulice, kde je vyšší koncentrace dražších bytů?`\n",
    "- `Jaký typ kompozice je v daném městě nejčastěji inzerovan? Který to je? Proč myslíte, že tomu tak je?`\n",
    "- `Existují zde inzerce bytů, které stojí více, než 20.000,-? Pokud ano, jsou v této cenové hladině inzerovány i maximálně dvoupokojové byty (2+1/2+kk)?`\n",
    "- `Zjištěte minimální a maximální inzerce pro každou kompozici bytu. Která kompozice má největší rozptyl mezi minimální a maximální inzerovanou cenou?`"
   ]
  },
  {
   "cell_type": "code",
   "execution_count": 20,
   "id": "377e9340",
   "metadata": {},
   "outputs": [
    {
     "name": "stdout",
     "output_type": "stream",
     "text": [
      "Prumerna cena bytu je: 14182.47 Kc.\n"
     ]
    }
   ],
   "source": [
    "# prumerna cena bytu\n",
    "\n",
    "prumerna_cena = df_byty['Cena'].mean()\n",
    "print(f'Prumerna cena bytu je: {round(prumerna_cena, 2)} Kc.')"
   ]
  },
  {
   "cell_type": "code",
   "execution_count": 21,
   "id": "8177e623",
   "metadata": {},
   "outputs": [
    {
     "name": "stdout",
     "output_type": "stream",
     "text": [
      "Kompozice\n",
      "pokoj        6889.78\n",
      "atypický     9750.00\n",
      "1+1         10228.57\n",
      "1+kk        11012.50\n",
      "2+1         13341.07\n",
      "2+kk        16489.23\n",
      "3+1         17029.55\n",
      "3+kk        19125.00\n",
      "4+1         20000.00\n",
      "4+kk        39900.00\n",
      "Name: Cena, dtype: float64\n"
     ]
    },
    {
     "data": {
      "image/png": "[encoded data removed]",
      "text/plain": [
       "<Figure size 640x480 with 1 Axes>"
      ]
     },
     "metadata": {},
     "output_type": "display_data"
    }
   ],
   "source": [
    "# prumerna cena bytu pro kazdou kompozici + graf\n",
    "\n",
    "import matplotlib.pyplot as plt\n",
    "\n",
    "prumerna_cena = df_byty.groupby('Kompozice')['Cena'].mean().round(2).sort_values()\n",
    "print(prumerna_cena)\n",
    "\n",
    "plt.bar(prumerna_cena.index, prumerna_cena.values, label='Prumerna cena bytu pro kazdou kompozici')\n",
    "plt.title('Prumerna cena bytu pro kazdou kompozici')\n",
    "plt.xlabel('Kompozice')\n",
    "plt.ylabel('Cena')\n",
    "plt.xticks(rotation=45)\n",
    "\n",
    "plt.legend()\n",
    "#plt.grid()\n",
    "plt.show()"
   ]
  },
  {
   "cell_type": "code",
   "execution_count": 22,
   "id": "597fdebe",
   "metadata": {},
   "outputs": [
    {
     "data": {
      "text/plain": [
       "Kompozice\n",
       "1+1          35.07\n",
       "1+kk         28.42\n",
       "2+1          56.96\n",
       "2+kk         58.56\n",
       "3+1          77.32\n",
       "3+kk         82.88\n",
       "4+1          81.00\n",
       "4+kk        100.00\n",
       "atypický     27.00\n",
       "pokoj        37.67\n",
       "Name: Rozmer bez jednotek, dtype: float64"
      ]
     },
     "execution_count": 22,
     "metadata": {},
     "output_type": "execute_result"
    }
   ],
   "source": [
    "# Jaká je průměrná velikost bytu pro každou kompozici?\n",
    "\n",
    "df_byty.groupby('Kompozice')['Rozmer bez jednotek'].mean().round(2)"
   ]
  },
  {
   "cell_type": "code",
   "execution_count": 23,
   "id": "31b130f1",
   "metadata": {},
   "outputs": [
    {
     "name": "stdout",
     "output_type": "stream",
     "text": [
      "<class 'pandas.core.frame.DataFrame'>\n",
      "RangeIndex: 149 entries, 0 to 148\n",
      "Data columns (total 10 columns):\n",
      " #   Column               Non-Null Count  Dtype \n",
      "---  ------               --------------  ----- \n",
      " 0   URL odkaz            149 non-null    object\n",
      " 1   Dispozice            149 non-null    object\n",
      " 2   Rozmery              149 non-null    object\n",
      " 3   Rozmer bez jednotek  149 non-null    int64 \n",
      " 4   Kompozice            149 non-null    object\n",
      " 5   Lokace               149 non-null    object\n",
      " 6   Ulice                136 non-null    object\n",
      " 7   Mesto                149 non-null    object\n",
      " 8   Cena za mesic        149 non-null    object\n",
      " 9   Cena                 149 non-null    int64 \n",
      "dtypes: int64(2), object(8)\n",
      "memory usage: 11.8+ KB\n"
     ]
    }
   ],
   "source": [
    "df_byty.info()"
   ]
  },
  {
   "cell_type": "code",
   "execution_count": 31,
   "id": "2c3e34f4",
   "metadata": {},
   "outputs": [
    {
     "name": "stdout",
     "output_type": "stream",
     "text": [
      "Ulice s nejvíce byty s cenou vyšší než průměr je Slezská.\n"
     ]
    }
   ],
   "source": [
    "# Existuje ulice, kde je vyšší koncentrace dražších bytů?\n",
    "\n",
    "prumerna_cena = df_byty['Cena'].mean()\n",
    "df_vyssi_nez_prum_cena = df_byty.loc[df_byty['Cena']>int(prumerna_cena)]\n",
    "nejdrazsi_ulice = df_vyssi_nez_prum_cena.groupby('Ulice')['Cena'].count()\n",
    "nejvic_nejdrazsi_ulice = nejdrazsi_ulice.idxmax()\n",
    "#print(nejvic_nejdrazsi_ulice)\n",
    "\n",
    "print(f'Ulice s nejvíce byty s cenou vyšší než průměr je {nejvic_nejdrazsi_ulice}.')\n"
   ]
  },
  {
   "cell_type": "code",
   "execution_count": 25,
   "id": "5de24c31",
   "metadata": {},
   "outputs": [
    {
     "name": "stdout",
     "output_type": "stream",
     "text": [
      "Mesto\n",
      " Fryšták                                   ( Fryšták, 2+kk)\n",
      " Fryšták - Horní Ves           ( Fryšták - Horní Ves, 2+kk)\n",
      " Luhačovice                             ( Luhačovice, 2+kk)\n",
      " Napajedla                               ( Napajedla, 1+kk)\n",
      " Otrokovice                              ( Otrokovice, 2+1)\n",
      " Otrokovice - Kvítkovice    ( Otrokovice - Kvítkovice, 2+1)\n",
      " Slušovice                                ( Slušovice, 2+1)\n",
      " Valašské Klobouky               ( Valašské Klobouky, 2+kk)\n",
      " Zlín                                         ( Zlín, 2+kk)\n",
      " Zlín - Jaroslavice             ( Zlín - Jaroslavice, 1+kk)\n",
      " Zlín - Kostelec                    ( Zlín - Kostelec, 2+1)\n",
      " Zlín - Kudlov                        ( Zlín - Kudlov, 2+1)\n",
      " Zlín - Louky                         ( Zlín - Louky, 2+kk)\n",
      " Zlín - Malenovice               ( Zlín - Malenovice, 1+kk)\n",
      " Zlín - Prštné                        ( Zlín - Prštné, 2+1)\n",
      " Zlín - Příluky                     ( Zlín - Příluky, 1+kk)\n",
      "Luhačovice                               (Luhačovice, 1+kk)\n",
      "Napajedla                                  (Napajedla, 2+1)\n",
      "Otrokovice - Kvítkovice      (Otrokovice - Kvítkovice, 1+1)\n",
      "Racková                                      (Racková, 1+1)\n",
      "Zlín                                            (Zlín, 3+1)\n",
      "Zlín - Louky                           (Zlín - Louky, 2+kk)\n",
      "Zlín - Prštné                        (Zlín - Prštné, pokoj)\n",
      "Žlutava                                     (Žlutava, 1+kk)\n",
      "Name: count, dtype: object\n"
     ]
    }
   ],
   "source": [
    "# Jaký typ kompozice je v daném městě nejčastěji inzerovan? Který to je? Proč myslíte, že tomu tak je?\n",
    "\n",
    "kompozice_ve_meste = df_byty.groupby('Mesto')['Kompozice'].value_counts()\n",
    "\n",
    "nejcastejsi_kompozice = kompozice_ve_meste.groupby('Mesto').idxmax()\n",
    "\n",
    "# Výsledek\n",
    "print(nejcastejsi_kompozice)"
   ]
  },
  {
   "cell_type": "code",
   "execution_count": 26,
   "id": "67bba701",
   "metadata": {},
   "outputs": [
    {
     "data": {
      "text/plain": [
       "array(['2+kk', '1+1', '1+kk', '2+1', '3+1', '3+kk', 'atypický', 'pokoj',\n",
       "       '4+1', '4+kk'], dtype=object)"
      ]
     },
     "execution_count": 26,
     "metadata": {},
     "output_type": "execute_result"
    }
   ],
   "source": [
    "df_byty['Kompozice'].unique()"
   ]
  },
  {
   "cell_type": "code",
   "execution_count": 27,
   "id": "2b9dc860",
   "metadata": {},
   "outputs": [
    {
     "data": {
      "text/html": [
       "<div>\n",
       "<style scoped>\n",
       "    .dataframe tbody tr th:only-of-type {\n",
       "        vertical-align: middle;\n",
       "    }\n",
       "\n",
       "    .dataframe tbody tr th {\n",
       "        vertical-align: top;\n",
       "    }\n",
       "\n",
       "    .dataframe thead th {\n",
       "        text-align: right;\n",
       "    }\n",
       "</style>\n",
       "<table border=\"1\" class=\"dataframe\">\n",
       "  <thead>\n",
       "    <tr style=\"text-align: right;\">\n",
       "      <th></th>\n",
       "      <th>URL odkaz</th>\n",
       "      <th>Dispozice</th>\n",
       "      <th>Rozmery</th>\n",
       "      <th>Rozmer bez jednotek</th>\n",
       "      <th>Kompozice</th>\n",
       "      <th>Lokace</th>\n",
       "      <th>Ulice</th>\n",
       "      <th>Mesto</th>\n",
       "      <th>Cena za mesic</th>\n",
       "      <th>Cena</th>\n",
       "    </tr>\n",
       "  </thead>\n",
       "  <tbody>\n",
       "    <tr>\n",
       "      <th>8</th>\n",
       "      <td>https://www.sreality.cz/detail/pronajem/byt/2+...</td>\n",
       "      <td>Pronájem bytu 2+kk 96m²</td>\n",
       "      <td>96m²</td>\n",
       "      <td>96</td>\n",
       "      <td>2+kk</td>\n",
       "      <td>Lešetín I, Zlín</td>\n",
       "      <td>Lešetín I</td>\n",
       "      <td>Zlín</td>\n",
       "      <td>25000Kč/měsíc</td>\n",
       "      <td>25000</td>\n",
       "    </tr>\n",
       "    <tr>\n",
       "      <th>18</th>\n",
       "      <td>https://www.sreality.cz/detail/pronajem/byt/2+...</td>\n",
       "      <td>Pronájem bytu 2+kk 64m²</td>\n",
       "      <td>64m²</td>\n",
       "      <td>64</td>\n",
       "      <td>2+kk</td>\n",
       "      <td>třída Svobody, Zlín - Malenovice</td>\n",
       "      <td>třída Svobody</td>\n",
       "      <td>Zlín - Malenovice</td>\n",
       "      <td>20690Kč/měsíc</td>\n",
       "      <td>20690</td>\n",
       "    </tr>\n",
       "    <tr>\n",
       "      <th>116</th>\n",
       "      <td>https://www.sreality.cz/detail/pronajem/byt/2+...</td>\n",
       "      <td>Pronájem bytu 2+kk 111m²</td>\n",
       "      <td>111m²</td>\n",
       "      <td>111</td>\n",
       "      <td>2+kk</td>\n",
       "      <td>Smetanova, Zlín</td>\n",
       "      <td>Smetanova</td>\n",
       "      <td>Zlín</td>\n",
       "      <td>25000Kč/měsíc</td>\n",
       "      <td>25000</td>\n",
       "    </tr>\n",
       "    <tr>\n",
       "      <th>131</th>\n",
       "      <td>https://www.sreality.cz/detail/pronajem/byt/2+...</td>\n",
       "      <td>Pronájem bytu 2+kk 85m²</td>\n",
       "      <td>85m²</td>\n",
       "      <td>85</td>\n",
       "      <td>2+kk</td>\n",
       "      <td>Luhačovice</td>\n",
       "      <td>NaN</td>\n",
       "      <td>Luhačovice</td>\n",
       "      <td>22000Kč/měsíc</td>\n",
       "      <td>22000</td>\n",
       "    </tr>\n",
       "    <tr>\n",
       "      <th>139</th>\n",
       "      <td>https://www.sreality.cz/detail/pronajem/byt/2+...</td>\n",
       "      <td>Pronájem bytu 2+kk 120m²</td>\n",
       "      <td>120m²</td>\n",
       "      <td>120</td>\n",
       "      <td>2+kk</td>\n",
       "      <td>Nádražní, Luhačovice</td>\n",
       "      <td>Nádražní</td>\n",
       "      <td>Luhačovice</td>\n",
       "      <td>23000Kč/měsíc</td>\n",
       "      <td>23000</td>\n",
       "    </tr>\n",
       "  </tbody>\n",
       "</table>\n",
       "</div>"
      ],
      "text/plain": [
       "                                             URL odkaz  \\\n",
       "8    https://www.sreality.cz/detail/pronajem/byt/2+...   \n",
       "18   https://www.sreality.cz/detail/pronajem/byt/2+...   \n",
       "116  https://www.sreality.cz/detail/pronajem/byt/2+...   \n",
       "131  https://www.sreality.cz/detail/pronajem/byt/2+...   \n",
       "139  https://www.sreality.cz/detail/pronajem/byt/2+...   \n",
       "\n",
       "                    Dispozice Rozmery  Rozmer bez jednotek Kompozice  \\\n",
       "8     Pronájem bytu 2+kk 96m²    96m²                   96      2+kk   \n",
       "18    Pronájem bytu 2+kk 64m²    64m²                   64      2+kk   \n",
       "116  Pronájem bytu 2+kk 111m²   111m²                  111      2+kk   \n",
       "131   Pronájem bytu 2+kk 85m²    85m²                   85      2+kk   \n",
       "139  Pronájem bytu 2+kk 120m²   120m²                  120      2+kk   \n",
       "\n",
       "                               Lokace          Ulice               Mesto  \\\n",
       "8                     Lešetín I, Zlín      Lešetín I                Zlín   \n",
       "18   třída Svobody, Zlín - Malenovice  třída Svobody   Zlín - Malenovice   \n",
       "116                   Smetanova, Zlín      Smetanova                Zlín   \n",
       "131                        Luhačovice            NaN          Luhačovice   \n",
       "139              Nádražní, Luhačovice       Nádražní          Luhačovice   \n",
       "\n",
       "     Cena za mesic   Cena  \n",
       "8    25000Kč/měsíc  25000  \n",
       "18   20690Kč/měsíc  20690  \n",
       "116  25000Kč/měsíc  25000  \n",
       "131  22000Kč/měsíc  22000  \n",
       "139  23000Kč/měsíc  23000  "
      ]
     },
     "execution_count": 27,
     "metadata": {},
     "output_type": "execute_result"
    }
   ],
   "source": [
    "# Existují zde inzerce bytů, které stojí více, než 20.000,-? Pokud ano, jsou v této cenové hladině inzerovány i maximálně dvoupokojové byty (2+1/2+kk)?\n",
    "\n",
    "df_byty.loc[\n",
    "    (df_byty['Cena'] > 20000) & \n",
    "    (\n",
    "        (df_byty['Kompozice'] == '2+kk') | \n",
    "        (df_byty['Kompozice'] == '1+kk') | \n",
    "        (df_byty['Kompozice'] == '2+1') | \n",
    "        (df_byty['Kompozice'] == '1+1')\n",
    "    )\n",
    "]\n"
   ]
  },
  {
   "cell_type": "code",
   "execution_count": 28,
   "id": "eaa9923d",
   "metadata": {},
   "outputs": [
    {
     "name": "stdout",
     "output_type": "stream",
     "text": [
      "Kompozice\n",
      "1+1         13500\n",
      "1+kk        14900\n",
      "2+1         16500\n",
      "2+kk        25000\n",
      "3+1         19000\n",
      "3+kk        29000\n",
      "4+1         21000\n",
      "4+kk        39900\n",
      "atypický    12000\n",
      "pokoj       10500\n",
      "Name: Cena, dtype: int64\n",
      "Kompozice\n",
      "1+1          4200\n",
      "1+kk         6500\n",
      "2+1          9000\n",
      "2+kk         9000\n",
      "3+1         11900\n",
      "3+kk        13000\n",
      "4+1         19000\n",
      "4+kk        39900\n",
      "atypický     7500\n",
      "pokoj        3708\n",
      "Name: Cena, dtype: int64\n",
      "Kompozice\n",
      "1+1          9300\n",
      "1+kk         8400\n",
      "2+1          7500\n",
      "2+kk        16000\n",
      "3+1          7100\n",
      "3+kk        16000\n",
      "4+1          2000\n",
      "4+kk            0\n",
      "atypický     4500\n",
      "pokoj        6792\n",
      "Name: Cena, dtype: int64\n",
      "Nejvetsi rozptyl maji: Kompozice\n",
      "2+kk    16000\n",
      "3+kk    16000\n",
      "Name: Cena, dtype: int64.\n"
     ]
    }
   ],
   "source": [
    "# Zjištěte minimální a maximální inzerce pro každou kompozici bytu. Která kompozice má největší rozptyl mezi minimální a maximální inzerovanou cenou?\n",
    "\n",
    "maximalni_cena = df_byty.groupby('Kompozice')['Cena'].max()\n",
    "print(maximalni_cena)\n",
    "\n",
    "minimalni_cena = df_byty.groupby('Kompozice')['Cena'].min()\n",
    "print(minimalni_cena)\n",
    "\n",
    "rozptyl = maximalni_cena - minimalni_cena\n",
    "print(rozptyl)\n",
    "\n",
    "nejvetsi_rozptyl = rozptyl[rozptyl == rozptyl.max()]\n",
    "print(f'Nejvetsi rozptyl maji: {nejvetsi_rozptyl}.')"
   ]
  }
 ],
 "metadata": {
  "kernelspec": {
   "display_name": "Python 3",
   "language": "python",
   "name": "python3"
  },
  "language_info": {
   "codemirror_mode": {
    "name": "ipython",
    "version": 3
   },
   "file_extension": ".py",
   "mimetype": "text/x-python",
   "name": "python",
   "nbconvert_exporter": "python",
   "pygments_lexer": "ipython3",
   "version": "3.12.8"
  }
 },
 "nbformat": 4,
 "nbformat_minor": 5
}
